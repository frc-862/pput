{
 "cells": [
  {
   "cell_type": "code",
   "execution_count": 42,
   "metadata": {},
   "outputs": [
    {
     "data": {
      "text/html": [
       "        <script type=\"text/javascript\">\n",
       "        window.PlotlyConfig = {MathJaxConfig: 'local'};\n",
       "        if (window.MathJax) {MathJax.Hub.Config({SVG: {font: \"STIX-Web\"}});}\n",
       "        if (typeof require !== 'undefined') {\n",
       "        require.undef(\"plotly\");\n",
       "        requirejs.config({\n",
       "            paths: {\n",
       "                'plotly': ['https://cdn.plot.ly/plotly-latest.min']\n",
       "            }\n",
       "        });\n",
       "        require(['plotly'], function(Plotly) {\n",
       "            window._Plotly = Plotly;\n",
       "        });\n",
       "        }\n",
       "        </script>\n",
       "        "
      ]
     },
     "metadata": {},
     "output_type": "display_data"
    }
   ],
   "source": [
    "import json\n",
    "import random\n",
    "import plotly.offline as py\n",
    "py.init_notebook_mode(connected=True)\n",
    "import plotly.graph_objects as go\n",
    "import plotly.express as px\n",
    "import pandas as pd\n",
    "import copy\n",
    "import os.path\n",
    "import seaborn as sns\n",
    "#from IPython.display import Image"
   ]
  },
  {
   "cell_type": "code",
   "execution_count": 2,
   "metadata": {
    "code_folding": []
   },
   "outputs": [],
   "source": [
    "game_file = 'deep_space_pput.json'"
   ]
  },
  {
   "cell_type": "code",
   "execution_count": 48,
   "metadata": {
    "code_folding": []
   },
   "outputs": [],
   "source": [
    "# Load json files into simulation\n",
    "with open(game_file) as json_file:\n",
    "    game = json.load(json_file)\n",
    "\n",
    "robots = []\n",
    "\n",
    "for rbot in game['robots']:\n",
    "    if os.path.exists(rbot):\n",
    "        with open(rbot) as json_file:\n",
    "            robots.append(json.load(json_file))\n",
    "      \n",
    "pput = game.get('pput', {})\n",
    "if pput:\n",
    "    op_file = pput.get('operations',{})\n",
    "    if op_file and os.path.isfile(op_file):\n",
    "        with open(op_file) as json_file:\n",
    "            pput_ops = json.load(json_file)\n",
    "    for mode in pput:\n",
    "        if mode == \"operations\": continue\n",
    "        for op in pput[mode]:\n",
    "            robots.append({\n",
    "              \"name\": op,\n",
    "              \"operations\": op_file,\n",
    "              \"pput\": True,\n",
    "              \"modes\": {\n",
    "                mode: [ { \"name\": op } ]\n",
    "              }})\n",
    "    \n",
    "for robot in robots:\n",
    "    with open(robot['operations']) as json_file:\n",
    "        ops = json.load(json_file)\n",
    "        opdict = {}\n",
    "        for op in ops:\n",
    "            opdict[op['name']] = op\n",
    "        robot['operations'] = opdict\n",
    "        \n",
    "robot_cache = robots"
   ]
  },
  {
   "cell_type": "code",
   "execution_count": 49,
   "metadata": {
    "code_folding": []
   },
   "outputs": [],
   "source": [
    "# note log handles recording points and updating counts\n",
    "def log(clock, clock_mode, mode_name, robot, success, op):\n",
    "    points = 0\n",
    "    name = op['name']\n",
    "    if success:\n",
    "        mop = op['game_modes'][mode_name]\n",
    "        points = mop.get('points', 0)\n",
    "        if not robot.get('pput', False):\n",
    "            counts[op['name']] = counts.get(name, 0) + 1\n",
    "            limit = op.get('limit', 0)\n",
    "            if limit != 0 and counts.get(name, 0) >= limit:\n",
    "                del robot['operations'][name]\n",
    "        else:\n",
    "            del robot['operations'][name]\n",
    "    journal.append([runs, clock, clock_mode, robot['name'], success, name, points])\n",
    "            "
   ]
  },
  {
   "cell_type": "code",
   "execution_count": 50,
   "metadata": {
    "code_folding": [
     0
    ]
   },
   "outputs": [],
   "source": [
    "# Simulator\n",
    "def simulate():\n",
    "    # Reset sim data\n",
    "    robots = copy.deepcopy(robot_cache)\n",
    "    global runs \n",
    "    runs += 1\n",
    "\n",
    "    # Start Game Clock\n",
    "    clock = 0\n",
    "\n",
    "    # Determine Mode\n",
    "    mode = game['modes'][0]\n",
    "    duration = mode['mode_time']\n",
    "\n",
    "    # While game not over\n",
    "    mode_name = mode['mode']\n",
    "    while mode != '':\n",
    "        while duration > 0:\n",
    "            # For each robot\n",
    "            for robot in robots:\n",
    "                # if idle, assign operation\n",
    "                if 'operation' not in robot:\n",
    "                    # pick next op\n",
    "                    # collect all available ops\n",
    "                    mname = mode_name\n",
    "                    if mname not in robot['modes']:\n",
    "                        mname = 'teleop'\n",
    "                    ops = robot['modes'].get(mname, None)\n",
    "                    if ops != None:\n",
    "                        # find hightest priority\n",
    "                        max_priority = 0\n",
    "                        for op in ops: \n",
    "                            max_priority = max(max_priority, op.get('priority', 0))\n",
    "                        ops = list(filter(lambda op: op.get('priority', 0) >= max_priority, ops))\n",
    "                        op = random.choice(ops)['name']\n",
    "                        op = robot['operations'].get(op, None)\n",
    "                        if op != None:\n",
    "                            mname = mode_name\n",
    "                            if mname not in op['game_modes']:\n",
    "                                mname = 'teleop'\n",
    "                            mop = op['game_modes'][mname]\n",
    "\n",
    "                            # determine finish time\n",
    "                            optime = random.normalvariate(mop['time'], mop['std'])\n",
    "                            optime = max(mop.get('min', 0), optime)\n",
    "                            op['finish'] = clock + optime\n",
    "                            robot['operation'] = op\n",
    "\n",
    "                # if op complete\n",
    "                if 'operation' in robot:\n",
    "                    op = robot['operation']\n",
    "                    if op['finish'] < clock:\n",
    "                        mname = mode_name\n",
    "                        if mname not in op['game_modes'] and 'teleop' in op['game_modes']:\n",
    "                            mname = 'teleop'\n",
    "\n",
    "                        if mname in op['game_modes']:\n",
    "                            mop = op['game_modes'][mname]\n",
    "\n",
    "                            # check for failure\n",
    "                            success = random.random() >= mop.get('failure_odds', 0)\n",
    "                            log(clock, mode_name, mname, robot, success, op)\n",
    "\n",
    "                            if success:\n",
    "                                # pick next op\n",
    "                                ops = list(filter(lambda op: op in robot['operations'], mop.get(\"next_op\", [])))\n",
    "                                if len(ops) > 0:\n",
    "                                    op = robot['operations'][random.choice(ops)]\n",
    "                                    mname = mode_name\n",
    "                                    if mname not in op['game_modes']:\n",
    "                                        mname = 'teleop'\n",
    "                                    mop = op['game_modes'][mname]\n",
    "\n",
    "                                    # determine finish time\n",
    "                                    optime = random.normalvariate(mop['time'], mop['std'])\n",
    "                                    optime = max(mop.get('min', 0), optime)\n",
    "                                    op['finish'] = clock + optime\n",
    "                                    robot['operation'] = op\n",
    "                                else:\n",
    "                                    del robot['operation']\n",
    "\n",
    "                            elif not success and random.random() < mop.get('retry_odds', 0):\n",
    "                                # reset finish time, but stay \"here\"\n",
    "                                optime = random.normalvariate(mop['time'], mop['std'])\n",
    "                                optime = max(mop.get('min', 0), optime)\n",
    "                                op['finish'] = clock + optime\n",
    "                            else:\n",
    "                                del robot['operation']\n",
    "\n",
    "                        else:\n",
    "                            print(\"Ugg\")\n",
    "                            del robot['operation']\n",
    "\n",
    "            clock += 0.1           \n",
    "            duration -= 0.1\n",
    "\n",
    "        # If Mode change\n",
    "        next_mode = mode['next_mode']\n",
    "        if next_mode != -1:\n",
    "            mode = game['modes'][next_mode]\n",
    "            mode_name = mode['mode']\n",
    "            duration = mode['mode_time']\n",
    "            #    for each robot\n",
    "            #       cancel operations if necessary\n",
    "        else:\n",
    "            mode = ''"
   ]
  },
  {
   "cell_type": "code",
   "execution_count": 51,
   "metadata": {},
   "outputs": [],
   "source": [
    "# reset simulation data\n",
    "journal = []\n",
    "counts = {}\n",
    "runs = 0    "
   ]
  },
  {
   "cell_type": "code",
   "execution_count": 52,
   "metadata": {},
   "outputs": [],
   "source": [
    "for _ in range(100): simulate()"
   ]
  },
  {
   "cell_type": "code",
   "execution_count": 62,
   "metadata": {},
   "outputs": [],
   "source": [
    "# Convert Journal to pandas for reporting\n",
    "df = pd.DataFrame(journal, columns=['run', 'clock','game_mode', 'robot', 'success', 'op', 'score'])\n",
    "df['total'] = df.score.cumsum()\n",
    "df['total'] = df.groupby(['run','robot'])['score'].transform(pd.Series.cumsum)\n",
    "# Useful to convert run # to string to isolate in legend\n",
    "# df['run'] = df['run'].astype(str)"
   ]
  },
  {
   "cell_type": "code",
   "execution_count": 63,
   "metadata": {
    "scrolled": false
   },
   "outputs": [
    {
     "data": {
      "application/vnd.plotly.v1+json": {
       "config": {
        "plotlyServerURL": "https://plot.ly"
       },
       "data": [
        {
         "customdata": [
          [
           "drive_off_hab1",
           true
          ],
          [
           "drive_off_hab1",
           true
          ],
          [
           "drive_off_hab1",
           true
          ],
          [
           "drive_off_hab1",
           true
          ],
          [
           "drive_off_hab1",
           true
          ],
          [
           "drive_off_hab1",
           true
          ],
          [
           "drive_off_hab1",
           true
          ],
          [
           "drive_off_hab1",
           true
          ],
          [
           "drive_off_hab1",
           true
          ],
          [
           "drive_off_hab1",
           true
          ],
          [
           "drive_off_hab1",
           true
          ],
          [
           "drive_off_hab1",
           true
          ],
          [
           "drive_off_hab1",
           true
          ],
          [
           "drive_off_hab1",
           true
          ],
          [
           "drive_off_hab1",
           true
          ],
          [
           "drive_off_hab1",
           true
          ],
          [
           "drive_off_hab1",
           false
          ],
          [
           "drive_off_hab1",
           true
          ],
          [
           "drive_off_hab1",
           true
          ],
          [
           "drive_off_hab1",
           true
          ],
          [
           "drive_off_hab1",
           true
          ],
          [
           "drive_off_hab1",
           true
          ],
          [
           "drive_off_hab1",
           true
          ],
          [
           "drive_off_hab1",
           true
          ],
          [
           "drive_off_hab1",
           true
          ],
          [
           "drive_off_hab1",
           true
          ],
          [
           "drive_off_hab1",
           true
          ],
          [
           "drive_off_hab1",
           true
          ],
          [
           "drive_off_hab1",
           true
          ],
          [
           "drive_off_hab1",
           true
          ],
          [
           "drive_off_hab1",
           true
          ],
          [
           "drive_off_hab1",
           true
          ],
          [
           "drive_off_hab1",
           true
          ],
          [
           "drive_off_hab1",
           true
          ],
          [
           "drive_off_hab1",
           true
          ],
          [
           "drive_off_hab1",
           true
          ],
          [
           "drive_off_hab1",
           true
          ],
          [
           "drive_off_hab1",
           true
          ],
          [
           "drive_off_hab1",
           true
          ],
          [
           "drive_off_hab1",
           true
          ],
          [
           "drive_off_hab1",
           true
          ],
          [
           "drive_off_hab1",
           true
          ],
          [
           "drive_off_hab1",
           true
          ],
          [
           "drive_off_hab1",
           true
          ],
          [
           "drive_off_hab1",
           true
          ],
          [
           "drive_off_hab1",
           true
          ],
          [
           "drive_off_hab1",
           true
          ],
          [
           "drive_off_hab1",
           true
          ],
          [
           "drive_off_hab1",
           false
          ],
          [
           "drive_off_hab1",
           true
          ],
          [
           "drive_off_hab1",
           true
          ],
          [
           "drive_off_hab1",
           true
          ],
          [
           "drive_off_hab1",
           true
          ],
          [
           "drive_off_hab1",
           true
          ],
          [
           "drive_off_hab1",
           true
          ],
          [
           "drive_off_hab1",
           true
          ],
          [
           "drive_off_hab1",
           true
          ],
          [
           "drive_off_hab1",
           true
          ],
          [
           "drive_off_hab1",
           true
          ],
          [
           "drive_off_hab1",
           true
          ],
          [
           "drive_off_hab1",
           true
          ],
          [
           "drive_off_hab1",
           true
          ],
          [
           "drive_off_hab1",
           true
          ],
          [
           "drive_off_hab1",
           true
          ],
          [
           "drive_off_hab1",
           true
          ],
          [
           "drive_off_hab1",
           true
          ],
          [
           "drive_off_hab1",
           true
          ],
          [
           "drive_off_hab1",
           true
          ],
          [
           "drive_off_hab1",
           true
          ],
          [
           "drive_off_hab1",
           true
          ],
          [
           "drive_off_hab1",
           true
          ],
          [
           "drive_off_hab1",
           true
          ],
          [
           "drive_off_hab1",
           true
          ],
          [
           "drive_off_hab1",
           true
          ],
          [
           "drive_off_hab1",
           true
          ],
          [
           "drive_off_hab1",
           false
          ],
          [
           "drive_off_hab1",
           true
          ],
          [
           "drive_off_hab1",
           true
          ],
          [
           "drive_off_hab1",
           true
          ],
          [
           "drive_off_hab1",
           true
          ],
          [
           "drive_off_hab1",
           true
          ],
          [
           "drive_off_hab1",
           true
          ],
          [
           "drive_off_hab1",
           true
          ],
          [
           "drive_off_hab1",
           true
          ],
          [
           "drive_off_hab1",
           true
          ],
          [
           "drive_off_hab1",
           true
          ],
          [
           "drive_off_hab1",
           true
          ],
          [
           "drive_off_hab1",
           true
          ],
          [
           "drive_off_hab1",
           true
          ],
          [
           "drive_off_hab1",
           true
          ],
          [
           "drive_off_hab1",
           true
          ],
          [
           "drive_off_hab1",
           true
          ],
          [
           "drive_off_hab1",
           false
          ],
          [
           "drive_off_hab1",
           true
          ],
          [
           "drive_off_hab1",
           true
          ],
          [
           "drive_off_hab1",
           true
          ],
          [
           "drive_off_hab1",
           true
          ],
          [
           "drive_off_hab1",
           true
          ],
          [
           "drive_off_hab1",
           true
          ],
          [
           "drive_off_hab1",
           true
          ],
          [
           "drive_off_hab1",
           true
          ],
          [
           "drive_off_hab1",
           true
          ],
          [
           "drive_off_hab1",
           true
          ],
          [
           "drive_off_hab1",
           true
          ]
         ],
         "hoverlabel": {
          "namelength": 0
         },
         "hovertemplate": "robot=drive_off_hab1<br>clock=%{x}<br>total=%{y}<br>op=%{customdata[0]}<br>success=%{customdata[1]}",
         "legendgroup": "robot=drive_off_hab1",
         "marker": {
          "color": "#636efa",
          "symbol": "circle"
         },
         "mode": "markers",
         "name": "robot=drive_off_hab1",
         "showlegend": true,
         "type": "scatter",
         "x": [
          0.30000000000000004,
          0.7999999999999999,
          0.7,
          0.4,
          1.2,
          0.7999999999999999,
          1.2,
          1.4000000000000001,
          1.0999999999999999,
          0.7999999999999999,
          0.6,
          0.7999999999999999,
          1.4000000000000001,
          0.8999999999999999,
          1.4000000000000001,
          0.8999999999999999,
          1.9000000000000006,
          2.400000000000001,
          0.8999999999999999,
          0.5,
          1.0999999999999999,
          0.9999999999999999,
          0.7,
          0.7,
          1.8000000000000005,
          0.6,
          1.3,
          0.4,
          2.0000000000000004,
          1.3,
          1.3,
          1.0999999999999999,
          1.7000000000000004,
          0.6,
          0.9999999999999999,
          0.7999999999999999,
          0.4,
          1.5000000000000002,
          1.5000000000000002,
          1.4000000000000001,
          0.7,
          1.5000000000000002,
          1.3,
          0.8999999999999999,
          1.4000000000000001,
          0.7999999999999999,
          0.8999999999999999,
          0.8999999999999999,
          1.0999999999999999,
          2.700000000000001,
          0.7,
          0.6,
          0.7999999999999999,
          0.2,
          0.9999999999999999,
          0.6,
          0.4,
          1.2,
          1.9000000000000006,
          2.1000000000000005,
          1.8000000000000005,
          0.6,
          1.5000000000000002,
          0.8999999999999999,
          0.4,
          1.2,
          0.9999999999999999,
          0.5,
          1.7000000000000004,
          0.7999999999999999,
          1.2,
          0.7999999999999999,
          1.2,
          1.8000000000000005,
          1.2,
          0.1,
          1.2,
          1.2,
          0.8999999999999999,
          0.5,
          1.7000000000000004,
          0.4,
          1.4000000000000001,
          0.7,
          1.6000000000000003,
          0.8999999999999999,
          0.9999999999999999,
          1.3,
          0.8999999999999999,
          0.30000000000000004,
          1.4000000000000001,
          0.6,
          1.2,
          2.600000000000001,
          1.6000000000000003,
          0.2,
          0.4,
          0.5,
          0.6,
          0.7999999999999999,
          0.9999999999999999,
          0.6,
          0.8999999999999999,
          1.0999999999999999
         ],
         "xaxis": "x",
         "y": [
          3,
          3,
          3,
          3,
          3,
          3,
          3,
          3,
          3,
          3,
          3,
          3,
          3,
          3,
          3,
          3,
          0,
          3,
          3,
          3,
          3,
          3,
          3,
          3,
          3,
          3,
          3,
          3,
          3,
          3,
          3,
          3,
          3,
          3,
          3,
          3,
          3,
          3,
          3,
          3,
          3,
          3,
          3,
          3,
          3,
          3,
          3,
          3,
          0,
          3,
          3,
          3,
          3,
          3,
          3,
          3,
          3,
          3,
          3,
          3,
          3,
          3,
          3,
          3,
          3,
          3,
          3,
          3,
          3,
          3,
          3,
          3,
          3,
          3,
          3,
          0,
          3,
          3,
          3,
          3,
          3,
          3,
          3,
          3,
          3,
          3,
          3,
          3,
          3,
          3,
          3,
          3,
          0,
          3,
          3,
          3,
          3,
          3,
          3,
          3,
          3,
          3,
          3,
          3
         ],
         "yaxis": "y"
        },
        {
         "customdata": [
          [
           "drive_off_hab2",
           true
          ],
          [
           "drive_off_hab2",
           true
          ],
          [
           "drive_off_hab2",
           true
          ],
          [
           "drive_off_hab2",
           true
          ],
          [
           "drive_off_hab2",
           true
          ],
          [
           "drive_off_hab2",
           true
          ],
          [
           "drive_off_hab2",
           true
          ],
          [
           "drive_off_hab2",
           true
          ],
          [
           "drive_off_hab2",
           true
          ],
          [
           "drive_off_hab2",
           true
          ],
          [
           "drive_off_hab2",
           true
          ],
          [
           "drive_off_hab2",
           true
          ],
          [
           "drive_off_hab2",
           true
          ],
          [
           "drive_off_hab2",
           true
          ],
          [
           "drive_off_hab2",
           true
          ],
          [
           "drive_off_hab2",
           false
          ],
          [
           "drive_off_hab2",
           true
          ],
          [
           "drive_off_hab2",
           true
          ],
          [
           "drive_off_hab2",
           true
          ],
          [
           "drive_off_hab2",
           true
          ],
          [
           "drive_off_hab2",
           true
          ],
          [
           "drive_off_hab2",
           true
          ],
          [
           "drive_off_hab2",
           true
          ],
          [
           "drive_off_hab2",
           true
          ],
          [
           "drive_off_hab2",
           true
          ],
          [
           "drive_off_hab2",
           true
          ],
          [
           "drive_off_hab2",
           true
          ],
          [
           "drive_off_hab2",
           true
          ],
          [
           "drive_off_hab2",
           true
          ],
          [
           "drive_off_hab2",
           true
          ],
          [
           "drive_off_hab2",
           true
          ],
          [
           "drive_off_hab2",
           true
          ],
          [
           "drive_off_hab2",
           true
          ],
          [
           "drive_off_hab2",
           true
          ],
          [
           "drive_off_hab2",
           true
          ],
          [
           "drive_off_hab2",
           true
          ],
          [
           "drive_off_hab2",
           true
          ],
          [
           "drive_off_hab2",
           false
          ],
          [
           "drive_off_hab2",
           true
          ],
          [
           "drive_off_hab2",
           true
          ],
          [
           "drive_off_hab2",
           true
          ],
          [
           "drive_off_hab2",
           true
          ],
          [
           "drive_off_hab2",
           true
          ],
          [
           "drive_off_hab2",
           true
          ],
          [
           "drive_off_hab2",
           true
          ],
          [
           "drive_off_hab2",
           true
          ],
          [
           "drive_off_hab2",
           true
          ],
          [
           "drive_off_hab2",
           true
          ],
          [
           "drive_off_hab2",
           true
          ],
          [
           "drive_off_hab2",
           true
          ],
          [
           "drive_off_hab2",
           true
          ],
          [
           "drive_off_hab2",
           true
          ],
          [
           "drive_off_hab2",
           true
          ],
          [
           "drive_off_hab2",
           true
          ],
          [
           "drive_off_hab2",
           true
          ],
          [
           "drive_off_hab2",
           true
          ],
          [
           "drive_off_hab2",
           true
          ],
          [
           "drive_off_hab2",
           true
          ],
          [
           "drive_off_hab2",
           true
          ],
          [
           "drive_off_hab2",
           true
          ],
          [
           "drive_off_hab2",
           true
          ],
          [
           "drive_off_hab2",
           true
          ],
          [
           "drive_off_hab2",
           true
          ],
          [
           "drive_off_hab2",
           false
          ],
          [
           "drive_off_hab2",
           true
          ],
          [
           "drive_off_hab2",
           true
          ],
          [
           "drive_off_hab2",
           true
          ],
          [
           "drive_off_hab2",
           true
          ],
          [
           "drive_off_hab2",
           true
          ],
          [
           "drive_off_hab2",
           true
          ],
          [
           "drive_off_hab2",
           true
          ],
          [
           "drive_off_hab2",
           true
          ],
          [
           "drive_off_hab2",
           true
          ],
          [
           "drive_off_hab2",
           true
          ],
          [
           "drive_off_hab2",
           true
          ],
          [
           "drive_off_hab2",
           true
          ],
          [
           "drive_off_hab2",
           true
          ],
          [
           "drive_off_hab2",
           true
          ],
          [
           "drive_off_hab2",
           true
          ],
          [
           "drive_off_hab2",
           false
          ],
          [
           "drive_off_hab2",
           true
          ],
          [
           "drive_off_hab2",
           true
          ],
          [
           "drive_off_hab2",
           true
          ],
          [
           "drive_off_hab2",
           true
          ],
          [
           "drive_off_hab2",
           true
          ],
          [
           "drive_off_hab2",
           true
          ],
          [
           "drive_off_hab2",
           true
          ],
          [
           "drive_off_hab2",
           true
          ],
          [
           "drive_off_hab2",
           true
          ],
          [
           "drive_off_hab2",
           true
          ],
          [
           "drive_off_hab2",
           false
          ],
          [
           "drive_off_hab2",
           true
          ],
          [
           "drive_off_hab2",
           true
          ],
          [
           "drive_off_hab2",
           true
          ],
          [
           "drive_off_hab2",
           true
          ],
          [
           "drive_off_hab2",
           false
          ],
          [
           "drive_off_hab2",
           true
          ],
          [
           "drive_off_hab2",
           true
          ],
          [
           "drive_off_hab2",
           true
          ],
          [
           "drive_off_hab2",
           true
          ],
          [
           "drive_off_hab2",
           true
          ],
          [
           "drive_off_hab2",
           true
          ],
          [
           "drive_off_hab2",
           true
          ],
          [
           "drive_off_hab2",
           true
          ],
          [
           "drive_off_hab2",
           true
          ],
          [
           "drive_off_hab2",
           true
          ]
         ],
         "hoverlabel": {
          "namelength": 0
         },
         "hovertemplate": "robot=drive_off_hab2<br>clock=%{x}<br>total=%{y}<br>op=%{customdata[0]}<br>success=%{customdata[1]}",
         "legendgroup": "robot=drive_off_hab2",
         "marker": {
          "color": "#EF553B",
          "symbol": "circle"
         },
         "mode": "markers",
         "name": "robot=drive_off_hab2",
         "showlegend": true,
         "type": "scatter",
         "x": [
          0.5,
          0.7999999999999999,
          0.30000000000000004,
          0.8999999999999999,
          1.5000000000000002,
          1.4000000000000001,
          1.8000000000000005,
          1.7000000000000004,
          0.5,
          0.7999999999999999,
          0.6,
          0.1,
          1.3,
          1.2,
          0.5,
          1.2,
          1.9000000000000006,
          1.0999999999999999,
          0.4,
          0.6,
          1.2,
          0.7999999999999999,
          0.8999999999999999,
          0.6,
          1.6000000000000003,
          0.9999999999999999,
          1.8000000000000005,
          1.4000000000000001,
          0.2,
          1.9000000000000006,
          1.0999999999999999,
          1.4000000000000001,
          0.7999999999999999,
          0.5,
          1.5000000000000002,
          1.4000000000000001,
          0.9999999999999999,
          0.7999999999999999,
          0.9999999999999999,
          2.2000000000000006,
          0.4,
          1.7000000000000004,
          1.7000000000000004,
          1.4000000000000001,
          1.4000000000000001,
          1.8000000000000005,
          1.3,
          1.5000000000000002,
          0.6,
          0.7999999999999999,
          1.9000000000000006,
          1.3,
          2.0000000000000004,
          1.5000000000000002,
          0.8999999999999999,
          1.0999999999999999,
          0.9999999999999999,
          0.8999999999999999,
          1.7000000000000004,
          1.2,
          2.0000000000000004,
          0.7999999999999999,
          1.2,
          0.5,
          2.600000000000001,
          0.9999999999999999,
          0.1,
          2.2000000000000006,
          0.7999999999999999,
          0.8999999999999999,
          1.0999999999999999,
          1.6000000000000003,
          1.5000000000000002,
          1.3,
          0.7,
          1.8000000000000005,
          0.8999999999999999,
          0.9999999999999999,
          0.2,
          0.8999999999999999,
          1.8000000000000005,
          0.9999999999999999,
          1.3,
          1.4000000000000001,
          2.0000000000000004,
          2.2000000000000006,
          0.8999999999999999,
          0.7,
          0.8999999999999999,
          1.3,
          1.0999999999999999,
          3.0000000000000013,
          0.5,
          0.30000000000000004,
          0.5,
          1.2,
          3.1000000000000014,
          0.30000000000000004,
          0.9999999999999999,
          1.0999999999999999,
          0.7999999999999999,
          0.5,
          0.9999999999999999,
          1.6000000000000003,
          1.6000000000000003,
          1.9000000000000006
         ],
         "xaxis": "x",
         "y": [
          6,
          6,
          6,
          6,
          6,
          6,
          6,
          6,
          6,
          6,
          6,
          6,
          6,
          6,
          6,
          0,
          6,
          6,
          6,
          6,
          6,
          6,
          6,
          6,
          6,
          6,
          6,
          6,
          6,
          6,
          6,
          6,
          6,
          6,
          6,
          6,
          6,
          0,
          6,
          6,
          6,
          6,
          6,
          6,
          6,
          6,
          6,
          6,
          6,
          6,
          6,
          6,
          6,
          6,
          6,
          6,
          6,
          6,
          6,
          6,
          6,
          6,
          6,
          0,
          6,
          6,
          6,
          6,
          6,
          6,
          6,
          6,
          6,
          6,
          6,
          6,
          6,
          6,
          6,
          0,
          6,
          6,
          6,
          6,
          6,
          6,
          6,
          6,
          6,
          6,
          0,
          6,
          6,
          6,
          6,
          0,
          6,
          6,
          6,
          6,
          6,
          6,
          6,
          6,
          6,
          6
         ],
         "yaxis": "y"
        },
        {
         "customdata": [
          [
           "Hatch Pannel low near rocket",
           true
          ],
          [
           "Hatch Pannel low near rocket",
           true
          ],
          [
           "Hatch Pannel low near rocket",
           true
          ],
          [
           "Hatch Pannel low near rocket",
           true
          ],
          [
           "Hatch Pannel low near rocket",
           true
          ],
          [
           "Hatch Pannel low near rocket",
           false
          ],
          [
           "Hatch Pannel low near rocket",
           true
          ],
          [
           "Hatch Pannel low near rocket",
           false
          ],
          [
           "Hatch Pannel low near rocket",
           true
          ],
          [
           "Hatch Pannel low near rocket",
           true
          ],
          [
           "Hatch Pannel low near rocket",
           true
          ],
          [
           "Hatch Pannel low near rocket",
           true
          ],
          [
           "Hatch Pannel low near rocket",
           true
          ],
          [
           "Hatch Pannel low near rocket",
           false
          ],
          [
           "Hatch Pannel low near rocket",
           true
          ],
          [
           "Hatch Pannel low near rocket",
           true
          ],
          [
           "Hatch Pannel low near rocket",
           false
          ],
          [
           "Hatch Pannel low near rocket",
           true
          ],
          [
           "Hatch Pannel low near rocket",
           false
          ],
          [
           "Hatch Pannel low near rocket",
           true
          ],
          [
           "Hatch Pannel low near rocket",
           true
          ],
          [
           "Hatch Pannel low near rocket",
           true
          ],
          [
           "Hatch Pannel low near rocket",
           false
          ],
          [
           "Hatch Pannel low near rocket",
           true
          ],
          [
           "Hatch Pannel low near rocket",
           true
          ],
          [
           "Hatch Pannel low near rocket",
           true
          ],
          [
           "Hatch Pannel low near rocket",
           true
          ],
          [
           "Hatch Pannel low near rocket",
           true
          ],
          [
           "Hatch Pannel low near rocket",
           true
          ],
          [
           "Hatch Pannel low near rocket",
           false
          ],
          [
           "Hatch Pannel low near rocket",
           false
          ],
          [
           "Hatch Pannel low near rocket",
           true
          ],
          [
           "Hatch Pannel low near rocket",
           false
          ],
          [
           "Hatch Pannel low near rocket",
           false
          ],
          [
           "Hatch Pannel low near rocket",
           true
          ],
          [
           "Hatch Pannel low near rocket",
           true
          ],
          [
           "Hatch Pannel low near rocket",
           true
          ],
          [
           "Hatch Pannel low near rocket",
           true
          ],
          [
           "Hatch Pannel low near rocket",
           true
          ],
          [
           "Hatch Pannel low near rocket",
           true
          ],
          [
           "Hatch Pannel low near rocket",
           true
          ],
          [
           "Hatch Pannel low near rocket",
           true
          ],
          [
           "Hatch Pannel low near rocket",
           false
          ],
          [
           "Hatch Pannel low near rocket",
           true
          ],
          [
           "Hatch Pannel low near rocket",
           true
          ],
          [
           "Hatch Pannel low near rocket",
           true
          ],
          [
           "Hatch Pannel low near rocket",
           true
          ],
          [
           "Hatch Pannel low near rocket",
           true
          ],
          [
           "Hatch Pannel low near rocket",
           true
          ],
          [
           "Hatch Pannel low near rocket",
           true
          ],
          [
           "Hatch Pannel low near rocket",
           true
          ],
          [
           "Hatch Pannel low near rocket",
           true
          ],
          [
           "Hatch Pannel low near rocket",
           true
          ],
          [
           "Hatch Pannel low near rocket",
           true
          ],
          [
           "Hatch Pannel low near rocket",
           true
          ],
          [
           "Hatch Pannel low near rocket",
           true
          ],
          [
           "Hatch Pannel low near rocket",
           false
          ],
          [
           "Hatch Pannel low near rocket",
           false
          ],
          [
           "Hatch Pannel low near rocket",
           true
          ],
          [
           "Hatch Pannel low near rocket",
           false
          ],
          [
           "Hatch Pannel low near rocket",
           true
          ],
          [
           "Hatch Pannel low near rocket",
           true
          ],
          [
           "Hatch Pannel low near rocket",
           false
          ],
          [
           "Hatch Pannel low near rocket",
           false
          ],
          [
           "Hatch Pannel low near rocket",
           false
          ],
          [
           "Hatch Pannel low near rocket",
           true
          ],
          [
           "Hatch Pannel low near rocket",
           false
          ],
          [
           "Hatch Pannel low near rocket",
           true
          ],
          [
           "Hatch Pannel low near rocket",
           true
          ],
          [
           "Hatch Pannel low near rocket",
           true
          ],
          [
           "Hatch Pannel low near rocket",
           true
          ],
          [
           "Hatch Pannel low near rocket",
           true
          ],
          [
           "Hatch Pannel low near rocket",
           true
          ],
          [
           "Hatch Pannel low near rocket",
           true
          ],
          [
           "Hatch Pannel low near rocket",
           true
          ],
          [
           "Hatch Pannel low near rocket",
           true
          ],
          [
           "Hatch Pannel low near rocket",
           true
          ],
          [
           "Hatch Pannel low near rocket",
           true
          ],
          [
           "Hatch Pannel low near rocket",
           true
          ],
          [
           "Hatch Pannel low near rocket",
           true
          ],
          [
           "Hatch Pannel low near rocket",
           true
          ],
          [
           "Hatch Pannel low near rocket",
           true
          ],
          [
           "Hatch Pannel low near rocket",
           false
          ],
          [
           "Hatch Pannel low near rocket",
           true
          ],
          [
           "Hatch Pannel low near rocket",
           true
          ],
          [
           "Hatch Pannel low near rocket",
           true
          ],
          [
           "Hatch Pannel low near rocket",
           true
          ],
          [
           "Hatch Pannel low near rocket",
           true
          ],
          [
           "Hatch Pannel low near rocket",
           true
          ],
          [
           "Hatch Pannel low near rocket",
           true
          ],
          [
           "Hatch Pannel low near rocket",
           true
          ],
          [
           "Hatch Pannel low near rocket",
           false
          ],
          [
           "Hatch Pannel low near rocket",
           true
          ],
          [
           "Hatch Pannel low near rocket",
           true
          ],
          [
           "Hatch Pannel low near rocket",
           true
          ],
          [
           "Hatch Pannel low near rocket",
           true
          ],
          [
           "Hatch Pannel low near rocket",
           false
          ],
          [
           "Hatch Pannel low near rocket",
           true
          ],
          [
           "Hatch Pannel low near rocket",
           false
          ],
          [
           "Hatch Pannel low near rocket",
           true
          ],
          [
           "Hatch Pannel low near rocket",
           true
          ],
          [
           "Hatch Pannel low near rocket",
           true
          ],
          [
           "Hatch Pannel low near rocket",
           true
          ],
          [
           "Hatch Pannel low near rocket",
           true
          ],
          [
           "Hatch Pannel low near rocket",
           true
          ],
          [
           "Hatch Pannel low near rocket",
           true
          ],
          [
           "Hatch Pannel low near rocket",
           true
          ],
          [
           "Hatch Pannel low near rocket",
           true
          ],
          [
           "Hatch Pannel low near rocket",
           true
          ],
          [
           "Hatch Pannel low near rocket",
           true
          ],
          [
           "Hatch Pannel low near rocket",
           true
          ],
          [
           "Hatch Pannel low near rocket",
           true
          ],
          [
           "Hatch Pannel low near rocket",
           true
          ],
          [
           "Hatch Pannel low near rocket",
           false
          ],
          [
           "Hatch Pannel low near rocket",
           true
          ],
          [
           "Hatch Pannel low near rocket",
           true
          ],
          [
           "Hatch Pannel low near rocket",
           true
          ],
          [
           "Hatch Pannel low near rocket",
           true
          ],
          [
           "Hatch Pannel low near rocket",
           true
          ],
          [
           "Hatch Pannel low near rocket",
           true
          ]
         ],
         "hoverlabel": {
          "namelength": 0
         },
         "hovertemplate": "robot=Hatch Pannel low near rocket<br>clock=%{x}<br>total=%{y}<br>op=%{customdata[0]}<br>success=%{customdata[1]}",
         "legendgroup": "robot=Hatch Pannel low near rocket",
         "marker": {
          "color": "#00cc96",
          "symbol": "circle"
         },
         "mode": "markers",
         "name": "robot=Hatch Pannel low near rocket",
         "showlegend": true,
         "type": "scatter",
         "x": [
          7.19999999999999,
          9.099999999999984,
          8.699999999999985,
          4.000000000000002,
          10.599999999999978,
          8.599999999999985,
          14.899999999999963,
          6.199999999999994,
          14.699999999999964,
          7.999999999999988,
          7.899999999999988,
          7.599999999999989,
          6.8999999999999915,
          7.19999999999999,
          17.999999999999986,
          7.599999999999989,
          9.299999999999983,
          17.199999999999974,
          10.599999999999978,
          17.799999999999983,
          5.799999999999995,
          8.099999999999987,
          8.299999999999986,
          15.79999999999996,
          2.700000000000001,
          4.999999999999998,
          10.29999999999998,
          10.999999999999977,
          7.499999999999989,
          12.89999999999997,
          22.700000000000053,
          7.19999999999999,
          5.099999999999998,
          10.699999999999978,
          15.69999999999996,
          6.699999999999992,
          6.399999999999993,
          8.499999999999986,
          7.899999999999988,
          9.099999999999984,
          6.8999999999999915,
          4.899999999999999,
          5.999999999999995,
          15.299999999999962,
          11.299999999999976,
          6.999999999999991,
          5.599999999999996,
          7.999999999999988,
          7.39999999999999,
          7.999999999999988,
          4.799999999999999,
          7.39999999999999,
          9.699999999999982,
          8.499999999999986,
          8.899999999999984,
          7.999999999999988,
          7.499999999999989,
          15.59999999999996,
          7.899999999999988,
          3.700000000000002,
          13.299999999999969,
          8.099999999999987,
          8.499999999999986,
          19.60000000000001,
          6.299999999999994,
          14.699999999999964,
          8.899999999999984,
          15.399999999999961,
          6.5999999999999925,
          10.899999999999977,
          9.89999999999998,
          8.399999999999986,
          8.299999999999986,
          8.599999999999985,
          7.699999999999989,
          7.499999999999989,
          8.099999999999987,
          8.399999999999986,
          9.599999999999982,
          7.999999999999988,
          11.399999999999975,
          6.299999999999994,
          8.699999999999985,
          14.899999999999963,
          7.19999999999999,
          6.5999999999999925,
          8.699999999999985,
          7.799999999999988,
          10.399999999999979,
          7.599999999999989,
          10.19999999999998,
          6.999999999999991,
          17.69999999999998,
          8.299999999999986,
          6.8999999999999915,
          9.89999999999998,
          7.799999999999988,
          19.60000000000001,
          8.999999999999984,
          17.899999999999984,
          5.399999999999997,
          8.399999999999986,
          7.899999999999988,
          8.299999999999986,
          10.799999999999978,
          5.1999999999999975,
          5.899999999999995,
          8.499999999999986,
          8.899999999999984,
          5.399999999999997,
          6.099999999999994,
          7.099999999999991,
          6.5999999999999925,
          9.199999999999983,
          16.89999999999997,
          8.099999999999987,
          8.799999999999985,
          7.899999999999988,
          7.999999999999988,
          6.999999999999991
         ],
         "xaxis": "x",
         "y": [
          4,
          4,
          4,
          4,
          4,
          0,
          4,
          0,
          4,
          4,
          4,
          4,
          4,
          0,
          2,
          4,
          0,
          2,
          0,
          2,
          4,
          4,
          0,
          2,
          4,
          4,
          4,
          4,
          4,
          0,
          0,
          4,
          0,
          0,
          2,
          4,
          4,
          4,
          4,
          4,
          4,
          4,
          0,
          2,
          4,
          4,
          4,
          4,
          4,
          4,
          4,
          4,
          4,
          4,
          4,
          4,
          0,
          0,
          4,
          0,
          4,
          4,
          0,
          0,
          0,
          4,
          0,
          2,
          4,
          4,
          4,
          4,
          4,
          4,
          4,
          4,
          4,
          4,
          4,
          4,
          4,
          4,
          0,
          4,
          4,
          4,
          4,
          4,
          4,
          4,
          4,
          0,
          2,
          4,
          4,
          4,
          0,
          2,
          0,
          2,
          4,
          4,
          4,
          4,
          4,
          4,
          4,
          4,
          4,
          4,
          4,
          4,
          4,
          0,
          2,
          4,
          4,
          4,
          4,
          4
         ],
         "yaxis": "y"
        }
       ],
       "layout": {
        "legend": {
         "tracegroupgap": 0
        },
        "margin": {
         "t": 60
        },
        "template": {
         "data": {
          "bar": [
           {
            "error_x": {
             "color": "#2a3f5f"
            },
            "error_y": {
             "color": "#2a3f5f"
            },
            "marker": {
             "line": {
              "color": "#E5ECF6",
              "width": 0.5
             }
            },
            "type": "bar"
           }
          ],
          "barpolar": [
           {
            "marker": {
             "line": {
              "color": "#E5ECF6",
              "width": 0.5
             }
            },
            "type": "barpolar"
           }
          ],
          "carpet": [
           {
            "aaxis": {
             "endlinecolor": "#2a3f5f",
             "gridcolor": "white",
             "linecolor": "white",
             "minorgridcolor": "white",
             "startlinecolor": "#2a3f5f"
            },
            "baxis": {
             "endlinecolor": "#2a3f5f",
             "gridcolor": "white",
             "linecolor": "white",
             "minorgridcolor": "white",
             "startlinecolor": "#2a3f5f"
            },
            "type": "carpet"
           }
          ],
          "choropleth": [
           {
            "colorbar": {
             "outlinewidth": 0,
             "ticks": ""
            },
            "type": "choropleth"
           }
          ],
          "contour": [
           {
            "colorbar": {
             "outlinewidth": 0,
             "ticks": ""
            },
            "colorscale": [
             [
              0,
              "#0d0887"
             ],
             [
              0.1111111111111111,
              "#46039f"
             ],
             [
              0.2222222222222222,
              "#7201a8"
             ],
             [
              0.3333333333333333,
              "#9c179e"
             ],
             [
              0.4444444444444444,
              "#bd3786"
             ],
             [
              0.5555555555555556,
              "#d8576b"
             ],
             [
              0.6666666666666666,
              "#ed7953"
             ],
             [
              0.7777777777777778,
              "#fb9f3a"
             ],
             [
              0.8888888888888888,
              "#fdca26"
             ],
             [
              1,
              "#f0f921"
             ]
            ],
            "type": "contour"
           }
          ],
          "contourcarpet": [
           {
            "colorbar": {
             "outlinewidth": 0,
             "ticks": ""
            },
            "type": "contourcarpet"
           }
          ],
          "heatmap": [
           {
            "colorbar": {
             "outlinewidth": 0,
             "ticks": ""
            },
            "colorscale": [
             [
              0,
              "#0d0887"
             ],
             [
              0.1111111111111111,
              "#46039f"
             ],
             [
              0.2222222222222222,
              "#7201a8"
             ],
             [
              0.3333333333333333,
              "#9c179e"
             ],
             [
              0.4444444444444444,
              "#bd3786"
             ],
             [
              0.5555555555555556,
              "#d8576b"
             ],
             [
              0.6666666666666666,
              "#ed7953"
             ],
             [
              0.7777777777777778,
              "#fb9f3a"
             ],
             [
              0.8888888888888888,
              "#fdca26"
             ],
             [
              1,
              "#f0f921"
             ]
            ],
            "type": "heatmap"
           }
          ],
          "heatmapgl": [
           {
            "colorbar": {
             "outlinewidth": 0,
             "ticks": ""
            },
            "colorscale": [
             [
              0,
              "#0d0887"
             ],
             [
              0.1111111111111111,
              "#46039f"
             ],
             [
              0.2222222222222222,
              "#7201a8"
             ],
             [
              0.3333333333333333,
              "#9c179e"
             ],
             [
              0.4444444444444444,
              "#bd3786"
             ],
             [
              0.5555555555555556,
              "#d8576b"
             ],
             [
              0.6666666666666666,
              "#ed7953"
             ],
             [
              0.7777777777777778,
              "#fb9f3a"
             ],
             [
              0.8888888888888888,
              "#fdca26"
             ],
             [
              1,
              "#f0f921"
             ]
            ],
            "type": "heatmapgl"
           }
          ],
          "histogram": [
           {
            "marker": {
             "colorbar": {
              "outlinewidth": 0,
              "ticks": ""
             }
            },
            "type": "histogram"
           }
          ],
          "histogram2d": [
           {
            "colorbar": {
             "outlinewidth": 0,
             "ticks": ""
            },
            "colorscale": [
             [
              0,
              "#0d0887"
             ],
             [
              0.1111111111111111,
              "#46039f"
             ],
             [
              0.2222222222222222,
              "#7201a8"
             ],
             [
              0.3333333333333333,
              "#9c179e"
             ],
             [
              0.4444444444444444,
              "#bd3786"
             ],
             [
              0.5555555555555556,
              "#d8576b"
             ],
             [
              0.6666666666666666,
              "#ed7953"
             ],
             [
              0.7777777777777778,
              "#fb9f3a"
             ],
             [
              0.8888888888888888,
              "#fdca26"
             ],
             [
              1,
              "#f0f921"
             ]
            ],
            "type": "histogram2d"
           }
          ],
          "histogram2dcontour": [
           {
            "colorbar": {
             "outlinewidth": 0,
             "ticks": ""
            },
            "colorscale": [
             [
              0,
              "#0d0887"
             ],
             [
              0.1111111111111111,
              "#46039f"
             ],
             [
              0.2222222222222222,
              "#7201a8"
             ],
             [
              0.3333333333333333,
              "#9c179e"
             ],
             [
              0.4444444444444444,
              "#bd3786"
             ],
             [
              0.5555555555555556,
              "#d8576b"
             ],
             [
              0.6666666666666666,
              "#ed7953"
             ],
             [
              0.7777777777777778,
              "#fb9f3a"
             ],
             [
              0.8888888888888888,
              "#fdca26"
             ],
             [
              1,
              "#f0f921"
             ]
            ],
            "type": "histogram2dcontour"
           }
          ],
          "mesh3d": [
           {
            "colorbar": {
             "outlinewidth": 0,
             "ticks": ""
            },
            "type": "mesh3d"
           }
          ],
          "parcoords": [
           {
            "line": {
             "colorbar": {
              "outlinewidth": 0,
              "ticks": ""
             }
            },
            "type": "parcoords"
           }
          ],
          "pie": [
           {
            "automargin": true,
            "type": "pie"
           }
          ],
          "scatter": [
           {
            "marker": {
             "colorbar": {
              "outlinewidth": 0,
              "ticks": ""
             }
            },
            "type": "scatter"
           }
          ],
          "scatter3d": [
           {
            "line": {
             "colorbar": {
              "outlinewidth": 0,
              "ticks": ""
             }
            },
            "marker": {
             "colorbar": {
              "outlinewidth": 0,
              "ticks": ""
             }
            },
            "type": "scatter3d"
           }
          ],
          "scattercarpet": [
           {
            "marker": {
             "colorbar": {
              "outlinewidth": 0,
              "ticks": ""
             }
            },
            "type": "scattercarpet"
           }
          ],
          "scattergeo": [
           {
            "marker": {
             "colorbar": {
              "outlinewidth": 0,
              "ticks": ""
             }
            },
            "type": "scattergeo"
           }
          ],
          "scattergl": [
           {
            "marker": {
             "colorbar": {
              "outlinewidth": 0,
              "ticks": ""
             }
            },
            "type": "scattergl"
           }
          ],
          "scattermapbox": [
           {
            "marker": {
             "colorbar": {
              "outlinewidth": 0,
              "ticks": ""
             }
            },
            "type": "scattermapbox"
           }
          ],
          "scatterpolar": [
           {
            "marker": {
             "colorbar": {
              "outlinewidth": 0,
              "ticks": ""
             }
            },
            "type": "scatterpolar"
           }
          ],
          "scatterpolargl": [
           {
            "marker": {
             "colorbar": {
              "outlinewidth": 0,
              "ticks": ""
             }
            },
            "type": "scatterpolargl"
           }
          ],
          "scatterternary": [
           {
            "marker": {
             "colorbar": {
              "outlinewidth": 0,
              "ticks": ""
             }
            },
            "type": "scatterternary"
           }
          ],
          "surface": [
           {
            "colorbar": {
             "outlinewidth": 0,
             "ticks": ""
            },
            "colorscale": [
             [
              0,
              "#0d0887"
             ],
             [
              0.1111111111111111,
              "#46039f"
             ],
             [
              0.2222222222222222,
              "#7201a8"
             ],
             [
              0.3333333333333333,
              "#9c179e"
             ],
             [
              0.4444444444444444,
              "#bd3786"
             ],
             [
              0.5555555555555556,
              "#d8576b"
             ],
             [
              0.6666666666666666,
              "#ed7953"
             ],
             [
              0.7777777777777778,
              "#fb9f3a"
             ],
             [
              0.8888888888888888,
              "#fdca26"
             ],
             [
              1,
              "#f0f921"
             ]
            ],
            "type": "surface"
           }
          ],
          "table": [
           {
            "cells": {
             "fill": {
              "color": "#EBF0F8"
             },
             "line": {
              "color": "white"
             }
            },
            "header": {
             "fill": {
              "color": "#C8D4E3"
             },
             "line": {
              "color": "white"
             }
            },
            "type": "table"
           }
          ]
         },
         "layout": {
          "annotationdefaults": {
           "arrowcolor": "#2a3f5f",
           "arrowhead": 0,
           "arrowwidth": 1
          },
          "coloraxis": {
           "colorbar": {
            "outlinewidth": 0,
            "ticks": ""
           }
          },
          "colorscale": {
           "diverging": [
            [
             0,
             "#8e0152"
            ],
            [
             0.1,
             "#c51b7d"
            ],
            [
             0.2,
             "#de77ae"
            ],
            [
             0.3,
             "#f1b6da"
            ],
            [
             0.4,
             "#fde0ef"
            ],
            [
             0.5,
             "#f7f7f7"
            ],
            [
             0.6,
             "#e6f5d0"
            ],
            [
             0.7,
             "#b8e186"
            ],
            [
             0.8,
             "#7fbc41"
            ],
            [
             0.9,
             "#4d9221"
            ],
            [
             1,
             "#276419"
            ]
           ],
           "sequential": [
            [
             0,
             "#0d0887"
            ],
            [
             0.1111111111111111,
             "#46039f"
            ],
            [
             0.2222222222222222,
             "#7201a8"
            ],
            [
             0.3333333333333333,
             "#9c179e"
            ],
            [
             0.4444444444444444,
             "#bd3786"
            ],
            [
             0.5555555555555556,
             "#d8576b"
            ],
            [
             0.6666666666666666,
             "#ed7953"
            ],
            [
             0.7777777777777778,
             "#fb9f3a"
            ],
            [
             0.8888888888888888,
             "#fdca26"
            ],
            [
             1,
             "#f0f921"
            ]
           ],
           "sequentialminus": [
            [
             0,
             "#0d0887"
            ],
            [
             0.1111111111111111,
             "#46039f"
            ],
            [
             0.2222222222222222,
             "#7201a8"
            ],
            [
             0.3333333333333333,
             "#9c179e"
            ],
            [
             0.4444444444444444,
             "#bd3786"
            ],
            [
             0.5555555555555556,
             "#d8576b"
            ],
            [
             0.6666666666666666,
             "#ed7953"
            ],
            [
             0.7777777777777778,
             "#fb9f3a"
            ],
            [
             0.8888888888888888,
             "#fdca26"
            ],
            [
             1,
             "#f0f921"
            ]
           ]
          },
          "colorway": [
           "#636efa",
           "#EF553B",
           "#00cc96",
           "#ab63fa",
           "#FFA15A",
           "#19d3f3",
           "#FF6692",
           "#B6E880",
           "#FF97FF",
           "#FECB52"
          ],
          "font": {
           "color": "#2a3f5f"
          },
          "geo": {
           "bgcolor": "white",
           "lakecolor": "white",
           "landcolor": "#E5ECF6",
           "showlakes": true,
           "showland": true,
           "subunitcolor": "white"
          },
          "hoverlabel": {
           "align": "left"
          },
          "hovermode": "closest",
          "mapbox": {
           "style": "light"
          },
          "paper_bgcolor": "white",
          "plot_bgcolor": "#E5ECF6",
          "polar": {
           "angularaxis": {
            "gridcolor": "white",
            "linecolor": "white",
            "ticks": ""
           },
           "bgcolor": "#E5ECF6",
           "radialaxis": {
            "gridcolor": "white",
            "linecolor": "white",
            "ticks": ""
           }
          },
          "scene": {
           "xaxis": {
            "backgroundcolor": "#E5ECF6",
            "gridcolor": "white",
            "gridwidth": 2,
            "linecolor": "white",
            "showbackground": true,
            "ticks": "",
            "zerolinecolor": "white"
           },
           "yaxis": {
            "backgroundcolor": "#E5ECF6",
            "gridcolor": "white",
            "gridwidth": 2,
            "linecolor": "white",
            "showbackground": true,
            "ticks": "",
            "zerolinecolor": "white"
           },
           "zaxis": {
            "backgroundcolor": "#E5ECF6",
            "gridcolor": "white",
            "gridwidth": 2,
            "linecolor": "white",
            "showbackground": true,
            "ticks": "",
            "zerolinecolor": "white"
           }
          },
          "shapedefaults": {
           "line": {
            "color": "#2a3f5f"
           }
          },
          "ternary": {
           "aaxis": {
            "gridcolor": "white",
            "linecolor": "white",
            "ticks": ""
           },
           "baxis": {
            "gridcolor": "white",
            "linecolor": "white",
            "ticks": ""
           },
           "bgcolor": "#E5ECF6",
           "caxis": {
            "gridcolor": "white",
            "linecolor": "white",
            "ticks": ""
           }
          },
          "title": {
           "x": 0.05
          },
          "xaxis": {
           "automargin": true,
           "gridcolor": "white",
           "linecolor": "white",
           "ticks": "",
           "title": {
            "standoff": 15
           },
           "zerolinecolor": "white",
           "zerolinewidth": 2
          },
          "yaxis": {
           "automargin": true,
           "gridcolor": "white",
           "linecolor": "white",
           "ticks": "",
           "title": {
            "standoff": 15
           },
           "zerolinecolor": "white",
           "zerolinewidth": 2
          }
         }
        },
        "xaxis": {
         "anchor": "y",
         "domain": [
          0,
          1
         ],
         "title": {
          "text": "clock"
         }
        },
        "yaxis": {
         "anchor": "x",
         "domain": [
          0,
          1
         ],
         "title": {
          "text": "total"
         }
        }
       }
      },
      "text/html": [
       "<div>\n",
       "        \n",
       "        \n",
       "            <div id=\"2288aa97-2fa1-4f52-898e-4cb426b2d60a\" class=\"plotly-graph-div\" style=\"height:525px; width:100%;\"></div>\n",
       "            <script type=\"text/javascript\">\n",
       "                require([\"plotly\"], function(Plotly) {\n",
       "                    window.PLOTLYENV=window.PLOTLYENV || {};\n",
       "                    \n",
       "                if (document.getElementById(\"2288aa97-2fa1-4f52-898e-4cb426b2d60a\")) {\n",
       "                    Plotly.newPlot(\n",
       "                        '2288aa97-2fa1-4f52-898e-4cb426b2d60a',\n",
       "                        [{\"customdata\": [[\"drive_off_hab1\", true], [\"drive_off_hab1\", true], [\"drive_off_hab1\", true], [\"drive_off_hab1\", true], [\"drive_off_hab1\", true], [\"drive_off_hab1\", true], [\"drive_off_hab1\", true], [\"drive_off_hab1\", true], [\"drive_off_hab1\", true], [\"drive_off_hab1\", true], [\"drive_off_hab1\", true], [\"drive_off_hab1\", true], [\"drive_off_hab1\", true], [\"drive_off_hab1\", true], [\"drive_off_hab1\", true], [\"drive_off_hab1\", true], [\"drive_off_hab1\", false], [\"drive_off_hab1\", true], [\"drive_off_hab1\", true], [\"drive_off_hab1\", true], [\"drive_off_hab1\", true], [\"drive_off_hab1\", true], [\"drive_off_hab1\", true], [\"drive_off_hab1\", true], [\"drive_off_hab1\", true], [\"drive_off_hab1\", true], [\"drive_off_hab1\", true], [\"drive_off_hab1\", true], [\"drive_off_hab1\", true], [\"drive_off_hab1\", true], [\"drive_off_hab1\", true], [\"drive_off_hab1\", true], [\"drive_off_hab1\", true], [\"drive_off_hab1\", true], [\"drive_off_hab1\", true], [\"drive_off_hab1\", true], [\"drive_off_hab1\", true], [\"drive_off_hab1\", true], [\"drive_off_hab1\", true], [\"drive_off_hab1\", true], [\"drive_off_hab1\", true], [\"drive_off_hab1\", true], [\"drive_off_hab1\", true], [\"drive_off_hab1\", true], [\"drive_off_hab1\", true], [\"drive_off_hab1\", true], [\"drive_off_hab1\", true], [\"drive_off_hab1\", true], [\"drive_off_hab1\", false], [\"drive_off_hab1\", true], [\"drive_off_hab1\", true], [\"drive_off_hab1\", true], [\"drive_off_hab1\", true], [\"drive_off_hab1\", true], [\"drive_off_hab1\", true], [\"drive_off_hab1\", true], [\"drive_off_hab1\", true], [\"drive_off_hab1\", true], [\"drive_off_hab1\", true], [\"drive_off_hab1\", true], [\"drive_off_hab1\", true], [\"drive_off_hab1\", true], [\"drive_off_hab1\", true], [\"drive_off_hab1\", true], [\"drive_off_hab1\", true], [\"drive_off_hab1\", true], [\"drive_off_hab1\", true], [\"drive_off_hab1\", true], [\"drive_off_hab1\", true], [\"drive_off_hab1\", true], [\"drive_off_hab1\", true], [\"drive_off_hab1\", true], [\"drive_off_hab1\", true], [\"drive_off_hab1\", true], [\"drive_off_hab1\", true], [\"drive_off_hab1\", false], [\"drive_off_hab1\", true], [\"drive_off_hab1\", true], [\"drive_off_hab1\", true], [\"drive_off_hab1\", true], [\"drive_off_hab1\", true], [\"drive_off_hab1\", true], [\"drive_off_hab1\", true], [\"drive_off_hab1\", true], [\"drive_off_hab1\", true], [\"drive_off_hab1\", true], [\"drive_off_hab1\", true], [\"drive_off_hab1\", true], [\"drive_off_hab1\", true], [\"drive_off_hab1\", true], [\"drive_off_hab1\", true], [\"drive_off_hab1\", true], [\"drive_off_hab1\", false], [\"drive_off_hab1\", true], [\"drive_off_hab1\", true], [\"drive_off_hab1\", true], [\"drive_off_hab1\", true], [\"drive_off_hab1\", true], [\"drive_off_hab1\", true], [\"drive_off_hab1\", true], [\"drive_off_hab1\", true], [\"drive_off_hab1\", true], [\"drive_off_hab1\", true], [\"drive_off_hab1\", true]], \"hoverlabel\": {\"namelength\": 0}, \"hovertemplate\": \"robot=drive_off_hab1<br>clock=%{x}<br>total=%{y}<br>op=%{customdata[0]}<br>success=%{customdata[1]}\", \"legendgroup\": \"robot=drive_off_hab1\", \"marker\": {\"color\": \"#636efa\", \"symbol\": \"circle\"}, \"mode\": \"markers\", \"name\": \"robot=drive_off_hab1\", \"showlegend\": true, \"type\": \"scatter\", \"x\": [0.30000000000000004, 0.7999999999999999, 0.7, 0.4, 1.2, 0.7999999999999999, 1.2, 1.4000000000000001, 1.0999999999999999, 0.7999999999999999, 0.6, 0.7999999999999999, 1.4000000000000001, 0.8999999999999999, 1.4000000000000001, 0.8999999999999999, 1.9000000000000006, 2.400000000000001, 0.8999999999999999, 0.5, 1.0999999999999999, 0.9999999999999999, 0.7, 0.7, 1.8000000000000005, 0.6, 1.3, 0.4, 2.0000000000000004, 1.3, 1.3, 1.0999999999999999, 1.7000000000000004, 0.6, 0.9999999999999999, 0.7999999999999999, 0.4, 1.5000000000000002, 1.5000000000000002, 1.4000000000000001, 0.7, 1.5000000000000002, 1.3, 0.8999999999999999, 1.4000000000000001, 0.7999999999999999, 0.8999999999999999, 0.8999999999999999, 1.0999999999999999, 2.700000000000001, 0.7, 0.6, 0.7999999999999999, 0.2, 0.9999999999999999, 0.6, 0.4, 1.2, 1.9000000000000006, 2.1000000000000005, 1.8000000000000005, 0.6, 1.5000000000000002, 0.8999999999999999, 0.4, 1.2, 0.9999999999999999, 0.5, 1.7000000000000004, 0.7999999999999999, 1.2, 0.7999999999999999, 1.2, 1.8000000000000005, 1.2, 0.1, 1.2, 1.2, 0.8999999999999999, 0.5, 1.7000000000000004, 0.4, 1.4000000000000001, 0.7, 1.6000000000000003, 0.8999999999999999, 0.9999999999999999, 1.3, 0.8999999999999999, 0.30000000000000004, 1.4000000000000001, 0.6, 1.2, 2.600000000000001, 1.6000000000000003, 0.2, 0.4, 0.5, 0.6, 0.7999999999999999, 0.9999999999999999, 0.6, 0.8999999999999999, 1.0999999999999999], \"xaxis\": \"x\", \"y\": [3, 3, 3, 3, 3, 3, 3, 3, 3, 3, 3, 3, 3, 3, 3, 3, 0, 3, 3, 3, 3, 3, 3, 3, 3, 3, 3, 3, 3, 3, 3, 3, 3, 3, 3, 3, 3, 3, 3, 3, 3, 3, 3, 3, 3, 3, 3, 3, 0, 3, 3, 3, 3, 3, 3, 3, 3, 3, 3, 3, 3, 3, 3, 3, 3, 3, 3, 3, 3, 3, 3, 3, 3, 3, 3, 0, 3, 3, 3, 3, 3, 3, 3, 3, 3, 3, 3, 3, 3, 3, 3, 3, 0, 3, 3, 3, 3, 3, 3, 3, 3, 3, 3, 3], \"yaxis\": \"y\"}, {\"customdata\": [[\"drive_off_hab2\", true], [\"drive_off_hab2\", true], [\"drive_off_hab2\", true], [\"drive_off_hab2\", true], [\"drive_off_hab2\", true], [\"drive_off_hab2\", true], [\"drive_off_hab2\", true], [\"drive_off_hab2\", true], [\"drive_off_hab2\", true], [\"drive_off_hab2\", true], [\"drive_off_hab2\", true], [\"drive_off_hab2\", true], [\"drive_off_hab2\", true], [\"drive_off_hab2\", true], [\"drive_off_hab2\", true], [\"drive_off_hab2\", false], [\"drive_off_hab2\", true], [\"drive_off_hab2\", true], [\"drive_off_hab2\", true], [\"drive_off_hab2\", true], [\"drive_off_hab2\", true], [\"drive_off_hab2\", true], [\"drive_off_hab2\", true], [\"drive_off_hab2\", true], [\"drive_off_hab2\", true], [\"drive_off_hab2\", true], [\"drive_off_hab2\", true], [\"drive_off_hab2\", true], [\"drive_off_hab2\", true], [\"drive_off_hab2\", true], [\"drive_off_hab2\", true], [\"drive_off_hab2\", true], [\"drive_off_hab2\", true], [\"drive_off_hab2\", true], [\"drive_off_hab2\", true], [\"drive_off_hab2\", true], [\"drive_off_hab2\", true], [\"drive_off_hab2\", false], [\"drive_off_hab2\", true], [\"drive_off_hab2\", true], [\"drive_off_hab2\", true], [\"drive_off_hab2\", true], [\"drive_off_hab2\", true], [\"drive_off_hab2\", true], [\"drive_off_hab2\", true], [\"drive_off_hab2\", true], [\"drive_off_hab2\", true], [\"drive_off_hab2\", true], [\"drive_off_hab2\", true], [\"drive_off_hab2\", true], [\"drive_off_hab2\", true], [\"drive_off_hab2\", true], [\"drive_off_hab2\", true], [\"drive_off_hab2\", true], [\"drive_off_hab2\", true], [\"drive_off_hab2\", true], [\"drive_off_hab2\", true], [\"drive_off_hab2\", true], [\"drive_off_hab2\", true], [\"drive_off_hab2\", true], [\"drive_off_hab2\", true], [\"drive_off_hab2\", true], [\"drive_off_hab2\", true], [\"drive_off_hab2\", false], [\"drive_off_hab2\", true], [\"drive_off_hab2\", true], [\"drive_off_hab2\", true], [\"drive_off_hab2\", true], [\"drive_off_hab2\", true], [\"drive_off_hab2\", true], [\"drive_off_hab2\", true], [\"drive_off_hab2\", true], [\"drive_off_hab2\", true], [\"drive_off_hab2\", true], [\"drive_off_hab2\", true], [\"drive_off_hab2\", true], [\"drive_off_hab2\", true], [\"drive_off_hab2\", true], [\"drive_off_hab2\", true], [\"drive_off_hab2\", false], [\"drive_off_hab2\", true], [\"drive_off_hab2\", true], [\"drive_off_hab2\", true], [\"drive_off_hab2\", true], [\"drive_off_hab2\", true], [\"drive_off_hab2\", true], [\"drive_off_hab2\", true], [\"drive_off_hab2\", true], [\"drive_off_hab2\", true], [\"drive_off_hab2\", true], [\"drive_off_hab2\", false], [\"drive_off_hab2\", true], [\"drive_off_hab2\", true], [\"drive_off_hab2\", true], [\"drive_off_hab2\", true], [\"drive_off_hab2\", false], [\"drive_off_hab2\", true], [\"drive_off_hab2\", true], [\"drive_off_hab2\", true], [\"drive_off_hab2\", true], [\"drive_off_hab2\", true], [\"drive_off_hab2\", true], [\"drive_off_hab2\", true], [\"drive_off_hab2\", true], [\"drive_off_hab2\", true], [\"drive_off_hab2\", true]], \"hoverlabel\": {\"namelength\": 0}, \"hovertemplate\": \"robot=drive_off_hab2<br>clock=%{x}<br>total=%{y}<br>op=%{customdata[0]}<br>success=%{customdata[1]}\", \"legendgroup\": \"robot=drive_off_hab2\", \"marker\": {\"color\": \"#EF553B\", \"symbol\": \"circle\"}, \"mode\": \"markers\", \"name\": \"robot=drive_off_hab2\", \"showlegend\": true, \"type\": \"scatter\", \"x\": [0.5, 0.7999999999999999, 0.30000000000000004, 0.8999999999999999, 1.5000000000000002, 1.4000000000000001, 1.8000000000000005, 1.7000000000000004, 0.5, 0.7999999999999999, 0.6, 0.1, 1.3, 1.2, 0.5, 1.2, 1.9000000000000006, 1.0999999999999999, 0.4, 0.6, 1.2, 0.7999999999999999, 0.8999999999999999, 0.6, 1.6000000000000003, 0.9999999999999999, 1.8000000000000005, 1.4000000000000001, 0.2, 1.9000000000000006, 1.0999999999999999, 1.4000000000000001, 0.7999999999999999, 0.5, 1.5000000000000002, 1.4000000000000001, 0.9999999999999999, 0.7999999999999999, 0.9999999999999999, 2.2000000000000006, 0.4, 1.7000000000000004, 1.7000000000000004, 1.4000000000000001, 1.4000000000000001, 1.8000000000000005, 1.3, 1.5000000000000002, 0.6, 0.7999999999999999, 1.9000000000000006, 1.3, 2.0000000000000004, 1.5000000000000002, 0.8999999999999999, 1.0999999999999999, 0.9999999999999999, 0.8999999999999999, 1.7000000000000004, 1.2, 2.0000000000000004, 0.7999999999999999, 1.2, 0.5, 2.600000000000001, 0.9999999999999999, 0.1, 2.2000000000000006, 0.7999999999999999, 0.8999999999999999, 1.0999999999999999, 1.6000000000000003, 1.5000000000000002, 1.3, 0.7, 1.8000000000000005, 0.8999999999999999, 0.9999999999999999, 0.2, 0.8999999999999999, 1.8000000000000005, 0.9999999999999999, 1.3, 1.4000000000000001, 2.0000000000000004, 2.2000000000000006, 0.8999999999999999, 0.7, 0.8999999999999999, 1.3, 1.0999999999999999, 3.0000000000000013, 0.5, 0.30000000000000004, 0.5, 1.2, 3.1000000000000014, 0.30000000000000004, 0.9999999999999999, 1.0999999999999999, 0.7999999999999999, 0.5, 0.9999999999999999, 1.6000000000000003, 1.6000000000000003, 1.9000000000000006], \"xaxis\": \"x\", \"y\": [6, 6, 6, 6, 6, 6, 6, 6, 6, 6, 6, 6, 6, 6, 6, 0, 6, 6, 6, 6, 6, 6, 6, 6, 6, 6, 6, 6, 6, 6, 6, 6, 6, 6, 6, 6, 6, 0, 6, 6, 6, 6, 6, 6, 6, 6, 6, 6, 6, 6, 6, 6, 6, 6, 6, 6, 6, 6, 6, 6, 6, 6, 6, 0, 6, 6, 6, 6, 6, 6, 6, 6, 6, 6, 6, 6, 6, 6, 6, 0, 6, 6, 6, 6, 6, 6, 6, 6, 6, 6, 0, 6, 6, 6, 6, 0, 6, 6, 6, 6, 6, 6, 6, 6, 6, 6], \"yaxis\": \"y\"}, {\"customdata\": [[\"Hatch Pannel low near rocket\", true], [\"Hatch Pannel low near rocket\", true], [\"Hatch Pannel low near rocket\", true], [\"Hatch Pannel low near rocket\", true], [\"Hatch Pannel low near rocket\", true], [\"Hatch Pannel low near rocket\", false], [\"Hatch Pannel low near rocket\", true], [\"Hatch Pannel low near rocket\", false], [\"Hatch Pannel low near rocket\", true], [\"Hatch Pannel low near rocket\", true], [\"Hatch Pannel low near rocket\", true], [\"Hatch Pannel low near rocket\", true], [\"Hatch Pannel low near rocket\", true], [\"Hatch Pannel low near rocket\", false], [\"Hatch Pannel low near rocket\", true], [\"Hatch Pannel low near rocket\", true], [\"Hatch Pannel low near rocket\", false], [\"Hatch Pannel low near rocket\", true], [\"Hatch Pannel low near rocket\", false], [\"Hatch Pannel low near rocket\", true], [\"Hatch Pannel low near rocket\", true], [\"Hatch Pannel low near rocket\", true], [\"Hatch Pannel low near rocket\", false], [\"Hatch Pannel low near rocket\", true], [\"Hatch Pannel low near rocket\", true], [\"Hatch Pannel low near rocket\", true], [\"Hatch Pannel low near rocket\", true], [\"Hatch Pannel low near rocket\", true], [\"Hatch Pannel low near rocket\", true], [\"Hatch Pannel low near rocket\", false], [\"Hatch Pannel low near rocket\", false], [\"Hatch Pannel low near rocket\", true], [\"Hatch Pannel low near rocket\", false], [\"Hatch Pannel low near rocket\", false], [\"Hatch Pannel low near rocket\", true], [\"Hatch Pannel low near rocket\", true], [\"Hatch Pannel low near rocket\", true], [\"Hatch Pannel low near rocket\", true], [\"Hatch Pannel low near rocket\", true], [\"Hatch Pannel low near rocket\", true], [\"Hatch Pannel low near rocket\", true], [\"Hatch Pannel low near rocket\", true], [\"Hatch Pannel low near rocket\", false], [\"Hatch Pannel low near rocket\", true], [\"Hatch Pannel low near rocket\", true], [\"Hatch Pannel low near rocket\", true], [\"Hatch Pannel low near rocket\", true], [\"Hatch Pannel low near rocket\", true], [\"Hatch Pannel low near rocket\", true], [\"Hatch Pannel low near rocket\", true], [\"Hatch Pannel low near rocket\", true], [\"Hatch Pannel low near rocket\", true], [\"Hatch Pannel low near rocket\", true], [\"Hatch Pannel low near rocket\", true], [\"Hatch Pannel low near rocket\", true], [\"Hatch Pannel low near rocket\", true], [\"Hatch Pannel low near rocket\", false], [\"Hatch Pannel low near rocket\", false], [\"Hatch Pannel low near rocket\", true], [\"Hatch Pannel low near rocket\", false], [\"Hatch Pannel low near rocket\", true], [\"Hatch Pannel low near rocket\", true], [\"Hatch Pannel low near rocket\", false], [\"Hatch Pannel low near rocket\", false], [\"Hatch Pannel low near rocket\", false], [\"Hatch Pannel low near rocket\", true], [\"Hatch Pannel low near rocket\", false], [\"Hatch Pannel low near rocket\", true], [\"Hatch Pannel low near rocket\", true], [\"Hatch Pannel low near rocket\", true], [\"Hatch Pannel low near rocket\", true], [\"Hatch Pannel low near rocket\", true], [\"Hatch Pannel low near rocket\", true], [\"Hatch Pannel low near rocket\", true], [\"Hatch Pannel low near rocket\", true], [\"Hatch Pannel low near rocket\", true], [\"Hatch Pannel low near rocket\", true], [\"Hatch Pannel low near rocket\", true], [\"Hatch Pannel low near rocket\", true], [\"Hatch Pannel low near rocket\", true], [\"Hatch Pannel low near rocket\", true], [\"Hatch Pannel low near rocket\", true], [\"Hatch Pannel low near rocket\", false], [\"Hatch Pannel low near rocket\", true], [\"Hatch Pannel low near rocket\", true], [\"Hatch Pannel low near rocket\", true], [\"Hatch Pannel low near rocket\", true], [\"Hatch Pannel low near rocket\", true], [\"Hatch Pannel low near rocket\", true], [\"Hatch Pannel low near rocket\", true], [\"Hatch Pannel low near rocket\", true], [\"Hatch Pannel low near rocket\", false], [\"Hatch Pannel low near rocket\", true], [\"Hatch Pannel low near rocket\", true], [\"Hatch Pannel low near rocket\", true], [\"Hatch Pannel low near rocket\", true], [\"Hatch Pannel low near rocket\", false], [\"Hatch Pannel low near rocket\", true], [\"Hatch Pannel low near rocket\", false], [\"Hatch Pannel low near rocket\", true], [\"Hatch Pannel low near rocket\", true], [\"Hatch Pannel low near rocket\", true], [\"Hatch Pannel low near rocket\", true], [\"Hatch Pannel low near rocket\", true], [\"Hatch Pannel low near rocket\", true], [\"Hatch Pannel low near rocket\", true], [\"Hatch Pannel low near rocket\", true], [\"Hatch Pannel low near rocket\", true], [\"Hatch Pannel low near rocket\", true], [\"Hatch Pannel low near rocket\", true], [\"Hatch Pannel low near rocket\", true], [\"Hatch Pannel low near rocket\", true], [\"Hatch Pannel low near rocket\", true], [\"Hatch Pannel low near rocket\", false], [\"Hatch Pannel low near rocket\", true], [\"Hatch Pannel low near rocket\", true], [\"Hatch Pannel low near rocket\", true], [\"Hatch Pannel low near rocket\", true], [\"Hatch Pannel low near rocket\", true], [\"Hatch Pannel low near rocket\", true]], \"hoverlabel\": {\"namelength\": 0}, \"hovertemplate\": \"robot=Hatch Pannel low near rocket<br>clock=%{x}<br>total=%{y}<br>op=%{customdata[0]}<br>success=%{customdata[1]}\", \"legendgroup\": \"robot=Hatch Pannel low near rocket\", \"marker\": {\"color\": \"#00cc96\", \"symbol\": \"circle\"}, \"mode\": \"markers\", \"name\": \"robot=Hatch Pannel low near rocket\", \"showlegend\": true, \"type\": \"scatter\", \"x\": [7.19999999999999, 9.099999999999984, 8.699999999999985, 4.000000000000002, 10.599999999999978, 8.599999999999985, 14.899999999999963, 6.199999999999994, 14.699999999999964, 7.999999999999988, 7.899999999999988, 7.599999999999989, 6.8999999999999915, 7.19999999999999, 17.999999999999986, 7.599999999999989, 9.299999999999983, 17.199999999999974, 10.599999999999978, 17.799999999999983, 5.799999999999995, 8.099999999999987, 8.299999999999986, 15.79999999999996, 2.700000000000001, 4.999999999999998, 10.29999999999998, 10.999999999999977, 7.499999999999989, 12.89999999999997, 22.700000000000053, 7.19999999999999, 5.099999999999998, 10.699999999999978, 15.69999999999996, 6.699999999999992, 6.399999999999993, 8.499999999999986, 7.899999999999988, 9.099999999999984, 6.8999999999999915, 4.899999999999999, 5.999999999999995, 15.299999999999962, 11.299999999999976, 6.999999999999991, 5.599999999999996, 7.999999999999988, 7.39999999999999, 7.999999999999988, 4.799999999999999, 7.39999999999999, 9.699999999999982, 8.499999999999986, 8.899999999999984, 7.999999999999988, 7.499999999999989, 15.59999999999996, 7.899999999999988, 3.700000000000002, 13.299999999999969, 8.099999999999987, 8.499999999999986, 19.60000000000001, 6.299999999999994, 14.699999999999964, 8.899999999999984, 15.399999999999961, 6.5999999999999925, 10.899999999999977, 9.89999999999998, 8.399999999999986, 8.299999999999986, 8.599999999999985, 7.699999999999989, 7.499999999999989, 8.099999999999987, 8.399999999999986, 9.599999999999982, 7.999999999999988, 11.399999999999975, 6.299999999999994, 8.699999999999985, 14.899999999999963, 7.19999999999999, 6.5999999999999925, 8.699999999999985, 7.799999999999988, 10.399999999999979, 7.599999999999989, 10.19999999999998, 6.999999999999991, 17.69999999999998, 8.299999999999986, 6.8999999999999915, 9.89999999999998, 7.799999999999988, 19.60000000000001, 8.999999999999984, 17.899999999999984, 5.399999999999997, 8.399999999999986, 7.899999999999988, 8.299999999999986, 10.799999999999978, 5.1999999999999975, 5.899999999999995, 8.499999999999986, 8.899999999999984, 5.399999999999997, 6.099999999999994, 7.099999999999991, 6.5999999999999925, 9.199999999999983, 16.89999999999997, 8.099999999999987, 8.799999999999985, 7.899999999999988, 7.999999999999988, 6.999999999999991], \"xaxis\": \"x\", \"y\": [4, 4, 4, 4, 4, 0, 4, 0, 4, 4, 4, 4, 4, 0, 2, 4, 0, 2, 0, 2, 4, 4, 0, 2, 4, 4, 4, 4, 4, 0, 0, 4, 0, 0, 2, 4, 4, 4, 4, 4, 4, 4, 0, 2, 4, 4, 4, 4, 4, 4, 4, 4, 4, 4, 4, 4, 0, 0, 4, 0, 4, 4, 0, 0, 0, 4, 0, 2, 4, 4, 4, 4, 4, 4, 4, 4, 4, 4, 4, 4, 4, 4, 0, 4, 4, 4, 4, 4, 4, 4, 4, 0, 2, 4, 4, 4, 0, 2, 0, 2, 4, 4, 4, 4, 4, 4, 4, 4, 4, 4, 4, 4, 4, 0, 2, 4, 4, 4, 4, 4], \"yaxis\": \"y\"}],\n",
       "                        {\"legend\": {\"tracegroupgap\": 0}, \"margin\": {\"t\": 60}, \"template\": {\"data\": {\"bar\": [{\"error_x\": {\"color\": \"#2a3f5f\"}, \"error_y\": {\"color\": \"#2a3f5f\"}, \"marker\": {\"line\": {\"color\": \"#E5ECF6\", \"width\": 0.5}}, \"type\": \"bar\"}], \"barpolar\": [{\"marker\": {\"line\": {\"color\": \"#E5ECF6\", \"width\": 0.5}}, \"type\": \"barpolar\"}], \"carpet\": [{\"aaxis\": {\"endlinecolor\": \"#2a3f5f\", \"gridcolor\": \"white\", \"linecolor\": \"white\", \"minorgridcolor\": \"white\", \"startlinecolor\": \"#2a3f5f\"}, \"baxis\": {\"endlinecolor\": \"#2a3f5f\", \"gridcolor\": \"white\", \"linecolor\": \"white\", \"minorgridcolor\": \"white\", \"startlinecolor\": \"#2a3f5f\"}, \"type\": \"carpet\"}], \"choropleth\": [{\"colorbar\": {\"outlinewidth\": 0, \"ticks\": \"\"}, \"type\": \"choropleth\"}], \"contour\": [{\"colorbar\": {\"outlinewidth\": 0, \"ticks\": \"\"}, \"colorscale\": [[0.0, \"#0d0887\"], [0.1111111111111111, \"#46039f\"], [0.2222222222222222, \"#7201a8\"], [0.3333333333333333, \"#9c179e\"], [0.4444444444444444, \"#bd3786\"], [0.5555555555555556, \"#d8576b\"], [0.6666666666666666, \"#ed7953\"], [0.7777777777777778, \"#fb9f3a\"], [0.8888888888888888, \"#fdca26\"], [1.0, \"#f0f921\"]], \"type\": \"contour\"}], \"contourcarpet\": [{\"colorbar\": {\"outlinewidth\": 0, \"ticks\": \"\"}, \"type\": \"contourcarpet\"}], \"heatmap\": [{\"colorbar\": {\"outlinewidth\": 0, \"ticks\": \"\"}, \"colorscale\": [[0.0, \"#0d0887\"], [0.1111111111111111, \"#46039f\"], [0.2222222222222222, \"#7201a8\"], [0.3333333333333333, \"#9c179e\"], [0.4444444444444444, \"#bd3786\"], [0.5555555555555556, \"#d8576b\"], [0.6666666666666666, \"#ed7953\"], [0.7777777777777778, \"#fb9f3a\"], [0.8888888888888888, \"#fdca26\"], [1.0, \"#f0f921\"]], \"type\": \"heatmap\"}], \"heatmapgl\": [{\"colorbar\": {\"outlinewidth\": 0, \"ticks\": \"\"}, \"colorscale\": [[0.0, \"#0d0887\"], [0.1111111111111111, \"#46039f\"], [0.2222222222222222, \"#7201a8\"], [0.3333333333333333, \"#9c179e\"], [0.4444444444444444, \"#bd3786\"], [0.5555555555555556, \"#d8576b\"], [0.6666666666666666, \"#ed7953\"], [0.7777777777777778, \"#fb9f3a\"], [0.8888888888888888, \"#fdca26\"], [1.0, \"#f0f921\"]], \"type\": \"heatmapgl\"}], \"histogram\": [{\"marker\": {\"colorbar\": {\"outlinewidth\": 0, \"ticks\": \"\"}}, \"type\": \"histogram\"}], \"histogram2d\": [{\"colorbar\": {\"outlinewidth\": 0, \"ticks\": \"\"}, \"colorscale\": [[0.0, \"#0d0887\"], [0.1111111111111111, \"#46039f\"], [0.2222222222222222, \"#7201a8\"], [0.3333333333333333, \"#9c179e\"], [0.4444444444444444, \"#bd3786\"], [0.5555555555555556, \"#d8576b\"], [0.6666666666666666, \"#ed7953\"], [0.7777777777777778, \"#fb9f3a\"], [0.8888888888888888, \"#fdca26\"], [1.0, \"#f0f921\"]], \"type\": \"histogram2d\"}], \"histogram2dcontour\": [{\"colorbar\": {\"outlinewidth\": 0, \"ticks\": \"\"}, \"colorscale\": [[0.0, \"#0d0887\"], [0.1111111111111111, \"#46039f\"], [0.2222222222222222, \"#7201a8\"], [0.3333333333333333, \"#9c179e\"], [0.4444444444444444, \"#bd3786\"], [0.5555555555555556, \"#d8576b\"], [0.6666666666666666, \"#ed7953\"], [0.7777777777777778, \"#fb9f3a\"], [0.8888888888888888, \"#fdca26\"], [1.0, \"#f0f921\"]], \"type\": \"histogram2dcontour\"}], \"mesh3d\": [{\"colorbar\": {\"outlinewidth\": 0, \"ticks\": \"\"}, \"type\": \"mesh3d\"}], \"parcoords\": [{\"line\": {\"colorbar\": {\"outlinewidth\": 0, \"ticks\": \"\"}}, \"type\": \"parcoords\"}], \"pie\": [{\"automargin\": true, \"type\": \"pie\"}], \"scatter\": [{\"marker\": {\"colorbar\": {\"outlinewidth\": 0, \"ticks\": \"\"}}, \"type\": \"scatter\"}], \"scatter3d\": [{\"line\": {\"colorbar\": {\"outlinewidth\": 0, \"ticks\": \"\"}}, \"marker\": {\"colorbar\": {\"outlinewidth\": 0, \"ticks\": \"\"}}, \"type\": \"scatter3d\"}], \"scattercarpet\": [{\"marker\": {\"colorbar\": {\"outlinewidth\": 0, \"ticks\": \"\"}}, \"type\": \"scattercarpet\"}], \"scattergeo\": [{\"marker\": {\"colorbar\": {\"outlinewidth\": 0, \"ticks\": \"\"}}, \"type\": \"scattergeo\"}], \"scattergl\": [{\"marker\": {\"colorbar\": {\"outlinewidth\": 0, \"ticks\": \"\"}}, \"type\": \"scattergl\"}], \"scattermapbox\": [{\"marker\": {\"colorbar\": {\"outlinewidth\": 0, \"ticks\": \"\"}}, \"type\": \"scattermapbox\"}], \"scatterpolar\": [{\"marker\": {\"colorbar\": {\"outlinewidth\": 0, \"ticks\": \"\"}}, \"type\": \"scatterpolar\"}], \"scatterpolargl\": [{\"marker\": {\"colorbar\": {\"outlinewidth\": 0, \"ticks\": \"\"}}, \"type\": \"scatterpolargl\"}], \"scatterternary\": [{\"marker\": {\"colorbar\": {\"outlinewidth\": 0, \"ticks\": \"\"}}, \"type\": \"scatterternary\"}], \"surface\": [{\"colorbar\": {\"outlinewidth\": 0, \"ticks\": \"\"}, \"colorscale\": [[0.0, \"#0d0887\"], [0.1111111111111111, \"#46039f\"], [0.2222222222222222, \"#7201a8\"], [0.3333333333333333, \"#9c179e\"], [0.4444444444444444, \"#bd3786\"], [0.5555555555555556, \"#d8576b\"], [0.6666666666666666, \"#ed7953\"], [0.7777777777777778, \"#fb9f3a\"], [0.8888888888888888, \"#fdca26\"], [1.0, \"#f0f921\"]], \"type\": \"surface\"}], \"table\": [{\"cells\": {\"fill\": {\"color\": \"#EBF0F8\"}, \"line\": {\"color\": \"white\"}}, \"header\": {\"fill\": {\"color\": \"#C8D4E3\"}, \"line\": {\"color\": \"white\"}}, \"type\": \"table\"}]}, \"layout\": {\"annotationdefaults\": {\"arrowcolor\": \"#2a3f5f\", \"arrowhead\": 0, \"arrowwidth\": 1}, \"coloraxis\": {\"colorbar\": {\"outlinewidth\": 0, \"ticks\": \"\"}}, \"colorscale\": {\"diverging\": [[0, \"#8e0152\"], [0.1, \"#c51b7d\"], [0.2, \"#de77ae\"], [0.3, \"#f1b6da\"], [0.4, \"#fde0ef\"], [0.5, \"#f7f7f7\"], [0.6, \"#e6f5d0\"], [0.7, \"#b8e186\"], [0.8, \"#7fbc41\"], [0.9, \"#4d9221\"], [1, \"#276419\"]], \"sequential\": [[0.0, \"#0d0887\"], [0.1111111111111111, \"#46039f\"], [0.2222222222222222, \"#7201a8\"], [0.3333333333333333, \"#9c179e\"], [0.4444444444444444, \"#bd3786\"], [0.5555555555555556, \"#d8576b\"], [0.6666666666666666, \"#ed7953\"], [0.7777777777777778, \"#fb9f3a\"], [0.8888888888888888, \"#fdca26\"], [1.0, \"#f0f921\"]], \"sequentialminus\": [[0.0, \"#0d0887\"], [0.1111111111111111, \"#46039f\"], [0.2222222222222222, \"#7201a8\"], [0.3333333333333333, \"#9c179e\"], [0.4444444444444444, \"#bd3786\"], [0.5555555555555556, \"#d8576b\"], [0.6666666666666666, \"#ed7953\"], [0.7777777777777778, \"#fb9f3a\"], [0.8888888888888888, \"#fdca26\"], [1.0, \"#f0f921\"]]}, \"colorway\": [\"#636efa\", \"#EF553B\", \"#00cc96\", \"#ab63fa\", \"#FFA15A\", \"#19d3f3\", \"#FF6692\", \"#B6E880\", \"#FF97FF\", \"#FECB52\"], \"font\": {\"color\": \"#2a3f5f\"}, \"geo\": {\"bgcolor\": \"white\", \"lakecolor\": \"white\", \"landcolor\": \"#E5ECF6\", \"showlakes\": true, \"showland\": true, \"subunitcolor\": \"white\"}, \"hoverlabel\": {\"align\": \"left\"}, \"hovermode\": \"closest\", \"mapbox\": {\"style\": \"light\"}, \"paper_bgcolor\": \"white\", \"plot_bgcolor\": \"#E5ECF6\", \"polar\": {\"angularaxis\": {\"gridcolor\": \"white\", \"linecolor\": \"white\", \"ticks\": \"\"}, \"bgcolor\": \"#E5ECF6\", \"radialaxis\": {\"gridcolor\": \"white\", \"linecolor\": \"white\", \"ticks\": \"\"}}, \"scene\": {\"xaxis\": {\"backgroundcolor\": \"#E5ECF6\", \"gridcolor\": \"white\", \"gridwidth\": 2, \"linecolor\": \"white\", \"showbackground\": true, \"ticks\": \"\", \"zerolinecolor\": \"white\"}, \"yaxis\": {\"backgroundcolor\": \"#E5ECF6\", \"gridcolor\": \"white\", \"gridwidth\": 2, \"linecolor\": \"white\", \"showbackground\": true, \"ticks\": \"\", \"zerolinecolor\": \"white\"}, \"zaxis\": {\"backgroundcolor\": \"#E5ECF6\", \"gridcolor\": \"white\", \"gridwidth\": 2, \"linecolor\": \"white\", \"showbackground\": true, \"ticks\": \"\", \"zerolinecolor\": \"white\"}}, \"shapedefaults\": {\"line\": {\"color\": \"#2a3f5f\"}}, \"ternary\": {\"aaxis\": {\"gridcolor\": \"white\", \"linecolor\": \"white\", \"ticks\": \"\"}, \"baxis\": {\"gridcolor\": \"white\", \"linecolor\": \"white\", \"ticks\": \"\"}, \"bgcolor\": \"#E5ECF6\", \"caxis\": {\"gridcolor\": \"white\", \"linecolor\": \"white\", \"ticks\": \"\"}}, \"title\": {\"x\": 0.05}, \"xaxis\": {\"automargin\": true, \"gridcolor\": \"white\", \"linecolor\": \"white\", \"ticks\": \"\", \"title\": {\"standoff\": 15}, \"zerolinecolor\": \"white\", \"zerolinewidth\": 2}, \"yaxis\": {\"automargin\": true, \"gridcolor\": \"white\", \"linecolor\": \"white\", \"ticks\": \"\", \"title\": {\"standoff\": 15}, \"zerolinecolor\": \"white\", \"zerolinewidth\": 2}}}, \"xaxis\": {\"anchor\": \"y\", \"domain\": [0.0, 1.0], \"title\": {\"text\": \"clock\"}}, \"yaxis\": {\"anchor\": \"x\", \"domain\": [0.0, 1.0], \"title\": {\"text\": \"total\"}}},\n",
       "                        {\"responsive\": true}\n",
       "                    ).then(function(){\n",
       "                            \n",
       "var gd = document.getElementById('2288aa97-2fa1-4f52-898e-4cb426b2d60a');\n",
       "var x = new MutationObserver(function (mutations, observer) {{\n",
       "        var display = window.getComputedStyle(gd).display;\n",
       "        if (!display || display === 'none') {{\n",
       "            console.log([gd, 'removed!']);\n",
       "            Plotly.purge(gd);\n",
       "            observer.disconnect();\n",
       "        }}\n",
       "}});\n",
       "\n",
       "// Listen for the removal of the full notebook cells\n",
       "var notebookContainer = gd.closest('#notebook-container');\n",
       "if (notebookContainer) {{\n",
       "    x.observe(notebookContainer, {childList: true});\n",
       "}}\n",
       "\n",
       "// Listen for the clearing of the current output cell\n",
       "var outputEl = gd.closest('.output');\n",
       "if (outputEl) {{\n",
       "    x.observe(outputEl, {childList: true});\n",
       "}}\n",
       "\n",
       "                        })\n",
       "                };\n",
       "                });\n",
       "            </script>\n",
       "        </div>"
      ]
     },
     "metadata": {},
     "output_type": "display_data"
    }
   ],
   "source": [
    "fig = px.scatter(df, x='clock', y='total', color='robot', hover_data=['op','success'])\n",
    "fig.show()\n",
    "\n",
    "#fig.write_image(\"test.png\")\n",
    "#Image('test.png')"
   ]
  },
  {
   "cell_type": "code",
   "execution_count": 64,
   "metadata": {},
   "outputs": [
    {
     "data": {
      "text/plain": [
       "4.333190977102668"
      ]
     },
     "execution_count": 64,
     "metadata": {},
     "output_type": "execute_result"
    }
   ],
   "source": [
    "df[df[\"score\"] > 0][\"clock\"].std()"
   ]
  },
  {
   "cell_type": "code",
   "execution_count": 65,
   "metadata": {},
   "outputs": [
    {
     "data": {
      "text/plain": [
       "<matplotlib.axes._subplots.AxesSubplot at 0x12cc852d0>"
      ]
     },
     "execution_count": 65,
     "metadata": {},
     "output_type": "execute_result"
    },
    {
     "data": {
      "image/png": "[encoded data removed]",
      "text/plain": [
       "<Figure size 432x288 with 1 Axes>"
      ]
     },
     "metadata": {
      "needs_background": "light"
     },
     "output_type": "display_data"
    }
   ],
   "source": [
    "df[\"pput\"] = df[\"total\"] / df[\"clock\"]\n",
    "sns.boxplot(y='pput', x='robot', data=df)"
   ]
  },
  {
   "cell_type": "code",
   "execution_count": 100,
   "metadata": {
    "scrolled": false
   },
   "outputs": [
    {
     "data": {
      "application/vnd.plotly.v1+json": {
       "config": {
        "plotlyServerURL": "https://plot.ly"
       },
       "data": [
        {
         "alignmentgroup": "True",
         "boxpoints": "outliers",
         "customdata": [
          [
           0.30000000000000004,
           9.999999999999998
          ],
          [
           0.7999999999999999,
           3.7500000000000004
          ],
          [
           0.7,
           4.285714285714286
          ],
          [
           0.4,
           7.5
          ],
          [
           1.2,
           2.5
          ],
          [
           0.7999999999999999,
           3.7500000000000004
          ],
          [
           1.2,
           2.5
          ],
          [
           1.4000000000000001,
           2.142857142857143
          ],
          [
           1.0999999999999999,
           2.7272727272727275
          ],
          [
           0.7999999999999999,
           3.7500000000000004
          ],
          [
           0.6,
           5
          ],
          [
           0.7999999999999999,
           3.7500000000000004
          ],
          [
           1.4000000000000001,
           2.142857142857143
          ],
          [
           0.8999999999999999,
           3.3333333333333335
          ],
          [
           1.4000000000000001,
           2.142857142857143
          ],
          [
           0.8999999999999999,
           3.3333333333333335
          ],
          [
           1.9000000000000006,
           0
          ],
          [
           2.400000000000001,
           1.2499999999999996
          ],
          [
           0.8999999999999999,
           3.3333333333333335
          ],
          [
           0.5,
           6
          ],
          [
           1.0999999999999999,
           2.7272727272727275
          ],
          [
           0.9999999999999999,
           3.0000000000000004
          ],
          [
           0.7,
           4.285714285714286
          ],
          [
           0.7,
           4.285714285714286
          ],
          [
           1.8000000000000005,
           1.6666666666666663
          ],
          [
           0.6,
           5
          ],
          [
           1.3,
           2.3076923076923075
          ],
          [
           0.4,
           7.5
          ],
          [
           2.0000000000000004,
           1.4999999999999998
          ],
          [
           1.3,
           2.3076923076923075
          ],
          [
           1.3,
           2.3076923076923075
          ],
          [
           1.0999999999999999,
           2.7272727272727275
          ],
          [
           1.7000000000000004,
           1.7647058823529407
          ],
          [
           0.6,
           5
          ],
          [
           0.9999999999999999,
           3.0000000000000004
          ],
          [
           0.7999999999999999,
           3.7500000000000004
          ],
          [
           0.4,
           7.5
          ],
          [
           1.5000000000000002,
           1.9999999999999998
          ],
          [
           1.5000000000000002,
           1.9999999999999998
          ],
          [
           1.4000000000000001,
           2.142857142857143
          ],
          [
           0.7,
           4.285714285714286
          ],
          [
           1.5000000000000002,
           1.9999999999999998
          ],
          [
           1.3,
           2.3076923076923075
          ],
          [
           0.8999999999999999,
           3.3333333333333335
          ],
          [
           1.4000000000000001,
           2.142857142857143
          ],
          [
           0.7999999999999999,
           3.7500000000000004
          ],
          [
           0.8999999999999999,
           3.3333333333333335
          ],
          [
           0.8999999999999999,
           3.3333333333333335
          ],
          [
           1.0999999999999999,
           0
          ],
          [
           2.700000000000001,
           1.1111111111111107
          ],
          [
           0.7,
           4.285714285714286
          ],
          [
           0.6,
           5
          ],
          [
           0.7999999999999999,
           3.7500000000000004
          ],
          [
           0.2,
           15
          ],
          [
           0.9999999999999999,
           3.0000000000000004
          ],
          [
           0.6,
           5
          ],
          [
           0.4,
           7.5
          ],
          [
           1.2,
           2.5
          ],
          [
           1.9000000000000006,
           1.5789473684210522
          ],
          [
           2.1000000000000005,
           1.4285714285714282
          ],
          [
           1.8000000000000005,
           1.6666666666666663
          ],
          [
           0.6,
           5
          ],
          [
           1.5000000000000002,
           1.9999999999999998
          ],
          [
           0.8999999999999999,
           3.3333333333333335
          ],
          [
           0.4,
           7.5
          ],
          [
           1.2,
           2.5
          ],
          [
           0.9999999999999999,
           3.0000000000000004
          ],
          [
           0.5,
           6
          ],
          [
           1.7000000000000004,
           1.7647058823529407
          ],
          [
           0.7999999999999999,
           3.7500000000000004
          ],
          [
           1.2,
           2.5
          ],
          [
           0.7999999999999999,
           3.7500000000000004
          ],
          [
           1.2,
           2.5
          ],
          [
           1.8000000000000005,
           1.6666666666666663
          ],
          [
           1.2,
           2.5
          ],
          [
           0.1,
           0
          ],
          [
           1.2,
           2.5
          ],
          [
           1.2,
           2.5
          ],
          [
           0.8999999999999999,
           3.3333333333333335
          ],
          [
           0.5,
           6
          ],
          [
           1.7000000000000004,
           1.7647058823529407
          ],
          [
           0.4,
           7.5
          ],
          [
           1.4000000000000001,
           2.142857142857143
          ],
          [
           0.7,
           4.285714285714286
          ],
          [
           1.6000000000000003,
           1.8749999999999996
          ],
          [
           0.8999999999999999,
           3.3333333333333335
          ],
          [
           0.9999999999999999,
           3.0000000000000004
          ],
          [
           1.3,
           2.3076923076923075
          ],
          [
           0.8999999999999999,
           3.3333333333333335
          ],
          [
           0.30000000000000004,
           9.999999999999998
          ],
          [
           1.4000000000000001,
           2.142857142857143
          ],
          [
           0.6,
           5
          ],
          [
           1.2,
           0
          ],
          [
           2.600000000000001,
           1.1538461538461535
          ],
          [
           1.6000000000000003,
           1.8749999999999996
          ],
          [
           0.2,
           15
          ],
          [
           0.4,
           7.5
          ],
          [
           0.5,
           6
          ],
          [
           0.6,
           5
          ],
          [
           0.7999999999999999,
           3.7500000000000004
          ],
          [
           0.9999999999999999,
           3.0000000000000004
          ],
          [
           0.6,
           5
          ],
          [
           0.8999999999999999,
           3.3333333333333335
          ],
          [
           1.0999999999999999,
           2.7272727272727275
          ]
         ],
         "hoverlabel": {
          "namelength": 0
         },
         "hovertemplate": "=%{y}<br>PPUT=%{customdata[1]}<br>clock=%{customdata[0]}",
         "legendgroup": "=drive_off_hab1",
         "marker": {
          "color": "#636efa"
         },
         "name": "=drive_off_hab1",
         "notched": false,
         "offsetgroup": "=drive_off_hab1",
         "orientation": "h",
         "showlegend": true,
         "type": "box",
         "x": [
          9.999999999999998,
          3.7500000000000004,
          4.285714285714286,
          7.5,
          2.5,
          3.7500000000000004,
          2.5,
          2.142857142857143,
          2.7272727272727275,
          3.7500000000000004,
          5,
          3.7500000000000004,
          2.142857142857143,
          3.3333333333333335,
          2.142857142857143,
          3.3333333333333335,
          0,
          1.2499999999999996,
          3.3333333333333335,
          6,
          2.7272727272727275,
          3.0000000000000004,
          4.285714285714286,
          4.285714285714286,
          1.6666666666666663,
          5,
          2.3076923076923075,
          7.5,
          1.4999999999999998,
          2.3076923076923075,
          2.3076923076923075,
          2.7272727272727275,
          1.7647058823529407,
          5,
          3.0000000000000004,
          3.7500000000000004,
          7.5,
          1.9999999999999998,
          1.9999999999999998,
          2.142857142857143,
          4.285714285714286,
          1.9999999999999998,
          2.3076923076923075,
          3.3333333333333335,
          2.142857142857143,
          3.7500000000000004,
          3.3333333333333335,
          3.3333333333333335,
          0,
          1.1111111111111107,
          4.285714285714286,
          5,
          3.7500000000000004,
          15,
          3.0000000000000004,
          5,
          7.5,
          2.5,
          1.5789473684210522,
          1.4285714285714282,
          1.6666666666666663,
          5,
          1.9999999999999998,
          3.3333333333333335,
          7.5,
          2.5,
          3.0000000000000004,
          6,
          1.7647058823529407,
          3.7500000000000004,
          2.5,
          3.7500000000000004,
          2.5,
          1.6666666666666663,
          2.5,
          0,
          2.5,
          2.5,
          3.3333333333333335,
          6,
          1.7647058823529407,
          7.5,
          2.142857142857143,
          4.285714285714286,
          1.8749999999999996,
          3.3333333333333335,
          3.0000000000000004,
          2.3076923076923075,
          3.3333333333333335,
          9.999999999999998,
          2.142857142857143,
          5,
          0,
          1.1538461538461535,
          1.8749999999999996,
          15,
          7.5,
          6,
          5,
          3.7500000000000004,
          3.0000000000000004,
          5,
          3.3333333333333335,
          2.7272727272727275
         ],
         "x0": " ",
         "xaxis": "x",
         "y": [
          "drive_off_hab1",
          "drive_off_hab1",
          "drive_off_hab1",
          "drive_off_hab1",
          "drive_off_hab1",
          "drive_off_hab1",
          "drive_off_hab1",
          "drive_off_hab1",
          "drive_off_hab1",
          "drive_off_hab1",
          "drive_off_hab1",
          "drive_off_hab1",
          "drive_off_hab1",
          "drive_off_hab1",
          "drive_off_hab1",
          "drive_off_hab1",
          "drive_off_hab1",
          "drive_off_hab1",
          "drive_off_hab1",
          "drive_off_hab1",
          "drive_off_hab1",
          "drive_off_hab1",
          "drive_off_hab1",
          "drive_off_hab1",
          "drive_off_hab1",
          "drive_off_hab1",
          "drive_off_hab1",
          "drive_off_hab1",
          "drive_off_hab1",
          "drive_off_hab1",
          "drive_off_hab1",
          "drive_off_hab1",
          "drive_off_hab1",
          "drive_off_hab1",
          "drive_off_hab1",
          "drive_off_hab1",
          "drive_off_hab1",
          "drive_off_hab1",
          "drive_off_hab1",
          "drive_off_hab1",
          "drive_off_hab1",
          "drive_off_hab1",
          "drive_off_hab1",
          "drive_off_hab1",
          "drive_off_hab1",
          "drive_off_hab1",
          "drive_off_hab1",
          "drive_off_hab1",
          "drive_off_hab1",
          "drive_off_hab1",
          "drive_off_hab1",
          "drive_off_hab1",
          "drive_off_hab1",
          "drive_off_hab1",
          "drive_off_hab1",
          "drive_off_hab1",
          "drive_off_hab1",
          "drive_off_hab1",
          "drive_off_hab1",
          "drive_off_hab1",
          "drive_off_hab1",
          "drive_off_hab1",
          "drive_off_hab1",
          "drive_off_hab1",
          "drive_off_hab1",
          "drive_off_hab1",
          "drive_off_hab1",
          "drive_off_hab1",
          "drive_off_hab1",
          "drive_off_hab1",
          "drive_off_hab1",
          "drive_off_hab1",
          "drive_off_hab1",
          "drive_off_hab1",
          "drive_off_hab1",
          "drive_off_hab1",
          "drive_off_hab1",
          "drive_off_hab1",
          "drive_off_hab1",
          "drive_off_hab1",
          "drive_off_hab1",
          "drive_off_hab1",
          "drive_off_hab1",
          "drive_off_hab1",
          "drive_off_hab1",
          "drive_off_hab1",
          "drive_off_hab1",
          "drive_off_hab1",
          "drive_off_hab1",
          "drive_off_hab1",
          "drive_off_hab1",
          "drive_off_hab1",
          "drive_off_hab1",
          "drive_off_hab1",
          "drive_off_hab1",
          "drive_off_hab1",
          "drive_off_hab1",
          "drive_off_hab1",
          "drive_off_hab1",
          "drive_off_hab1",
          "drive_off_hab1",
          "drive_off_hab1",
          "drive_off_hab1",
          "drive_off_hab1"
         ],
         "y0": " ",
         "yaxis": "y"
        },
        {
         "alignmentgroup": "True",
         "boxpoints": "outliers",
         "customdata": [
          [
           0.5,
           12
          ],
          [
           0.7999999999999999,
           7.500000000000001
          ],
          [
           0.30000000000000004,
           19.999999999999996
          ],
          [
           0.8999999999999999,
           6.666666666666667
          ],
          [
           1.5000000000000002,
           3.9999999999999996
          ],
          [
           1.4000000000000001,
           4.285714285714286
          ],
          [
           1.8000000000000005,
           3.3333333333333326
          ],
          [
           1.7000000000000004,
           3.5294117647058814
          ],
          [
           0.5,
           12
          ],
          [
           0.7999999999999999,
           7.500000000000001
          ],
          [
           0.6,
           10
          ],
          [
           0.1,
           60
          ],
          [
           1.3,
           4.615384615384615
          ],
          [
           1.2,
           5
          ],
          [
           0.5,
           12
          ],
          [
           1.2,
           0
          ],
          [
           1.9000000000000006,
           3.1578947368421044
          ],
          [
           1.0999999999999999,
           5.454545454545455
          ],
          [
           0.4,
           15
          ],
          [
           0.6,
           10
          ],
          [
           1.2,
           5
          ],
          [
           0.7999999999999999,
           7.500000000000001
          ],
          [
           0.8999999999999999,
           6.666666666666667
          ],
          [
           0.6,
           10
          ],
          [
           1.6000000000000003,
           3.749999999999999
          ],
          [
           0.9999999999999999,
           6.000000000000001
          ],
          [
           1.8000000000000005,
           3.3333333333333326
          ],
          [
           1.4000000000000001,
           4.285714285714286
          ],
          [
           0.2,
           30
          ],
          [
           1.9000000000000006,
           3.1578947368421044
          ],
          [
           1.0999999999999999,
           5.454545454545455
          ],
          [
           1.4000000000000001,
           4.285714285714286
          ],
          [
           0.7999999999999999,
           7.500000000000001
          ],
          [
           0.5,
           12
          ],
          [
           1.5000000000000002,
           3.9999999999999996
          ],
          [
           1.4000000000000001,
           4.285714285714286
          ],
          [
           0.9999999999999999,
           6.000000000000001
          ],
          [
           0.7999999999999999,
           0
          ],
          [
           0.9999999999999999,
           6.000000000000001
          ],
          [
           2.2000000000000006,
           2.7272727272727266
          ],
          [
           0.4,
           15
          ],
          [
           1.7000000000000004,
           3.5294117647058814
          ],
          [
           1.7000000000000004,
           3.5294117647058814
          ],
          [
           1.4000000000000001,
           4.285714285714286
          ],
          [
           1.4000000000000001,
           4.285714285714286
          ],
          [
           1.8000000000000005,
           3.3333333333333326
          ],
          [
           1.3,
           4.615384615384615
          ],
          [
           1.5000000000000002,
           3.9999999999999996
          ],
          [
           0.6,
           10
          ],
          [
           0.7999999999999999,
           7.500000000000001
          ],
          [
           1.9000000000000006,
           3.1578947368421044
          ],
          [
           1.3,
           4.615384615384615
          ],
          [
           2.0000000000000004,
           2.9999999999999996
          ],
          [
           1.5000000000000002,
           3.9999999999999996
          ],
          [
           0.8999999999999999,
           6.666666666666667
          ],
          [
           1.0999999999999999,
           5.454545454545455
          ],
          [
           0.9999999999999999,
           6.000000000000001
          ],
          [
           0.8999999999999999,
           6.666666666666667
          ],
          [
           1.7000000000000004,
           3.5294117647058814
          ],
          [
           1.2,
           5
          ],
          [
           2.0000000000000004,
           2.9999999999999996
          ],
          [
           0.7999999999999999,
           7.500000000000001
          ],
          [
           1.2,
           5
          ],
          [
           0.5,
           0
          ],
          [
           2.600000000000001,
           2.307692307692307
          ],
          [
           0.9999999999999999,
           6.000000000000001
          ],
          [
           0.1,
           60
          ],
          [
           2.2000000000000006,
           2.7272727272727266
          ],
          [
           0.7999999999999999,
           7.500000000000001
          ],
          [
           0.8999999999999999,
           6.666666666666667
          ],
          [
           1.0999999999999999,
           5.454545454545455
          ],
          [
           1.6000000000000003,
           3.749999999999999
          ],
          [
           1.5000000000000002,
           3.9999999999999996
          ],
          [
           1.3,
           4.615384615384615
          ],
          [
           0.7,
           8.571428571428571
          ],
          [
           1.8000000000000005,
           3.3333333333333326
          ],
          [
           0.8999999999999999,
           6.666666666666667
          ],
          [
           0.9999999999999999,
           6.000000000000001
          ],
          [
           0.2,
           30
          ],
          [
           0.8999999999999999,
           0
          ],
          [
           1.8000000000000005,
           3.3333333333333326
          ],
          [
           0.9999999999999999,
           6.000000000000001
          ],
          [
           1.3,
           4.615384615384615
          ],
          [
           1.4000000000000001,
           4.285714285714286
          ],
          [
           2.0000000000000004,
           2.9999999999999996
          ],
          [
           2.2000000000000006,
           2.7272727272727266
          ],
          [
           0.8999999999999999,
           6.666666666666667
          ],
          [
           0.7,
           8.571428571428571
          ],
          [
           0.8999999999999999,
           6.666666666666667
          ],
          [
           1.3,
           4.615384615384615
          ],
          [
           1.0999999999999999,
           0
          ],
          [
           3.0000000000000013,
           1.9999999999999991
          ],
          [
           0.5,
           12
          ],
          [
           0.30000000000000004,
           19.999999999999996
          ],
          [
           0.5,
           12
          ],
          [
           1.2,
           0
          ],
          [
           3.1000000000000014,
           1.935483870967741
          ],
          [
           0.30000000000000004,
           19.999999999999996
          ],
          [
           0.9999999999999999,
           6.000000000000001
          ],
          [
           1.0999999999999999,
           5.454545454545455
          ],
          [
           0.7999999999999999,
           7.500000000000001
          ],
          [
           0.5,
           12
          ],
          [
           0.9999999999999999,
           6.000000000000001
          ],
          [
           1.6000000000000003,
           3.749999999999999
          ],
          [
           1.6000000000000003,
           3.749999999999999
          ],
          [
           1.9000000000000006,
           3.1578947368421044
          ]
         ],
         "hoverlabel": {
          "namelength": 0
         },
         "hovertemplate": "=%{y}<br>PPUT=%{customdata[1]}<br>clock=%{customdata[0]}",
         "legendgroup": "=drive_off_hab2",
         "marker": {
          "color": "#EF553B"
         },
         "name": "=drive_off_hab2",
         "notched": false,
         "offsetgroup": "=drive_off_hab2",
         "orientation": "h",
         "showlegend": true,
         "type": "box",
         "x": [
          12,
          7.500000000000001,
          19.999999999999996,
          6.666666666666667,
          3.9999999999999996,
          4.285714285714286,
          3.3333333333333326,
          3.5294117647058814,
          12,
          7.500000000000001,
          10,
          60,
          4.615384615384615,
          5,
          12,
          0,
          3.1578947368421044,
          5.454545454545455,
          15,
          10,
          5,
          7.500000000000001,
          6.666666666666667,
          10,
          3.749999999999999,
          6.000000000000001,
          3.3333333333333326,
          4.285714285714286,
          30,
          3.1578947368421044,
          5.454545454545455,
          4.285714285714286,
          7.500000000000001,
          12,
          3.9999999999999996,
          4.285714285714286,
          6.000000000000001,
          0,
          6.000000000000001,
          2.7272727272727266,
          15,
          3.5294117647058814,
          3.5294117647058814,
          4.285714285714286,
          4.285714285714286,
          3.3333333333333326,
          4.615384615384615,
          3.9999999999999996,
          10,
          7.500000000000001,
          3.1578947368421044,
          4.615384615384615,
          2.9999999999999996,
          3.9999999999999996,
          6.666666666666667,
          5.454545454545455,
          6.000000000000001,
          6.666666666666667,
          3.5294117647058814,
          5,
          2.9999999999999996,
          7.500000000000001,
          5,
          0,
          2.307692307692307,
          6.000000000000001,
          60,
          2.7272727272727266,
          7.500000000000001,
          6.666666666666667,
          5.454545454545455,
          3.749999999999999,
          3.9999999999999996,
          4.615384615384615,
          8.571428571428571,
          3.3333333333333326,
          6.666666666666667,
          6.000000000000001,
          30,
          0,
          3.3333333333333326,
          6.000000000000001,
          4.615384615384615,
          4.285714285714286,
          2.9999999999999996,
          2.7272727272727266,
          6.666666666666667,
          8.571428571428571,
          6.666666666666667,
          4.615384615384615,
          0,
          1.9999999999999991,
          12,
          19.999999999999996,
          12,
          0,
          1.935483870967741,
          19.999999999999996,
          6.000000000000001,
          5.454545454545455,
          7.500000000000001,
          12,
          6.000000000000001,
          3.749999999999999,
          3.749999999999999,
          3.1578947368421044
         ],
         "x0": " ",
         "xaxis": "x",
         "y": [
          "drive_off_hab2",
          "drive_off_hab2",
          "drive_off_hab2",
          "drive_off_hab2",
          "drive_off_hab2",
          "drive_off_hab2",
          "drive_off_hab2",
          "drive_off_hab2",
          "drive_off_hab2",
          "drive_off_hab2",
          "drive_off_hab2",
          "drive_off_hab2",
          "drive_off_hab2",
          "drive_off_hab2",
          "drive_off_hab2",
          "drive_off_hab2",
          "drive_off_hab2",
          "drive_off_hab2",
          "drive_off_hab2",
          "drive_off_hab2",
          "drive_off_hab2",
          "drive_off_hab2",
          "drive_off_hab2",
          "drive_off_hab2",
          "drive_off_hab2",
          "drive_off_hab2",
          "drive_off_hab2",
          "drive_off_hab2",
          "drive_off_hab2",
          "drive_off_hab2",
          "drive_off_hab2",
          "drive_off_hab2",
          "drive_off_hab2",
          "drive_off_hab2",
          "drive_off_hab2",
          "drive_off_hab2",
          "drive_off_hab2",
          "drive_off_hab2",
          "drive_off_hab2",
          "drive_off_hab2",
          "drive_off_hab2",
          "drive_off_hab2",
          "drive_off_hab2",
          "drive_off_hab2",
          "drive_off_hab2",
          "drive_off_hab2",
          "drive_off_hab2",
          "drive_off_hab2",
          "drive_off_hab2",
          "drive_off_hab2",
          "drive_off_hab2",
          "drive_off_hab2",
          "drive_off_hab2",
          "drive_off_hab2",
          "drive_off_hab2",
          "drive_off_hab2",
          "drive_off_hab2",
          "drive_off_hab2",
          "drive_off_hab2",
          "drive_off_hab2",
          "drive_off_hab2",
          "drive_off_hab2",
          "drive_off_hab2",
          "drive_off_hab2",
          "drive_off_hab2",
          "drive_off_hab2",
          "drive_off_hab2",
          "drive_off_hab2",
          "drive_off_hab2",
          "drive_off_hab2",
          "drive_off_hab2",
          "drive_off_hab2",
          "drive_off_hab2",
          "drive_off_hab2",
          "drive_off_hab2",
          "drive_off_hab2",
          "drive_off_hab2",
          "drive_off_hab2",
          "drive_off_hab2",
          "drive_off_hab2",
          "drive_off_hab2",
          "drive_off_hab2",
          "drive_off_hab2",
          "drive_off_hab2",
          "drive_off_hab2",
          "drive_off_hab2",
          "drive_off_hab2",
          "drive_off_hab2",
          "drive_off_hab2",
          "drive_off_hab2",
          "drive_off_hab2",
          "drive_off_hab2",
          "drive_off_hab2",
          "drive_off_hab2",
          "drive_off_hab2",
          "drive_off_hab2",
          "drive_off_hab2",
          "drive_off_hab2",
          "drive_off_hab2",
          "drive_off_hab2",
          "drive_off_hab2",
          "drive_off_hab2",
          "drive_off_hab2",
          "drive_off_hab2",
          "drive_off_hab2",
          "drive_off_hab2"
         ],
         "y0": " ",
         "yaxis": "y"
        },
        {
         "alignmentgroup": "True",
         "boxpoints": "outliers",
         "customdata": [
          [
           7.19999999999999,
           0.5555555555555562
          ],
          [
           9.099999999999984,
           0.43956043956044033
          ],
          [
           8.699999999999985,
           0.4597701149425295
          ],
          [
           4.000000000000002,
           0.9999999999999996
          ],
          [
           10.599999999999978,
           0.3773584905660385
          ],
          [
           8.599999999999985,
           0
          ],
          [
           14.899999999999963,
           0.26845637583892684
          ],
          [
           6.199999999999994,
           0
          ],
          [
           14.699999999999964,
           0.27210884353741566
          ],
          [
           7.999999999999988,
           0.5000000000000008
          ],
          [
           7.899999999999988,
           0.5063291139240514
          ],
          [
           7.599999999999989,
           0.526315789473685
          ],
          [
           6.8999999999999915,
           0.5797101449275369
          ],
          [
           7.19999999999999,
           0
          ],
          [
           17.999999999999986,
           0.1111111111111112
          ],
          [
           7.599999999999989,
           0.526315789473685
          ],
          [
           9.299999999999983,
           0
          ],
          [
           17.199999999999974,
           0.11627906976744204
          ],
          [
           10.599999999999978,
           0
          ],
          [
           17.799999999999983,
           0.11235955056179786
          ],
          [
           5.799999999999995,
           0.6896551724137937
          ],
          [
           8.099999999999987,
           0.49382716049382797
          ],
          [
           8.299999999999986,
           0
          ],
          [
           15.79999999999996,
           0.12658227848101297
          ],
          [
           2.700000000000001,
           1.481481481481481
          ],
          [
           4.999999999999998,
           0.8000000000000003
          ],
          [
           10.29999999999998,
           0.38834951456310757
          ],
          [
           10.999999999999977,
           0.3636363636363644
          ],
          [
           7.499999999999989,
           0.5333333333333341
          ],
          [
           12.89999999999997,
           0
          ],
          [
           22.700000000000053,
           0
          ],
          [
           7.19999999999999,
           0.5555555555555562
          ],
          [
           5.099999999999998,
           0
          ],
          [
           10.699999999999978,
           0
          ],
          [
           15.69999999999996,
           0.12738853503184747
          ],
          [
           6.699999999999992,
           0.597014925373135
          ],
          [
           6.399999999999993,
           0.6250000000000007
          ],
          [
           8.499999999999986,
           0.4705882352941184
          ],
          [
           7.899999999999988,
           0.5063291139240514
          ],
          [
           9.099999999999984,
           0.43956043956044033
          ],
          [
           6.8999999999999915,
           0.5797101449275369
          ],
          [
           4.899999999999999,
           0.8163265306122451
          ],
          [
           5.999999999999995,
           0
          ],
          [
           15.299999999999962,
           0.13071895424836635
          ],
          [
           11.299999999999976,
           0.3539823008849565
          ],
          [
           6.999999999999991,
           0.5714285714285722
          ],
          [
           5.599999999999996,
           0.7142857142857147
          ],
          [
           7.999999999999988,
           0.5000000000000008
          ],
          [
           7.39999999999999,
           0.5405405405405413
          ],
          [
           7.999999999999988,
           0.5000000000000008
          ],
          [
           4.799999999999999,
           0.8333333333333335
          ],
          [
           7.39999999999999,
           0.5405405405405413
          ],
          [
           9.699999999999982,
           0.41237113402061937
          ],
          [
           8.499999999999986,
           0.4705882352941184
          ],
          [
           8.899999999999984,
           0.4494382022471918
          ],
          [
           7.999999999999988,
           0.5000000000000008
          ],
          [
           7.499999999999989,
           0
          ],
          [
           15.59999999999996,
           0
          ],
          [
           7.899999999999988,
           0.5063291139240514
          ],
          [
           3.700000000000002,
           0
          ],
          [
           13.299999999999969,
           0.3007518796992488
          ],
          [
           8.099999999999987,
           0.49382716049382797
          ],
          [
           8.499999999999986,
           0
          ],
          [
           19.60000000000001,
           0
          ],
          [
           6.299999999999994,
           0
          ],
          [
           14.699999999999964,
           0.27210884353741566
          ],
          [
           8.899999999999984,
           0
          ],
          [
           15.399999999999961,
           0.1298701298701302
          ],
          [
           6.5999999999999925,
           0.6060606060606067
          ],
          [
           10.899999999999977,
           0.3669724770642209
          ],
          [
           9.89999999999998,
           0.4040404040404048
          ],
          [
           8.399999999999986,
           0.476190476190477
          ],
          [
           8.299999999999986,
           0.48192771084337427
          ],
          [
           8.599999999999985,
           0.4651162790697682
          ],
          [
           7.699999999999989,
           0.5194805194805202
          ],
          [
           7.499999999999989,
           0.5333333333333341
          ],
          [
           8.099999999999987,
           0.49382716049382797
          ],
          [
           8.399999999999986,
           0.476190476190477
          ],
          [
           9.599999999999982,
           0.41666666666666746
          ],
          [
           7.999999999999988,
           0.5000000000000008
          ],
          [
           11.399999999999975,
           0.3508771929824569
          ],
          [
           6.299999999999994,
           0.6349206349206356
          ],
          [
           8.699999999999985,
           0
          ],
          [
           14.899999999999963,
           0.26845637583892684
          ],
          [
           7.19999999999999,
           0.5555555555555562
          ],
          [
           6.5999999999999925,
           0.6060606060606067
          ],
          [
           8.699999999999985,
           0.4597701149425295
          ],
          [
           7.799999999999988,
           0.5128205128205136
          ],
          [
           10.399999999999979,
           0.3846153846153854
          ],
          [
           7.599999999999989,
           0.526315789473685
          ],
          [
           10.19999999999998,
           0.3921568627450988
          ],
          [
           6.999999999999991,
           0
          ],
          [
           17.69999999999998,
           0.112994350282486
          ],
          [
           8.299999999999986,
           0.48192771084337427
          ],
          [
           6.8999999999999915,
           0.5797101449275369
          ],
          [
           9.89999999999998,
           0.4040404040404048
          ],
          [
           7.799999999999988,
           0
          ],
          [
           19.60000000000001,
           0.10204081632653057
          ],
          [
           8.999999999999984,
           0
          ],
          [
           17.899999999999984,
           0.1117318435754191
          ],
          [
           5.399999999999997,
           0.7407407407407411
          ],
          [
           8.399999999999986,
           0.476190476190477
          ],
          [
           7.899999999999988,
           0.5063291139240514
          ],
          [
           8.299999999999986,
           0.48192771084337427
          ],
          [
           10.799999999999978,
           0.3703703703703711
          ],
          [
           5.1999999999999975,
           0.7692307692307696
          ],
          [
           5.899999999999995,
           0.6779661016949158
          ],
          [
           8.499999999999986,
           0.4705882352941184
          ],
          [
           8.899999999999984,
           0.4494382022471918
          ],
          [
           5.399999999999997,
           0.7407407407407411
          ],
          [
           6.099999999999994,
           0.6557377049180334
          ],
          [
           7.099999999999991,
           0.5633802816901415
          ],
          [
           6.5999999999999925,
           0.6060606060606067
          ],
          [
           9.199999999999983,
           0
          ],
          [
           16.89999999999997,
           0.1183431952662724
          ],
          [
           8.099999999999987,
           0.49382716049382797
          ],
          [
           8.799999999999985,
           0.4545454545454553
          ],
          [
           7.899999999999988,
           0.5063291139240514
          ],
          [
           7.999999999999988,
           0.5000000000000008
          ],
          [
           6.999999999999991,
           0.5714285714285722
          ]
         ],
         "hoverlabel": {
          "namelength": 0
         },
         "hovertemplate": "=%{y}<br>PPUT=%{customdata[1]}<br>clock=%{customdata[0]}",
         "legendgroup": "=Hatch Pannel low near rocket",
         "marker": {
          "color": "#00cc96"
         },
         "name": "=Hatch Pannel low near rocket",
         "notched": false,
         "offsetgroup": "=Hatch Pannel low near rocket",
         "orientation": "h",
         "showlegend": true,
         "type": "box",
         "x": [
          0.5555555555555562,
          0.43956043956044033,
          0.4597701149425295,
          0.9999999999999996,
          0.3773584905660385,
          0,
          0.26845637583892684,
          0,
          0.27210884353741566,
          0.5000000000000008,
          0.5063291139240514,
          0.526315789473685,
          0.5797101449275369,
          0,
          0.1111111111111112,
          0.526315789473685,
          0,
          0.11627906976744204,
          0,
          0.11235955056179786,
          0.6896551724137937,
          0.49382716049382797,
          0,
          0.12658227848101297,
          1.481481481481481,
          0.8000000000000003,
          0.38834951456310757,
          0.3636363636363644,
          0.5333333333333341,
          0,
          0,
          0.5555555555555562,
          0,
          0,
          0.12738853503184747,
          0.597014925373135,
          0.6250000000000007,
          0.4705882352941184,
          0.5063291139240514,
          0.43956043956044033,
          0.5797101449275369,
          0.8163265306122451,
          0,
          0.13071895424836635,
          0.3539823008849565,
          0.5714285714285722,
          0.7142857142857147,
          0.5000000000000008,
          0.5405405405405413,
          0.5000000000000008,
          0.8333333333333335,
          0.5405405405405413,
          0.41237113402061937,
          0.4705882352941184,
          0.4494382022471918,
          0.5000000000000008,
          0,
          0,
          0.5063291139240514,
          0,
          0.3007518796992488,
          0.49382716049382797,
          0,
          0,
          0,
          0.27210884353741566,
          0,
          0.1298701298701302,
          0.6060606060606067,
          0.3669724770642209,
          0.4040404040404048,
          0.476190476190477,
          0.48192771084337427,
          0.4651162790697682,
          0.5194805194805202,
          0.5333333333333341,
          0.49382716049382797,
          0.476190476190477,
          0.41666666666666746,
          0.5000000000000008,
          0.3508771929824569,
          0.6349206349206356,
          0,
          0.26845637583892684,
          0.5555555555555562,
          0.6060606060606067,
          0.4597701149425295,
          0.5128205128205136,
          0.3846153846153854,
          0.526315789473685,
          0.3921568627450988,
          0,
          0.112994350282486,
          0.48192771084337427,
          0.5797101449275369,
          0.4040404040404048,
          0,
          0.10204081632653057,
          0,
          0.1117318435754191,
          0.7407407407407411,
          0.476190476190477,
          0.5063291139240514,
          0.48192771084337427,
          0.3703703703703711,
          0.7692307692307696,
          0.6779661016949158,
          0.4705882352941184,
          0.4494382022471918,
          0.7407407407407411,
          0.6557377049180334,
          0.5633802816901415,
          0.6060606060606067,
          0,
          0.1183431952662724,
          0.49382716049382797,
          0.4545454545454553,
          0.5063291139240514,
          0.5000000000000008,
          0.5714285714285722
         ],
         "x0": " ",
         "xaxis": "x",
         "y": [
          "Hatch Pannel low near rocket",
          "Hatch Pannel low near rocket",
          "Hatch Pannel low near rocket",
          "Hatch Pannel low near rocket",
          "Hatch Pannel low near rocket",
          "Hatch Pannel low near rocket",
          "Hatch Pannel low near rocket",
          "Hatch Pannel low near rocket",
          "Hatch Pannel low near rocket",
          "Hatch Pannel low near rocket",
          "Hatch Pannel low near rocket",
          "Hatch Pannel low near rocket",
          "Hatch Pannel low near rocket",
          "Hatch Pannel low near rocket",
          "Hatch Pannel low near rocket",
          "Hatch Pannel low near rocket",
          "Hatch Pannel low near rocket",
          "Hatch Pannel low near rocket",
          "Hatch Pannel low near rocket",
          "Hatch Pannel low near rocket",
          "Hatch Pannel low near rocket",
          "Hatch Pannel low near rocket",
          "Hatch Pannel low near rocket",
          "Hatch Pannel low near rocket",
          "Hatch Pannel low near rocket",
          "Hatch Pannel low near rocket",
          "Hatch Pannel low near rocket",
          "Hatch Pannel low near rocket",
          "Hatch Pannel low near rocket",
          "Hatch Pannel low near rocket",
          "Hatch Pannel low near rocket",
          "Hatch Pannel low near rocket",
          "Hatch Pannel low near rocket",
          "Hatch Pannel low near rocket",
          "Hatch Pannel low near rocket",
          "Hatch Pannel low near rocket",
          "Hatch Pannel low near rocket",
          "Hatch Pannel low near rocket",
          "Hatch Pannel low near rocket",
          "Hatch Pannel low near rocket",
          "Hatch Pannel low near rocket",
          "Hatch Pannel low near rocket",
          "Hatch Pannel low near rocket",
          "Hatch Pannel low near rocket",
          "Hatch Pannel low near rocket",
          "Hatch Pannel low near rocket",
          "Hatch Pannel low near rocket",
          "Hatch Pannel low near rocket",
          "Hatch Pannel low near rocket",
          "Hatch Pannel low near rocket",
          "Hatch Pannel low near rocket",
          "Hatch Pannel low near rocket",
          "Hatch Pannel low near rocket",
          "Hatch Pannel low near rocket",
          "Hatch Pannel low near rocket",
          "Hatch Pannel low near rocket",
          "Hatch Pannel low near rocket",
          "Hatch Pannel low near rocket",
          "Hatch Pannel low near rocket",
          "Hatch Pannel low near rocket",
          "Hatch Pannel low near rocket",
          "Hatch Pannel low near rocket",
          "Hatch Pannel low near rocket",
          "Hatch Pannel low near rocket",
          "Hatch Pannel low near rocket",
          "Hatch Pannel low near rocket",
          "Hatch Pannel low near rocket",
          "Hatch Pannel low near rocket",
          "Hatch Pannel low near rocket",
          "Hatch Pannel low near rocket",
          "Hatch Pannel low near rocket",
          "Hatch Pannel low near rocket",
          "Hatch Pannel low near rocket",
          "Hatch Pannel low near rocket",
          "Hatch Pannel low near rocket",
          "Hatch Pannel low near rocket",
          "Hatch Pannel low near rocket",
          "Hatch Pannel low near rocket",
          "Hatch Pannel low near rocket",
          "Hatch Pannel low near rocket",
          "Hatch Pannel low near rocket",
          "Hatch Pannel low near rocket",
          "Hatch Pannel low near rocket",
          "Hatch Pannel low near rocket",
          "Hatch Pannel low near rocket",
          "Hatch Pannel low near rocket",
          "Hatch Pannel low near rocket",
          "Hatch Pannel low near rocket",
          "Hatch Pannel low near rocket",
          "Hatch Pannel low near rocket",
          "Hatch Pannel low near rocket",
          "Hatch Pannel low near rocket",
          "Hatch Pannel low near rocket",
          "Hatch Pannel low near rocket",
          "Hatch Pannel low near rocket",
          "Hatch Pannel low near rocket",
          "Hatch Pannel low near rocket",
          "Hatch Pannel low near rocket",
          "Hatch Pannel low near rocket",
          "Hatch Pannel low near rocket",
          "Hatch Pannel low near rocket",
          "Hatch Pannel low near rocket",
          "Hatch Pannel low near rocket",
          "Hatch Pannel low near rocket",
          "Hatch Pannel low near rocket",
          "Hatch Pannel low near rocket",
          "Hatch Pannel low near rocket",
          "Hatch Pannel low near rocket",
          "Hatch Pannel low near rocket",
          "Hatch Pannel low near rocket",
          "Hatch Pannel low near rocket",
          "Hatch Pannel low near rocket",
          "Hatch Pannel low near rocket",
          "Hatch Pannel low near rocket",
          "Hatch Pannel low near rocket",
          "Hatch Pannel low near rocket",
          "Hatch Pannel low near rocket",
          "Hatch Pannel low near rocket",
          "Hatch Pannel low near rocket",
          "Hatch Pannel low near rocket"
         ],
         "y0": " ",
         "yaxis": "y"
        }
       ],
       "layout": {
        "boxmode": "group",
        "legend": {
         "tracegroupgap": 0,
         "x": 0,
         "y": -0.3
        },
        "template": {
         "data": {
          "bar": [
           {
            "error_x": {
             "color": "#2a3f5f"
            },
            "error_y": {
             "color": "#2a3f5f"
            },
            "marker": {
             "line": {
              "color": "#E5ECF6",
              "width": 0.5
             }
            },
            "type": "bar"
           }
          ],
          "barpolar": [
           {
            "marker": {
             "line": {
              "color": "#E5ECF6",
              "width": 0.5
             }
            },
            "type": "barpolar"
           }
          ],
          "carpet": [
           {
            "aaxis": {
             "endlinecolor": "#2a3f5f",
             "gridcolor": "white",
             "linecolor": "white",
             "minorgridcolor": "white",
             "startlinecolor": "#2a3f5f"
            },
            "baxis": {
             "endlinecolor": "#2a3f5f",
             "gridcolor": "white",
             "linecolor": "white",
             "minorgridcolor": "white",
             "startlinecolor": "#2a3f5f"
            },
            "type": "carpet"
           }
          ],
          "choropleth": [
           {
            "colorbar": {
             "outlinewidth": 0,
             "ticks": ""
            },
            "type": "choropleth"
           }
          ],
          "contour": [
           {
            "colorbar": {
             "outlinewidth": 0,
             "ticks": ""
            },
            "colorscale": [
             [
              0,
              "#0d0887"
             ],
             [
              0.1111111111111111,
              "#46039f"
             ],
             [
              0.2222222222222222,
              "#7201a8"
             ],
             [
              0.3333333333333333,
              "#9c179e"
             ],
             [
              0.4444444444444444,
              "#bd3786"
             ],
             [
              0.5555555555555556,
              "#d8576b"
             ],
             [
              0.6666666666666666,
              "#ed7953"
             ],
             [
              0.7777777777777778,
              "#fb9f3a"
             ],
             [
              0.8888888888888888,
              "#fdca26"
             ],
             [
              1,
              "#f0f921"
             ]
            ],
            "type": "contour"
           }
          ],
          "contourcarpet": [
           {
            "colorbar": {
             "outlinewidth": 0,
             "ticks": ""
            },
            "type": "contourcarpet"
           }
          ],
          "heatmap": [
           {
            "colorbar": {
             "outlinewidth": 0,
             "ticks": ""
            },
            "colorscale": [
             [
              0,
              "#0d0887"
             ],
             [
              0.1111111111111111,
              "#46039f"
             ],
             [
              0.2222222222222222,
              "#7201a8"
             ],
             [
              0.3333333333333333,
              "#9c179e"
             ],
             [
              0.4444444444444444,
              "#bd3786"
             ],
             [
              0.5555555555555556,
              "#d8576b"
             ],
             [
              0.6666666666666666,
              "#ed7953"
             ],
             [
              0.7777777777777778,
              "#fb9f3a"
             ],
             [
              0.8888888888888888,
              "#fdca26"
             ],
             [
              1,
              "#f0f921"
             ]
            ],
            "type": "heatmap"
           }
          ],
          "heatmapgl": [
           {
            "colorbar": {
             "outlinewidth": 0,
             "ticks": ""
            },
            "colorscale": [
             [
              0,
              "#0d0887"
             ],
             [
              0.1111111111111111,
              "#46039f"
             ],
             [
              0.2222222222222222,
              "#7201a8"
             ],
             [
              0.3333333333333333,
              "#9c179e"
             ],
             [
              0.4444444444444444,
              "#bd3786"
             ],
             [
              0.5555555555555556,
              "#d8576b"
             ],
             [
              0.6666666666666666,
              "#ed7953"
             ],
             [
              0.7777777777777778,
              "#fb9f3a"
             ],
             [
              0.8888888888888888,
              "#fdca26"
             ],
             [
              1,
              "#f0f921"
             ]
            ],
            "type": "heatmapgl"
           }
          ],
          "histogram": [
           {
            "marker": {
             "colorbar": {
              "outlinewidth": 0,
              "ticks": ""
             }
            },
            "type": "histogram"
           }
          ],
          "histogram2d": [
           {
            "colorbar": {
             "outlinewidth": 0,
             "ticks": ""
            },
            "colorscale": [
             [
              0,
              "#0d0887"
             ],
             [
              0.1111111111111111,
              "#46039f"
             ],
             [
              0.2222222222222222,
              "#7201a8"
             ],
             [
              0.3333333333333333,
              "#9c179e"
             ],
             [
              0.4444444444444444,
              "#bd3786"
             ],
             [
              0.5555555555555556,
              "#d8576b"
             ],
             [
              0.6666666666666666,
              "#ed7953"
             ],
             [
              0.7777777777777778,
              "#fb9f3a"
             ],
             [
              0.8888888888888888,
              "#fdca26"
             ],
             [
              1,
              "#f0f921"
             ]
            ],
            "type": "histogram2d"
           }
          ],
          "histogram2dcontour": [
           {
            "colorbar": {
             "outlinewidth": 0,
             "ticks": ""
            },
            "colorscale": [
             [
              0,
              "#0d0887"
             ],
             [
              0.1111111111111111,
              "#46039f"
             ],
             [
              0.2222222222222222,
              "#7201a8"
             ],
             [
              0.3333333333333333,
              "#9c179e"
             ],
             [
              0.4444444444444444,
              "#bd3786"
             ],
             [
              0.5555555555555556,
              "#d8576b"
             ],
             [
              0.6666666666666666,
              "#ed7953"
             ],
             [
              0.7777777777777778,
              "#fb9f3a"
             ],
             [
              0.8888888888888888,
              "#fdca26"
             ],
             [
              1,
              "#f0f921"
             ]
            ],
            "type": "histogram2dcontour"
           }
          ],
          "mesh3d": [
           {
            "colorbar": {
             "outlinewidth": 0,
             "ticks": ""
            },
            "type": "mesh3d"
           }
          ],
          "parcoords": [
           {
            "line": {
             "colorbar": {
              "outlinewidth": 0,
              "ticks": ""
             }
            },
            "type": "parcoords"
           }
          ],
          "pie": [
           {
            "automargin": true,
            "type": "pie"
           }
          ],
          "scatter": [
           {
            "marker": {
             "colorbar": {
              "outlinewidth": 0,
              "ticks": ""
             }
            },
            "type": "scatter"
           }
          ],
          "scatter3d": [
           {
            "line": {
             "colorbar": {
              "outlinewidth": 0,
              "ticks": ""
             }
            },
            "marker": {
             "colorbar": {
              "outlinewidth": 0,
              "ticks": ""
             }
            },
            "type": "scatter3d"
           }
          ],
          "scattercarpet": [
           {
            "marker": {
             "colorbar": {
              "outlinewidth": 0,
              "ticks": ""
             }
            },
            "type": "scattercarpet"
           }
          ],
          "scattergeo": [
           {
            "marker": {
             "colorbar": {
              "outlinewidth": 0,
              "ticks": ""
             }
            },
            "type": "scattergeo"
           }
          ],
          "scattergl": [
           {
            "marker": {
             "colorbar": {
              "outlinewidth": 0,
              "ticks": ""
             }
            },
            "type": "scattergl"
           }
          ],
          "scattermapbox": [
           {
            "marker": {
             "colorbar": {
              "outlinewidth": 0,
              "ticks": ""
             }
            },
            "type": "scattermapbox"
           }
          ],
          "scatterpolar": [
           {
            "marker": {
             "colorbar": {
              "outlinewidth": 0,
              "ticks": ""
             }
            },
            "type": "scatterpolar"
           }
          ],
          "scatterpolargl": [
           {
            "marker": {
             "colorbar": {
              "outlinewidth": 0,
              "ticks": ""
             }
            },
            "type": "scatterpolargl"
           }
          ],
          "scatterternary": [
           {
            "marker": {
             "colorbar": {
              "outlinewidth": 0,
              "ticks": ""
             }
            },
            "type": "scatterternary"
           }
          ],
          "surface": [
           {
            "colorbar": {
             "outlinewidth": 0,
             "ticks": ""
            },
            "colorscale": [
             [
              0,
              "#0d0887"
             ],
             [
              0.1111111111111111,
              "#46039f"
             ],
             [
              0.2222222222222222,
              "#7201a8"
             ],
             [
              0.3333333333333333,
              "#9c179e"
             ],
             [
              0.4444444444444444,
              "#bd3786"
             ],
             [
              0.5555555555555556,
              "#d8576b"
             ],
             [
              0.6666666666666666,
              "#ed7953"
             ],
             [
              0.7777777777777778,
              "#fb9f3a"
             ],
             [
              0.8888888888888888,
              "#fdca26"
             ],
             [
              1,
              "#f0f921"
             ]
            ],
            "type": "surface"
           }
          ],
          "table": [
           {
            "cells": {
             "fill": {
              "color": "#EBF0F8"
             },
             "line": {
              "color": "white"
             }
            },
            "header": {
             "fill": {
              "color": "#C8D4E3"
             },
             "line": {
              "color": "white"
             }
            },
            "type": "table"
           }
          ]
         },
         "layout": {
          "annotationdefaults": {
           "arrowcolor": "#2a3f5f",
           "arrowhead": 0,
           "arrowwidth": 1
          },
          "coloraxis": {
           "colorbar": {
            "outlinewidth": 0,
            "ticks": ""
           }
          },
          "colorscale": {
           "diverging": [
            [
             0,
             "#8e0152"
            ],
            [
             0.1,
             "#c51b7d"
            ],
            [
             0.2,
             "#de77ae"
            ],
            [
             0.3,
             "#f1b6da"
            ],
            [
             0.4,
             "#fde0ef"
            ],
            [
             0.5,
             "#f7f7f7"
            ],
            [
             0.6,
             "#e6f5d0"
            ],
            [
             0.7,
             "#b8e186"
            ],
            [
             0.8,
             "#7fbc41"
            ],
            [
             0.9,
             "#4d9221"
            ],
            [
             1,
             "#276419"
            ]
           ],
           "sequential": [
            [
             0,
             "#0d0887"
            ],
            [
             0.1111111111111111,
             "#46039f"
            ],
            [
             0.2222222222222222,
             "#7201a8"
            ],
            [
             0.3333333333333333,
             "#9c179e"
            ],
            [
             0.4444444444444444,
             "#bd3786"
            ],
            [
             0.5555555555555556,
             "#d8576b"
            ],
            [
             0.6666666666666666,
             "#ed7953"
            ],
            [
             0.7777777777777778,
             "#fb9f3a"
            ],
            [
             0.8888888888888888,
             "#fdca26"
            ],
            [
             1,
             "#f0f921"
            ]
           ],
           "sequentialminus": [
            [
             0,
             "#0d0887"
            ],
            [
             0.1111111111111111,
             "#46039f"
            ],
            [
             0.2222222222222222,
             "#7201a8"
            ],
            [
             0.3333333333333333,
             "#9c179e"
            ],
            [
             0.4444444444444444,
             "#bd3786"
            ],
            [
             0.5555555555555556,
             "#d8576b"
            ],
            [
             0.6666666666666666,
             "#ed7953"
            ],
            [
             0.7777777777777778,
             "#fb9f3a"
            ],
            [
             0.8888888888888888,
             "#fdca26"
            ],
            [
             1,
             "#f0f921"
            ]
           ]
          },
          "colorway": [
           "#636efa",
           "#EF553B",
           "#00cc96",
           "#ab63fa",
           "#FFA15A",
           "#19d3f3",
           "#FF6692",
           "#B6E880",
           "#FF97FF",
           "#FECB52"
          ],
          "font": {
           "color": "#2a3f5f"
          },
          "geo": {
           "bgcolor": "white",
           "lakecolor": "white",
           "landcolor": "#E5ECF6",
           "showlakes": true,
           "showland": true,
           "subunitcolor": "white"
          },
          "hoverlabel": {
           "align": "left"
          },
          "hovermode": "closest",
          "mapbox": {
           "style": "light"
          },
          "paper_bgcolor": "white",
          "plot_bgcolor": "#E5ECF6",
          "polar": {
           "angularaxis": {
            "gridcolor": "white",
            "linecolor": "white",
            "ticks": ""
           },
           "bgcolor": "#E5ECF6",
           "radialaxis": {
            "gridcolor": "white",
            "linecolor": "white",
            "ticks": ""
           }
          },
          "scene": {
           "xaxis": {
            "backgroundcolor": "#E5ECF6",
            "gridcolor": "white",
            "gridwidth": 2,
            "linecolor": "white",
            "showbackground": true,
            "ticks": "",
            "zerolinecolor": "white"
           },
           "yaxis": {
            "backgroundcolor": "#E5ECF6",
            "gridcolor": "white",
            "gridwidth": 2,
            "linecolor": "white",
            "showbackground": true,
            "ticks": "",
            "zerolinecolor": "white"
           },
           "zaxis": {
            "backgroundcolor": "#E5ECF6",
            "gridcolor": "white",
            "gridwidth": 2,
            "linecolor": "white",
            "showbackground": true,
            "ticks": "",
            "zerolinecolor": "white"
           }
          },
          "shapedefaults": {
           "line": {
            "color": "#2a3f5f"
           }
          },
          "ternary": {
           "aaxis": {
            "gridcolor": "white",
            "linecolor": "white",
            "ticks": ""
           },
           "baxis": {
            "gridcolor": "white",
            "linecolor": "white",
            "ticks": ""
           },
           "bgcolor": "#E5ECF6",
           "caxis": {
            "gridcolor": "white",
            "linecolor": "white",
            "ticks": ""
           }
          },
          "title": {
           "x": 0.05
          },
          "xaxis": {
           "automargin": true,
           "gridcolor": "white",
           "linecolor": "white",
           "ticks": "",
           "title": {
            "standoff": 15
           },
           "zerolinecolor": "white",
           "zerolinewidth": 2
          },
          "yaxis": {
           "automargin": true,
           "gridcolor": "white",
           "linecolor": "white",
           "ticks": "",
           "title": {
            "standoff": 15
           },
           "zerolinecolor": "white",
           "zerolinewidth": 2
          }
         }
        },
        "title": {
         "text": "PPUT by Action"
        },
        "xaxis": {
         "anchor": "y",
         "domain": [
          0,
          1
         ],
         "title": {
          "text": "PPUT"
         }
        },
        "yaxis": {
         "anchor": "x",
         "categoryarray": [
          "Hatch Pannel low near rocket",
          "drive_off_hab2",
          "drive_off_hab1"
         ],
         "categoryorder": "array",
         "domain": [
          0,
          1
         ],
         "title": {
          "text": ""
         }
        }
       }
      },
      "text/html": [
       "<div>\n",
       "        \n",
       "        \n",
       "            <div id=\"11f4e778-21ab-4006-aafd-20a698ef67f0\" class=\"plotly-graph-div\" style=\"height:525px; width:100%;\"></div>\n",
       "            <script type=\"text/javascript\">\n",
       "                require([\"plotly\"], function(Plotly) {\n",
       "                    window.PLOTLYENV=window.PLOTLYENV || {};\n",
       "                    \n",
       "                if (document.getElementById(\"11f4e778-21ab-4006-aafd-20a698ef67f0\")) {\n",
       "                    Plotly.newPlot(\n",
       "                        '11f4e778-21ab-4006-aafd-20a698ef67f0',\n",
       "                        [{\"alignmentgroup\": \"True\", \"boxpoints\": \"outliers\", \"customdata\": [[0.30000000000000004, 9.999999999999998], [0.7999999999999999, 3.7500000000000004], [0.7, 4.285714285714286], [0.4, 7.5], [1.2, 2.5], [0.7999999999999999, 3.7500000000000004], [1.2, 2.5], [1.4000000000000001, 2.142857142857143], [1.0999999999999999, 2.7272727272727275], [0.7999999999999999, 3.7500000000000004], [0.6, 5.0], [0.7999999999999999, 3.7500000000000004], [1.4000000000000001, 2.142857142857143], [0.8999999999999999, 3.3333333333333335], [1.4000000000000001, 2.142857142857143], [0.8999999999999999, 3.3333333333333335], [1.9000000000000006, 0.0], [2.400000000000001, 1.2499999999999996], [0.8999999999999999, 3.3333333333333335], [0.5, 6.0], [1.0999999999999999, 2.7272727272727275], [0.9999999999999999, 3.0000000000000004], [0.7, 4.285714285714286], [0.7, 4.285714285714286], [1.8000000000000005, 1.6666666666666663], [0.6, 5.0], [1.3, 2.3076923076923075], [0.4, 7.5], [2.0000000000000004, 1.4999999999999998], [1.3, 2.3076923076923075], [1.3, 2.3076923076923075], [1.0999999999999999, 2.7272727272727275], [1.7000000000000004, 1.7647058823529407], [0.6, 5.0], [0.9999999999999999, 3.0000000000000004], [0.7999999999999999, 3.7500000000000004], [0.4, 7.5], [1.5000000000000002, 1.9999999999999998], [1.5000000000000002, 1.9999999999999998], [1.4000000000000001, 2.142857142857143], [0.7, 4.285714285714286], [1.5000000000000002, 1.9999999999999998], [1.3, 2.3076923076923075], [0.8999999999999999, 3.3333333333333335], [1.4000000000000001, 2.142857142857143], [0.7999999999999999, 3.7500000000000004], [0.8999999999999999, 3.3333333333333335], [0.8999999999999999, 3.3333333333333335], [1.0999999999999999, 0.0], [2.700000000000001, 1.1111111111111107], [0.7, 4.285714285714286], [0.6, 5.0], [0.7999999999999999, 3.7500000000000004], [0.2, 15.0], [0.9999999999999999, 3.0000000000000004], [0.6, 5.0], [0.4, 7.5], [1.2, 2.5], [1.9000000000000006, 1.5789473684210522], [2.1000000000000005, 1.4285714285714282], [1.8000000000000005, 1.6666666666666663], [0.6, 5.0], [1.5000000000000002, 1.9999999999999998], [0.8999999999999999, 3.3333333333333335], [0.4, 7.5], [1.2, 2.5], [0.9999999999999999, 3.0000000000000004], [0.5, 6.0], [1.7000000000000004, 1.7647058823529407], [0.7999999999999999, 3.7500000000000004], [1.2, 2.5], [0.7999999999999999, 3.7500000000000004], [1.2, 2.5], [1.8000000000000005, 1.6666666666666663], [1.2, 2.5], [0.1, 0.0], [1.2, 2.5], [1.2, 2.5], [0.8999999999999999, 3.3333333333333335], [0.5, 6.0], [1.7000000000000004, 1.7647058823529407], [0.4, 7.5], [1.4000000000000001, 2.142857142857143], [0.7, 4.285714285714286], [1.6000000000000003, 1.8749999999999996], [0.8999999999999999, 3.3333333333333335], [0.9999999999999999, 3.0000000000000004], [1.3, 2.3076923076923075], [0.8999999999999999, 3.3333333333333335], [0.30000000000000004, 9.999999999999998], [1.4000000000000001, 2.142857142857143], [0.6, 5.0], [1.2, 0.0], [2.600000000000001, 1.1538461538461535], [1.6000000000000003, 1.8749999999999996], [0.2, 15.0], [0.4, 7.5], [0.5, 6.0], [0.6, 5.0], [0.7999999999999999, 3.7500000000000004], [0.9999999999999999, 3.0000000000000004], [0.6, 5.0], [0.8999999999999999, 3.3333333333333335], [1.0999999999999999, 2.7272727272727275]], \"hoverlabel\": {\"namelength\": 0}, \"hovertemplate\": \"=%{y}<br>PPUT=%{customdata[1]}<br>clock=%{customdata[0]}\", \"legendgroup\": \"=drive_off_hab1\", \"marker\": {\"color\": \"#636efa\"}, \"name\": \"=drive_off_hab1\", \"notched\": false, \"offsetgroup\": \"=drive_off_hab1\", \"orientation\": \"h\", \"showlegend\": true, \"type\": \"box\", \"x\": [9.999999999999998, 3.7500000000000004, 4.285714285714286, 7.5, 2.5, 3.7500000000000004, 2.5, 2.142857142857143, 2.7272727272727275, 3.7500000000000004, 5.0, 3.7500000000000004, 2.142857142857143, 3.3333333333333335, 2.142857142857143, 3.3333333333333335, 0.0, 1.2499999999999996, 3.3333333333333335, 6.0, 2.7272727272727275, 3.0000000000000004, 4.285714285714286, 4.285714285714286, 1.6666666666666663, 5.0, 2.3076923076923075, 7.5, 1.4999999999999998, 2.3076923076923075, 2.3076923076923075, 2.7272727272727275, 1.7647058823529407, 5.0, 3.0000000000000004, 3.7500000000000004, 7.5, 1.9999999999999998, 1.9999999999999998, 2.142857142857143, 4.285714285714286, 1.9999999999999998, 2.3076923076923075, 3.3333333333333335, 2.142857142857143, 3.7500000000000004, 3.3333333333333335, 3.3333333333333335, 0.0, 1.1111111111111107, 4.285714285714286, 5.0, 3.7500000000000004, 15.0, 3.0000000000000004, 5.0, 7.5, 2.5, 1.5789473684210522, 1.4285714285714282, 1.6666666666666663, 5.0, 1.9999999999999998, 3.3333333333333335, 7.5, 2.5, 3.0000000000000004, 6.0, 1.7647058823529407, 3.7500000000000004, 2.5, 3.7500000000000004, 2.5, 1.6666666666666663, 2.5, 0.0, 2.5, 2.5, 3.3333333333333335, 6.0, 1.7647058823529407, 7.5, 2.142857142857143, 4.285714285714286, 1.8749999999999996, 3.3333333333333335, 3.0000000000000004, 2.3076923076923075, 3.3333333333333335, 9.999999999999998, 2.142857142857143, 5.0, 0.0, 1.1538461538461535, 1.8749999999999996, 15.0, 7.5, 6.0, 5.0, 3.7500000000000004, 3.0000000000000004, 5.0, 3.3333333333333335, 2.7272727272727275], \"x0\": \" \", \"xaxis\": \"x\", \"y\": [\"drive_off_hab1\", \"drive_off_hab1\", \"drive_off_hab1\", \"drive_off_hab1\", \"drive_off_hab1\", \"drive_off_hab1\", \"drive_off_hab1\", \"drive_off_hab1\", \"drive_off_hab1\", \"drive_off_hab1\", \"drive_off_hab1\", \"drive_off_hab1\", \"drive_off_hab1\", \"drive_off_hab1\", \"drive_off_hab1\", \"drive_off_hab1\", \"drive_off_hab1\", \"drive_off_hab1\", \"drive_off_hab1\", \"drive_off_hab1\", \"drive_off_hab1\", \"drive_off_hab1\", \"drive_off_hab1\", \"drive_off_hab1\", \"drive_off_hab1\", \"drive_off_hab1\", \"drive_off_hab1\", \"drive_off_hab1\", \"drive_off_hab1\", \"drive_off_hab1\", \"drive_off_hab1\", \"drive_off_hab1\", \"drive_off_hab1\", \"drive_off_hab1\", \"drive_off_hab1\", \"drive_off_hab1\", \"drive_off_hab1\", \"drive_off_hab1\", \"drive_off_hab1\", \"drive_off_hab1\", \"drive_off_hab1\", \"drive_off_hab1\", \"drive_off_hab1\", \"drive_off_hab1\", \"drive_off_hab1\", \"drive_off_hab1\", \"drive_off_hab1\", \"drive_off_hab1\", \"drive_off_hab1\", \"drive_off_hab1\", \"drive_off_hab1\", \"drive_off_hab1\", \"drive_off_hab1\", \"drive_off_hab1\", \"drive_off_hab1\", \"drive_off_hab1\", \"drive_off_hab1\", \"drive_off_hab1\", \"drive_off_hab1\", \"drive_off_hab1\", \"drive_off_hab1\", \"drive_off_hab1\", \"drive_off_hab1\", \"drive_off_hab1\", \"drive_off_hab1\", \"drive_off_hab1\", \"drive_off_hab1\", \"drive_off_hab1\", \"drive_off_hab1\", \"drive_off_hab1\", \"drive_off_hab1\", \"drive_off_hab1\", \"drive_off_hab1\", \"drive_off_hab1\", \"drive_off_hab1\", \"drive_off_hab1\", \"drive_off_hab1\", \"drive_off_hab1\", \"drive_off_hab1\", \"drive_off_hab1\", \"drive_off_hab1\", \"drive_off_hab1\", \"drive_off_hab1\", \"drive_off_hab1\", \"drive_off_hab1\", \"drive_off_hab1\", \"drive_off_hab1\", \"drive_off_hab1\", \"drive_off_hab1\", \"drive_off_hab1\", \"drive_off_hab1\", \"drive_off_hab1\", \"drive_off_hab1\", \"drive_off_hab1\", \"drive_off_hab1\", \"drive_off_hab1\", \"drive_off_hab1\", \"drive_off_hab1\", \"drive_off_hab1\", \"drive_off_hab1\", \"drive_off_hab1\", \"drive_off_hab1\", \"drive_off_hab1\", \"drive_off_hab1\"], \"y0\": \" \", \"yaxis\": \"y\"}, {\"alignmentgroup\": \"True\", \"boxpoints\": \"outliers\", \"customdata\": [[0.5, 12.0], [0.7999999999999999, 7.500000000000001], [0.30000000000000004, 19.999999999999996], [0.8999999999999999, 6.666666666666667], [1.5000000000000002, 3.9999999999999996], [1.4000000000000001, 4.285714285714286], [1.8000000000000005, 3.3333333333333326], [1.7000000000000004, 3.5294117647058814], [0.5, 12.0], [0.7999999999999999, 7.500000000000001], [0.6, 10.0], [0.1, 60.0], [1.3, 4.615384615384615], [1.2, 5.0], [0.5, 12.0], [1.2, 0.0], [1.9000000000000006, 3.1578947368421044], [1.0999999999999999, 5.454545454545455], [0.4, 15.0], [0.6, 10.0], [1.2, 5.0], [0.7999999999999999, 7.500000000000001], [0.8999999999999999, 6.666666666666667], [0.6, 10.0], [1.6000000000000003, 3.749999999999999], [0.9999999999999999, 6.000000000000001], [1.8000000000000005, 3.3333333333333326], [1.4000000000000001, 4.285714285714286], [0.2, 30.0], [1.9000000000000006, 3.1578947368421044], [1.0999999999999999, 5.454545454545455], [1.4000000000000001, 4.285714285714286], [0.7999999999999999, 7.500000000000001], [0.5, 12.0], [1.5000000000000002, 3.9999999999999996], [1.4000000000000001, 4.285714285714286], [0.9999999999999999, 6.000000000000001], [0.7999999999999999, 0.0], [0.9999999999999999, 6.000000000000001], [2.2000000000000006, 2.7272727272727266], [0.4, 15.0], [1.7000000000000004, 3.5294117647058814], [1.7000000000000004, 3.5294117647058814], [1.4000000000000001, 4.285714285714286], [1.4000000000000001, 4.285714285714286], [1.8000000000000005, 3.3333333333333326], [1.3, 4.615384615384615], [1.5000000000000002, 3.9999999999999996], [0.6, 10.0], [0.7999999999999999, 7.500000000000001], [1.9000000000000006, 3.1578947368421044], [1.3, 4.615384615384615], [2.0000000000000004, 2.9999999999999996], [1.5000000000000002, 3.9999999999999996], [0.8999999999999999, 6.666666666666667], [1.0999999999999999, 5.454545454545455], [0.9999999999999999, 6.000000000000001], [0.8999999999999999, 6.666666666666667], [1.7000000000000004, 3.5294117647058814], [1.2, 5.0], [2.0000000000000004, 2.9999999999999996], [0.7999999999999999, 7.500000000000001], [1.2, 5.0], [0.5, 0.0], [2.600000000000001, 2.307692307692307], [0.9999999999999999, 6.000000000000001], [0.1, 60.0], [2.2000000000000006, 2.7272727272727266], [0.7999999999999999, 7.500000000000001], [0.8999999999999999, 6.666666666666667], [1.0999999999999999, 5.454545454545455], [1.6000000000000003, 3.749999999999999], [1.5000000000000002, 3.9999999999999996], [1.3, 4.615384615384615], [0.7, 8.571428571428571], [1.8000000000000005, 3.3333333333333326], [0.8999999999999999, 6.666666666666667], [0.9999999999999999, 6.000000000000001], [0.2, 30.0], [0.8999999999999999, 0.0], [1.8000000000000005, 3.3333333333333326], [0.9999999999999999, 6.000000000000001], [1.3, 4.615384615384615], [1.4000000000000001, 4.285714285714286], [2.0000000000000004, 2.9999999999999996], [2.2000000000000006, 2.7272727272727266], [0.8999999999999999, 6.666666666666667], [0.7, 8.571428571428571], [0.8999999999999999, 6.666666666666667], [1.3, 4.615384615384615], [1.0999999999999999, 0.0], [3.0000000000000013, 1.9999999999999991], [0.5, 12.0], [0.30000000000000004, 19.999999999999996], [0.5, 12.0], [1.2, 0.0], [3.1000000000000014, 1.935483870967741], [0.30000000000000004, 19.999999999999996], [0.9999999999999999, 6.000000000000001], [1.0999999999999999, 5.454545454545455], [0.7999999999999999, 7.500000000000001], [0.5, 12.0], [0.9999999999999999, 6.000000000000001], [1.6000000000000003, 3.749999999999999], [1.6000000000000003, 3.749999999999999], [1.9000000000000006, 3.1578947368421044]], \"hoverlabel\": {\"namelength\": 0}, \"hovertemplate\": \"=%{y}<br>PPUT=%{customdata[1]}<br>clock=%{customdata[0]}\", \"legendgroup\": \"=drive_off_hab2\", \"marker\": {\"color\": \"#EF553B\"}, \"name\": \"=drive_off_hab2\", \"notched\": false, \"offsetgroup\": \"=drive_off_hab2\", \"orientation\": \"h\", \"showlegend\": true, \"type\": \"box\", \"x\": [12.0, 7.500000000000001, 19.999999999999996, 6.666666666666667, 3.9999999999999996, 4.285714285714286, 3.3333333333333326, 3.5294117647058814, 12.0, 7.500000000000001, 10.0, 60.0, 4.615384615384615, 5.0, 12.0, 0.0, 3.1578947368421044, 5.454545454545455, 15.0, 10.0, 5.0, 7.500000000000001, 6.666666666666667, 10.0, 3.749999999999999, 6.000000000000001, 3.3333333333333326, 4.285714285714286, 30.0, 3.1578947368421044, 5.454545454545455, 4.285714285714286, 7.500000000000001, 12.0, 3.9999999999999996, 4.285714285714286, 6.000000000000001, 0.0, 6.000000000000001, 2.7272727272727266, 15.0, 3.5294117647058814, 3.5294117647058814, 4.285714285714286, 4.285714285714286, 3.3333333333333326, 4.615384615384615, 3.9999999999999996, 10.0, 7.500000000000001, 3.1578947368421044, 4.615384615384615, 2.9999999999999996, 3.9999999999999996, 6.666666666666667, 5.454545454545455, 6.000000000000001, 6.666666666666667, 3.5294117647058814, 5.0, 2.9999999999999996, 7.500000000000001, 5.0, 0.0, 2.307692307692307, 6.000000000000001, 60.0, 2.7272727272727266, 7.500000000000001, 6.666666666666667, 5.454545454545455, 3.749999999999999, 3.9999999999999996, 4.615384615384615, 8.571428571428571, 3.3333333333333326, 6.666666666666667, 6.000000000000001, 30.0, 0.0, 3.3333333333333326, 6.000000000000001, 4.615384615384615, 4.285714285714286, 2.9999999999999996, 2.7272727272727266, 6.666666666666667, 8.571428571428571, 6.666666666666667, 4.615384615384615, 0.0, 1.9999999999999991, 12.0, 19.999999999999996, 12.0, 0.0, 1.935483870967741, 19.999999999999996, 6.000000000000001, 5.454545454545455, 7.500000000000001, 12.0, 6.000000000000001, 3.749999999999999, 3.749999999999999, 3.1578947368421044], \"x0\": \" \", \"xaxis\": \"x\", \"y\": [\"drive_off_hab2\", \"drive_off_hab2\", \"drive_off_hab2\", \"drive_off_hab2\", \"drive_off_hab2\", \"drive_off_hab2\", \"drive_off_hab2\", \"drive_off_hab2\", \"drive_off_hab2\", \"drive_off_hab2\", \"drive_off_hab2\", \"drive_off_hab2\", \"drive_off_hab2\", \"drive_off_hab2\", \"drive_off_hab2\", \"drive_off_hab2\", \"drive_off_hab2\", \"drive_off_hab2\", \"drive_off_hab2\", \"drive_off_hab2\", \"drive_off_hab2\", \"drive_off_hab2\", \"drive_off_hab2\", \"drive_off_hab2\", \"drive_off_hab2\", \"drive_off_hab2\", \"drive_off_hab2\", \"drive_off_hab2\", \"drive_off_hab2\", \"drive_off_hab2\", \"drive_off_hab2\", \"drive_off_hab2\", \"drive_off_hab2\", \"drive_off_hab2\", \"drive_off_hab2\", \"drive_off_hab2\", \"drive_off_hab2\", \"drive_off_hab2\", \"drive_off_hab2\", \"drive_off_hab2\", \"drive_off_hab2\", \"drive_off_hab2\", \"drive_off_hab2\", \"drive_off_hab2\", \"drive_off_hab2\", \"drive_off_hab2\", \"drive_off_hab2\", \"drive_off_hab2\", \"drive_off_hab2\", \"drive_off_hab2\", \"drive_off_hab2\", \"drive_off_hab2\", \"drive_off_hab2\", \"drive_off_hab2\", \"drive_off_hab2\", \"drive_off_hab2\", \"drive_off_hab2\", \"drive_off_hab2\", \"drive_off_hab2\", \"drive_off_hab2\", \"drive_off_hab2\", \"drive_off_hab2\", \"drive_off_hab2\", \"drive_off_hab2\", \"drive_off_hab2\", \"drive_off_hab2\", \"drive_off_hab2\", \"drive_off_hab2\", \"drive_off_hab2\", \"drive_off_hab2\", \"drive_off_hab2\", \"drive_off_hab2\", \"drive_off_hab2\", \"drive_off_hab2\", \"drive_off_hab2\", \"drive_off_hab2\", \"drive_off_hab2\", \"drive_off_hab2\", \"drive_off_hab2\", \"drive_off_hab2\", \"drive_off_hab2\", \"drive_off_hab2\", \"drive_off_hab2\", \"drive_off_hab2\", \"drive_off_hab2\", \"drive_off_hab2\", \"drive_off_hab2\", \"drive_off_hab2\", \"drive_off_hab2\", \"drive_off_hab2\", \"drive_off_hab2\", \"drive_off_hab2\", \"drive_off_hab2\", \"drive_off_hab2\", \"drive_off_hab2\", \"drive_off_hab2\", \"drive_off_hab2\", \"drive_off_hab2\", \"drive_off_hab2\", \"drive_off_hab2\", \"drive_off_hab2\", \"drive_off_hab2\", \"drive_off_hab2\", \"drive_off_hab2\", \"drive_off_hab2\", \"drive_off_hab2\"], \"y0\": \" \", \"yaxis\": \"y\"}, {\"alignmentgroup\": \"True\", \"boxpoints\": \"outliers\", \"customdata\": [[7.19999999999999, 0.5555555555555562], [9.099999999999984, 0.43956043956044033], [8.699999999999985, 0.4597701149425295], [4.000000000000002, 0.9999999999999996], [10.599999999999978, 0.3773584905660385], [8.599999999999985, 0.0], [14.899999999999963, 0.26845637583892684], [6.199999999999994, 0.0], [14.699999999999964, 0.27210884353741566], [7.999999999999988, 0.5000000000000008], [7.899999999999988, 0.5063291139240514], [7.599999999999989, 0.526315789473685], [6.8999999999999915, 0.5797101449275369], [7.19999999999999, 0.0], [17.999999999999986, 0.1111111111111112], [7.599999999999989, 0.526315789473685], [9.299999999999983, 0.0], [17.199999999999974, 0.11627906976744204], [10.599999999999978, 0.0], [17.799999999999983, 0.11235955056179786], [5.799999999999995, 0.6896551724137937], [8.099999999999987, 0.49382716049382797], [8.299999999999986, 0.0], [15.79999999999996, 0.12658227848101297], [2.700000000000001, 1.481481481481481], [4.999999999999998, 0.8000000000000003], [10.29999999999998, 0.38834951456310757], [10.999999999999977, 0.3636363636363644], [7.499999999999989, 0.5333333333333341], [12.89999999999997, 0.0], [22.700000000000053, 0.0], [7.19999999999999, 0.5555555555555562], [5.099999999999998, 0.0], [10.699999999999978, 0.0], [15.69999999999996, 0.12738853503184747], [6.699999999999992, 0.597014925373135], [6.399999999999993, 0.6250000000000007], [8.499999999999986, 0.4705882352941184], [7.899999999999988, 0.5063291139240514], [9.099999999999984, 0.43956043956044033], [6.8999999999999915, 0.5797101449275369], [4.899999999999999, 0.8163265306122451], [5.999999999999995, 0.0], [15.299999999999962, 0.13071895424836635], [11.299999999999976, 0.3539823008849565], [6.999999999999991, 0.5714285714285722], [5.599999999999996, 0.7142857142857147], [7.999999999999988, 0.5000000000000008], [7.39999999999999, 0.5405405405405413], [7.999999999999988, 0.5000000000000008], [4.799999999999999, 0.8333333333333335], [7.39999999999999, 0.5405405405405413], [9.699999999999982, 0.41237113402061937], [8.499999999999986, 0.4705882352941184], [8.899999999999984, 0.4494382022471918], [7.999999999999988, 0.5000000000000008], [7.499999999999989, 0.0], [15.59999999999996, 0.0], [7.899999999999988, 0.5063291139240514], [3.700000000000002, 0.0], [13.299999999999969, 0.3007518796992488], [8.099999999999987, 0.49382716049382797], [8.499999999999986, 0.0], [19.60000000000001, 0.0], [6.299999999999994, 0.0], [14.699999999999964, 0.27210884353741566], [8.899999999999984, 0.0], [15.399999999999961, 0.1298701298701302], [6.5999999999999925, 0.6060606060606067], [10.899999999999977, 0.3669724770642209], [9.89999999999998, 0.4040404040404048], [8.399999999999986, 0.476190476190477], [8.299999999999986, 0.48192771084337427], [8.599999999999985, 0.4651162790697682], [7.699999999999989, 0.5194805194805202], [7.499999999999989, 0.5333333333333341], [8.099999999999987, 0.49382716049382797], [8.399999999999986, 0.476190476190477], [9.599999999999982, 0.41666666666666746], [7.999999999999988, 0.5000000000000008], [11.399999999999975, 0.3508771929824569], [6.299999999999994, 0.6349206349206356], [8.699999999999985, 0.0], [14.899999999999963, 0.26845637583892684], [7.19999999999999, 0.5555555555555562], [6.5999999999999925, 0.6060606060606067], [8.699999999999985, 0.4597701149425295], [7.799999999999988, 0.5128205128205136], [10.399999999999979, 0.3846153846153854], [7.599999999999989, 0.526315789473685], [10.19999999999998, 0.3921568627450988], [6.999999999999991, 0.0], [17.69999999999998, 0.112994350282486], [8.299999999999986, 0.48192771084337427], [6.8999999999999915, 0.5797101449275369], [9.89999999999998, 0.4040404040404048], [7.799999999999988, 0.0], [19.60000000000001, 0.10204081632653057], [8.999999999999984, 0.0], [17.899999999999984, 0.1117318435754191], [5.399999999999997, 0.7407407407407411], [8.399999999999986, 0.476190476190477], [7.899999999999988, 0.5063291139240514], [8.299999999999986, 0.48192771084337427], [10.799999999999978, 0.3703703703703711], [5.1999999999999975, 0.7692307692307696], [5.899999999999995, 0.6779661016949158], [8.499999999999986, 0.4705882352941184], [8.899999999999984, 0.4494382022471918], [5.399999999999997, 0.7407407407407411], [6.099999999999994, 0.6557377049180334], [7.099999999999991, 0.5633802816901415], [6.5999999999999925, 0.6060606060606067], [9.199999999999983, 0.0], [16.89999999999997, 0.1183431952662724], [8.099999999999987, 0.49382716049382797], [8.799999999999985, 0.4545454545454553], [7.899999999999988, 0.5063291139240514], [7.999999999999988, 0.5000000000000008], [6.999999999999991, 0.5714285714285722]], \"hoverlabel\": {\"namelength\": 0}, \"hovertemplate\": \"=%{y}<br>PPUT=%{customdata[1]}<br>clock=%{customdata[0]}\", \"legendgroup\": \"=Hatch Pannel low near rocket\", \"marker\": {\"color\": \"#00cc96\"}, \"name\": \"=Hatch Pannel low near rocket\", \"notched\": false, \"offsetgroup\": \"=Hatch Pannel low near rocket\", \"orientation\": \"h\", \"showlegend\": true, \"type\": \"box\", \"x\": [0.5555555555555562, 0.43956043956044033, 0.4597701149425295, 0.9999999999999996, 0.3773584905660385, 0.0, 0.26845637583892684, 0.0, 0.27210884353741566, 0.5000000000000008, 0.5063291139240514, 0.526315789473685, 0.5797101449275369, 0.0, 0.1111111111111112, 0.526315789473685, 0.0, 0.11627906976744204, 0.0, 0.11235955056179786, 0.6896551724137937, 0.49382716049382797, 0.0, 0.12658227848101297, 1.481481481481481, 0.8000000000000003, 0.38834951456310757, 0.3636363636363644, 0.5333333333333341, 0.0, 0.0, 0.5555555555555562, 0.0, 0.0, 0.12738853503184747, 0.597014925373135, 0.6250000000000007, 0.4705882352941184, 0.5063291139240514, 0.43956043956044033, 0.5797101449275369, 0.8163265306122451, 0.0, 0.13071895424836635, 0.3539823008849565, 0.5714285714285722, 0.7142857142857147, 0.5000000000000008, 0.5405405405405413, 0.5000000000000008, 0.8333333333333335, 0.5405405405405413, 0.41237113402061937, 0.4705882352941184, 0.4494382022471918, 0.5000000000000008, 0.0, 0.0, 0.5063291139240514, 0.0, 0.3007518796992488, 0.49382716049382797, 0.0, 0.0, 0.0, 0.27210884353741566, 0.0, 0.1298701298701302, 0.6060606060606067, 0.3669724770642209, 0.4040404040404048, 0.476190476190477, 0.48192771084337427, 0.4651162790697682, 0.5194805194805202, 0.5333333333333341, 0.49382716049382797, 0.476190476190477, 0.41666666666666746, 0.5000000000000008, 0.3508771929824569, 0.6349206349206356, 0.0, 0.26845637583892684, 0.5555555555555562, 0.6060606060606067, 0.4597701149425295, 0.5128205128205136, 0.3846153846153854, 0.526315789473685, 0.3921568627450988, 0.0, 0.112994350282486, 0.48192771084337427, 0.5797101449275369, 0.4040404040404048, 0.0, 0.10204081632653057, 0.0, 0.1117318435754191, 0.7407407407407411, 0.476190476190477, 0.5063291139240514, 0.48192771084337427, 0.3703703703703711, 0.7692307692307696, 0.6779661016949158, 0.4705882352941184, 0.4494382022471918, 0.7407407407407411, 0.6557377049180334, 0.5633802816901415, 0.6060606060606067, 0.0, 0.1183431952662724, 0.49382716049382797, 0.4545454545454553, 0.5063291139240514, 0.5000000000000008, 0.5714285714285722], \"x0\": \" \", \"xaxis\": \"x\", \"y\": [\"Hatch Pannel low near rocket\", \"Hatch Pannel low near rocket\", \"Hatch Pannel low near rocket\", \"Hatch Pannel low near rocket\", \"Hatch Pannel low near rocket\", \"Hatch Pannel low near rocket\", \"Hatch Pannel low near rocket\", \"Hatch Pannel low near rocket\", \"Hatch Pannel low near rocket\", \"Hatch Pannel low near rocket\", \"Hatch Pannel low near rocket\", \"Hatch Pannel low near rocket\", \"Hatch Pannel low near rocket\", \"Hatch Pannel low near rocket\", \"Hatch Pannel low near rocket\", \"Hatch Pannel low near rocket\", \"Hatch Pannel low near rocket\", \"Hatch Pannel low near rocket\", \"Hatch Pannel low near rocket\", \"Hatch Pannel low near rocket\", \"Hatch Pannel low near rocket\", \"Hatch Pannel low near rocket\", \"Hatch Pannel low near rocket\", \"Hatch Pannel low near rocket\", \"Hatch Pannel low near rocket\", \"Hatch Pannel low near rocket\", \"Hatch Pannel low near rocket\", \"Hatch Pannel low near rocket\", \"Hatch Pannel low near rocket\", \"Hatch Pannel low near rocket\", \"Hatch Pannel low near rocket\", \"Hatch Pannel low near rocket\", \"Hatch Pannel low near rocket\", \"Hatch Pannel low near rocket\", \"Hatch Pannel low near rocket\", \"Hatch Pannel low near rocket\", \"Hatch Pannel low near rocket\", \"Hatch Pannel low near rocket\", \"Hatch Pannel low near rocket\", \"Hatch Pannel low near rocket\", \"Hatch Pannel low near rocket\", \"Hatch Pannel low near rocket\", \"Hatch Pannel low near rocket\", \"Hatch Pannel low near rocket\", \"Hatch Pannel low near rocket\", \"Hatch Pannel low near rocket\", \"Hatch Pannel low near rocket\", \"Hatch Pannel low near rocket\", \"Hatch Pannel low near rocket\", \"Hatch Pannel low near rocket\", \"Hatch Pannel low near rocket\", \"Hatch Pannel low near rocket\", \"Hatch Pannel low near rocket\", \"Hatch Pannel low near rocket\", \"Hatch Pannel low near rocket\", \"Hatch Pannel low near rocket\", \"Hatch Pannel low near rocket\", \"Hatch Pannel low near rocket\", \"Hatch Pannel low near rocket\", \"Hatch Pannel low near rocket\", \"Hatch Pannel low near rocket\", \"Hatch Pannel low near rocket\", \"Hatch Pannel low near rocket\", \"Hatch Pannel low near rocket\", \"Hatch Pannel low near rocket\", \"Hatch Pannel low near rocket\", \"Hatch Pannel low near rocket\", \"Hatch Pannel low near rocket\", \"Hatch Pannel low near rocket\", \"Hatch Pannel low near rocket\", \"Hatch Pannel low near rocket\", \"Hatch Pannel low near rocket\", \"Hatch Pannel low near rocket\", \"Hatch Pannel low near rocket\", \"Hatch Pannel low near rocket\", \"Hatch Pannel low near rocket\", \"Hatch Pannel low near rocket\", \"Hatch Pannel low near rocket\", \"Hatch Pannel low near rocket\", \"Hatch Pannel low near rocket\", \"Hatch Pannel low near rocket\", \"Hatch Pannel low near rocket\", \"Hatch Pannel low near rocket\", \"Hatch Pannel low near rocket\", \"Hatch Pannel low near rocket\", \"Hatch Pannel low near rocket\", \"Hatch Pannel low near rocket\", \"Hatch Pannel low near rocket\", \"Hatch Pannel low near rocket\", \"Hatch Pannel low near rocket\", \"Hatch Pannel low near rocket\", \"Hatch Pannel low near rocket\", \"Hatch Pannel low near rocket\", \"Hatch Pannel low near rocket\", \"Hatch Pannel low near rocket\", \"Hatch Pannel low near rocket\", \"Hatch Pannel low near rocket\", \"Hatch Pannel low near rocket\", \"Hatch Pannel low near rocket\", \"Hatch Pannel low near rocket\", \"Hatch Pannel low near rocket\", \"Hatch Pannel low near rocket\", \"Hatch Pannel low near rocket\", \"Hatch Pannel low near rocket\", \"Hatch Pannel low near rocket\", \"Hatch Pannel low near rocket\", \"Hatch Pannel low near rocket\", \"Hatch Pannel low near rocket\", \"Hatch Pannel low near rocket\", \"Hatch Pannel low near rocket\", \"Hatch Pannel low near rocket\", \"Hatch Pannel low near rocket\", \"Hatch Pannel low near rocket\", \"Hatch Pannel low near rocket\", \"Hatch Pannel low near rocket\", \"Hatch Pannel low near rocket\", \"Hatch Pannel low near rocket\", \"Hatch Pannel low near rocket\", \"Hatch Pannel low near rocket\", \"Hatch Pannel low near rocket\"], \"y0\": \" \", \"yaxis\": \"y\"}],\n",
       "                        {\"boxmode\": \"group\", \"legend\": {\"tracegroupgap\": 0, \"x\": 0, \"y\": -0.3}, \"template\": {\"data\": {\"bar\": [{\"error_x\": {\"color\": \"#2a3f5f\"}, \"error_y\": {\"color\": \"#2a3f5f\"}, \"marker\": {\"line\": {\"color\": \"#E5ECF6\", \"width\": 0.5}}, \"type\": \"bar\"}], \"barpolar\": [{\"marker\": {\"line\": {\"color\": \"#E5ECF6\", \"width\": 0.5}}, \"type\": \"barpolar\"}], \"carpet\": [{\"aaxis\": {\"endlinecolor\": \"#2a3f5f\", \"gridcolor\": \"white\", \"linecolor\": \"white\", \"minorgridcolor\": \"white\", \"startlinecolor\": \"#2a3f5f\"}, \"baxis\": {\"endlinecolor\": \"#2a3f5f\", \"gridcolor\": \"white\", \"linecolor\": \"white\", \"minorgridcolor\": \"white\", \"startlinecolor\": \"#2a3f5f\"}, \"type\": \"carpet\"}], \"choropleth\": [{\"colorbar\": {\"outlinewidth\": 0, \"ticks\": \"\"}, \"type\": \"choropleth\"}], \"contour\": [{\"colorbar\": {\"outlinewidth\": 0, \"ticks\": \"\"}, \"colorscale\": [[0.0, \"#0d0887\"], [0.1111111111111111, \"#46039f\"], [0.2222222222222222, \"#7201a8\"], [0.3333333333333333, \"#9c179e\"], [0.4444444444444444, \"#bd3786\"], [0.5555555555555556, \"#d8576b\"], [0.6666666666666666, \"#ed7953\"], [0.7777777777777778, \"#fb9f3a\"], [0.8888888888888888, \"#fdca26\"], [1.0, \"#f0f921\"]], \"type\": \"contour\"}], \"contourcarpet\": [{\"colorbar\": {\"outlinewidth\": 0, \"ticks\": \"\"}, \"type\": \"contourcarpet\"}], \"heatmap\": [{\"colorbar\": {\"outlinewidth\": 0, \"ticks\": \"\"}, \"colorscale\": [[0.0, \"#0d0887\"], [0.1111111111111111, \"#46039f\"], [0.2222222222222222, \"#7201a8\"], [0.3333333333333333, \"#9c179e\"], [0.4444444444444444, \"#bd3786\"], [0.5555555555555556, \"#d8576b\"], [0.6666666666666666, \"#ed7953\"], [0.7777777777777778, \"#fb9f3a\"], [0.8888888888888888, \"#fdca26\"], [1.0, \"#f0f921\"]], \"type\": \"heatmap\"}], \"heatmapgl\": [{\"colorbar\": {\"outlinewidth\": 0, \"ticks\": \"\"}, \"colorscale\": [[0.0, \"#0d0887\"], [0.1111111111111111, \"#46039f\"], [0.2222222222222222, \"#7201a8\"], [0.3333333333333333, \"#9c179e\"], [0.4444444444444444, \"#bd3786\"], [0.5555555555555556, \"#d8576b\"], [0.6666666666666666, \"#ed7953\"], [0.7777777777777778, \"#fb9f3a\"], [0.8888888888888888, \"#fdca26\"], [1.0, \"#f0f921\"]], \"type\": \"heatmapgl\"}], \"histogram\": [{\"marker\": {\"colorbar\": {\"outlinewidth\": 0, \"ticks\": \"\"}}, \"type\": \"histogram\"}], \"histogram2d\": [{\"colorbar\": {\"outlinewidth\": 0, \"ticks\": \"\"}, \"colorscale\": [[0.0, \"#0d0887\"], [0.1111111111111111, \"#46039f\"], [0.2222222222222222, \"#7201a8\"], [0.3333333333333333, \"#9c179e\"], [0.4444444444444444, \"#bd3786\"], [0.5555555555555556, \"#d8576b\"], [0.6666666666666666, \"#ed7953\"], [0.7777777777777778, \"#fb9f3a\"], [0.8888888888888888, \"#fdca26\"], [1.0, \"#f0f921\"]], \"type\": \"histogram2d\"}], \"histogram2dcontour\": [{\"colorbar\": {\"outlinewidth\": 0, \"ticks\": \"\"}, \"colorscale\": [[0.0, \"#0d0887\"], [0.1111111111111111, \"#46039f\"], [0.2222222222222222, \"#7201a8\"], [0.3333333333333333, \"#9c179e\"], [0.4444444444444444, \"#bd3786\"], [0.5555555555555556, \"#d8576b\"], [0.6666666666666666, \"#ed7953\"], [0.7777777777777778, \"#fb9f3a\"], [0.8888888888888888, \"#fdca26\"], [1.0, \"#f0f921\"]], \"type\": \"histogram2dcontour\"}], \"mesh3d\": [{\"colorbar\": {\"outlinewidth\": 0, \"ticks\": \"\"}, \"type\": \"mesh3d\"}], \"parcoords\": [{\"line\": {\"colorbar\": {\"outlinewidth\": 0, \"ticks\": \"\"}}, \"type\": \"parcoords\"}], \"pie\": [{\"automargin\": true, \"type\": \"pie\"}], \"scatter\": [{\"marker\": {\"colorbar\": {\"outlinewidth\": 0, \"ticks\": \"\"}}, \"type\": \"scatter\"}], \"scatter3d\": [{\"line\": {\"colorbar\": {\"outlinewidth\": 0, \"ticks\": \"\"}}, \"marker\": {\"colorbar\": {\"outlinewidth\": 0, \"ticks\": \"\"}}, \"type\": \"scatter3d\"}], \"scattercarpet\": [{\"marker\": {\"colorbar\": {\"outlinewidth\": 0, \"ticks\": \"\"}}, \"type\": \"scattercarpet\"}], \"scattergeo\": [{\"marker\": {\"colorbar\": {\"outlinewidth\": 0, \"ticks\": \"\"}}, \"type\": \"scattergeo\"}], \"scattergl\": [{\"marker\": {\"colorbar\": {\"outlinewidth\": 0, \"ticks\": \"\"}}, \"type\": \"scattergl\"}], \"scattermapbox\": [{\"marker\": {\"colorbar\": {\"outlinewidth\": 0, \"ticks\": \"\"}}, \"type\": \"scattermapbox\"}], \"scatterpolar\": [{\"marker\": {\"colorbar\": {\"outlinewidth\": 0, \"ticks\": \"\"}}, \"type\": \"scatterpolar\"}], \"scatterpolargl\": [{\"marker\": {\"colorbar\": {\"outlinewidth\": 0, \"ticks\": \"\"}}, \"type\": \"scatterpolargl\"}], \"scatterternary\": [{\"marker\": {\"colorbar\": {\"outlinewidth\": 0, \"ticks\": \"\"}}, \"type\": \"scatterternary\"}], \"surface\": [{\"colorbar\": {\"outlinewidth\": 0, \"ticks\": \"\"}, \"colorscale\": [[0.0, \"#0d0887\"], [0.1111111111111111, \"#46039f\"], [0.2222222222222222, \"#7201a8\"], [0.3333333333333333, \"#9c179e\"], [0.4444444444444444, \"#bd3786\"], [0.5555555555555556, \"#d8576b\"], [0.6666666666666666, \"#ed7953\"], [0.7777777777777778, \"#fb9f3a\"], [0.8888888888888888, \"#fdca26\"], [1.0, \"#f0f921\"]], \"type\": \"surface\"}], \"table\": [{\"cells\": {\"fill\": {\"color\": \"#EBF0F8\"}, \"line\": {\"color\": \"white\"}}, \"header\": {\"fill\": {\"color\": \"#C8D4E3\"}, \"line\": {\"color\": \"white\"}}, \"type\": \"table\"}]}, \"layout\": {\"annotationdefaults\": {\"arrowcolor\": \"#2a3f5f\", \"arrowhead\": 0, \"arrowwidth\": 1}, \"coloraxis\": {\"colorbar\": {\"outlinewidth\": 0, \"ticks\": \"\"}}, \"colorscale\": {\"diverging\": [[0, \"#8e0152\"], [0.1, \"#c51b7d\"], [0.2, \"#de77ae\"], [0.3, \"#f1b6da\"], [0.4, \"#fde0ef\"], [0.5, \"#f7f7f7\"], [0.6, \"#e6f5d0\"], [0.7, \"#b8e186\"], [0.8, \"#7fbc41\"], [0.9, \"#4d9221\"], [1, \"#276419\"]], \"sequential\": [[0.0, \"#0d0887\"], [0.1111111111111111, \"#46039f\"], [0.2222222222222222, \"#7201a8\"], [0.3333333333333333, \"#9c179e\"], [0.4444444444444444, \"#bd3786\"], [0.5555555555555556, \"#d8576b\"], [0.6666666666666666, \"#ed7953\"], [0.7777777777777778, \"#fb9f3a\"], [0.8888888888888888, \"#fdca26\"], [1.0, \"#f0f921\"]], \"sequentialminus\": [[0.0, \"#0d0887\"], [0.1111111111111111, \"#46039f\"], [0.2222222222222222, \"#7201a8\"], [0.3333333333333333, \"#9c179e\"], [0.4444444444444444, \"#bd3786\"], [0.5555555555555556, \"#d8576b\"], [0.6666666666666666, \"#ed7953\"], [0.7777777777777778, \"#fb9f3a\"], [0.8888888888888888, \"#fdca26\"], [1.0, \"#f0f921\"]]}, \"colorway\": [\"#636efa\", \"#EF553B\", \"#00cc96\", \"#ab63fa\", \"#FFA15A\", \"#19d3f3\", \"#FF6692\", \"#B6E880\", \"#FF97FF\", \"#FECB52\"], \"font\": {\"color\": \"#2a3f5f\"}, \"geo\": {\"bgcolor\": \"white\", \"lakecolor\": \"white\", \"landcolor\": \"#E5ECF6\", \"showlakes\": true, \"showland\": true, \"subunitcolor\": \"white\"}, \"hoverlabel\": {\"align\": \"left\"}, \"hovermode\": \"closest\", \"mapbox\": {\"style\": \"light\"}, \"paper_bgcolor\": \"white\", \"plot_bgcolor\": \"#E5ECF6\", \"polar\": {\"angularaxis\": {\"gridcolor\": \"white\", \"linecolor\": \"white\", \"ticks\": \"\"}, \"bgcolor\": \"#E5ECF6\", \"radialaxis\": {\"gridcolor\": \"white\", \"linecolor\": \"white\", \"ticks\": \"\"}}, \"scene\": {\"xaxis\": {\"backgroundcolor\": \"#E5ECF6\", \"gridcolor\": \"white\", \"gridwidth\": 2, \"linecolor\": \"white\", \"showbackground\": true, \"ticks\": \"\", \"zerolinecolor\": \"white\"}, \"yaxis\": {\"backgroundcolor\": \"#E5ECF6\", \"gridcolor\": \"white\", \"gridwidth\": 2, \"linecolor\": \"white\", \"showbackground\": true, \"ticks\": \"\", \"zerolinecolor\": \"white\"}, \"zaxis\": {\"backgroundcolor\": \"#E5ECF6\", \"gridcolor\": \"white\", \"gridwidth\": 2, \"linecolor\": \"white\", \"showbackground\": true, \"ticks\": \"\", \"zerolinecolor\": \"white\"}}, \"shapedefaults\": {\"line\": {\"color\": \"#2a3f5f\"}}, \"ternary\": {\"aaxis\": {\"gridcolor\": \"white\", \"linecolor\": \"white\", \"ticks\": \"\"}, \"baxis\": {\"gridcolor\": \"white\", \"linecolor\": \"white\", \"ticks\": \"\"}, \"bgcolor\": \"#E5ECF6\", \"caxis\": {\"gridcolor\": \"white\", \"linecolor\": \"white\", \"ticks\": \"\"}}, \"title\": {\"x\": 0.05}, \"xaxis\": {\"automargin\": true, \"gridcolor\": \"white\", \"linecolor\": \"white\", \"ticks\": \"\", \"title\": {\"standoff\": 15}, \"zerolinecolor\": \"white\", \"zerolinewidth\": 2}, \"yaxis\": {\"automargin\": true, \"gridcolor\": \"white\", \"linecolor\": \"white\", \"ticks\": \"\", \"title\": {\"standoff\": 15}, \"zerolinecolor\": \"white\", \"zerolinewidth\": 2}}}, \"title\": {\"text\": \"PPUT by Action\"}, \"xaxis\": {\"anchor\": \"y\", \"domain\": [0.0, 1.0], \"title\": {\"text\": \"PPUT\"}}, \"yaxis\": {\"anchor\": \"x\", \"categoryarray\": [\"Hatch Pannel low near rocket\", \"drive_off_hab2\", \"drive_off_hab1\"], \"categoryorder\": \"array\", \"domain\": [0.0, 1.0], \"title\": {\"text\": \"\"}}},\n",
       "                        {\"responsive\": true}\n",
       "                    ).then(function(){\n",
       "                            \n",
       "var gd = document.getElementById('11f4e778-21ab-4006-aafd-20a698ef67f0');\n",
       "var x = new MutationObserver(function (mutations, observer) {{\n",
       "        var display = window.getComputedStyle(gd).display;\n",
       "        if (!display || display === 'none') {{\n",
       "            console.log([gd, 'removed!']);\n",
       "            Plotly.purge(gd);\n",
       "            observer.disconnect();\n",
       "        }}\n",
       "}});\n",
       "\n",
       "// Listen for the removal of the full notebook cells\n",
       "var notebookContainer = gd.closest('#notebook-container');\n",
       "if (notebookContainer) {{\n",
       "    x.observe(notebookContainer, {childList: true});\n",
       "}}\n",
       "\n",
       "// Listen for the clearing of the current output cell\n",
       "var outputEl = gd.closest('.output');\n",
       "if (outputEl) {{\n",
       "    x.observe(outputEl, {childList: true});\n",
       "}}\n",
       "\n",
       "                        })\n",
       "                };\n",
       "                });\n",
       "            </script>\n",
       "        </div>"
      ]
     },
     "metadata": {},
     "output_type": "display_data"
    }
   ],
   "source": [
    "fig = px.box(df, x=\"pput\", y=\"robot\", title='PPUT by Action', labels={'pput': 'PPUT', 'robot': \"\"},\n",
    "             points=\"outliers\", hover_data=['clock','pput'], color='robot', orientation=\"h\")\n",
    "fig.update_layout(legend=dict(x=-0, y=-0.3))\n",
    "fig.show()"
   ]
  },
  {
   "cell_type": "code",
   "execution_count": null,
   "metadata": {},
   "outputs": [],
   "source": []
  }
 ],
 "metadata": {
  "kernelspec": {
   "display_name": "Python 3",
   "language": "python",
   "name": "python3"
  },
  "language_info": {
   "codemirror_mode": {
    "name": "ipython",
    "version": 3
   },
   "file_extension": ".py",
   "mimetype": "text/x-python",
   "name": "python",
   "nbconvert_exporter": "python",
   "pygments_lexer": "ipython3",
   "version": "3.7.6"
  }
 },
 "nbformat": 4,
 "nbformat_minor": 2
}
