{
 "cells": [
  {
   "cell_type": "code",
   "execution_count": 1,
   "metadata": {
    "code_folding": [
     0
    ]
   },
   "outputs": [
    {
     "data": {
      "text/html": [
       "        <script type=\"text/javascript\">\n",
       "        window.PlotlyConfig = {MathJaxConfig: 'local'};\n",
       "        if (window.MathJax) {MathJax.Hub.Config({SVG: {font: \"STIX-Web\"}});}\n",
       "        if (typeof require !== 'undefined') {\n",
       "        require.undef(\"plotly\");\n",
       "        requirejs.config({\n",
       "            paths: {\n",
       "                'plotly': ['https://cdn.plot.ly/plotly-latest.min']\n",
       "            }\n",
       "        });\n",
       "        require(['plotly'], function(Plotly) {\n",
       "            window._Plotly = Plotly;\n",
       "        });\n",
       "        }\n",
       "        </script>\n",
       "        "
      ]
     },
     "metadata": {},
     "output_type": "display_data"
    }
   ],
   "source": [
    "# imports\n",
    "import json\n",
    "import random\n",
    "import plotly.offline as py\n",
    "py.init_notebook_mode(connected=True)\n",
    "import plotly.graph_objects as go\n",
    "import plotly.express as px\n",
    "import pandas as pd\n",
    "import copy\n",
    "import os.path\n",
    "import seaborn as sns\n",
    "import matplotlib.pyplot as plt\n",
    "\n",
    "#from IPython.display import Image"
   ]
  },
  {
   "cell_type": "code",
   "execution_count": 2,
   "metadata": {
    "code_folding": [
     0
    ]
   },
   "outputs": [],
   "source": [
    "game_file = 'deep_space_pput.json'\n",
    "# Load json files into simulation\n",
    "with open(game_file) as json_file:\n",
    "    game = json.load(json_file)\n",
    "\n",
    "robots = []\n",
    "\n",
    "for rbot in game['robots']:\n",
    "    if os.path.exists(rbot):\n",
    "        with open(rbot) as json_file:\n",
    "            robots.append(json.load(json_file))\n",
    "      \n",
    "pput = game.get('pput', {})\n",
    "pput_ops = {}\n",
    "if pput:\n",
    "    op_file = pput.get('operations',{})\n",
    "    if op_file and os.path.isfile(op_file):\n",
    "        with open(op_file) as json_file:\n",
    "            pput_ops = json.load(json_file)\n",
    "    for mode in pput:\n",
    "        if mode == \"operations\": continue\n",
    "        for op in pput[mode]:\n",
    "            if isinstance(op, list):\n",
    "                robots.append({\n",
    "                  \"name\": op[0],\n",
    "                  \"operations\": op_file,\n",
    "                  \"pput\": True,\n",
    "                  \"modes\": {\n",
    "                    mode: [ { \"name\": op } ]\n",
    "                  }})\n",
    "            else:\n",
    "                robots.append({\n",
    "                  \"name\": op,\n",
    "                  \"operations\": op_file,\n",
    "                  \"pput\": True,\n",
    "                  \"modes\": {\n",
    "                    mode: [ { \"name\": op } ]\n",
    "                  }})\n",
    "    \n",
    "for robot in robots:\n",
    "    with open(robot['operations']) as json_file:\n",
    "        ops = json.load(json_file)\n",
    "        opdict = {}\n",
    "        for op in ops:\n",
    "            opdict[op['name']] = op\n",
    "        robot['operations'] = opdict\n",
    "\n",
    "def build_commands(robot, mode, cmd_list):\n",
    "    if not isinstance(cmd_list.get(\"name\", False), list): return cmd_list\n",
    "    cmd_list = cmd_list['name']\n",
    "    \n",
    "    ops = robot['operations']\n",
    "    name = mode + \"_\" + cmd_list[0]\n",
    "    for i in range(1, len(cmd_list)):\n",
    "        cmd = cmd_list[i]\n",
    "        subname = name + \"_\" + cmd\n",
    "        newbody = ops.get(cmd, {})\n",
    "        if not newbody:\n",
    "            raise LookupError(f\"Cmd {cmd} not found (in known operations).\")\n",
    "        newbody = copy.deepcopy(newbody)\n",
    "        newbody['name'] = subname\n",
    "        mymode = mode\n",
    "        if not newbody[\"game_modes\"].get(mode, {}):\n",
    "            mymode = \"teleop\"\n",
    "            if not newbody[\"game_modes\"].get(mymode, {}):\n",
    "                raise LookupError(f\"Cmd {cmd} does not support mode {mode}\")\n",
    "            newbody[\"game_modes\"][mode] = newbody[\"game_modes\"].pop(mymode)\n",
    "        \n",
    "        template = newbody[\"game_modes\"][mode]\n",
    "        newbody[\"game_modes\"] = {}\n",
    "        if i >= len(cmd_list) - 1:\n",
    "            template[\"next_op\"] = []\n",
    "        else:\n",
    "            template[\"next_op\"] = [name + \"_\" + cmd_list[i+1]]\n",
    "        newbody[\"game_modes\"][mode] = template        \n",
    "        ops[subname] = newbody\n",
    "    \n",
    "    return { 'name': name + \"_\" + cmd_list[1] }\n",
    "    \n",
    "# generate command chains\n",
    "for robot in robots:\n",
    "    for mname in robot['modes']:\n",
    "        if mname == 'operations': continue\n",
    "        robot['modes'][mname] = list(map(lambda cmd: build_commands(robot, mname, cmd), robot['modes'][mname]))\n",
    "    \n",
    "robot_cache = robots"
   ]
  },
  {
   "cell_type": "code",
   "execution_count": 3,
   "metadata": {
    "code_folding": [
     0
    ]
   },
   "outputs": [],
   "source": [
    "# Simulator and support\n",
    "\n",
    "# note log handles recording points and updating counts\n",
    "def log(clock, clock_mode, mode_name, robot, success, op):\n",
    "    global journal\n",
    "    points = 0\n",
    "    name = op['name']\n",
    "    if success:\n",
    "        mop = op['game_modes'][mode_name]\n",
    "        points = mop.get('points', 0)\n",
    "        if not robot.get('pput', False):\n",
    "            counts[op['name']] = counts.get(name, 0) + 1\n",
    "            limit = op.get('limit', 0)\n",
    "            if limit != 0 and counts.get(name, 0) >= limit:\n",
    "                del robot['operations'][name]\n",
    "        else:\n",
    "            del robot['operations'][name]\n",
    "    journal.append([runs, clock, clock_mode, robot['name'], success, name, points])\n",
    "    \n",
    "# Actual Simulator\n",
    "def simulate():\n",
    "    # Reset sim data\n",
    "    robots = copy.deepcopy(robot_cache)\n",
    "    global runs \n",
    "    global df\n",
    "    global pput\n",
    "    runs += 1\n",
    "\n",
    "    # Start Game Clock\n",
    "    clock = 0\n",
    "\n",
    "    # Determine Mode\n",
    "    mode = game['modes'][0]\n",
    "    duration = mode['mode_time']\n",
    "\n",
    "    # While game not over\n",
    "    mode_name = mode['mode']\n",
    "    while mode != '':\n",
    "        while duration > 0:\n",
    "            # For each robot\n",
    "            for robot in robots:\n",
    "                # if idle, assign operation\n",
    "                if 'operation' not in robot:\n",
    "                    # pick next op\n",
    "                    # collect all available ops\n",
    "                    mname = mode_name\n",
    "                    if mname not in robot['modes']:\n",
    "                        mname = 'teleop'\n",
    "                    ops = robot['modes'].get(mname, None)\n",
    "                    if ops != None:\n",
    "                        # find hightest priority\n",
    "                        max_priority = 0\n",
    "                        for op in ops: \n",
    "                            max_priority = max(max_priority, op.get('priority', 0))\n",
    "                        ops = list(filter(lambda op: op.get('priority', 0) >= max_priority, ops))\n",
    "                        op = random.choice(ops)['name']\n",
    "                        op = robot['operations'].get(op, None)\n",
    "                        if op != None:\n",
    "                            mname = mode_name\n",
    "                            if mname not in op['game_modes']:\n",
    "                                mname = 'teleop'\n",
    "                            mop = op['game_modes'][mname]\n",
    "\n",
    "                            # determine finish time\n",
    "                            optime = random.normalvariate(mop['time'], mop['std'])\n",
    "                            optime = max(mop.get('min', 0), optime)\n",
    "                            op['finish'] = clock + optime\n",
    "                            robot['operation'] = op\n",
    "\n",
    "                # if op complete\n",
    "                if 'operation' in robot:\n",
    "                    op = robot['operation']\n",
    "                    if op['finish'] < clock:\n",
    "                        mname = mode_name\n",
    "                        if mname not in op['game_modes'] and 'teleop' in op['game_modes']:\n",
    "                            mname = 'teleop'\n",
    "\n",
    "                        if mname in op['game_modes']:\n",
    "                            mop = op['game_modes'][mname]\n",
    "\n",
    "                            # check for failure\n",
    "                            success = random.random() >= mop.get('failure_odds', 0)\n",
    "                            log(clock, mode_name, mname, robot, success, op)\n",
    "\n",
    "                            if success:\n",
    "                                # pick next op\n",
    "                                ops = list(filter(lambda op: op in robot['operations'], mop.get(\"next_op\", [])))\n",
    "                                if len(ops) > 0:\n",
    "                                    op = robot['operations'][random.choice(ops)]\n",
    "                                    mname = mode_name\n",
    "                                    if mname not in op['game_modes']:\n",
    "                                        mname = 'teleop'\n",
    "                                    mop = op['game_modes'][mname]\n",
    "\n",
    "                                    # determine finish time\n",
    "                                    optime = random.normalvariate(mop['time'], mop['std'])\n",
    "                                    optime = max(mop.get('min', 0), optime)\n",
    "                                    op['finish'] = clock + optime\n",
    "                                    robot['operation'] = op\n",
    "                                else:\n",
    "                                    del robot['operation']\n",
    "\n",
    "                            elif not success and random.random() < mop.get('retry_odds', 0):\n",
    "                                # reset finish time, but stay \"here\"\n",
    "                                optime = random.normalvariate(mop['time'], mop['std'])\n",
    "                                optime = max(mop.get('min', 0), optime)\n",
    "                                op['finish'] = clock + optime\n",
    "                            else:\n",
    "                                del robot['operation']\n",
    "\n",
    "                        else:\n",
    "                            print(\"Ugg\")\n",
    "                            del robot['operation']\n",
    "\n",
    "            clock += 0.1           \n",
    "            duration -= 0.1\n",
    "\n",
    "        # If Mode change\n",
    "        next_mode = mode['next_mode']\n",
    "        if next_mode != -1:\n",
    "            mode = game['modes'][next_mode]\n",
    "            mode_name = mode['mode']\n",
    "            duration = mode['mode_time']\n",
    "            #    for each robot\n",
    "            #       cancel operations if necessary\n",
    "        else:\n",
    "            mode = ''\n",
    "    df = pd.DataFrame(journal, columns=['run', 'clock','game_mode', 'robot', 'success', 'op', 'score'])\n",
    "    df['total'] = df.score.cumsum()\n",
    "    df['total'] = df.groupby(['run','robot'])['score'].transform(pd.Series.cumsum)\n",
    "    df[\"pput\"] = df[\"total\"] / df[\"clock\"]\n",
    "    pput = df.groupby(['run', 'robot']).last()\n",
    "    pput.reset_index(inplace=True)"
   ]
  },
  {
   "cell_type": "code",
   "execution_count": 4,
   "metadata": {},
   "outputs": [],
   "source": [
    "# reset simulation data\n",
    "journal = []\n",
    "counts = {}\n",
    "runs = 0    \n",
    "df = pd.DataFrame()\n",
    "pput = pd.DataFrame()"
   ]
  },
  {
   "cell_type": "code",
   "execution_count": 5,
   "metadata": {},
   "outputs": [],
   "source": [
    "# Run simulation 100 times\n",
    "for _ in range(100): simulate()"
   ]
  },
  {
   "cell_type": "code",
   "execution_count": 6,
   "metadata": {},
   "outputs": [
    {
     "data": {
      "image/png": "[encoded data removed]",
      "text/plain": [
       "<Figure size 792x360 with 1 Axes>"
      ]
     },
     "metadata": {
      "needs_background": "light"
     },
     "output_type": "display_data"
    }
   ],
   "source": [
    "f, ax = plt.subplots(figsize=(11, 5))\n",
    "bp = sns.boxplot(y='robot', x='pput', data=pput)\n",
    "bp.set_title('PPUT by Action')\n",
    "bp.set(xlabel='PPUT (Points / Clock)',ylabel='');"
   ]
  },
  {
   "cell_type": "code",
   "execution_count": 7,
   "metadata": {
    "scrolled": false
   },
   "outputs": [
    {
     "data": {
      "application/vnd.plotly.v1+json": {
       "config": {
        "plotlyServerURL": "https://plot.ly"
       },
       "data": [
        {
         "alignmentgroup": "True",
         "boxpoints": "outliers",
         "customdata": [
          [
           14.899999999999963,
           0.13422818791946342
          ],
          [
           9.699999999999982,
           0.20618556701030968
          ],
          [
           11.299999999999976,
           0.17699115044247826
          ],
          [
           29.100000000000144,
           0.06872852233676942
          ],
          [
           26.0000000000001,
           0.07692307692307662
          ],
          [
           17.69999999999998,
           0.112994350282486
          ],
          [
           12.89999999999997,
           0.15503875968992284
          ],
          [
           9.699999999999982,
           0
          ],
          [
           11.999999999999973,
           0
          ],
          [
           17.099999999999973,
           0.11695906432748557
          ],
          [
           11.599999999999975,
           0.17241379310344865
          ],
          [
           17.299999999999976,
           0
          ],
          [
           12.399999999999972,
           0.16129032258064552
          ],
          [
           24.500000000000078,
           0.08163265306122423
          ],
          [
           17.799999999999983,
           0.11235955056179786
          ],
          [
           6.099999999999994,
           0
          ],
          [
           14.299999999999965,
           0.1398601398601402
          ],
          [
           13.299999999999969,
           0
          ],
          [
           14.099999999999966,
           0.14184397163120602
          ],
          [
           12.89999999999997,
           0.15503875968992284
          ],
          [
           14.799999999999963,
           0.13513513513513548
          ],
          [
           16.09999999999996,
           0.12422360248447237
          ],
          [
           8.299999999999986,
           0.24096385542168713
          ],
          [
           11.499999999999975,
           0.17391304347826125
          ],
          [
           16.79999999999997,
           0.11904761904761926
          ],
          [
           21.300000000000033,
           0.09389671361502333
          ],
          [
           26.600000000000108,
           0.07518796992481172
          ],
          [
           28.300000000000132,
           0
          ],
          [
           10.499999999999979,
           0.19047619047619085
          ],
          [
           7.099999999999991,
           0.28169014084507077
          ],
          [
           15.69999999999996,
           0
          ],
          [
           12.599999999999971,
           0.15873015873015908
          ],
          [
           8.099999999999987,
           0.24691358024691398
          ],
          [
           12.99999999999997,
           0.15384615384615422
          ],
          [
           33.60000000000021,
           0
          ],
          [
           13.09999999999997,
           0.1526717557251912
          ],
          [
           9.799999999999981,
           0.20408163265306162
          ],
          [
           15.399999999999961,
           0
          ],
          [
           20.30000000000002,
           0.09852216748768464
          ],
          [
           39.100000000000286,
           0.051150895140664586
          ],
          [
           10.29999999999998,
           0.19417475728155378
          ],
          [
           12.99999999999997,
           0.15384615384615422
          ],
          [
           14.999999999999963,
           0.13333333333333366
          ],
          [
           15.59999999999996,
           0.12820512820512853
          ],
          [
           11.699999999999974,
           0
          ],
          [
           9.89999999999998,
           0.2020202020202024
          ],
          [
           8.699999999999985,
           0.22988505747126475
          ],
          [
           12.399999999999972,
           0
          ],
          [
           14.699999999999964,
           0.13605442176870783
          ],
          [
           21.00000000000003,
           0.09523809523809511
          ],
          [
           16.09999999999996,
           0.12422360248447237
          ],
          [
           12.099999999999973,
           0.16528925619834747
          ],
          [
           9.399999999999983,
           0.2127659574468089
          ],
          [
           27.700000000000124,
           0.07220216606498163
          ],
          [
           16.599999999999966,
           0
          ],
          [
           18.699999999999996,
           0
          ],
          [
           13.599999999999968,
           0.1470588235294121
          ],
          [
           8.699999999999985,
           0
          ],
          [
           17.299999999999976,
           0.11560693641618514
          ],
          [
           8.599999999999985,
           0.2325581395348841
          ],
          [
           23.600000000000065,
           0.08474576271186417
          ],
          [
           7.699999999999989,
           0.2597402597402601
          ],
          [
           10.499999999999979,
           0.19047619047619085
          ],
          [
           34.100000000000215,
           0.058651026392961506
          ],
          [
           12.69999999999997,
           0.15748031496063028
          ],
          [
           14.299999999999965,
           0.1398601398601402
          ],
          [
           13.199999999999969,
           0
          ],
          [
           14.599999999999964,
           0.13698630136986334
          ],
          [
           12.599999999999971,
           0.15873015873015908
          ],
          [
           22.60000000000005,
           0.08849557522123874
          ],
          [
           13.199999999999969,
           0.15151515151515188
          ],
          [
           7.29999999999999,
           0
          ],
          [
           9.399999999999983,
           0.2127659574468089
          ],
          [
           7.699999999999989,
           0.2597402597402601
          ],
          [
           15.59999999999996,
           0.12820512820512853
          ],
          [
           22.50000000000005,
           0.0888888888888887
          ],
          [
           15.99999999999996,
           0.12500000000000033
          ],
          [
           6.999999999999991,
           0
          ],
          [
           15.199999999999962,
           0.13157894736842138
          ],
          [
           12.79999999999997,
           0.15625000000000036
          ],
          [
           25.100000000000087,
           0.07968127490039813
          ],
          [
           13.699999999999967,
           0.14598540145985436
          ],
          [
           9.89999999999998,
           0
          ],
          [
           35.10000000000023,
           0.056980056980056606
          ],
          [
           15.099999999999962,
           0.13245033112582816
          ],
          [
           29.400000000000148,
           0.0680272108843534
          ],
          [
           19,
           0.10526315789473684
          ],
          [
           12.599999999999971,
           0.15873015873015908
          ],
          [
           13.799999999999967,
           0.1449275362318844
          ],
          [
           10.29999999999998,
           0.19417475728155378
          ],
          [
           28.600000000000136,
           0.0699300699300696
          ],
          [
           12.69999999999997,
           0.15748031496063028
          ],
          [
           11.199999999999976,
           0.17857142857142896
          ],
          [
           15.099999999999962,
           0.13245033112582816
          ],
          [
           12.69999999999997,
           0.15748031496063028
          ],
          [
           8.599999999999985,
           0
          ],
          [
           19.60000000000001,
           0.10204081632653057
          ],
          [
           24.500000000000078,
           0.08163265306122423
          ],
          [
           16.79999999999997,
           0.11904761904761926
          ],
          [
           8.799999999999985,
           0.22727272727272765
          ]
         ],
         "hoverlabel": {
          "namelength": 0
         },
         "hovertemplate": "=%{y}<br>PPUT=%{customdata[1]}<br>clock=%{customdata[0]}",
         "legendgroup": "=Score FRL",
         "marker": {
          "color": "#636efa"
         },
         "name": "=Score FRL",
         "notched": false,
         "offsetgroup": "=Score FRL",
         "orientation": "h",
         "showlegend": true,
         "type": "box",
         "x": [
          0.13422818791946342,
          0.20618556701030968,
          0.17699115044247826,
          0.06872852233676942,
          0.07692307692307662,
          0.112994350282486,
          0.15503875968992284,
          0,
          0,
          0.11695906432748557,
          0.17241379310344865,
          0,
          0.16129032258064552,
          0.08163265306122423,
          0.11235955056179786,
          0,
          0.1398601398601402,
          0,
          0.14184397163120602,
          0.15503875968992284,
          0.13513513513513548,
          0.12422360248447237,
          0.24096385542168713,
          0.17391304347826125,
          0.11904761904761926,
          0.09389671361502333,
          0.07518796992481172,
          0,
          0.19047619047619085,
          0.28169014084507077,
          0,
          0.15873015873015908,
          0.24691358024691398,
          0.15384615384615422,
          0,
          0.1526717557251912,
          0.20408163265306162,
          0,
          0.09852216748768464,
          0.051150895140664586,
          0.19417475728155378,
          0.15384615384615422,
          0.13333333333333366,
          0.12820512820512853,
          0,
          0.2020202020202024,
          0.22988505747126475,
          0,
          0.13605442176870783,
          0.09523809523809511,
          0.12422360248447237,
          0.16528925619834747,
          0.2127659574468089,
          0.07220216606498163,
          0,
          0,
          0.1470588235294121,
          0,
          0.11560693641618514,
          0.2325581395348841,
          0.08474576271186417,
          0.2597402597402601,
          0.19047619047619085,
          0.058651026392961506,
          0.15748031496063028,
          0.1398601398601402,
          0,
          0.13698630136986334,
          0.15873015873015908,
          0.08849557522123874,
          0.15151515151515188,
          0,
          0.2127659574468089,
          0.2597402597402601,
          0.12820512820512853,
          0.0888888888888887,
          0.12500000000000033,
          0,
          0.13157894736842138,
          0.15625000000000036,
          0.07968127490039813,
          0.14598540145985436,
          0,
          0.056980056980056606,
          0.13245033112582816,
          0.0680272108843534,
          0.10526315789473684,
          0.15873015873015908,
          0.1449275362318844,
          0.19417475728155378,
          0.0699300699300696,
          0.15748031496063028,
          0.17857142857142896,
          0.13245033112582816,
          0.15748031496063028,
          0,
          0.10204081632653057,
          0.08163265306122423,
          0.11904761904761926,
          0.22727272727272765
         ],
         "x0": " ",
         "xaxis": "x",
         "y": [
          "Score FRL",
          "Score FRL",
          "Score FRL",
          "Score FRL",
          "Score FRL",
          "Score FRL",
          "Score FRL",
          "Score FRL",
          "Score FRL",
          "Score FRL",
          "Score FRL",
          "Score FRL",
          "Score FRL",
          "Score FRL",
          "Score FRL",
          "Score FRL",
          "Score FRL",
          "Score FRL",
          "Score FRL",
          "Score FRL",
          "Score FRL",
          "Score FRL",
          "Score FRL",
          "Score FRL",
          "Score FRL",
          "Score FRL",
          "Score FRL",
          "Score FRL",
          "Score FRL",
          "Score FRL",
          "Score FRL",
          "Score FRL",
          "Score FRL",
          "Score FRL",
          "Score FRL",
          "Score FRL",
          "Score FRL",
          "Score FRL",
          "Score FRL",
          "Score FRL",
          "Score FRL",
          "Score FRL",
          "Score FRL",
          "Score FRL",
          "Score FRL",
          "Score FRL",
          "Score FRL",
          "Score FRL",
          "Score FRL",
          "Score FRL",
          "Score FRL",
          "Score FRL",
          "Score FRL",
          "Score FRL",
          "Score FRL",
          "Score FRL",
          "Score FRL",
          "Score FRL",
          "Score FRL",
          "Score FRL",
          "Score FRL",
          "Score FRL",
          "Score FRL",
          "Score FRL",
          "Score FRL",
          "Score FRL",
          "Score FRL",
          "Score FRL",
          "Score FRL",
          "Score FRL",
          "Score FRL",
          "Score FRL",
          "Score FRL",
          "Score FRL",
          "Score FRL",
          "Score FRL",
          "Score FRL",
          "Score FRL",
          "Score FRL",
          "Score FRL",
          "Score FRL",
          "Score FRL",
          "Score FRL",
          "Score FRL",
          "Score FRL",
          "Score FRL",
          "Score FRL",
          "Score FRL",
          "Score FRL",
          "Score FRL",
          "Score FRL",
          "Score FRL",
          "Score FRL",
          "Score FRL",
          "Score FRL",
          "Score FRL",
          "Score FRL",
          "Score FRL",
          "Score FRL",
          "Score FRL"
         ],
         "y0": " ",
         "yaxis": "y"
        },
        {
         "alignmentgroup": "True",
         "boxpoints": "outliers",
         "customdata": [
          [
           10.699999999999978,
           0
          ],
          [
           4.300000000000001,
           0
          ],
          [
           7.19999999999999,
           0.2777777777777781
          ],
          [
           12.099999999999973,
           0.16528925619834747
          ],
          [
           5.599999999999996,
           0.3571428571428574
          ],
          [
           12.99999999999997,
           0
          ],
          [
           11.999999999999973,
           0
          ],
          [
           10.599999999999978,
           0.18867924528301924
          ],
          [
           11.299999999999976,
           0.17699115044247826
          ],
          [
           9.199999999999983,
           0.21739130434782647
          ],
          [
           8.299999999999986,
           0
          ],
          [
           10.09999999999998,
           0.19801980198019842
          ],
          [
           14.899999999999963,
           0
          ],
          [
           16.09999999999996,
           0.12422360248447237
          ],
          [
           12.79999999999997,
           0
          ],
          [
           9.399999999999983,
           0.2127659574468089
          ],
          [
           10.19999999999998,
           0.1960784313725494
          ],
          [
           7.699999999999989,
           0
          ],
          [
           8.999999999999984,
           0.22222222222222263
          ],
          [
           9.799999999999981,
           0.20408163265306162
          ],
          [
           9.799999999999981,
           0.20408163265306162
          ],
          [
           5.899999999999995,
           0.3389830508474579
          ],
          [
           14.699999999999964,
           0.13605442176870783
          ],
          [
           8.899999999999984,
           0.2247191011235959
          ],
          [
           7.999999999999988,
           0
          ],
          [
           11.599999999999975,
           0.17241379310344865
          ],
          [
           12.499999999999972,
           0.16000000000000036
          ],
          [
           8.399999999999986,
           0.2380952380952385
          ],
          [
           9.799999999999981,
           0.20408163265306162
          ],
          [
           11.799999999999974,
           0.1694915254237292
          ],
          [
           8.199999999999987,
           0.24390243902439063
          ],
          [
           14.299999999999965,
           0.1398601398601402
          ],
          [
           14.899999999999963,
           0.13422818791946342
          ],
          [
           15.99999999999996,
           0.12500000000000033
          ],
          [
           7.799999999999988,
           0.2564102564102568
          ],
          [
           12.099999999999973,
           0.16528925619834747
          ],
          [
           10.599999999999978,
           0
          ],
          [
           7.39999999999999,
           0.2702702702702707
          ],
          [
           7.099999999999991,
           0.28169014084507077
          ],
          [
           13.599999999999968,
           0.1470588235294121
          ],
          [
           5.399999999999997,
           0.37037037037037057
          ],
          [
           3.800000000000002,
           0
          ],
          [
           6.5999999999999925,
           0.30303030303030337
          ],
          [
           6.799999999999992,
           0.2941176470588239
          ],
          [
           9.299999999999983,
           0.2150537634408606
          ],
          [
           8.899999999999984,
           0.2247191011235959
          ],
          [
           9.299999999999983,
           0.2150537634408606
          ],
          [
           9.699999999999982,
           0.20618556701030968
          ],
          [
           12.099999999999973,
           0.16528925619834747
          ],
          [
           5.999999999999995,
           0.33333333333333365
          ],
          [
           2.800000000000001,
           0.714285714285714
          ],
          [
           14.599999999999964,
           0.13698630136986334
          ],
          [
           6.8999999999999915,
           0
          ],
          [
           10.29999999999998,
           0.19417475728155378
          ],
          [
           13.799999999999967,
           0.1449275362318844
          ],
          [
           17.899999999999984,
           0
          ],
          [
           28.20000000000013,
           0.07092198581560251
          ],
          [
           10.499999999999979,
           0.19047619047619085
          ],
          [
           4.999999999999998,
           0.40000000000000013
          ],
          [
           7.29999999999999,
           0.2739726027397264
          ],
          [
           9.399999999999983,
           0
          ],
          [
           12.599999999999971,
           0.15873015873015908
          ],
          [
           12.299999999999972,
           0.16260162601626052
          ],
          [
           11.299999999999976,
           0.17699115044247826
          ],
          [
           19.300000000000004,
           0.10362694300518133
          ],
          [
           6.399999999999993,
           0.31250000000000033
          ],
          [
           6.8999999999999915,
           0.28985507246376846
          ],
          [
           15.399999999999961,
           0.1298701298701302
          ],
          [
           5.699999999999996,
           0.3508771929824564
          ],
          [
           6.5999999999999925,
           0.30303030303030337
          ],
          [
           14.599999999999964,
           0.13698630136986334
          ],
          [
           17.199999999999974,
           0.11627906976744204
          ],
          [
           5.599999999999996,
           0.3571428571428574
          ],
          [
           4.799999999999999,
           0.41666666666666674
          ],
          [
           10.699999999999978,
           0.18691588785046767
          ],
          [
           17.69999999999998,
           0.112994350282486
          ],
          [
           6.699999999999992,
           0.2985074626865675
          ],
          [
           5.999999999999995,
           0
          ],
          [
           16.09999999999996,
           0.12422360248447237
          ],
          [
           9.799999999999981,
           0.20408163265306162
          ],
          [
           10.999999999999977,
           0.1818181818181822
          ],
          [
           6.299999999999994,
           0.3174603174603178
          ],
          [
           11.299999999999976,
           0.17699115044247826
          ],
          [
           10.999999999999977,
           0.1818181818181822
          ],
          [
           5.999999999999995,
           0
          ],
          [
           12.499999999999972,
           0.16000000000000036
          ],
          [
           2.1000000000000005,
           0
          ],
          [
           6.5999999999999925,
           0.30303030303030337
          ],
          [
           6.5999999999999925,
           0.30303030303030337
          ],
          [
           8.999999999999984,
           0.22222222222222263
          ],
          [
           9.99999999999998,
           0.2000000000000004
          ],
          [
           7.599999999999989,
           0.2631578947368425
          ],
          [
           11.799999999999974,
           0.1694915254237292
          ],
          [
           11.799999999999974,
           0
          ],
          [
           7.599999999999989,
           0
          ],
          [
           13.499999999999968,
           0.1481481481481485
          ],
          [
           11.599999999999975,
           0
          ],
          [
           10.399999999999979,
           0
          ],
          [
           12.599999999999971,
           0
          ],
          [
           8.899999999999984,
           0.2247191011235959
          ]
         ],
         "hoverlabel": {
          "namelength": 0
         },
         "hovertemplate": "=%{y}<br>PPUT=%{customdata[1]}<br>clock=%{customdata[0]}",
         "legendgroup": "=Score NRL",
         "marker": {
          "color": "#EF553B"
         },
         "name": "=Score NRL",
         "notched": false,
         "offsetgroup": "=Score NRL",
         "orientation": "h",
         "showlegend": true,
         "type": "box",
         "x": [
          0,
          0,
          0.2777777777777781,
          0.16528925619834747,
          0.3571428571428574,
          0,
          0,
          0.18867924528301924,
          0.17699115044247826,
          0.21739130434782647,
          0,
          0.19801980198019842,
          0,
          0.12422360248447237,
          0,
          0.2127659574468089,
          0.1960784313725494,
          0,
          0.22222222222222263,
          0.20408163265306162,
          0.20408163265306162,
          0.3389830508474579,
          0.13605442176870783,
          0.2247191011235959,
          0,
          0.17241379310344865,
          0.16000000000000036,
          0.2380952380952385,
          0.20408163265306162,
          0.1694915254237292,
          0.24390243902439063,
          0.1398601398601402,
          0.13422818791946342,
          0.12500000000000033,
          0.2564102564102568,
          0.16528925619834747,
          0,
          0.2702702702702707,
          0.28169014084507077,
          0.1470588235294121,
          0.37037037037037057,
          0,
          0.30303030303030337,
          0.2941176470588239,
          0.2150537634408606,
          0.2247191011235959,
          0.2150537634408606,
          0.20618556701030968,
          0.16528925619834747,
          0.33333333333333365,
          0.714285714285714,
          0.13698630136986334,
          0,
          0.19417475728155378,
          0.1449275362318844,
          0,
          0.07092198581560251,
          0.19047619047619085,
          0.40000000000000013,
          0.2739726027397264,
          0,
          0.15873015873015908,
          0.16260162601626052,
          0.17699115044247826,
          0.10362694300518133,
          0.31250000000000033,
          0.28985507246376846,
          0.1298701298701302,
          0.3508771929824564,
          0.30303030303030337,
          0.13698630136986334,
          0.11627906976744204,
          0.3571428571428574,
          0.41666666666666674,
          0.18691588785046767,
          0.112994350282486,
          0.2985074626865675,
          0,
          0.12422360248447237,
          0.20408163265306162,
          0.1818181818181822,
          0.3174603174603178,
          0.17699115044247826,
          0.1818181818181822,
          0,
          0.16000000000000036,
          0,
          0.30303030303030337,
          0.30303030303030337,
          0.22222222222222263,
          0.2000000000000004,
          0.2631578947368425,
          0.1694915254237292,
          0,
          0,
          0.1481481481481485,
          0,
          0,
          0,
          0.2247191011235959
         ],
         "x0": " ",
         "xaxis": "x",
         "y": [
          "Score NRL",
          "Score NRL",
          "Score NRL",
          "Score NRL",
          "Score NRL",
          "Score NRL",
          "Score NRL",
          "Score NRL",
          "Score NRL",
          "Score NRL",
          "Score NRL",
          "Score NRL",
          "Score NRL",
          "Score NRL",
          "Score NRL",
          "Score NRL",
          "Score NRL",
          "Score NRL",
          "Score NRL",
          "Score NRL",
          "Score NRL",
          "Score NRL",
          "Score NRL",
          "Score NRL",
          "Score NRL",
          "Score NRL",
          "Score NRL",
          "Score NRL",
          "Score NRL",
          "Score NRL",
          "Score NRL",
          "Score NRL",
          "Score NRL",
          "Score NRL",
          "Score NRL",
          "Score NRL",
          "Score NRL",
          "Score NRL",
          "Score NRL",
          "Score NRL",
          "Score NRL",
          "Score NRL",
          "Score NRL",
          "Score NRL",
          "Score NRL",
          "Score NRL",
          "Score NRL",
          "Score NRL",
          "Score NRL",
          "Score NRL",
          "Score NRL",
          "Score NRL",
          "Score NRL",
          "Score NRL",
          "Score NRL",
          "Score NRL",
          "Score NRL",
          "Score NRL",
          "Score NRL",
          "Score NRL",
          "Score NRL",
          "Score NRL",
          "Score NRL",
          "Score NRL",
          "Score NRL",
          "Score NRL",
          "Score NRL",
          "Score NRL",
          "Score NRL",
          "Score NRL",
          "Score NRL",
          "Score NRL",
          "Score NRL",
          "Score NRL",
          "Score NRL",
          "Score NRL",
          "Score NRL",
          "Score NRL",
          "Score NRL",
          "Score NRL",
          "Score NRL",
          "Score NRL",
          "Score NRL",
          "Score NRL",
          "Score NRL",
          "Score NRL",
          "Score NRL",
          "Score NRL",
          "Score NRL",
          "Score NRL",
          "Score NRL",
          "Score NRL",
          "Score NRL",
          "Score NRL",
          "Score NRL",
          "Score NRL",
          "Score NRL",
          "Score NRL",
          "Score NRL",
          "Score NRL"
         ],
         "y0": " ",
         "yaxis": "y"
        },
        {
         "alignmentgroup": "True",
         "boxpoints": "outliers",
         "customdata": [
          [
           2.800000000000001,
           1.071428571428571
          ],
          [
           1.7000000000000004,
           1.7647058823529407
          ],
          [
           0.4,
           7.5
          ],
          [
           0.9999999999999999,
           3.0000000000000004
          ],
          [
           1.4000000000000001,
           2.142857142857143
          ],
          [
           0.9999999999999999,
           3.0000000000000004
          ],
          [
           0.30000000000000004,
           9.999999999999998
          ],
          [
           1.4000000000000001,
           2.142857142857143
          ],
          [
           1.8000000000000005,
           1.6666666666666663
          ],
          [
           0.6,
           5
          ],
          [
           0.9999999999999999,
           3.0000000000000004
          ],
          [
           1.4000000000000001,
           2.142857142857143
          ],
          [
           1.5000000000000002,
           1.9999999999999998
          ],
          [
           1.2,
           2.5
          ],
          [
           1.2,
           2.5
          ],
          [
           0.7999999999999999,
           3.7500000000000004
          ],
          [
           1.4000000000000001,
           2.142857142857143
          ],
          [
           1.8000000000000005,
           1.6666666666666663
          ],
          [
           0.9999999999999999,
           3.0000000000000004
          ],
          [
           1.3,
           2.3076923076923075
          ],
          [
           1.8000000000000005,
           1.6666666666666663
          ],
          [
           1.2,
           2.5
          ],
          [
           0.7,
           4.285714285714286
          ],
          [
           0.2,
           15
          ],
          [
           1.0999999999999999,
           2.7272727272727275
          ],
          [
           1.3,
           2.3076923076923075
          ],
          [
           0.6,
           5
          ],
          [
           0.9999999999999999,
           3.0000000000000004
          ],
          [
           0.1,
           30
          ],
          [
           1.0999999999999999,
           2.7272727272727275
          ],
          [
           1.7000000000000004,
           1.7647058823529407
          ],
          [
           0.7999999999999999,
           3.7500000000000004
          ],
          [
           0.8999999999999999,
           3.3333333333333335
          ],
          [
           1.4000000000000001,
           2.142857142857143
          ],
          [
           1.3,
           2.3076923076923075
          ],
          [
           1.0999999999999999,
           2.7272727272727275
          ],
          [
           0.7,
           4.285714285714286
          ],
          [
           0.2,
           15
          ],
          [
           1.0999999999999999,
           2.7272727272727275
          ],
          [
           1.5000000000000002,
           1.9999999999999998
          ],
          [
           0.7,
           4.285714285714286
          ],
          [
           0.7999999999999999,
           3.7500000000000004
          ],
          [
           0.7999999999999999,
           3.7500000000000004
          ],
          [
           0.8999999999999999,
           3.3333333333333335
          ],
          [
           1.3,
           2.3076923076923075
          ],
          [
           0.9999999999999999,
           3.0000000000000004
          ],
          [
           0.1,
           30
          ],
          [
           0.8999999999999999,
           3.3333333333333335
          ],
          [
           0.6,
           5
          ],
          [
           1.2,
           2.5
          ],
          [
           1.3,
           2.3076923076923075
          ],
          [
           0.4,
           7.5
          ],
          [
           1.8000000000000005,
           1.6666666666666663
          ],
          [
           0.9999999999999999,
           3.0000000000000004
          ],
          [
           0.8999999999999999,
           3.3333333333333335
          ],
          [
           1.4000000000000001,
           2.142857142857143
          ],
          [
           1.7000000000000004,
           1.7647058823529407
          ],
          [
           0.9999999999999999,
           3.0000000000000004
          ],
          [
           0.5,
           6
          ],
          [
           1.0999999999999999,
           2.7272727272727275
          ],
          [
           0.4,
           7.5
          ],
          [
           0.6,
           5
          ],
          [
           1.3,
           2.3076923076923075
          ],
          [
           0.8999999999999999,
           3.3333333333333335
          ],
          [
           0.6,
           5
          ],
          [
           0.5,
           6
          ],
          [
           1.3,
           2.3076923076923075
          ],
          [
           0.7999999999999999,
           3.7500000000000004
          ],
          [
           2.700000000000001,
           1.1111111111111107
          ],
          [
           2.800000000000001,
           1.071428571428571
          ],
          [
           1.9000000000000006,
           1.5789473684210522
          ],
          [
           1.4000000000000001,
           2.142857142857143
          ],
          [
           0.8999999999999999,
           3.3333333333333335
          ],
          [
           1.2,
           2.5
          ],
          [
           1.0999999999999999,
           2.7272727272727275
          ],
          [
           1.0999999999999999,
           2.7272727272727275
          ],
          [
           1.2,
           2.5
          ],
          [
           1.0999999999999999,
           2.7272727272727275
          ],
          [
           0.5,
           6
          ],
          [
           0.1,
           30
          ],
          [
           0.30000000000000004,
           9.999999999999998
          ],
          [
           3.2000000000000015,
           0.9374999999999996
          ],
          [
           1.5000000000000002,
           1.9999999999999998
          ],
          [
           0.4,
           7.5
          ],
          [
           0.9999999999999999,
           3.0000000000000004
          ],
          [
           0.1,
           30
          ],
          [
           1.7000000000000004,
           1.7647058823529407
          ],
          [
           1.4000000000000001,
           2.142857142857143
          ],
          [
           1.0999999999999999,
           2.7272727272727275
          ],
          [
           0.7,
           4.285714285714286
          ],
          [
           1.0999999999999999,
           2.7272727272727275
          ],
          [
           0.8999999999999999,
           3.3333333333333335
          ],
          [
           1.4000000000000001,
           2.142857142857143
          ],
          [
           1.2,
           2.5
          ],
          [
           0.9999999999999999,
           3.0000000000000004
          ],
          [
           1.6000000000000003,
           1.8749999999999996
          ],
          [
           1.0999999999999999,
           2.7272727272727275
          ],
          [
           1.7000000000000004,
           1.7647058823529407
          ],
          [
           1.4000000000000001,
           2.142857142857143
          ],
          [
           0.2,
           15
          ]
         ],
         "hoverlabel": {
          "namelength": 0
         },
         "hovertemplate": "=%{y}<br>PPUT=%{customdata[1]}<br>clock=%{customdata[0]}",
         "legendgroup": "=drive_off_hab1",
         "marker": {
          "color": "#00cc96"
         },
         "name": "=drive_off_hab1",
         "notched": false,
         "offsetgroup": "=drive_off_hab1",
         "orientation": "h",
         "showlegend": true,
         "type": "box",
         "x": [
          1.071428571428571,
          1.7647058823529407,
          7.5,
          3.0000000000000004,
          2.142857142857143,
          3.0000000000000004,
          9.999999999999998,
          2.142857142857143,
          1.6666666666666663,
          5,
          3.0000000000000004,
          2.142857142857143,
          1.9999999999999998,
          2.5,
          2.5,
          3.7500000000000004,
          2.142857142857143,
          1.6666666666666663,
          3.0000000000000004,
          2.3076923076923075,
          1.6666666666666663,
          2.5,
          4.285714285714286,
          15,
          2.7272727272727275,
          2.3076923076923075,
          5,
          3.0000000000000004,
          30,
          2.7272727272727275,
          1.7647058823529407,
          3.7500000000000004,
          3.3333333333333335,
          2.142857142857143,
          2.3076923076923075,
          2.7272727272727275,
          4.285714285714286,
          15,
          2.7272727272727275,
          1.9999999999999998,
          4.285714285714286,
          3.7500000000000004,
          3.7500000000000004,
          3.3333333333333335,
          2.3076923076923075,
          3.0000000000000004,
          30,
          3.3333333333333335,
          5,
          2.5,
          2.3076923076923075,
          7.5,
          1.6666666666666663,
          3.0000000000000004,
          3.3333333333333335,
          2.142857142857143,
          1.7647058823529407,
          3.0000000000000004,
          6,
          2.7272727272727275,
          7.5,
          5,
          2.3076923076923075,
          3.3333333333333335,
          5,
          6,
          2.3076923076923075,
          3.7500000000000004,
          1.1111111111111107,
          1.071428571428571,
          1.5789473684210522,
          2.142857142857143,
          3.3333333333333335,
          2.5,
          2.7272727272727275,
          2.7272727272727275,
          2.5,
          2.7272727272727275,
          6,
          30,
          9.999999999999998,
          0.9374999999999996,
          1.9999999999999998,
          7.5,
          3.0000000000000004,
          30,
          1.7647058823529407,
          2.142857142857143,
          2.7272727272727275,
          4.285714285714286,
          2.7272727272727275,
          3.3333333333333335,
          2.142857142857143,
          2.5,
          3.0000000000000004,
          1.8749999999999996,
          2.7272727272727275,
          1.7647058823529407,
          2.142857142857143,
          15
         ],
         "x0": " ",
         "xaxis": "x",
         "y": [
          "drive_off_hab1",
          "drive_off_hab1",
          "drive_off_hab1",
          "drive_off_hab1",
          "drive_off_hab1",
          "drive_off_hab1",
          "drive_off_hab1",
          "drive_off_hab1",
          "drive_off_hab1",
          "drive_off_hab1",
          "drive_off_hab1",
          "drive_off_hab1",
          "drive_off_hab1",
          "drive_off_hab1",
          "drive_off_hab1",
          "drive_off_hab1",
          "drive_off_hab1",
          "drive_off_hab1",
          "drive_off_hab1",
          "drive_off_hab1",
          "drive_off_hab1",
          "drive_off_hab1",
          "drive_off_hab1",
          "drive_off_hab1",
          "drive_off_hab1",
          "drive_off_hab1",
          "drive_off_hab1",
          "drive_off_hab1",
          "drive_off_hab1",
          "drive_off_hab1",
          "drive_off_hab1",
          "drive_off_hab1",
          "drive_off_hab1",
          "drive_off_hab1",
          "drive_off_hab1",
          "drive_off_hab1",
          "drive_off_hab1",
          "drive_off_hab1",
          "drive_off_hab1",
          "drive_off_hab1",
          "drive_off_hab1",
          "drive_off_hab1",
          "drive_off_hab1",
          "drive_off_hab1",
          "drive_off_hab1",
          "drive_off_hab1",
          "drive_off_hab1",
          "drive_off_hab1",
          "drive_off_hab1",
          "drive_off_hab1",
          "drive_off_hab1",
          "drive_off_hab1",
          "drive_off_hab1",
          "drive_off_hab1",
          "drive_off_hab1",
          "drive_off_hab1",
          "drive_off_hab1",
          "drive_off_hab1",
          "drive_off_hab1",
          "drive_off_hab1",
          "drive_off_hab1",
          "drive_off_hab1",
          "drive_off_hab1",
          "drive_off_hab1",
          "drive_off_hab1",
          "drive_off_hab1",
          "drive_off_hab1",
          "drive_off_hab1",
          "drive_off_hab1",
          "drive_off_hab1",
          "drive_off_hab1",
          "drive_off_hab1",
          "drive_off_hab1",
          "drive_off_hab1",
          "drive_off_hab1",
          "drive_off_hab1",
          "drive_off_hab1",
          "drive_off_hab1",
          "drive_off_hab1",
          "drive_off_hab1",
          "drive_off_hab1",
          "drive_off_hab1",
          "drive_off_hab1",
          "drive_off_hab1",
          "drive_off_hab1",
          "drive_off_hab1",
          "drive_off_hab1",
          "drive_off_hab1",
          "drive_off_hab1",
          "drive_off_hab1",
          "drive_off_hab1",
          "drive_off_hab1",
          "drive_off_hab1",
          "drive_off_hab1",
          "drive_off_hab1",
          "drive_off_hab1",
          "drive_off_hab1",
          "drive_off_hab1",
          "drive_off_hab1",
          "drive_off_hab1"
         ],
         "y0": " ",
         "yaxis": "y"
        },
        {
         "alignmentgroup": "True",
         "boxpoints": "outliers",
         "customdata": [
          [
           1.0999999999999999,
           5.454545454545455
          ],
          [
           1.3,
           4.615384615384615
          ],
          [
           2.0000000000000004,
           2.9999999999999996
          ],
          [
           0.7,
           8.571428571428571
          ],
          [
           1.2,
           5
          ],
          [
           0.30000000000000004,
           19.999999999999996
          ],
          [
           2.500000000000001,
           2.399999999999999
          ],
          [
           1.7000000000000004,
           3.5294117647058814
          ],
          [
           1.2,
           5
          ],
          [
           1.3,
           4.615384615384615
          ],
          [
           1.3,
           4.615384615384615
          ],
          [
           2.3000000000000007,
           2.608695652173912
          ],
          [
           1.8000000000000005,
           3.3333333333333326
          ],
          [
           0.8999999999999999,
           6.666666666666667
          ],
          [
           1.4000000000000001,
           4.285714285714286
          ],
          [
           0.8999999999999999,
           6.666666666666667
          ],
          [
           0.7,
           8.571428571428571
          ],
          [
           1.3,
           4.615384615384615
          ],
          [
           0.4,
           15
          ],
          [
           1.5000000000000002,
           3.9999999999999996
          ],
          [
           0.4,
           15
          ],
          [
           0.9999999999999999,
           6.000000000000001
          ],
          [
           0.9999999999999999,
           6.000000000000001
          ],
          [
           1.5000000000000002,
           3.9999999999999996
          ],
          [
           0.8999999999999999,
           6.666666666666667
          ],
          [
           1.3,
           4.615384615384615
          ],
          [
           1.9000000000000006,
           3.1578947368421044
          ],
          [
           0.9999999999999999,
           6.000000000000001
          ],
          [
           1.2,
           5
          ],
          [
           1.3,
           4.615384615384615
          ],
          [
           1.0999999999999999,
           5.454545454545455
          ],
          [
           0.5,
           12
          ],
          [
           1.9000000000000006,
           3.1578947368421044
          ],
          [
           1.2,
           5
          ],
          [
           1.7000000000000004,
           3.5294117647058814
          ],
          [
           1.9000000000000006,
           3.1578947368421044
          ],
          [
           1.3,
           4.615384615384615
          ],
          [
           0.8999999999999999,
           6.666666666666667
          ],
          [
           0.8999999999999999,
           6.666666666666667
          ],
          [
           0.5,
           12
          ],
          [
           1.5000000000000002,
           3.9999999999999996
          ],
          [
           0.9999999999999999,
           6.000000000000001
          ],
          [
           0.9999999999999999,
           6.000000000000001
          ],
          [
           0.9999999999999999,
           6.000000000000001
          ],
          [
           0.7,
           8.571428571428571
          ],
          [
           1.6000000000000003,
           3.749999999999999
          ],
          [
           2.1000000000000005,
           2.8571428571428563
          ],
          [
           1.3,
           4.615384615384615
          ],
          [
           1.5000000000000002,
           3.9999999999999996
          ],
          [
           1.2,
           5
          ],
          [
           1.5000000000000002,
           3.9999999999999996
          ],
          [
           0.7,
           8.571428571428571
          ],
          [
           2.0000000000000004,
           2.9999999999999996
          ],
          [
           0.8999999999999999,
           6.666666666666667
          ],
          [
           1.7000000000000004,
           3.5294117647058814
          ],
          [
           0.4,
           15
          ],
          [
           1.4000000000000001,
           4.285714285714286
          ],
          [
           1.4000000000000001,
           4.285714285714286
          ],
          [
           1.0999999999999999,
           5.454545454545455
          ],
          [
           0.7,
           8.571428571428571
          ],
          [
           0.4,
           15
          ],
          [
           1.0999999999999999,
           5.454545454545455
          ],
          [
           1.3,
           4.615384615384615
          ],
          [
           0.6,
           10
          ],
          [
           0.7999999999999999,
           7.500000000000001
          ],
          [
           1.4000000000000001,
           4.285714285714286
          ],
          [
           1.8000000000000005,
           3.3333333333333326
          ],
          [
           1.9000000000000006,
           3.1578947368421044
          ],
          [
           1.2,
           5
          ],
          [
           1.6000000000000003,
           3.749999999999999
          ],
          [
           0.8999999999999999,
           6.666666666666667
          ],
          [
           0.7,
           8.571428571428571
          ],
          [
           1.5000000000000002,
           3.9999999999999996
          ],
          [
           0.7999999999999999,
           7.500000000000001
          ],
          [
           0.9999999999999999,
           6.000000000000001
          ],
          [
           1.4000000000000001,
           4.285714285714286
          ],
          [
           0.8999999999999999,
           6.666666666666667
          ],
          [
           0.8999999999999999,
           6.666666666666667
          ],
          [
           1.5000000000000002,
           3.9999999999999996
          ],
          [
           1.4000000000000001,
           4.285714285714286
          ],
          [
           1.0999999999999999,
           5.454545454545455
          ],
          [
           0.7999999999999999,
           7.500000000000001
          ],
          [
           1.0999999999999999,
           5.454545454545455
          ],
          [
           0.7,
           8.571428571428571
          ],
          [
           1.5000000000000002,
           3.9999999999999996
          ],
          [
           1.4000000000000001,
           4.285714285714286
          ],
          [
           0.7999999999999999,
           7.500000000000001
          ],
          [
           1.8000000000000005,
           3.3333333333333326
          ],
          [
           1.7000000000000004,
           3.5294117647058814
          ],
          [
           1.4000000000000001,
           4.285714285714286
          ],
          [
           1.5000000000000002,
           3.9999999999999996
          ],
          [
           1.5000000000000002,
           3.9999999999999996
          ],
          [
           0.9999999999999999,
           6.000000000000001
          ],
          [
           0.7,
           8.571428571428571
          ],
          [
           1.6000000000000003,
           3.749999999999999
          ],
          [
           1.2,
           5
          ],
          [
           0.6,
           10
          ],
          [
           1.4000000000000001,
           4.285714285714286
          ],
          [
           1.3,
           4.615384615384615
          ],
          [
           0.7999999999999999,
           7.500000000000001
          ]
         ],
         "hoverlabel": {
          "namelength": 0
         },
         "hovertemplate": "=%{y}<br>PPUT=%{customdata[1]}<br>clock=%{customdata[0]}",
         "legendgroup": "=drive_off_hab2",
         "marker": {
          "color": "#ab63fa"
         },
         "name": "=drive_off_hab2",
         "notched": false,
         "offsetgroup": "=drive_off_hab2",
         "orientation": "h",
         "showlegend": true,
         "type": "box",
         "x": [
          5.454545454545455,
          4.615384615384615,
          2.9999999999999996,
          8.571428571428571,
          5,
          19.999999999999996,
          2.399999999999999,
          3.5294117647058814,
          5,
          4.615384615384615,
          4.615384615384615,
          2.608695652173912,
          3.3333333333333326,
          6.666666666666667,
          4.285714285714286,
          6.666666666666667,
          8.571428571428571,
          4.615384615384615,
          15,
          3.9999999999999996,
          15,
          6.000000000000001,
          6.000000000000001,
          3.9999999999999996,
          6.666666666666667,
          4.615384615384615,
          3.1578947368421044,
          6.000000000000001,
          5,
          4.615384615384615,
          5.454545454545455,
          12,
          3.1578947368421044,
          5,
          3.5294117647058814,
          3.1578947368421044,
          4.615384615384615,
          6.666666666666667,
          6.666666666666667,
          12,
          3.9999999999999996,
          6.000000000000001,
          6.000000000000001,
          6.000000000000001,
          8.571428571428571,
          3.749999999999999,
          2.8571428571428563,
          4.615384615384615,
          3.9999999999999996,
          5,
          3.9999999999999996,
          8.571428571428571,
          2.9999999999999996,
          6.666666666666667,
          3.5294117647058814,
          15,
          4.285714285714286,
          4.285714285714286,
          5.454545454545455,
          8.571428571428571,
          15,
          5.454545454545455,
          4.615384615384615,
          10,
          7.500000000000001,
          4.285714285714286,
          3.3333333333333326,
          3.1578947368421044,
          5,
          3.749999999999999,
          6.666666666666667,
          8.571428571428571,
          3.9999999999999996,
          7.500000000000001,
          6.000000000000001,
          4.285714285714286,
          6.666666666666667,
          6.666666666666667,
          3.9999999999999996,
          4.285714285714286,
          5.454545454545455,
          7.500000000000001,
          5.454545454545455,
          8.571428571428571,
          3.9999999999999996,
          4.285714285714286,
          7.500000000000001,
          3.3333333333333326,
          3.5294117647058814,
          4.285714285714286,
          3.9999999999999996,
          3.9999999999999996,
          6.000000000000001,
          8.571428571428571,
          3.749999999999999,
          5,
          10,
          4.285714285714286,
          4.615384615384615,
          7.500000000000001
         ],
         "x0": " ",
         "xaxis": "x",
         "y": [
          "drive_off_hab2",
          "drive_off_hab2",
          "drive_off_hab2",
          "drive_off_hab2",
          "drive_off_hab2",
          "drive_off_hab2",
          "drive_off_hab2",
          "drive_off_hab2",
          "drive_off_hab2",
          "drive_off_hab2",
          "drive_off_hab2",
          "drive_off_hab2",
          "drive_off_hab2",
          "drive_off_hab2",
          "drive_off_hab2",
          "drive_off_hab2",
          "drive_off_hab2",
          "drive_off_hab2",
          "drive_off_hab2",
          "drive_off_hab2",
          "drive_off_hab2",
          "drive_off_hab2",
          "drive_off_hab2",
          "drive_off_hab2",
          "drive_off_hab2",
          "drive_off_hab2",
          "drive_off_hab2",
          "drive_off_hab2",
          "drive_off_hab2",
          "drive_off_hab2",
          "drive_off_hab2",
          "drive_off_hab2",
          "drive_off_hab2",
          "drive_off_hab2",
          "drive_off_hab2",
          "drive_off_hab2",
          "drive_off_hab2",
          "drive_off_hab2",
          "drive_off_hab2",
          "drive_off_hab2",
          "drive_off_hab2",
          "drive_off_hab2",
          "drive_off_hab2",
          "drive_off_hab2",
          "drive_off_hab2",
          "drive_off_hab2",
          "drive_off_hab2",
          "drive_off_hab2",
          "drive_off_hab2",
          "drive_off_hab2",
          "drive_off_hab2",
          "drive_off_hab2",
          "drive_off_hab2",
          "drive_off_hab2",
          "drive_off_hab2",
          "drive_off_hab2",
          "drive_off_hab2",
          "drive_off_hab2",
          "drive_off_hab2",
          "drive_off_hab2",
          "drive_off_hab2",
          "drive_off_hab2",
          "drive_off_hab2",
          "drive_off_hab2",
          "drive_off_hab2",
          "drive_off_hab2",
          "drive_off_hab2",
          "drive_off_hab2",
          "drive_off_hab2",
          "drive_off_hab2",
          "drive_off_hab2",
          "drive_off_hab2",
          "drive_off_hab2",
          "drive_off_hab2",
          "drive_off_hab2",
          "drive_off_hab2",
          "drive_off_hab2",
          "drive_off_hab2",
          "drive_off_hab2",
          "drive_off_hab2",
          "drive_off_hab2",
          "drive_off_hab2",
          "drive_off_hab2",
          "drive_off_hab2",
          "drive_off_hab2",
          "drive_off_hab2",
          "drive_off_hab2",
          "drive_off_hab2",
          "drive_off_hab2",
          "drive_off_hab2",
          "drive_off_hab2",
          "drive_off_hab2",
          "drive_off_hab2",
          "drive_off_hab2",
          "drive_off_hab2",
          "drive_off_hab2",
          "drive_off_hab2",
          "drive_off_hab2",
          "drive_off_hab2",
          "drive_off_hab2"
         ],
         "y0": " ",
         "yaxis": "y"
        }
       ],
       "layout": {
        "boxmode": "group",
        "legend": {
         "tracegroupgap": 0,
         "x": 0,
         "y": -0.3
        },
        "showlegend": false,
        "template": {
         "data": {
          "bar": [
           {
            "error_x": {
             "color": "#2a3f5f"
            },
            "error_y": {
             "color": "#2a3f5f"
            },
            "marker": {
             "line": {
              "color": "#E5ECF6",
              "width": 0.5
             }
            },
            "type": "bar"
           }
          ],
          "barpolar": [
           {
            "marker": {
             "line": {
              "color": "#E5ECF6",
              "width": 0.5
             }
            },
            "type": "barpolar"
           }
          ],
          "carpet": [
           {
            "aaxis": {
             "endlinecolor": "#2a3f5f",
             "gridcolor": "white",
             "linecolor": "white",
             "minorgridcolor": "white",
             "startlinecolor": "#2a3f5f"
            },
            "baxis": {
             "endlinecolor": "#2a3f5f",
             "gridcolor": "white",
             "linecolor": "white",
             "minorgridcolor": "white",
             "startlinecolor": "#2a3f5f"
            },
            "type": "carpet"
           }
          ],
          "choropleth": [
           {
            "colorbar": {
             "outlinewidth": 0,
             "ticks": ""
            },
            "type": "choropleth"
           }
          ],
          "contour": [
           {
            "colorbar": {
             "outlinewidth": 0,
             "ticks": ""
            },
            "colorscale": [
             [
              0,
              "#0d0887"
             ],
             [
              0.1111111111111111,
              "#46039f"
             ],
             [
              0.2222222222222222,
              "#7201a8"
             ],
             [
              0.3333333333333333,
              "#9c179e"
             ],
             [
              0.4444444444444444,
              "#bd3786"
             ],
             [
              0.5555555555555556,
              "#d8576b"
             ],
             [
              0.6666666666666666,
              "#ed7953"
             ],
             [
              0.7777777777777778,
              "#fb9f3a"
             ],
             [
              0.8888888888888888,
              "#fdca26"
             ],
             [
              1,
              "#f0f921"
             ]
            ],
            "type": "contour"
           }
          ],
          "contourcarpet": [
           {
            "colorbar": {
             "outlinewidth": 0,
             "ticks": ""
            },
            "type": "contourcarpet"
           }
          ],
          "heatmap": [
           {
            "colorbar": {
             "outlinewidth": 0,
             "ticks": ""
            },
            "colorscale": [
             [
              0,
              "#0d0887"
             ],
             [
              0.1111111111111111,
              "#46039f"
             ],
             [
              0.2222222222222222,
              "#7201a8"
             ],
             [
              0.3333333333333333,
              "#9c179e"
             ],
             [
              0.4444444444444444,
              "#bd3786"
             ],
             [
              0.5555555555555556,
              "#d8576b"
             ],
             [
              0.6666666666666666,
              "#ed7953"
             ],
             [
              0.7777777777777778,
              "#fb9f3a"
             ],
             [
              0.8888888888888888,
              "#fdca26"
             ],
             [
              1,
              "#f0f921"
             ]
            ],
            "type": "heatmap"
           }
          ],
          "heatmapgl": [
           {
            "colorbar": {
             "outlinewidth": 0,
             "ticks": ""
            },
            "colorscale": [
             [
              0,
              "#0d0887"
             ],
             [
              0.1111111111111111,
              "#46039f"
             ],
             [
              0.2222222222222222,
              "#7201a8"
             ],
             [
              0.3333333333333333,
              "#9c179e"
             ],
             [
              0.4444444444444444,
              "#bd3786"
             ],
             [
              0.5555555555555556,
              "#d8576b"
             ],
             [
              0.6666666666666666,
              "#ed7953"
             ],
             [
              0.7777777777777778,
              "#fb9f3a"
             ],
             [
              0.8888888888888888,
              "#fdca26"
             ],
             [
              1,
              "#f0f921"
             ]
            ],
            "type": "heatmapgl"
           }
          ],
          "histogram": [
           {
            "marker": {
             "colorbar": {
              "outlinewidth": 0,
              "ticks": ""
             }
            },
            "type": "histogram"
           }
          ],
          "histogram2d": [
           {
            "colorbar": {
             "outlinewidth": 0,
             "ticks": ""
            },
            "colorscale": [
             [
              0,
              "#0d0887"
             ],
             [
              0.1111111111111111,
              "#46039f"
             ],
             [
              0.2222222222222222,
              "#7201a8"
             ],
             [
              0.3333333333333333,
              "#9c179e"
             ],
             [
              0.4444444444444444,
              "#bd3786"
             ],
             [
              0.5555555555555556,
              "#d8576b"
             ],
             [
              0.6666666666666666,
              "#ed7953"
             ],
             [
              0.7777777777777778,
              "#fb9f3a"
             ],
             [
              0.8888888888888888,
              "#fdca26"
             ],
             [
              1,
              "#f0f921"
             ]
            ],
            "type": "histogram2d"
           }
          ],
          "histogram2dcontour": [
           {
            "colorbar": {
             "outlinewidth": 0,
             "ticks": ""
            },
            "colorscale": [
             [
              0,
              "#0d0887"
             ],
             [
              0.1111111111111111,
              "#46039f"
             ],
             [
              0.2222222222222222,
              "#7201a8"
             ],
             [
              0.3333333333333333,
              "#9c179e"
             ],
             [
              0.4444444444444444,
              "#bd3786"
             ],
             [
              0.5555555555555556,
              "#d8576b"
             ],
             [
              0.6666666666666666,
              "#ed7953"
             ],
             [
              0.7777777777777778,
              "#fb9f3a"
             ],
             [
              0.8888888888888888,
              "#fdca26"
             ],
             [
              1,
              "#f0f921"
             ]
            ],
            "type": "histogram2dcontour"
           }
          ],
          "mesh3d": [
           {
            "colorbar": {
             "outlinewidth": 0,
             "ticks": ""
            },
            "type": "mesh3d"
           }
          ],
          "parcoords": [
           {
            "line": {
             "colorbar": {
              "outlinewidth": 0,
              "ticks": ""
             }
            },
            "type": "parcoords"
           }
          ],
          "pie": [
           {
            "automargin": true,
            "type": "pie"
           }
          ],
          "scatter": [
           {
            "marker": {
             "colorbar": {
              "outlinewidth": 0,
              "ticks": ""
             }
            },
            "type": "scatter"
           }
          ],
          "scatter3d": [
           {
            "line": {
             "colorbar": {
              "outlinewidth": 0,
              "ticks": ""
             }
            },
            "marker": {
             "colorbar": {
              "outlinewidth": 0,
              "ticks": ""
             }
            },
            "type": "scatter3d"
           }
          ],
          "scattercarpet": [
           {
            "marker": {
             "colorbar": {
              "outlinewidth": 0,
              "ticks": ""
             }
            },
            "type": "scattercarpet"
           }
          ],
          "scattergeo": [
           {
            "marker": {
             "colorbar": {
              "outlinewidth": 0,
              "ticks": ""
             }
            },
            "type": "scattergeo"
           }
          ],
          "scattergl": [
           {
            "marker": {
             "colorbar": {
              "outlinewidth": 0,
              "ticks": ""
             }
            },
            "type": "scattergl"
           }
          ],
          "scattermapbox": [
           {
            "marker": {
             "colorbar": {
              "outlinewidth": 0,
              "ticks": ""
             }
            },
            "type": "scattermapbox"
           }
          ],
          "scatterpolar": [
           {
            "marker": {
             "colorbar": {
              "outlinewidth": 0,
              "ticks": ""
             }
            },
            "type": "scatterpolar"
           }
          ],
          "scatterpolargl": [
           {
            "marker": {
             "colorbar": {
              "outlinewidth": 0,
              "ticks": ""
             }
            },
            "type": "scatterpolargl"
           }
          ],
          "scatterternary": [
           {
            "marker": {
             "colorbar": {
              "outlinewidth": 0,
              "ticks": ""
             }
            },
            "type": "scatterternary"
           }
          ],
          "surface": [
           {
            "colorbar": {
             "outlinewidth": 0,
             "ticks": ""
            },
            "colorscale": [
             [
              0,
              "#0d0887"
             ],
             [
              0.1111111111111111,
              "#46039f"
             ],
             [
              0.2222222222222222,
              "#7201a8"
             ],
             [
              0.3333333333333333,
              "#9c179e"
             ],
             [
              0.4444444444444444,
              "#bd3786"
             ],
             [
              0.5555555555555556,
              "#d8576b"
             ],
             [
              0.6666666666666666,
              "#ed7953"
             ],
             [
              0.7777777777777778,
              "#fb9f3a"
             ],
             [
              0.8888888888888888,
              "#fdca26"
             ],
             [
              1,
              "#f0f921"
             ]
            ],
            "type": "surface"
           }
          ],
          "table": [
           {
            "cells": {
             "fill": {
              "color": "#EBF0F8"
             },
             "line": {
              "color": "white"
             }
            },
            "header": {
             "fill": {
              "color": "#C8D4E3"
             },
             "line": {
              "color": "white"
             }
            },
            "type": "table"
           }
          ]
         },
         "layout": {
          "annotationdefaults": {
           "arrowcolor": "#2a3f5f",
           "arrowhead": 0,
           "arrowwidth": 1
          },
          "coloraxis": {
           "colorbar": {
            "outlinewidth": 0,
            "ticks": ""
           }
          },
          "colorscale": {
           "diverging": [
            [
             0,
             "#8e0152"
            ],
            [
             0.1,
             "#c51b7d"
            ],
            [
             0.2,
             "#de77ae"
            ],
            [
             0.3,
             "#f1b6da"
            ],
            [
             0.4,
             "#fde0ef"
            ],
            [
             0.5,
             "#f7f7f7"
            ],
            [
             0.6,
             "#e6f5d0"
            ],
            [
             0.7,
             "#b8e186"
            ],
            [
             0.8,
             "#7fbc41"
            ],
            [
             0.9,
             "#4d9221"
            ],
            [
             1,
             "#276419"
            ]
           ],
           "sequential": [
            [
             0,
             "#0d0887"
            ],
            [
             0.1111111111111111,
             "#46039f"
            ],
            [
             0.2222222222222222,
             "#7201a8"
            ],
            [
             0.3333333333333333,
             "#9c179e"
            ],
            [
             0.4444444444444444,
             "#bd3786"
            ],
            [
             0.5555555555555556,
             "#d8576b"
            ],
            [
             0.6666666666666666,
             "#ed7953"
            ],
            [
             0.7777777777777778,
             "#fb9f3a"
            ],
            [
             0.8888888888888888,
             "#fdca26"
            ],
            [
             1,
             "#f0f921"
            ]
           ],
           "sequentialminus": [
            [
             0,
             "#0d0887"
            ],
            [
             0.1111111111111111,
             "#46039f"
            ],
            [
             0.2222222222222222,
             "#7201a8"
            ],
            [
             0.3333333333333333,
             "#9c179e"
            ],
            [
             0.4444444444444444,
             "#bd3786"
            ],
            [
             0.5555555555555556,
             "#d8576b"
            ],
            [
             0.6666666666666666,
             "#ed7953"
            ],
            [
             0.7777777777777778,
             "#fb9f3a"
            ],
            [
             0.8888888888888888,
             "#fdca26"
            ],
            [
             1,
             "#f0f921"
            ]
           ]
          },
          "colorway": [
           "#636efa",
           "#EF553B",
           "#00cc96",
           "#ab63fa",
           "#FFA15A",
           "#19d3f3",
           "#FF6692",
           "#B6E880",
           "#FF97FF",
           "#FECB52"
          ],
          "font": {
           "color": "#2a3f5f"
          },
          "geo": {
           "bgcolor": "white",
           "lakecolor": "white",
           "landcolor": "#E5ECF6",
           "showlakes": true,
           "showland": true,
           "subunitcolor": "white"
          },
          "hoverlabel": {
           "align": "left"
          },
          "hovermode": "closest",
          "mapbox": {
           "style": "light"
          },
          "paper_bgcolor": "white",
          "plot_bgcolor": "#E5ECF6",
          "polar": {
           "angularaxis": {
            "gridcolor": "white",
            "linecolor": "white",
            "ticks": ""
           },
           "bgcolor": "#E5ECF6",
           "radialaxis": {
            "gridcolor": "white",
            "linecolor": "white",
            "ticks": ""
           }
          },
          "scene": {
           "xaxis": {
            "backgroundcolor": "#E5ECF6",
            "gridcolor": "white",
            "gridwidth": 2,
            "linecolor": "white",
            "showbackground": true,
            "ticks": "",
            "zerolinecolor": "white"
           },
           "yaxis": {
            "backgroundcolor": "#E5ECF6",
            "gridcolor": "white",
            "gridwidth": 2,
            "linecolor": "white",
            "showbackground": true,
            "ticks": "",
            "zerolinecolor": "white"
           },
           "zaxis": {
            "backgroundcolor": "#E5ECF6",
            "gridcolor": "white",
            "gridwidth": 2,
            "linecolor": "white",
            "showbackground": true,
            "ticks": "",
            "zerolinecolor": "white"
           }
          },
          "shapedefaults": {
           "line": {
            "color": "#2a3f5f"
           }
          },
          "ternary": {
           "aaxis": {
            "gridcolor": "white",
            "linecolor": "white",
            "ticks": ""
           },
           "baxis": {
            "gridcolor": "white",
            "linecolor": "white",
            "ticks": ""
           },
           "bgcolor": "#E5ECF6",
           "caxis": {
            "gridcolor": "white",
            "linecolor": "white",
            "ticks": ""
           }
          },
          "title": {
           "x": 0.05
          },
          "xaxis": {
           "automargin": true,
           "gridcolor": "white",
           "linecolor": "white",
           "ticks": "",
           "title": {
            "standoff": 15
           },
           "zerolinecolor": "white",
           "zerolinewidth": 2
          },
          "yaxis": {
           "automargin": true,
           "gridcolor": "white",
           "linecolor": "white",
           "ticks": "",
           "title": {
            "standoff": 15
           },
           "zerolinecolor": "white",
           "zerolinewidth": 2
          }
         }
        },
        "title": {
         "text": "PPUT by Action"
        },
        "xaxis": {
         "anchor": "y",
         "domain": [
          0,
          1
         ],
         "title": {
          "text": "PPUT"
         }
        },
        "yaxis": {
         "anchor": "x",
         "categoryarray": [
          "drive_off_hab2",
          "drive_off_hab1",
          "Score NRL",
          "Score FRL"
         ],
         "categoryorder": "array",
         "domain": [
          0,
          1
         ],
         "title": {
          "text": ""
         }
        }
       }
      },
      "text/html": [
       "<div>\n",
       "        \n",
       "        \n",
       "            <div id=\"9ec76137-f150-454b-91f7-4567d890aecd\" class=\"plotly-graph-div\" style=\"height:525px; width:100%;\"></div>\n",
       "            <script type=\"text/javascript\">\n",
       "                require([\"plotly\"], function(Plotly) {\n",
       "                    window.PLOTLYENV=window.PLOTLYENV || {};\n",
       "                    \n",
       "                if (document.getElementById(\"9ec76137-f150-454b-91f7-4567d890aecd\")) {\n",
       "                    Plotly.newPlot(\n",
       "                        '9ec76137-f150-454b-91f7-4567d890aecd',\n",
       "                        [{\"alignmentgroup\": \"True\", \"boxpoints\": \"outliers\", \"customdata\": [[14.899999999999963, 0.13422818791946342], [9.699999999999982, 0.20618556701030968], [11.299999999999976, 0.17699115044247826], [29.100000000000144, 0.06872852233676942], [26.0000000000001, 0.07692307692307662], [17.69999999999998, 0.112994350282486], [12.89999999999997, 0.15503875968992284], [9.699999999999982, 0.0], [11.999999999999973, 0.0], [17.099999999999973, 0.11695906432748557], [11.599999999999975, 0.17241379310344865], [17.299999999999976, 0.0], [12.399999999999972, 0.16129032258064552], [24.500000000000078, 0.08163265306122423], [17.799999999999983, 0.11235955056179786], [6.099999999999994, 0.0], [14.299999999999965, 0.1398601398601402], [13.299999999999969, 0.0], [14.099999999999966, 0.14184397163120602], [12.89999999999997, 0.15503875968992284], [14.799999999999963, 0.13513513513513548], [16.09999999999996, 0.12422360248447237], [8.299999999999986, 0.24096385542168713], [11.499999999999975, 0.17391304347826125], [16.79999999999997, 0.11904761904761926], [21.300000000000033, 0.09389671361502333], [26.600000000000108, 0.07518796992481172], [28.300000000000132, 0.0], [10.499999999999979, 0.19047619047619085], [7.099999999999991, 0.28169014084507077], [15.69999999999996, 0.0], [12.599999999999971, 0.15873015873015908], [8.099999999999987, 0.24691358024691398], [12.99999999999997, 0.15384615384615422], [33.60000000000021, 0.0], [13.09999999999997, 0.1526717557251912], [9.799999999999981, 0.20408163265306162], [15.399999999999961, 0.0], [20.30000000000002, 0.09852216748768464], [39.100000000000286, 0.051150895140664586], [10.29999999999998, 0.19417475728155378], [12.99999999999997, 0.15384615384615422], [14.999999999999963, 0.13333333333333366], [15.59999999999996, 0.12820512820512853], [11.699999999999974, 0.0], [9.89999999999998, 0.2020202020202024], [8.699999999999985, 0.22988505747126475], [12.399999999999972, 0.0], [14.699999999999964, 0.13605442176870783], [21.00000000000003, 0.09523809523809511], [16.09999999999996, 0.12422360248447237], [12.099999999999973, 0.16528925619834747], [9.399999999999983, 0.2127659574468089], [27.700000000000124, 0.07220216606498163], [16.599999999999966, 0.0], [18.699999999999996, 0.0], [13.599999999999968, 0.1470588235294121], [8.699999999999985, 0.0], [17.299999999999976, 0.11560693641618514], [8.599999999999985, 0.2325581395348841], [23.600000000000065, 0.08474576271186417], [7.699999999999989, 0.2597402597402601], [10.499999999999979, 0.19047619047619085], [34.100000000000215, 0.058651026392961506], [12.69999999999997, 0.15748031496063028], [14.299999999999965, 0.1398601398601402], [13.199999999999969, 0.0], [14.599999999999964, 0.13698630136986334], [12.599999999999971, 0.15873015873015908], [22.60000000000005, 0.08849557522123874], [13.199999999999969, 0.15151515151515188], [7.29999999999999, 0.0], [9.399999999999983, 0.2127659574468089], [7.699999999999989, 0.2597402597402601], [15.59999999999996, 0.12820512820512853], [22.50000000000005, 0.0888888888888887], [15.99999999999996, 0.12500000000000033], [6.999999999999991, 0.0], [15.199999999999962, 0.13157894736842138], [12.79999999999997, 0.15625000000000036], [25.100000000000087, 0.07968127490039813], [13.699999999999967, 0.14598540145985436], [9.89999999999998, 0.0], [35.10000000000023, 0.056980056980056606], [15.099999999999962, 0.13245033112582816], [29.400000000000148, 0.0680272108843534], [19.0, 0.10526315789473684], [12.599999999999971, 0.15873015873015908], [13.799999999999967, 0.1449275362318844], [10.29999999999998, 0.19417475728155378], [28.600000000000136, 0.0699300699300696], [12.69999999999997, 0.15748031496063028], [11.199999999999976, 0.17857142857142896], [15.099999999999962, 0.13245033112582816], [12.69999999999997, 0.15748031496063028], [8.599999999999985, 0.0], [19.60000000000001, 0.10204081632653057], [24.500000000000078, 0.08163265306122423], [16.79999999999997, 0.11904761904761926], [8.799999999999985, 0.22727272727272765]], \"hoverlabel\": {\"namelength\": 0}, \"hovertemplate\": \"=%{y}<br>PPUT=%{customdata[1]}<br>clock=%{customdata[0]}\", \"legendgroup\": \"=Score FRL\", \"marker\": {\"color\": \"#636efa\"}, \"name\": \"=Score FRL\", \"notched\": false, \"offsetgroup\": \"=Score FRL\", \"orientation\": \"h\", \"showlegend\": true, \"type\": \"box\", \"x\": [0.13422818791946342, 0.20618556701030968, 0.17699115044247826, 0.06872852233676942, 0.07692307692307662, 0.112994350282486, 0.15503875968992284, 0.0, 0.0, 0.11695906432748557, 0.17241379310344865, 0.0, 0.16129032258064552, 0.08163265306122423, 0.11235955056179786, 0.0, 0.1398601398601402, 0.0, 0.14184397163120602, 0.15503875968992284, 0.13513513513513548, 0.12422360248447237, 0.24096385542168713, 0.17391304347826125, 0.11904761904761926, 0.09389671361502333, 0.07518796992481172, 0.0, 0.19047619047619085, 0.28169014084507077, 0.0, 0.15873015873015908, 0.24691358024691398, 0.15384615384615422, 0.0, 0.1526717557251912, 0.20408163265306162, 0.0, 0.09852216748768464, 0.051150895140664586, 0.19417475728155378, 0.15384615384615422, 0.13333333333333366, 0.12820512820512853, 0.0, 0.2020202020202024, 0.22988505747126475, 0.0, 0.13605442176870783, 0.09523809523809511, 0.12422360248447237, 0.16528925619834747, 0.2127659574468089, 0.07220216606498163, 0.0, 0.0, 0.1470588235294121, 0.0, 0.11560693641618514, 0.2325581395348841, 0.08474576271186417, 0.2597402597402601, 0.19047619047619085, 0.058651026392961506, 0.15748031496063028, 0.1398601398601402, 0.0, 0.13698630136986334, 0.15873015873015908, 0.08849557522123874, 0.15151515151515188, 0.0, 0.2127659574468089, 0.2597402597402601, 0.12820512820512853, 0.0888888888888887, 0.12500000000000033, 0.0, 0.13157894736842138, 0.15625000000000036, 0.07968127490039813, 0.14598540145985436, 0.0, 0.056980056980056606, 0.13245033112582816, 0.0680272108843534, 0.10526315789473684, 0.15873015873015908, 0.1449275362318844, 0.19417475728155378, 0.0699300699300696, 0.15748031496063028, 0.17857142857142896, 0.13245033112582816, 0.15748031496063028, 0.0, 0.10204081632653057, 0.08163265306122423, 0.11904761904761926, 0.22727272727272765], \"x0\": \" \", \"xaxis\": \"x\", \"y\": [\"Score FRL\", \"Score FRL\", \"Score FRL\", \"Score FRL\", \"Score FRL\", \"Score FRL\", \"Score FRL\", \"Score FRL\", \"Score FRL\", \"Score FRL\", \"Score FRL\", \"Score FRL\", \"Score FRL\", \"Score FRL\", \"Score FRL\", \"Score FRL\", \"Score FRL\", \"Score FRL\", \"Score FRL\", \"Score FRL\", \"Score FRL\", \"Score FRL\", \"Score FRL\", \"Score FRL\", \"Score FRL\", \"Score FRL\", \"Score FRL\", \"Score FRL\", \"Score FRL\", \"Score FRL\", \"Score FRL\", \"Score FRL\", \"Score FRL\", \"Score FRL\", \"Score FRL\", \"Score FRL\", \"Score FRL\", \"Score FRL\", \"Score FRL\", \"Score FRL\", \"Score FRL\", \"Score FRL\", \"Score FRL\", \"Score FRL\", \"Score FRL\", \"Score FRL\", \"Score FRL\", \"Score FRL\", \"Score FRL\", \"Score FRL\", \"Score FRL\", \"Score FRL\", \"Score FRL\", \"Score FRL\", \"Score FRL\", \"Score FRL\", \"Score FRL\", \"Score FRL\", \"Score FRL\", \"Score FRL\", \"Score FRL\", \"Score FRL\", \"Score FRL\", \"Score FRL\", \"Score FRL\", \"Score FRL\", \"Score FRL\", \"Score FRL\", \"Score FRL\", \"Score FRL\", \"Score FRL\", \"Score FRL\", \"Score FRL\", \"Score FRL\", \"Score FRL\", \"Score FRL\", \"Score FRL\", \"Score FRL\", \"Score FRL\", \"Score FRL\", \"Score FRL\", \"Score FRL\", \"Score FRL\", \"Score FRL\", \"Score FRL\", \"Score FRL\", \"Score FRL\", \"Score FRL\", \"Score FRL\", \"Score FRL\", \"Score FRL\", \"Score FRL\", \"Score FRL\", \"Score FRL\", \"Score FRL\", \"Score FRL\", \"Score FRL\", \"Score FRL\", \"Score FRL\", \"Score FRL\"], \"y0\": \" \", \"yaxis\": \"y\"}, {\"alignmentgroup\": \"True\", \"boxpoints\": \"outliers\", \"customdata\": [[10.699999999999978, 0.0], [4.300000000000001, 0.0], [7.19999999999999, 0.2777777777777781], [12.099999999999973, 0.16528925619834747], [5.599999999999996, 0.3571428571428574], [12.99999999999997, 0.0], [11.999999999999973, 0.0], [10.599999999999978, 0.18867924528301924], [11.299999999999976, 0.17699115044247826], [9.199999999999983, 0.21739130434782647], [8.299999999999986, 0.0], [10.09999999999998, 0.19801980198019842], [14.899999999999963, 0.0], [16.09999999999996, 0.12422360248447237], [12.79999999999997, 0.0], [9.399999999999983, 0.2127659574468089], [10.19999999999998, 0.1960784313725494], [7.699999999999989, 0.0], [8.999999999999984, 0.22222222222222263], [9.799999999999981, 0.20408163265306162], [9.799999999999981, 0.20408163265306162], [5.899999999999995, 0.3389830508474579], [14.699999999999964, 0.13605442176870783], [8.899999999999984, 0.2247191011235959], [7.999999999999988, 0.0], [11.599999999999975, 0.17241379310344865], [12.499999999999972, 0.16000000000000036], [8.399999999999986, 0.2380952380952385], [9.799999999999981, 0.20408163265306162], [11.799999999999974, 0.1694915254237292], [8.199999999999987, 0.24390243902439063], [14.299999999999965, 0.1398601398601402], [14.899999999999963, 0.13422818791946342], [15.99999999999996, 0.12500000000000033], [7.799999999999988, 0.2564102564102568], [12.099999999999973, 0.16528925619834747], [10.599999999999978, 0.0], [7.39999999999999, 0.2702702702702707], [7.099999999999991, 0.28169014084507077], [13.599999999999968, 0.1470588235294121], [5.399999999999997, 0.37037037037037057], [3.800000000000002, 0.0], [6.5999999999999925, 0.30303030303030337], [6.799999999999992, 0.2941176470588239], [9.299999999999983, 0.2150537634408606], [8.899999999999984, 0.2247191011235959], [9.299999999999983, 0.2150537634408606], [9.699999999999982, 0.20618556701030968], [12.099999999999973, 0.16528925619834747], [5.999999999999995, 0.33333333333333365], [2.800000000000001, 0.714285714285714], [14.599999999999964, 0.13698630136986334], [6.8999999999999915, 0.0], [10.29999999999998, 0.19417475728155378], [13.799999999999967, 0.1449275362318844], [17.899999999999984, 0.0], [28.20000000000013, 0.07092198581560251], [10.499999999999979, 0.19047619047619085], [4.999999999999998, 0.40000000000000013], [7.29999999999999, 0.2739726027397264], [9.399999999999983, 0.0], [12.599999999999971, 0.15873015873015908], [12.299999999999972, 0.16260162601626052], [11.299999999999976, 0.17699115044247826], [19.300000000000004, 0.10362694300518133], [6.399999999999993, 0.31250000000000033], [6.8999999999999915, 0.28985507246376846], [15.399999999999961, 0.1298701298701302], [5.699999999999996, 0.3508771929824564], [6.5999999999999925, 0.30303030303030337], [14.599999999999964, 0.13698630136986334], [17.199999999999974, 0.11627906976744204], [5.599999999999996, 0.3571428571428574], [4.799999999999999, 0.41666666666666674], [10.699999999999978, 0.18691588785046767], [17.69999999999998, 0.112994350282486], [6.699999999999992, 0.2985074626865675], [5.999999999999995, 0.0], [16.09999999999996, 0.12422360248447237], [9.799999999999981, 0.20408163265306162], [10.999999999999977, 0.1818181818181822], [6.299999999999994, 0.3174603174603178], [11.299999999999976, 0.17699115044247826], [10.999999999999977, 0.1818181818181822], [5.999999999999995, 0.0], [12.499999999999972, 0.16000000000000036], [2.1000000000000005, 0.0], [6.5999999999999925, 0.30303030303030337], [6.5999999999999925, 0.30303030303030337], [8.999999999999984, 0.22222222222222263], [9.99999999999998, 0.2000000000000004], [7.599999999999989, 0.2631578947368425], [11.799999999999974, 0.1694915254237292], [11.799999999999974, 0.0], [7.599999999999989, 0.0], [13.499999999999968, 0.1481481481481485], [11.599999999999975, 0.0], [10.399999999999979, 0.0], [12.599999999999971, 0.0], [8.899999999999984, 0.2247191011235959]], \"hoverlabel\": {\"namelength\": 0}, \"hovertemplate\": \"=%{y}<br>PPUT=%{customdata[1]}<br>clock=%{customdata[0]}\", \"legendgroup\": \"=Score NRL\", \"marker\": {\"color\": \"#EF553B\"}, \"name\": \"=Score NRL\", \"notched\": false, \"offsetgroup\": \"=Score NRL\", \"orientation\": \"h\", \"showlegend\": true, \"type\": \"box\", \"x\": [0.0, 0.0, 0.2777777777777781, 0.16528925619834747, 0.3571428571428574, 0.0, 0.0, 0.18867924528301924, 0.17699115044247826, 0.21739130434782647, 0.0, 0.19801980198019842, 0.0, 0.12422360248447237, 0.0, 0.2127659574468089, 0.1960784313725494, 0.0, 0.22222222222222263, 0.20408163265306162, 0.20408163265306162, 0.3389830508474579, 0.13605442176870783, 0.2247191011235959, 0.0, 0.17241379310344865, 0.16000000000000036, 0.2380952380952385, 0.20408163265306162, 0.1694915254237292, 0.24390243902439063, 0.1398601398601402, 0.13422818791946342, 0.12500000000000033, 0.2564102564102568, 0.16528925619834747, 0.0, 0.2702702702702707, 0.28169014084507077, 0.1470588235294121, 0.37037037037037057, 0.0, 0.30303030303030337, 0.2941176470588239, 0.2150537634408606, 0.2247191011235959, 0.2150537634408606, 0.20618556701030968, 0.16528925619834747, 0.33333333333333365, 0.714285714285714, 0.13698630136986334, 0.0, 0.19417475728155378, 0.1449275362318844, 0.0, 0.07092198581560251, 0.19047619047619085, 0.40000000000000013, 0.2739726027397264, 0.0, 0.15873015873015908, 0.16260162601626052, 0.17699115044247826, 0.10362694300518133, 0.31250000000000033, 0.28985507246376846, 0.1298701298701302, 0.3508771929824564, 0.30303030303030337, 0.13698630136986334, 0.11627906976744204, 0.3571428571428574, 0.41666666666666674, 0.18691588785046767, 0.112994350282486, 0.2985074626865675, 0.0, 0.12422360248447237, 0.20408163265306162, 0.1818181818181822, 0.3174603174603178, 0.17699115044247826, 0.1818181818181822, 0.0, 0.16000000000000036, 0.0, 0.30303030303030337, 0.30303030303030337, 0.22222222222222263, 0.2000000000000004, 0.2631578947368425, 0.1694915254237292, 0.0, 0.0, 0.1481481481481485, 0.0, 0.0, 0.0, 0.2247191011235959], \"x0\": \" \", \"xaxis\": \"x\", \"y\": [\"Score NRL\", \"Score NRL\", \"Score NRL\", \"Score NRL\", \"Score NRL\", \"Score NRL\", \"Score NRL\", \"Score NRL\", \"Score NRL\", \"Score NRL\", \"Score NRL\", \"Score NRL\", \"Score NRL\", \"Score NRL\", \"Score NRL\", \"Score NRL\", \"Score NRL\", \"Score NRL\", \"Score NRL\", \"Score NRL\", \"Score NRL\", \"Score NRL\", \"Score NRL\", \"Score NRL\", \"Score NRL\", \"Score NRL\", \"Score NRL\", \"Score NRL\", \"Score NRL\", \"Score NRL\", \"Score NRL\", \"Score NRL\", \"Score NRL\", \"Score NRL\", \"Score NRL\", \"Score NRL\", \"Score NRL\", \"Score NRL\", \"Score NRL\", \"Score NRL\", \"Score NRL\", \"Score NRL\", \"Score NRL\", \"Score NRL\", \"Score NRL\", \"Score NRL\", \"Score NRL\", \"Score NRL\", \"Score NRL\", \"Score NRL\", \"Score NRL\", \"Score NRL\", \"Score NRL\", \"Score NRL\", \"Score NRL\", \"Score NRL\", \"Score NRL\", \"Score NRL\", \"Score NRL\", \"Score NRL\", \"Score NRL\", \"Score NRL\", \"Score NRL\", \"Score NRL\", \"Score NRL\", \"Score NRL\", \"Score NRL\", \"Score NRL\", \"Score NRL\", \"Score NRL\", \"Score NRL\", \"Score NRL\", \"Score NRL\", \"Score NRL\", \"Score NRL\", \"Score NRL\", \"Score NRL\", \"Score NRL\", \"Score NRL\", \"Score NRL\", \"Score NRL\", \"Score NRL\", \"Score NRL\", \"Score NRL\", \"Score NRL\", \"Score NRL\", \"Score NRL\", \"Score NRL\", \"Score NRL\", \"Score NRL\", \"Score NRL\", \"Score NRL\", \"Score NRL\", \"Score NRL\", \"Score NRL\", \"Score NRL\", \"Score NRL\", \"Score NRL\", \"Score NRL\", \"Score NRL\"], \"y0\": \" \", \"yaxis\": \"y\"}, {\"alignmentgroup\": \"True\", \"boxpoints\": \"outliers\", \"customdata\": [[2.800000000000001, 1.071428571428571], [1.7000000000000004, 1.7647058823529407], [0.4, 7.5], [0.9999999999999999, 3.0000000000000004], [1.4000000000000001, 2.142857142857143], [0.9999999999999999, 3.0000000000000004], [0.30000000000000004, 9.999999999999998], [1.4000000000000001, 2.142857142857143], [1.8000000000000005, 1.6666666666666663], [0.6, 5.0], [0.9999999999999999, 3.0000000000000004], [1.4000000000000001, 2.142857142857143], [1.5000000000000002, 1.9999999999999998], [1.2, 2.5], [1.2, 2.5], [0.7999999999999999, 3.7500000000000004], [1.4000000000000001, 2.142857142857143], [1.8000000000000005, 1.6666666666666663], [0.9999999999999999, 3.0000000000000004], [1.3, 2.3076923076923075], [1.8000000000000005, 1.6666666666666663], [1.2, 2.5], [0.7, 4.285714285714286], [0.2, 15.0], [1.0999999999999999, 2.7272727272727275], [1.3, 2.3076923076923075], [0.6, 5.0], [0.9999999999999999, 3.0000000000000004], [0.1, 30.0], [1.0999999999999999, 2.7272727272727275], [1.7000000000000004, 1.7647058823529407], [0.7999999999999999, 3.7500000000000004], [0.8999999999999999, 3.3333333333333335], [1.4000000000000001, 2.142857142857143], [1.3, 2.3076923076923075], [1.0999999999999999, 2.7272727272727275], [0.7, 4.285714285714286], [0.2, 15.0], [1.0999999999999999, 2.7272727272727275], [1.5000000000000002, 1.9999999999999998], [0.7, 4.285714285714286], [0.7999999999999999, 3.7500000000000004], [0.7999999999999999, 3.7500000000000004], [0.8999999999999999, 3.3333333333333335], [1.3, 2.3076923076923075], [0.9999999999999999, 3.0000000000000004], [0.1, 30.0], [0.8999999999999999, 3.3333333333333335], [0.6, 5.0], [1.2, 2.5], [1.3, 2.3076923076923075], [0.4, 7.5], [1.8000000000000005, 1.6666666666666663], [0.9999999999999999, 3.0000000000000004], [0.8999999999999999, 3.3333333333333335], [1.4000000000000001, 2.142857142857143], [1.7000000000000004, 1.7647058823529407], [0.9999999999999999, 3.0000000000000004], [0.5, 6.0], [1.0999999999999999, 2.7272727272727275], [0.4, 7.5], [0.6, 5.0], [1.3, 2.3076923076923075], [0.8999999999999999, 3.3333333333333335], [0.6, 5.0], [0.5, 6.0], [1.3, 2.3076923076923075], [0.7999999999999999, 3.7500000000000004], [2.700000000000001, 1.1111111111111107], [2.800000000000001, 1.071428571428571], [1.9000000000000006, 1.5789473684210522], [1.4000000000000001, 2.142857142857143], [0.8999999999999999, 3.3333333333333335], [1.2, 2.5], [1.0999999999999999, 2.7272727272727275], [1.0999999999999999, 2.7272727272727275], [1.2, 2.5], [1.0999999999999999, 2.7272727272727275], [0.5, 6.0], [0.1, 30.0], [0.30000000000000004, 9.999999999999998], [3.2000000000000015, 0.9374999999999996], [1.5000000000000002, 1.9999999999999998], [0.4, 7.5], [0.9999999999999999, 3.0000000000000004], [0.1, 30.0], [1.7000000000000004, 1.7647058823529407], [1.4000000000000001, 2.142857142857143], [1.0999999999999999, 2.7272727272727275], [0.7, 4.285714285714286], [1.0999999999999999, 2.7272727272727275], [0.8999999999999999, 3.3333333333333335], [1.4000000000000001, 2.142857142857143], [1.2, 2.5], [0.9999999999999999, 3.0000000000000004], [1.6000000000000003, 1.8749999999999996], [1.0999999999999999, 2.7272727272727275], [1.7000000000000004, 1.7647058823529407], [1.4000000000000001, 2.142857142857143], [0.2, 15.0]], \"hoverlabel\": {\"namelength\": 0}, \"hovertemplate\": \"=%{y}<br>PPUT=%{customdata[1]}<br>clock=%{customdata[0]}\", \"legendgroup\": \"=drive_off_hab1\", \"marker\": {\"color\": \"#00cc96\"}, \"name\": \"=drive_off_hab1\", \"notched\": false, \"offsetgroup\": \"=drive_off_hab1\", \"orientation\": \"h\", \"showlegend\": true, \"type\": \"box\", \"x\": [1.071428571428571, 1.7647058823529407, 7.5, 3.0000000000000004, 2.142857142857143, 3.0000000000000004, 9.999999999999998, 2.142857142857143, 1.6666666666666663, 5.0, 3.0000000000000004, 2.142857142857143, 1.9999999999999998, 2.5, 2.5, 3.7500000000000004, 2.142857142857143, 1.6666666666666663, 3.0000000000000004, 2.3076923076923075, 1.6666666666666663, 2.5, 4.285714285714286, 15.0, 2.7272727272727275, 2.3076923076923075, 5.0, 3.0000000000000004, 30.0, 2.7272727272727275, 1.7647058823529407, 3.7500000000000004, 3.3333333333333335, 2.142857142857143, 2.3076923076923075, 2.7272727272727275, 4.285714285714286, 15.0, 2.7272727272727275, 1.9999999999999998, 4.285714285714286, 3.7500000000000004, 3.7500000000000004, 3.3333333333333335, 2.3076923076923075, 3.0000000000000004, 30.0, 3.3333333333333335, 5.0, 2.5, 2.3076923076923075, 7.5, 1.6666666666666663, 3.0000000000000004, 3.3333333333333335, 2.142857142857143, 1.7647058823529407, 3.0000000000000004, 6.0, 2.7272727272727275, 7.5, 5.0, 2.3076923076923075, 3.3333333333333335, 5.0, 6.0, 2.3076923076923075, 3.7500000000000004, 1.1111111111111107, 1.071428571428571, 1.5789473684210522, 2.142857142857143, 3.3333333333333335, 2.5, 2.7272727272727275, 2.7272727272727275, 2.5, 2.7272727272727275, 6.0, 30.0, 9.999999999999998, 0.9374999999999996, 1.9999999999999998, 7.5, 3.0000000000000004, 30.0, 1.7647058823529407, 2.142857142857143, 2.7272727272727275, 4.285714285714286, 2.7272727272727275, 3.3333333333333335, 2.142857142857143, 2.5, 3.0000000000000004, 1.8749999999999996, 2.7272727272727275, 1.7647058823529407, 2.142857142857143, 15.0], \"x0\": \" \", \"xaxis\": \"x\", \"y\": [\"drive_off_hab1\", \"drive_off_hab1\", \"drive_off_hab1\", \"drive_off_hab1\", \"drive_off_hab1\", \"drive_off_hab1\", \"drive_off_hab1\", \"drive_off_hab1\", \"drive_off_hab1\", \"drive_off_hab1\", \"drive_off_hab1\", \"drive_off_hab1\", \"drive_off_hab1\", \"drive_off_hab1\", \"drive_off_hab1\", \"drive_off_hab1\", \"drive_off_hab1\", \"drive_off_hab1\", \"drive_off_hab1\", \"drive_off_hab1\", \"drive_off_hab1\", \"drive_off_hab1\", \"drive_off_hab1\", \"drive_off_hab1\", \"drive_off_hab1\", \"drive_off_hab1\", \"drive_off_hab1\", \"drive_off_hab1\", \"drive_off_hab1\", \"drive_off_hab1\", \"drive_off_hab1\", \"drive_off_hab1\", \"drive_off_hab1\", \"drive_off_hab1\", \"drive_off_hab1\", \"drive_off_hab1\", \"drive_off_hab1\", \"drive_off_hab1\", \"drive_off_hab1\", \"drive_off_hab1\", \"drive_off_hab1\", \"drive_off_hab1\", \"drive_off_hab1\", \"drive_off_hab1\", \"drive_off_hab1\", \"drive_off_hab1\", \"drive_off_hab1\", \"drive_off_hab1\", \"drive_off_hab1\", \"drive_off_hab1\", \"drive_off_hab1\", \"drive_off_hab1\", \"drive_off_hab1\", \"drive_off_hab1\", \"drive_off_hab1\", \"drive_off_hab1\", \"drive_off_hab1\", \"drive_off_hab1\", \"drive_off_hab1\", \"drive_off_hab1\", \"drive_off_hab1\", \"drive_off_hab1\", \"drive_off_hab1\", \"drive_off_hab1\", \"drive_off_hab1\", \"drive_off_hab1\", \"drive_off_hab1\", \"drive_off_hab1\", \"drive_off_hab1\", \"drive_off_hab1\", \"drive_off_hab1\", \"drive_off_hab1\", \"drive_off_hab1\", \"drive_off_hab1\", \"drive_off_hab1\", \"drive_off_hab1\", \"drive_off_hab1\", \"drive_off_hab1\", \"drive_off_hab1\", \"drive_off_hab1\", \"drive_off_hab1\", \"drive_off_hab1\", \"drive_off_hab1\", \"drive_off_hab1\", \"drive_off_hab1\", \"drive_off_hab1\", \"drive_off_hab1\", \"drive_off_hab1\", \"drive_off_hab1\", \"drive_off_hab1\", \"drive_off_hab1\", \"drive_off_hab1\", \"drive_off_hab1\", \"drive_off_hab1\", \"drive_off_hab1\", \"drive_off_hab1\", \"drive_off_hab1\", \"drive_off_hab1\", \"drive_off_hab1\", \"drive_off_hab1\"], \"y0\": \" \", \"yaxis\": \"y\"}, {\"alignmentgroup\": \"True\", \"boxpoints\": \"outliers\", \"customdata\": [[1.0999999999999999, 5.454545454545455], [1.3, 4.615384615384615], [2.0000000000000004, 2.9999999999999996], [0.7, 8.571428571428571], [1.2, 5.0], [0.30000000000000004, 19.999999999999996], [2.500000000000001, 2.399999999999999], [1.7000000000000004, 3.5294117647058814], [1.2, 5.0], [1.3, 4.615384615384615], [1.3, 4.615384615384615], [2.3000000000000007, 2.608695652173912], [1.8000000000000005, 3.3333333333333326], [0.8999999999999999, 6.666666666666667], [1.4000000000000001, 4.285714285714286], [0.8999999999999999, 6.666666666666667], [0.7, 8.571428571428571], [1.3, 4.615384615384615], [0.4, 15.0], [1.5000000000000002, 3.9999999999999996], [0.4, 15.0], [0.9999999999999999, 6.000000000000001], [0.9999999999999999, 6.000000000000001], [1.5000000000000002, 3.9999999999999996], [0.8999999999999999, 6.666666666666667], [1.3, 4.615384615384615], [1.9000000000000006, 3.1578947368421044], [0.9999999999999999, 6.000000000000001], [1.2, 5.0], [1.3, 4.615384615384615], [1.0999999999999999, 5.454545454545455], [0.5, 12.0], [1.9000000000000006, 3.1578947368421044], [1.2, 5.0], [1.7000000000000004, 3.5294117647058814], [1.9000000000000006, 3.1578947368421044], [1.3, 4.615384615384615], [0.8999999999999999, 6.666666666666667], [0.8999999999999999, 6.666666666666667], [0.5, 12.0], [1.5000000000000002, 3.9999999999999996], [0.9999999999999999, 6.000000000000001], [0.9999999999999999, 6.000000000000001], [0.9999999999999999, 6.000000000000001], [0.7, 8.571428571428571], [1.6000000000000003, 3.749999999999999], [2.1000000000000005, 2.8571428571428563], [1.3, 4.615384615384615], [1.5000000000000002, 3.9999999999999996], [1.2, 5.0], [1.5000000000000002, 3.9999999999999996], [0.7, 8.571428571428571], [2.0000000000000004, 2.9999999999999996], [0.8999999999999999, 6.666666666666667], [1.7000000000000004, 3.5294117647058814], [0.4, 15.0], [1.4000000000000001, 4.285714285714286], [1.4000000000000001, 4.285714285714286], [1.0999999999999999, 5.454545454545455], [0.7, 8.571428571428571], [0.4, 15.0], [1.0999999999999999, 5.454545454545455], [1.3, 4.615384615384615], [0.6, 10.0], [0.7999999999999999, 7.500000000000001], [1.4000000000000001, 4.285714285714286], [1.8000000000000005, 3.3333333333333326], [1.9000000000000006, 3.1578947368421044], [1.2, 5.0], [1.6000000000000003, 3.749999999999999], [0.8999999999999999, 6.666666666666667], [0.7, 8.571428571428571], [1.5000000000000002, 3.9999999999999996], [0.7999999999999999, 7.500000000000001], [0.9999999999999999, 6.000000000000001], [1.4000000000000001, 4.285714285714286], [0.8999999999999999, 6.666666666666667], [0.8999999999999999, 6.666666666666667], [1.5000000000000002, 3.9999999999999996], [1.4000000000000001, 4.285714285714286], [1.0999999999999999, 5.454545454545455], [0.7999999999999999, 7.500000000000001], [1.0999999999999999, 5.454545454545455], [0.7, 8.571428571428571], [1.5000000000000002, 3.9999999999999996], [1.4000000000000001, 4.285714285714286], [0.7999999999999999, 7.500000000000001], [1.8000000000000005, 3.3333333333333326], [1.7000000000000004, 3.5294117647058814], [1.4000000000000001, 4.285714285714286], [1.5000000000000002, 3.9999999999999996], [1.5000000000000002, 3.9999999999999996], [0.9999999999999999, 6.000000000000001], [0.7, 8.571428571428571], [1.6000000000000003, 3.749999999999999], [1.2, 5.0], [0.6, 10.0], [1.4000000000000001, 4.285714285714286], [1.3, 4.615384615384615], [0.7999999999999999, 7.500000000000001]], \"hoverlabel\": {\"namelength\": 0}, \"hovertemplate\": \"=%{y}<br>PPUT=%{customdata[1]}<br>clock=%{customdata[0]}\", \"legendgroup\": \"=drive_off_hab2\", \"marker\": {\"color\": \"#ab63fa\"}, \"name\": \"=drive_off_hab2\", \"notched\": false, \"offsetgroup\": \"=drive_off_hab2\", \"orientation\": \"h\", \"showlegend\": true, \"type\": \"box\", \"x\": [5.454545454545455, 4.615384615384615, 2.9999999999999996, 8.571428571428571, 5.0, 19.999999999999996, 2.399999999999999, 3.5294117647058814, 5.0, 4.615384615384615, 4.615384615384615, 2.608695652173912, 3.3333333333333326, 6.666666666666667, 4.285714285714286, 6.666666666666667, 8.571428571428571, 4.615384615384615, 15.0, 3.9999999999999996, 15.0, 6.000000000000001, 6.000000000000001, 3.9999999999999996, 6.666666666666667, 4.615384615384615, 3.1578947368421044, 6.000000000000001, 5.0, 4.615384615384615, 5.454545454545455, 12.0, 3.1578947368421044, 5.0, 3.5294117647058814, 3.1578947368421044, 4.615384615384615, 6.666666666666667, 6.666666666666667, 12.0, 3.9999999999999996, 6.000000000000001, 6.000000000000001, 6.000000000000001, 8.571428571428571, 3.749999999999999, 2.8571428571428563, 4.615384615384615, 3.9999999999999996, 5.0, 3.9999999999999996, 8.571428571428571, 2.9999999999999996, 6.666666666666667, 3.5294117647058814, 15.0, 4.285714285714286, 4.285714285714286, 5.454545454545455, 8.571428571428571, 15.0, 5.454545454545455, 4.615384615384615, 10.0, 7.500000000000001, 4.285714285714286, 3.3333333333333326, 3.1578947368421044, 5.0, 3.749999999999999, 6.666666666666667, 8.571428571428571, 3.9999999999999996, 7.500000000000001, 6.000000000000001, 4.285714285714286, 6.666666666666667, 6.666666666666667, 3.9999999999999996, 4.285714285714286, 5.454545454545455, 7.500000000000001, 5.454545454545455, 8.571428571428571, 3.9999999999999996, 4.285714285714286, 7.500000000000001, 3.3333333333333326, 3.5294117647058814, 4.285714285714286, 3.9999999999999996, 3.9999999999999996, 6.000000000000001, 8.571428571428571, 3.749999999999999, 5.0, 10.0, 4.285714285714286, 4.615384615384615, 7.500000000000001], \"x0\": \" \", \"xaxis\": \"x\", \"y\": [\"drive_off_hab2\", \"drive_off_hab2\", \"drive_off_hab2\", \"drive_off_hab2\", \"drive_off_hab2\", \"drive_off_hab2\", \"drive_off_hab2\", \"drive_off_hab2\", \"drive_off_hab2\", \"drive_off_hab2\", \"drive_off_hab2\", \"drive_off_hab2\", \"drive_off_hab2\", \"drive_off_hab2\", \"drive_off_hab2\", \"drive_off_hab2\", \"drive_off_hab2\", \"drive_off_hab2\", \"drive_off_hab2\", \"drive_off_hab2\", \"drive_off_hab2\", \"drive_off_hab2\", \"drive_off_hab2\", \"drive_off_hab2\", \"drive_off_hab2\", \"drive_off_hab2\", \"drive_off_hab2\", \"drive_off_hab2\", \"drive_off_hab2\", \"drive_off_hab2\", \"drive_off_hab2\", \"drive_off_hab2\", \"drive_off_hab2\", \"drive_off_hab2\", \"drive_off_hab2\", \"drive_off_hab2\", \"drive_off_hab2\", \"drive_off_hab2\", \"drive_off_hab2\", \"drive_off_hab2\", \"drive_off_hab2\", \"drive_off_hab2\", \"drive_off_hab2\", \"drive_off_hab2\", \"drive_off_hab2\", \"drive_off_hab2\", \"drive_off_hab2\", \"drive_off_hab2\", \"drive_off_hab2\", \"drive_off_hab2\", \"drive_off_hab2\", \"drive_off_hab2\", \"drive_off_hab2\", \"drive_off_hab2\", \"drive_off_hab2\", \"drive_off_hab2\", \"drive_off_hab2\", \"drive_off_hab2\", \"drive_off_hab2\", \"drive_off_hab2\", \"drive_off_hab2\", \"drive_off_hab2\", \"drive_off_hab2\", \"drive_off_hab2\", \"drive_off_hab2\", \"drive_off_hab2\", \"drive_off_hab2\", \"drive_off_hab2\", \"drive_off_hab2\", \"drive_off_hab2\", \"drive_off_hab2\", \"drive_off_hab2\", \"drive_off_hab2\", \"drive_off_hab2\", \"drive_off_hab2\", \"drive_off_hab2\", \"drive_off_hab2\", \"drive_off_hab2\", \"drive_off_hab2\", \"drive_off_hab2\", \"drive_off_hab2\", \"drive_off_hab2\", \"drive_off_hab2\", \"drive_off_hab2\", \"drive_off_hab2\", \"drive_off_hab2\", \"drive_off_hab2\", \"drive_off_hab2\", \"drive_off_hab2\", \"drive_off_hab2\", \"drive_off_hab2\", \"drive_off_hab2\", \"drive_off_hab2\", \"drive_off_hab2\", \"drive_off_hab2\", \"drive_off_hab2\", \"drive_off_hab2\", \"drive_off_hab2\", \"drive_off_hab2\", \"drive_off_hab2\"], \"y0\": \" \", \"yaxis\": \"y\"}],\n",
       "                        {\"boxmode\": \"group\", \"legend\": {\"tracegroupgap\": 0, \"x\": 0, \"y\": -0.3}, \"showlegend\": false, \"template\": {\"data\": {\"bar\": [{\"error_x\": {\"color\": \"#2a3f5f\"}, \"error_y\": {\"color\": \"#2a3f5f\"}, \"marker\": {\"line\": {\"color\": \"#E5ECF6\", \"width\": 0.5}}, \"type\": \"bar\"}], \"barpolar\": [{\"marker\": {\"line\": {\"color\": \"#E5ECF6\", \"width\": 0.5}}, \"type\": \"barpolar\"}], \"carpet\": [{\"aaxis\": {\"endlinecolor\": \"#2a3f5f\", \"gridcolor\": \"white\", \"linecolor\": \"white\", \"minorgridcolor\": \"white\", \"startlinecolor\": \"#2a3f5f\"}, \"baxis\": {\"endlinecolor\": \"#2a3f5f\", \"gridcolor\": \"white\", \"linecolor\": \"white\", \"minorgridcolor\": \"white\", \"startlinecolor\": \"#2a3f5f\"}, \"type\": \"carpet\"}], \"choropleth\": [{\"colorbar\": {\"outlinewidth\": 0, \"ticks\": \"\"}, \"type\": \"choropleth\"}], \"contour\": [{\"colorbar\": {\"outlinewidth\": 0, \"ticks\": \"\"}, \"colorscale\": [[0.0, \"#0d0887\"], [0.1111111111111111, \"#46039f\"], [0.2222222222222222, \"#7201a8\"], [0.3333333333333333, \"#9c179e\"], [0.4444444444444444, \"#bd3786\"], [0.5555555555555556, \"#d8576b\"], [0.6666666666666666, \"#ed7953\"], [0.7777777777777778, \"#fb9f3a\"], [0.8888888888888888, \"#fdca26\"], [1.0, \"#f0f921\"]], \"type\": \"contour\"}], \"contourcarpet\": [{\"colorbar\": {\"outlinewidth\": 0, \"ticks\": \"\"}, \"type\": \"contourcarpet\"}], \"heatmap\": [{\"colorbar\": {\"outlinewidth\": 0, \"ticks\": \"\"}, \"colorscale\": [[0.0, \"#0d0887\"], [0.1111111111111111, \"#46039f\"], [0.2222222222222222, \"#7201a8\"], [0.3333333333333333, \"#9c179e\"], [0.4444444444444444, \"#bd3786\"], [0.5555555555555556, \"#d8576b\"], [0.6666666666666666, \"#ed7953\"], [0.7777777777777778, \"#fb9f3a\"], [0.8888888888888888, \"#fdca26\"], [1.0, \"#f0f921\"]], \"type\": \"heatmap\"}], \"heatmapgl\": [{\"colorbar\": {\"outlinewidth\": 0, \"ticks\": \"\"}, \"colorscale\": [[0.0, \"#0d0887\"], [0.1111111111111111, \"#46039f\"], [0.2222222222222222, \"#7201a8\"], [0.3333333333333333, \"#9c179e\"], [0.4444444444444444, \"#bd3786\"], [0.5555555555555556, \"#d8576b\"], [0.6666666666666666, \"#ed7953\"], [0.7777777777777778, \"#fb9f3a\"], [0.8888888888888888, \"#fdca26\"], [1.0, \"#f0f921\"]], \"type\": \"heatmapgl\"}], \"histogram\": [{\"marker\": {\"colorbar\": {\"outlinewidth\": 0, \"ticks\": \"\"}}, \"type\": \"histogram\"}], \"histogram2d\": [{\"colorbar\": {\"outlinewidth\": 0, \"ticks\": \"\"}, \"colorscale\": [[0.0, \"#0d0887\"], [0.1111111111111111, \"#46039f\"], [0.2222222222222222, \"#7201a8\"], [0.3333333333333333, \"#9c179e\"], [0.4444444444444444, \"#bd3786\"], [0.5555555555555556, \"#d8576b\"], [0.6666666666666666, \"#ed7953\"], [0.7777777777777778, \"#fb9f3a\"], [0.8888888888888888, \"#fdca26\"], [1.0, \"#f0f921\"]], \"type\": \"histogram2d\"}], \"histogram2dcontour\": [{\"colorbar\": {\"outlinewidth\": 0, \"ticks\": \"\"}, \"colorscale\": [[0.0, \"#0d0887\"], [0.1111111111111111, \"#46039f\"], [0.2222222222222222, \"#7201a8\"], [0.3333333333333333, \"#9c179e\"], [0.4444444444444444, \"#bd3786\"], [0.5555555555555556, \"#d8576b\"], [0.6666666666666666, \"#ed7953\"], [0.7777777777777778, \"#fb9f3a\"], [0.8888888888888888, \"#fdca26\"], [1.0, \"#f0f921\"]], \"type\": \"histogram2dcontour\"}], \"mesh3d\": [{\"colorbar\": {\"outlinewidth\": 0, \"ticks\": \"\"}, \"type\": \"mesh3d\"}], \"parcoords\": [{\"line\": {\"colorbar\": {\"outlinewidth\": 0, \"ticks\": \"\"}}, \"type\": \"parcoords\"}], \"pie\": [{\"automargin\": true, \"type\": \"pie\"}], \"scatter\": [{\"marker\": {\"colorbar\": {\"outlinewidth\": 0, \"ticks\": \"\"}}, \"type\": \"scatter\"}], \"scatter3d\": [{\"line\": {\"colorbar\": {\"outlinewidth\": 0, \"ticks\": \"\"}}, \"marker\": {\"colorbar\": {\"outlinewidth\": 0, \"ticks\": \"\"}}, \"type\": \"scatter3d\"}], \"scattercarpet\": [{\"marker\": {\"colorbar\": {\"outlinewidth\": 0, \"ticks\": \"\"}}, \"type\": \"scattercarpet\"}], \"scattergeo\": [{\"marker\": {\"colorbar\": {\"outlinewidth\": 0, \"ticks\": \"\"}}, \"type\": \"scattergeo\"}], \"scattergl\": [{\"marker\": {\"colorbar\": {\"outlinewidth\": 0, \"ticks\": \"\"}}, \"type\": \"scattergl\"}], \"scattermapbox\": [{\"marker\": {\"colorbar\": {\"outlinewidth\": 0, \"ticks\": \"\"}}, \"type\": \"scattermapbox\"}], \"scatterpolar\": [{\"marker\": {\"colorbar\": {\"outlinewidth\": 0, \"ticks\": \"\"}}, \"type\": \"scatterpolar\"}], \"scatterpolargl\": [{\"marker\": {\"colorbar\": {\"outlinewidth\": 0, \"ticks\": \"\"}}, \"type\": \"scatterpolargl\"}], \"scatterternary\": [{\"marker\": {\"colorbar\": {\"outlinewidth\": 0, \"ticks\": \"\"}}, \"type\": \"scatterternary\"}], \"surface\": [{\"colorbar\": {\"outlinewidth\": 0, \"ticks\": \"\"}, \"colorscale\": [[0.0, \"#0d0887\"], [0.1111111111111111, \"#46039f\"], [0.2222222222222222, \"#7201a8\"], [0.3333333333333333, \"#9c179e\"], [0.4444444444444444, \"#bd3786\"], [0.5555555555555556, \"#d8576b\"], [0.6666666666666666, \"#ed7953\"], [0.7777777777777778, \"#fb9f3a\"], [0.8888888888888888, \"#fdca26\"], [1.0, \"#f0f921\"]], \"type\": \"surface\"}], \"table\": [{\"cells\": {\"fill\": {\"color\": \"#EBF0F8\"}, \"line\": {\"color\": \"white\"}}, \"header\": {\"fill\": {\"color\": \"#C8D4E3\"}, \"line\": {\"color\": \"white\"}}, \"type\": \"table\"}]}, \"layout\": {\"annotationdefaults\": {\"arrowcolor\": \"#2a3f5f\", \"arrowhead\": 0, \"arrowwidth\": 1}, \"coloraxis\": {\"colorbar\": {\"outlinewidth\": 0, \"ticks\": \"\"}}, \"colorscale\": {\"diverging\": [[0, \"#8e0152\"], [0.1, \"#c51b7d\"], [0.2, \"#de77ae\"], [0.3, \"#f1b6da\"], [0.4, \"#fde0ef\"], [0.5, \"#f7f7f7\"], [0.6, \"#e6f5d0\"], [0.7, \"#b8e186\"], [0.8, \"#7fbc41\"], [0.9, \"#4d9221\"], [1, \"#276419\"]], \"sequential\": [[0.0, \"#0d0887\"], [0.1111111111111111, \"#46039f\"], [0.2222222222222222, \"#7201a8\"], [0.3333333333333333, \"#9c179e\"], [0.4444444444444444, \"#bd3786\"], [0.5555555555555556, \"#d8576b\"], [0.6666666666666666, \"#ed7953\"], [0.7777777777777778, \"#fb9f3a\"], [0.8888888888888888, \"#fdca26\"], [1.0, \"#f0f921\"]], \"sequentialminus\": [[0.0, \"#0d0887\"], [0.1111111111111111, \"#46039f\"], [0.2222222222222222, \"#7201a8\"], [0.3333333333333333, \"#9c179e\"], [0.4444444444444444, \"#bd3786\"], [0.5555555555555556, \"#d8576b\"], [0.6666666666666666, \"#ed7953\"], [0.7777777777777778, \"#fb9f3a\"], [0.8888888888888888, \"#fdca26\"], [1.0, \"#f0f921\"]]}, \"colorway\": [\"#636efa\", \"#EF553B\", \"#00cc96\", \"#ab63fa\", \"#FFA15A\", \"#19d3f3\", \"#FF6692\", \"#B6E880\", \"#FF97FF\", \"#FECB52\"], \"font\": {\"color\": \"#2a3f5f\"}, \"geo\": {\"bgcolor\": \"white\", \"lakecolor\": \"white\", \"landcolor\": \"#E5ECF6\", \"showlakes\": true, \"showland\": true, \"subunitcolor\": \"white\"}, \"hoverlabel\": {\"align\": \"left\"}, \"hovermode\": \"closest\", \"mapbox\": {\"style\": \"light\"}, \"paper_bgcolor\": \"white\", \"plot_bgcolor\": \"#E5ECF6\", \"polar\": {\"angularaxis\": {\"gridcolor\": \"white\", \"linecolor\": \"white\", \"ticks\": \"\"}, \"bgcolor\": \"#E5ECF6\", \"radialaxis\": {\"gridcolor\": \"white\", \"linecolor\": \"white\", \"ticks\": \"\"}}, \"scene\": {\"xaxis\": {\"backgroundcolor\": \"#E5ECF6\", \"gridcolor\": \"white\", \"gridwidth\": 2, \"linecolor\": \"white\", \"showbackground\": true, \"ticks\": \"\", \"zerolinecolor\": \"white\"}, \"yaxis\": {\"backgroundcolor\": \"#E5ECF6\", \"gridcolor\": \"white\", \"gridwidth\": 2, \"linecolor\": \"white\", \"showbackground\": true, \"ticks\": \"\", \"zerolinecolor\": \"white\"}, \"zaxis\": {\"backgroundcolor\": \"#E5ECF6\", \"gridcolor\": \"white\", \"gridwidth\": 2, \"linecolor\": \"white\", \"showbackground\": true, \"ticks\": \"\", \"zerolinecolor\": \"white\"}}, \"shapedefaults\": {\"line\": {\"color\": \"#2a3f5f\"}}, \"ternary\": {\"aaxis\": {\"gridcolor\": \"white\", \"linecolor\": \"white\", \"ticks\": \"\"}, \"baxis\": {\"gridcolor\": \"white\", \"linecolor\": \"white\", \"ticks\": \"\"}, \"bgcolor\": \"#E5ECF6\", \"caxis\": {\"gridcolor\": \"white\", \"linecolor\": \"white\", \"ticks\": \"\"}}, \"title\": {\"x\": 0.05}, \"xaxis\": {\"automargin\": true, \"gridcolor\": \"white\", \"linecolor\": \"white\", \"ticks\": \"\", \"title\": {\"standoff\": 15}, \"zerolinecolor\": \"white\", \"zerolinewidth\": 2}, \"yaxis\": {\"automargin\": true, \"gridcolor\": \"white\", \"linecolor\": \"white\", \"ticks\": \"\", \"title\": {\"standoff\": 15}, \"zerolinecolor\": \"white\", \"zerolinewidth\": 2}}}, \"title\": {\"text\": \"PPUT by Action\"}, \"xaxis\": {\"anchor\": \"y\", \"domain\": [0.0, 1.0], \"title\": {\"text\": \"PPUT\"}}, \"yaxis\": {\"anchor\": \"x\", \"categoryarray\": [\"drive_off_hab2\", \"drive_off_hab1\", \"Score NRL\", \"Score FRL\"], \"categoryorder\": \"array\", \"domain\": [0.0, 1.0], \"title\": {\"text\": \"\"}}},\n",
       "                        {\"responsive\": true}\n",
       "                    ).then(function(){\n",
       "                            \n",
       "var gd = document.getElementById('9ec76137-f150-454b-91f7-4567d890aecd');\n",
       "var x = new MutationObserver(function (mutations, observer) {{\n",
       "        var display = window.getComputedStyle(gd).display;\n",
       "        if (!display || display === 'none') {{\n",
       "            console.log([gd, 'removed!']);\n",
       "            Plotly.purge(gd);\n",
       "            observer.disconnect();\n",
       "        }}\n",
       "}});\n",
       "\n",
       "// Listen for the removal of the full notebook cells\n",
       "var notebookContainer = gd.closest('#notebook-container');\n",
       "if (notebookContainer) {{\n",
       "    x.observe(notebookContainer, {childList: true});\n",
       "}}\n",
       "\n",
       "// Listen for the clearing of the current output cell\n",
       "var outputEl = gd.closest('.output');\n",
       "if (outputEl) {{\n",
       "    x.observe(outputEl, {childList: true});\n",
       "}}\n",
       "\n",
       "                        })\n",
       "                };\n",
       "                });\n",
       "            </script>\n",
       "        </div>"
      ]
     },
     "metadata": {},
     "output_type": "display_data"
    }
   ],
   "source": [
    "fig = px.box(pput, x=\"pput\", y=\"robot\", title='PPUT by Action', labels={'pput': 'PPUT', 'robot': \"\"},\n",
    "             points=\"outliers\", hover_data=['clock','pput'], color='robot', orientation=\"h\")\n",
    "fig.update_layout(legend=dict(x=-0, y=-0.3), showlegend=False)\n",
    "fig.show()"
   ]
  },
  {
   "cell_type": "code",
   "execution_count": 8,
   "metadata": {
    "scrolled": false
   },
   "outputs": [
    {
     "data": {
      "application/vnd.plotly.v1+json": {
       "config": {
        "plotlyServerURL": "https://plot.ly"
       },
       "data": [
        {
         "customdata": [
          [
           "teleop_Score FRL_place_low",
           true
          ],
          [
           "teleop_Score FRL_place_low",
           true
          ],
          [
           "teleop_Score FRL_place_low",
           true
          ],
          [
           "teleop_Score FRL_place_low",
           true
          ],
          [
           "teleop_Score FRL_place_low",
           true
          ],
          [
           "teleop_Score FRL_place_low",
           true
          ],
          [
           "teleop_Score FRL_place_low",
           true
          ],
          [
           "teleop_Score FRL_place_low",
           false
          ],
          [
           "teleop_Score FRL_place_low",
           false
          ],
          [
           "teleop_Score FRL_place_low",
           true
          ],
          [
           "teleop_Score FRL_place_low",
           true
          ],
          [
           "teleop_Score FRL_place_low",
           false
          ],
          [
           "teleop_Score FRL_place_low",
           true
          ],
          [
           "teleop_Score FRL_place_low",
           true
          ],
          [
           "teleop_Score FRL_place_low",
           true
          ],
          [
           "teleop_Score FRL_place_low",
           false
          ],
          [
           "teleop_Score FRL_place_low",
           true
          ],
          [
           "teleop_Score FRL_place_low",
           false
          ],
          [
           "teleop_Score FRL_place_low",
           true
          ],
          [
           "teleop_Score FRL_place_low",
           true
          ],
          [
           "teleop_Score FRL_place_low",
           true
          ],
          [
           "teleop_Score FRL_place_low",
           true
          ],
          [
           "teleop_Score FRL_place_low",
           true
          ],
          [
           "teleop_Score FRL_place_low",
           true
          ],
          [
           "teleop_Score FRL_place_low",
           true
          ],
          [
           "teleop_Score FRL_place_low",
           true
          ],
          [
           "teleop_Score FRL_place_low",
           true
          ],
          [
           "teleop_Score FRL_place_low",
           false
          ],
          [
           "teleop_Score FRL_place_low",
           true
          ],
          [
           "teleop_Score FRL_place_low",
           true
          ],
          [
           "teleop_Score FRL_place_low",
           false
          ],
          [
           "teleop_Score FRL_place_low",
           true
          ],
          [
           "teleop_Score FRL_place_low",
           true
          ],
          [
           "teleop_Score FRL_place_low",
           true
          ],
          [
           "teleop_Score FRL_place_low",
           false
          ],
          [
           "teleop_Score FRL_place_low",
           true
          ],
          [
           "teleop_Score FRL_place_low",
           true
          ],
          [
           "teleop_Score FRL_place_low",
           false
          ],
          [
           "teleop_Score FRL_place_low",
           true
          ],
          [
           "teleop_Score FRL_place_low",
           true
          ],
          [
           "teleop_Score FRL_place_low",
           true
          ],
          [
           "teleop_Score FRL_place_low",
           true
          ],
          [
           "teleop_Score FRL_place_low",
           true
          ],
          [
           "teleop_Score FRL_place_low",
           true
          ],
          [
           "teleop_Score FRL_place_low",
           false
          ],
          [
           "teleop_Score FRL_place_low",
           true
          ],
          [
           "teleop_Score FRL_place_low",
           true
          ],
          [
           "teleop_Score FRL_place_low",
           false
          ],
          [
           "teleop_Score FRL_place_low",
           true
          ],
          [
           "teleop_Score FRL_place_low",
           true
          ],
          [
           "teleop_Score FRL_place_low",
           true
          ],
          [
           "teleop_Score FRL_place_low",
           true
          ],
          [
           "teleop_Score FRL_place_low",
           true
          ],
          [
           "teleop_Score FRL_place_low",
           true
          ],
          [
           "teleop_Score FRL_place_low",
           false
          ],
          [
           "teleop_Score FRL_place_low",
           false
          ],
          [
           "teleop_Score FRL_place_low",
           true
          ],
          [
           "teleop_Score FRL_place_low",
           false
          ],
          [
           "teleop_Score FRL_place_low",
           true
          ],
          [
           "teleop_Score FRL_place_low",
           true
          ],
          [
           "teleop_Score FRL_place_low",
           true
          ],
          [
           "teleop_Score FRL_place_low",
           true
          ],
          [
           "teleop_Score FRL_place_low",
           true
          ],
          [
           "teleop_Score FRL_place_low",
           true
          ],
          [
           "teleop_Score FRL_place_low",
           true
          ],
          [
           "teleop_Score FRL_place_low",
           true
          ],
          [
           "teleop_Score FRL_place_low",
           false
          ],
          [
           "teleop_Score FRL_place_low",
           true
          ],
          [
           "teleop_Score FRL_place_low",
           true
          ],
          [
           "teleop_Score FRL_place_low",
           true
          ],
          [
           "teleop_Score FRL_place_low",
           true
          ],
          [
           "teleop_Score FRL_place_low",
           false
          ],
          [
           "teleop_Score FRL_place_low",
           true
          ],
          [
           "teleop_Score FRL_place_low",
           true
          ],
          [
           "teleop_Score FRL_place_low",
           true
          ],
          [
           "teleop_Score FRL_place_low",
           true
          ],
          [
           "teleop_Score FRL_place_low",
           true
          ],
          [
           "teleop_Score FRL_drive_to_far",
           false
          ],
          [
           "teleop_Score FRL_place_low",
           true
          ],
          [
           "teleop_Score FRL_place_low",
           true
          ],
          [
           "teleop_Score FRL_place_low",
           true
          ],
          [
           "teleop_Score FRL_place_low",
           true
          ],
          [
           "teleop_Score FRL_place_low",
           false
          ],
          [
           "teleop_Score FRL_place_low",
           true
          ],
          [
           "teleop_Score FRL_place_low",
           true
          ],
          [
           "teleop_Score FRL_place_low",
           true
          ],
          [
           "teleop_Score FRL_place_low",
           true
          ],
          [
           "teleop_Score FRL_place_low",
           true
          ],
          [
           "teleop_Score FRL_place_low",
           true
          ],
          [
           "teleop_Score FRL_place_low",
           true
          ],
          [
           "teleop_Score FRL_place_low",
           true
          ],
          [
           "teleop_Score FRL_place_low",
           true
          ],
          [
           "teleop_Score FRL_place_low",
           true
          ],
          [
           "teleop_Score FRL_place_low",
           true
          ],
          [
           "teleop_Score FRL_place_low",
           true
          ],
          [
           "teleop_Score FRL_place_low",
           false
          ],
          [
           "teleop_Score FRL_place_low",
           true
          ],
          [
           "teleop_Score FRL_place_low",
           true
          ],
          [
           "teleop_Score FRL_place_low",
           true
          ],
          [
           "teleop_Score FRL_place_low",
           true
          ]
         ],
         "hoverlabel": {
          "namelength": 0
         },
         "hovertemplate": "robot=Score FRL<br>clock=%{x}<br>total=%{y}<br>op=%{customdata[0]}<br>success=%{customdata[1]}",
         "legendgroup": "robot=Score FRL",
         "marker": {
          "color": "#636efa",
          "symbol": "circle"
         },
         "mode": "markers",
         "name": "robot=Score FRL",
         "showlegend": true,
         "type": "scatter",
         "x": [
          14.899999999999963,
          9.699999999999982,
          11.299999999999976,
          29.100000000000144,
          26.0000000000001,
          17.69999999999998,
          12.89999999999997,
          9.699999999999982,
          11.999999999999973,
          17.099999999999973,
          11.599999999999975,
          17.299999999999976,
          12.399999999999972,
          24.500000000000078,
          17.799999999999983,
          6.099999999999994,
          14.299999999999965,
          13.299999999999969,
          14.099999999999966,
          12.89999999999997,
          14.799999999999963,
          16.09999999999996,
          8.299999999999986,
          11.499999999999975,
          16.79999999999997,
          21.300000000000033,
          26.600000000000108,
          28.300000000000132,
          10.499999999999979,
          7.099999999999991,
          15.69999999999996,
          12.599999999999971,
          8.099999999999987,
          12.99999999999997,
          33.60000000000021,
          13.09999999999997,
          9.799999999999981,
          15.399999999999961,
          20.30000000000002,
          39.100000000000286,
          10.29999999999998,
          12.99999999999997,
          14.999999999999963,
          15.59999999999996,
          11.699999999999974,
          9.89999999999998,
          8.699999999999985,
          12.399999999999972,
          14.699999999999964,
          21.00000000000003,
          16.09999999999996,
          12.099999999999973,
          9.399999999999983,
          27.700000000000124,
          16.599999999999966,
          18.699999999999996,
          13.599999999999968,
          8.699999999999985,
          17.299999999999976,
          8.599999999999985,
          23.600000000000065,
          7.699999999999989,
          10.499999999999979,
          34.100000000000215,
          12.69999999999997,
          14.299999999999965,
          13.199999999999969,
          14.599999999999964,
          12.599999999999971,
          22.60000000000005,
          13.199999999999969,
          7.29999999999999,
          9.399999999999983,
          7.699999999999989,
          15.59999999999996,
          22.50000000000005,
          15.99999999999996,
          6.999999999999991,
          15.199999999999962,
          12.79999999999997,
          25.100000000000087,
          13.699999999999967,
          9.89999999999998,
          35.10000000000023,
          15.099999999999962,
          29.400000000000148,
          19,
          12.599999999999971,
          13.799999999999967,
          10.29999999999998,
          28.600000000000136,
          12.69999999999997,
          11.199999999999976,
          15.099999999999962,
          12.69999999999997,
          8.599999999999985,
          19.60000000000001,
          24.500000000000078,
          16.79999999999997,
          8.799999999999985
         ],
         "xaxis": "x",
         "y": [
          2,
          2,
          2,
          2,
          2,
          2,
          2,
          0,
          0,
          2,
          2,
          0,
          2,
          2,
          2,
          0,
          2,
          0,
          2,
          2,
          2,
          2,
          2,
          2,
          2,
          2,
          2,
          0,
          2,
          2,
          0,
          2,
          2,
          2,
          0,
          2,
          2,
          0,
          2,
          2,
          2,
          2,
          2,
          2,
          0,
          2,
          2,
          0,
          2,
          2,
          2,
          2,
          2,
          2,
          0,
          0,
          2,
          0,
          2,
          2,
          2,
          2,
          2,
          2,
          2,
          2,
          0,
          2,
          2,
          2,
          2,
          0,
          2,
          2,
          2,
          2,
          2,
          0,
          2,
          2,
          2,
          2,
          0,
          2,
          2,
          2,
          2,
          2,
          2,
          2,
          2,
          2,
          2,
          2,
          2,
          0,
          2,
          2,
          2,
          2
         ],
         "yaxis": "y"
        },
        {
         "customdata": [
          [
           "teleop_Score NRL_place_low",
           false
          ],
          [
           "teleop_Score NRL_place_low",
           false
          ],
          [
           "teleop_Score NRL_place_low",
           true
          ],
          [
           "teleop_Score NRL_place_low",
           true
          ],
          [
           "teleop_Score NRL_place_low",
           true
          ],
          [
           "teleop_Score NRL_place_low",
           false
          ],
          [
           "teleop_Score NRL_place_low",
           false
          ],
          [
           "teleop_Score NRL_place_low",
           true
          ],
          [
           "teleop_Score NRL_place_low",
           true
          ],
          [
           "teleop_Score NRL_place_low",
           true
          ],
          [
           "teleop_Score NRL_place_low",
           false
          ],
          [
           "teleop_Score NRL_place_low",
           true
          ],
          [
           "teleop_Score NRL_place_low",
           false
          ],
          [
           "teleop_Score NRL_place_low",
           true
          ],
          [
           "teleop_Score NRL_place_low",
           false
          ],
          [
           "teleop_Score NRL_place_low",
           true
          ],
          [
           "teleop_Score NRL_place_low",
           true
          ],
          [
           "teleop_Score NRL_place_low",
           false
          ],
          [
           "teleop_Score NRL_place_low",
           true
          ],
          [
           "teleop_Score NRL_place_low",
           true
          ],
          [
           "teleop_Score NRL_place_low",
           true
          ],
          [
           "teleop_Score NRL_place_low",
           true
          ],
          [
           "teleop_Score NRL_place_low",
           true
          ],
          [
           "teleop_Score NRL_place_low",
           true
          ],
          [
           "teleop_Score NRL_place_low",
           false
          ],
          [
           "teleop_Score NRL_place_low",
           true
          ],
          [
           "teleop_Score NRL_place_low",
           true
          ],
          [
           "teleop_Score NRL_place_low",
           true
          ],
          [
           "teleop_Score NRL_place_low",
           true
          ],
          [
           "teleop_Score NRL_place_low",
           true
          ],
          [
           "teleop_Score NRL_place_low",
           true
          ],
          [
           "teleop_Score NRL_place_low",
           true
          ],
          [
           "teleop_Score NRL_place_low",
           true
          ],
          [
           "teleop_Score NRL_place_low",
           true
          ],
          [
           "teleop_Score NRL_place_low",
           true
          ],
          [
           "teleop_Score NRL_place_low",
           true
          ],
          [
           "teleop_Score NRL_place_low",
           false
          ],
          [
           "teleop_Score NRL_place_low",
           true
          ],
          [
           "teleop_Score NRL_place_low",
           true
          ],
          [
           "teleop_Score NRL_place_low",
           true
          ],
          [
           "teleop_Score NRL_place_low",
           true
          ],
          [
           "teleop_Score NRL_place_low",
           false
          ],
          [
           "teleop_Score NRL_place_low",
           true
          ],
          [
           "teleop_Score NRL_place_low",
           true
          ],
          [
           "teleop_Score NRL_place_low",
           true
          ],
          [
           "teleop_Score NRL_place_low",
           true
          ],
          [
           "teleop_Score NRL_place_low",
           true
          ],
          [
           "teleop_Score NRL_place_low",
           true
          ],
          [
           "teleop_Score NRL_place_low",
           true
          ],
          [
           "teleop_Score NRL_place_low",
           true
          ],
          [
           "teleop_Score NRL_place_low",
           true
          ],
          [
           "teleop_Score NRL_place_low",
           true
          ],
          [
           "teleop_Score NRL_place_low",
           false
          ],
          [
           "teleop_Score NRL_place_low",
           true
          ],
          [
           "teleop_Score NRL_place_low",
           true
          ],
          [
           "teleop_Score NRL_place_low",
           false
          ],
          [
           "teleop_Score NRL_place_low",
           true
          ],
          [
           "teleop_Score NRL_place_low",
           true
          ],
          [
           "teleop_Score NRL_place_low",
           true
          ],
          [
           "teleop_Score NRL_place_low",
           true
          ],
          [
           "teleop_Score NRL_place_low",
           false
          ],
          [
           "teleop_Score NRL_place_low",
           true
          ],
          [
           "teleop_Score NRL_place_low",
           true
          ],
          [
           "teleop_Score NRL_place_low",
           true
          ],
          [
           "teleop_Score NRL_place_low",
           true
          ],
          [
           "teleop_Score NRL_place_low",
           true
          ],
          [
           "teleop_Score NRL_place_low",
           true
          ],
          [
           "teleop_Score NRL_place_low",
           true
          ],
          [
           "teleop_Score NRL_place_low",
           true
          ],
          [
           "teleop_Score NRL_place_low",
           true
          ],
          [
           "teleop_Score NRL_place_low",
           true
          ],
          [
           "teleop_Score NRL_place_low",
           true
          ],
          [
           "teleop_Score NRL_place_low",
           true
          ],
          [
           "teleop_Score NRL_place_low",
           true
          ],
          [
           "teleop_Score NRL_place_low",
           true
          ],
          [
           "teleop_Score NRL_place_low",
           true
          ],
          [
           "teleop_Score NRL_place_low",
           true
          ],
          [
           "teleop_Score NRL_place_low",
           false
          ],
          [
           "teleop_Score NRL_place_low",
           true
          ],
          [
           "teleop_Score NRL_place_low",
           true
          ],
          [
           "teleop_Score NRL_place_low",
           true
          ],
          [
           "teleop_Score NRL_place_low",
           true
          ],
          [
           "teleop_Score NRL_place_low",
           true
          ],
          [
           "teleop_Score NRL_place_low",
           true
          ],
          [
           "teleop_Score NRL_place_low",
           false
          ],
          [
           "teleop_Score NRL_place_low",
           true
          ],
          [
           "teleop_Score NRL_place_low",
           false
          ],
          [
           "teleop_Score NRL_place_low",
           true
          ],
          [
           "teleop_Score NRL_place_low",
           true
          ],
          [
           "teleop_Score NRL_place_low",
           true
          ],
          [
           "teleop_Score NRL_place_low",
           true
          ],
          [
           "teleop_Score NRL_place_low",
           true
          ],
          [
           "teleop_Score NRL_place_low",
           true
          ],
          [
           "teleop_Score NRL_place_low",
           false
          ],
          [
           "teleop_Score NRL_place_low",
           false
          ],
          [
           "teleop_Score NRL_place_low",
           true
          ],
          [
           "teleop_Score NRL_place_low",
           false
          ],
          [
           "teleop_Score NRL_place_low",
           false
          ],
          [
           "teleop_Score NRL_place_low",
           false
          ],
          [
           "teleop_Score NRL_place_low",
           true
          ]
         ],
         "hoverlabel": {
          "namelength": 0
         },
         "hovertemplate": "robot=Score NRL<br>clock=%{x}<br>total=%{y}<br>op=%{customdata[0]}<br>success=%{customdata[1]}",
         "legendgroup": "robot=Score NRL",
         "marker": {
          "color": "#EF553B",
          "symbol": "circle"
         },
         "mode": "markers",
         "name": "robot=Score NRL",
         "showlegend": true,
         "type": "scatter",
         "x": [
          10.699999999999978,
          4.300000000000001,
          7.19999999999999,
          12.099999999999973,
          5.599999999999996,
          12.99999999999997,
          11.999999999999973,
          10.599999999999978,
          11.299999999999976,
          9.199999999999983,
          8.299999999999986,
          10.09999999999998,
          14.899999999999963,
          16.09999999999996,
          12.79999999999997,
          9.399999999999983,
          10.19999999999998,
          7.699999999999989,
          8.999999999999984,
          9.799999999999981,
          9.799999999999981,
          5.899999999999995,
          14.699999999999964,
          8.899999999999984,
          7.999999999999988,
          11.599999999999975,
          12.499999999999972,
          8.399999999999986,
          9.799999999999981,
          11.799999999999974,
          8.199999999999987,
          14.299999999999965,
          14.899999999999963,
          15.99999999999996,
          7.799999999999988,
          12.099999999999973,
          10.599999999999978,
          7.39999999999999,
          7.099999999999991,
          13.599999999999968,
          5.399999999999997,
          3.800000000000002,
          6.5999999999999925,
          6.799999999999992,
          9.299999999999983,
          8.899999999999984,
          9.299999999999983,
          9.699999999999982,
          12.099999999999973,
          5.999999999999995,
          2.800000000000001,
          14.599999999999964,
          6.8999999999999915,
          10.29999999999998,
          13.799999999999967,
          17.899999999999984,
          28.20000000000013,
          10.499999999999979,
          4.999999999999998,
          7.29999999999999,
          9.399999999999983,
          12.599999999999971,
          12.299999999999972,
          11.299999999999976,
          19.300000000000004,
          6.399999999999993,
          6.8999999999999915,
          15.399999999999961,
          5.699999999999996,
          6.5999999999999925,
          14.599999999999964,
          17.199999999999974,
          5.599999999999996,
          4.799999999999999,
          10.699999999999978,
          17.69999999999998,
          6.699999999999992,
          5.999999999999995,
          16.09999999999996,
          9.799999999999981,
          10.999999999999977,
          6.299999999999994,
          11.299999999999976,
          10.999999999999977,
          5.999999999999995,
          12.499999999999972,
          2.1000000000000005,
          6.5999999999999925,
          6.5999999999999925,
          8.999999999999984,
          9.99999999999998,
          7.599999999999989,
          11.799999999999974,
          11.799999999999974,
          7.599999999999989,
          13.499999999999968,
          11.599999999999975,
          10.399999999999979,
          12.599999999999971,
          8.899999999999984
         ],
         "xaxis": "x",
         "y": [
          0,
          0,
          2,
          2,
          2,
          0,
          0,
          2,
          2,
          2,
          0,
          2,
          0,
          2,
          0,
          2,
          2,
          0,
          2,
          2,
          2,
          2,
          2,
          2,
          0,
          2,
          2,
          2,
          2,
          2,
          2,
          2,
          2,
          2,
          2,
          2,
          0,
          2,
          2,
          2,
          2,
          0,
          2,
          2,
          2,
          2,
          2,
          2,
          2,
          2,
          2,
          2,
          0,
          2,
          2,
          0,
          2,
          2,
          2,
          2,
          0,
          2,
          2,
          2,
          2,
          2,
          2,
          2,
          2,
          2,
          2,
          2,
          2,
          2,
          2,
          2,
          2,
          0,
          2,
          2,
          2,
          2,
          2,
          2,
          0,
          2,
          0,
          2,
          2,
          2,
          2,
          2,
          2,
          0,
          0,
          2,
          0,
          0,
          0,
          2
         ],
         "yaxis": "y"
        },
        {
         "customdata": [
          [
           "drive_off_hab1",
           true
          ],
          [
           "drive_off_hab1",
           true
          ],
          [
           "drive_off_hab1",
           true
          ],
          [
           "drive_off_hab1",
           true
          ],
          [
           "drive_off_hab1",
           true
          ],
          [
           "drive_off_hab1",
           true
          ],
          [
           "drive_off_hab1",
           true
          ],
          [
           "drive_off_hab1",
           true
          ],
          [
           "drive_off_hab1",
           true
          ],
          [
           "drive_off_hab1",
           true
          ],
          [
           "drive_off_hab1",
           true
          ],
          [
           "drive_off_hab1",
           true
          ],
          [
           "drive_off_hab1",
           true
          ],
          [
           "drive_off_hab1",
           true
          ],
          [
           "drive_off_hab1",
           true
          ],
          [
           "drive_off_hab1",
           true
          ],
          [
           "drive_off_hab1",
           true
          ],
          [
           "drive_off_hab1",
           true
          ],
          [
           "drive_off_hab1",
           true
          ],
          [
           "drive_off_hab1",
           true
          ],
          [
           "drive_off_hab1",
           true
          ],
          [
           "drive_off_hab1",
           true
          ],
          [
           "drive_off_hab1",
           true
          ],
          [
           "drive_off_hab1",
           true
          ],
          [
           "drive_off_hab1",
           true
          ],
          [
           "drive_off_hab1",
           true
          ],
          [
           "drive_off_hab1",
           true
          ],
          [
           "drive_off_hab1",
           true
          ],
          [
           "drive_off_hab1",
           true
          ],
          [
           "drive_off_hab1",
           true
          ],
          [
           "drive_off_hab1",
           true
          ],
          [
           "drive_off_hab1",
           true
          ],
          [
           "drive_off_hab1",
           true
          ],
          [
           "drive_off_hab1",
           true
          ],
          [
           "drive_off_hab1",
           true
          ],
          [
           "drive_off_hab1",
           true
          ],
          [
           "drive_off_hab1",
           true
          ],
          [
           "drive_off_hab1",
           true
          ],
          [
           "drive_off_hab1",
           true
          ],
          [
           "drive_off_hab1",
           true
          ],
          [
           "drive_off_hab1",
           true
          ],
          [
           "drive_off_hab1",
           true
          ],
          [
           "drive_off_hab1",
           true
          ],
          [
           "drive_off_hab1",
           true
          ],
          [
           "drive_off_hab1",
           true
          ],
          [
           "drive_off_hab1",
           true
          ],
          [
           "drive_off_hab1",
           true
          ],
          [
           "drive_off_hab1",
           true
          ],
          [
           "drive_off_hab1",
           true
          ],
          [
           "drive_off_hab1",
           true
          ],
          [
           "drive_off_hab1",
           true
          ],
          [
           "drive_off_hab1",
           true
          ],
          [
           "drive_off_hab1",
           true
          ],
          [
           "drive_off_hab1",
           true
          ],
          [
           "drive_off_hab1",
           true
          ],
          [
           "drive_off_hab1",
           true
          ],
          [
           "drive_off_hab1",
           true
          ],
          [
           "drive_off_hab1",
           true
          ],
          [
           "drive_off_hab1",
           true
          ],
          [
           "drive_off_hab1",
           true
          ],
          [
           "drive_off_hab1",
           true
          ],
          [
           "drive_off_hab1",
           true
          ],
          [
           "drive_off_hab1",
           true
          ],
          [
           "drive_off_hab1",
           true
          ],
          [
           "drive_off_hab1",
           true
          ],
          [
           "drive_off_hab1",
           true
          ],
          [
           "drive_off_hab1",
           true
          ],
          [
           "drive_off_hab1",
           true
          ],
          [
           "drive_off_hab1",
           true
          ],
          [
           "drive_off_hab1",
           true
          ],
          [
           "drive_off_hab1",
           true
          ],
          [
           "drive_off_hab1",
           true
          ],
          [
           "drive_off_hab1",
           true
          ],
          [
           "drive_off_hab1",
           true
          ],
          [
           "drive_off_hab1",
           true
          ],
          [
           "drive_off_hab1",
           true
          ],
          [
           "drive_off_hab1",
           true
          ],
          [
           "drive_off_hab1",
           true
          ],
          [
           "drive_off_hab1",
           true
          ],
          [
           "drive_off_hab1",
           true
          ],
          [
           "drive_off_hab1",
           true
          ],
          [
           "drive_off_hab1",
           true
          ],
          [
           "drive_off_hab1",
           true
          ],
          [
           "drive_off_hab1",
           true
          ],
          [
           "drive_off_hab1",
           true
          ],
          [
           "drive_off_hab1",
           true
          ],
          [
           "drive_off_hab1",
           true
          ],
          [
           "drive_off_hab1",
           true
          ],
          [
           "drive_off_hab1",
           true
          ],
          [
           "drive_off_hab1",
           true
          ],
          [
           "drive_off_hab1",
           true
          ],
          [
           "drive_off_hab1",
           true
          ],
          [
           "drive_off_hab1",
           true
          ],
          [
           "drive_off_hab1",
           true
          ],
          [
           "drive_off_hab1",
           true
          ],
          [
           "drive_off_hab1",
           true
          ],
          [
           "drive_off_hab1",
           true
          ],
          [
           "drive_off_hab1",
           true
          ],
          [
           "drive_off_hab1",
           true
          ],
          [
           "drive_off_hab1",
           true
          ]
         ],
         "hoverlabel": {
          "namelength": 0
         },
         "hovertemplate": "robot=drive_off_hab1<br>clock=%{x}<br>total=%{y}<br>op=%{customdata[0]}<br>success=%{customdata[1]}",
         "legendgroup": "robot=drive_off_hab1",
         "marker": {
          "color": "#00cc96",
          "symbol": "circle"
         },
         "mode": "markers",
         "name": "robot=drive_off_hab1",
         "showlegend": true,
         "type": "scatter",
         "x": [
          2.800000000000001,
          1.7000000000000004,
          0.4,
          0.9999999999999999,
          1.4000000000000001,
          0.9999999999999999,
          0.30000000000000004,
          1.4000000000000001,
          1.8000000000000005,
          0.6,
          0.9999999999999999,
          1.4000000000000001,
          1.5000000000000002,
          1.2,
          1.2,
          0.7999999999999999,
          1.4000000000000001,
          1.8000000000000005,
          0.9999999999999999,
          1.3,
          1.8000000000000005,
          1.2,
          0.7,
          0.2,
          1.0999999999999999,
          1.3,
          0.6,
          0.9999999999999999,
          0.1,
          1.0999999999999999,
          1.7000000000000004,
          0.7999999999999999,
          0.8999999999999999,
          1.4000000000000001,
          1.3,
          1.0999999999999999,
          0.7,
          0.2,
          1.0999999999999999,
          1.5000000000000002,
          0.7,
          0.7999999999999999,
          0.7999999999999999,
          0.8999999999999999,
          1.3,
          0.9999999999999999,
          0.1,
          0.8999999999999999,
          0.6,
          1.2,
          1.3,
          0.4,
          1.8000000000000005,
          0.9999999999999999,
          0.8999999999999999,
          1.4000000000000001,
          1.7000000000000004,
          0.9999999999999999,
          0.5,
          1.0999999999999999,
          0.4,
          0.6,
          1.3,
          0.8999999999999999,
          0.6,
          0.5,
          1.3,
          0.7999999999999999,
          2.700000000000001,
          2.800000000000001,
          1.9000000000000006,
          1.4000000000000001,
          0.8999999999999999,
          1.2,
          1.0999999999999999,
          1.0999999999999999,
          1.2,
          1.0999999999999999,
          0.5,
          0.1,
          0.30000000000000004,
          3.2000000000000015,
          1.5000000000000002,
          0.4,
          0.9999999999999999,
          0.1,
          1.7000000000000004,
          1.4000000000000001,
          1.0999999999999999,
          0.7,
          1.0999999999999999,
          0.8999999999999999,
          1.4000000000000001,
          1.2,
          0.9999999999999999,
          1.6000000000000003,
          1.0999999999999999,
          1.7000000000000004,
          1.4000000000000001,
          0.2
         ],
         "xaxis": "x",
         "y": [
          3,
          3,
          3,
          3,
          3,
          3,
          3,
          3,
          3,
          3,
          3,
          3,
          3,
          3,
          3,
          3,
          3,
          3,
          3,
          3,
          3,
          3,
          3,
          3,
          3,
          3,
          3,
          3,
          3,
          3,
          3,
          3,
          3,
          3,
          3,
          3,
          3,
          3,
          3,
          3,
          3,
          3,
          3,
          3,
          3,
          3,
          3,
          3,
          3,
          3,
          3,
          3,
          3,
          3,
          3,
          3,
          3,
          3,
          3,
          3,
          3,
          3,
          3,
          3,
          3,
          3,
          3,
          3,
          3,
          3,
          3,
          3,
          3,
          3,
          3,
          3,
          3,
          3,
          3,
          3,
          3,
          3,
          3,
          3,
          3,
          3,
          3,
          3,
          3,
          3,
          3,
          3,
          3,
          3,
          3,
          3,
          3,
          3,
          3,
          3
         ],
         "yaxis": "y"
        },
        {
         "customdata": [
          [
           "drive_off_hab2",
           true
          ],
          [
           "drive_off_hab2",
           true
          ],
          [
           "drive_off_hab2",
           true
          ],
          [
           "drive_off_hab2",
           true
          ],
          [
           "drive_off_hab2",
           true
          ],
          [
           "drive_off_hab2",
           true
          ],
          [
           "drive_off_hab2",
           true
          ],
          [
           "drive_off_hab2",
           true
          ],
          [
           "drive_off_hab2",
           true
          ],
          [
           "drive_off_hab2",
           true
          ],
          [
           "drive_off_hab2",
           true
          ],
          [
           "drive_off_hab2",
           true
          ],
          [
           "drive_off_hab2",
           true
          ],
          [
           "drive_off_hab2",
           true
          ],
          [
           "drive_off_hab2",
           true
          ],
          [
           "drive_off_hab2",
           true
          ],
          [
           "drive_off_hab2",
           true
          ],
          [
           "drive_off_hab2",
           true
          ],
          [
           "drive_off_hab2",
           true
          ],
          [
           "drive_off_hab2",
           true
          ],
          [
           "drive_off_hab2",
           true
          ],
          [
           "drive_off_hab2",
           true
          ],
          [
           "drive_off_hab2",
           true
          ],
          [
           "drive_off_hab2",
           true
          ],
          [
           "drive_off_hab2",
           true
          ],
          [
           "drive_off_hab2",
           true
          ],
          [
           "drive_off_hab2",
           true
          ],
          [
           "drive_off_hab2",
           true
          ],
          [
           "drive_off_hab2",
           true
          ],
          [
           "drive_off_hab2",
           true
          ],
          [
           "drive_off_hab2",
           true
          ],
          [
           "drive_off_hab2",
           true
          ],
          [
           "drive_off_hab2",
           true
          ],
          [
           "drive_off_hab2",
           true
          ],
          [
           "drive_off_hab2",
           true
          ],
          [
           "drive_off_hab2",
           true
          ],
          [
           "drive_off_hab2",
           true
          ],
          [
           "drive_off_hab2",
           true
          ],
          [
           "drive_off_hab2",
           true
          ],
          [
           "drive_off_hab2",
           true
          ],
          [
           "drive_off_hab2",
           true
          ],
          [
           "drive_off_hab2",
           true
          ],
          [
           "drive_off_hab2",
           true
          ],
          [
           "drive_off_hab2",
           true
          ],
          [
           "drive_off_hab2",
           true
          ],
          [
           "drive_off_hab2",
           true
          ],
          [
           "drive_off_hab2",
           true
          ],
          [
           "drive_off_hab2",
           true
          ],
          [
           "drive_off_hab2",
           true
          ],
          [
           "drive_off_hab2",
           true
          ],
          [
           "drive_off_hab2",
           true
          ],
          [
           "drive_off_hab2",
           true
          ],
          [
           "drive_off_hab2",
           true
          ],
          [
           "drive_off_hab2",
           true
          ],
          [
           "drive_off_hab2",
           true
          ],
          [
           "drive_off_hab2",
           true
          ],
          [
           "drive_off_hab2",
           true
          ],
          [
           "drive_off_hab2",
           true
          ],
          [
           "drive_off_hab2",
           true
          ],
          [
           "drive_off_hab2",
           true
          ],
          [
           "drive_off_hab2",
           true
          ],
          [
           "drive_off_hab2",
           true
          ],
          [
           "drive_off_hab2",
           true
          ],
          [
           "drive_off_hab2",
           true
          ],
          [
           "drive_off_hab2",
           true
          ],
          [
           "drive_off_hab2",
           true
          ],
          [
           "drive_off_hab2",
           true
          ],
          [
           "drive_off_hab2",
           true
          ],
          [
           "drive_off_hab2",
           true
          ],
          [
           "drive_off_hab2",
           true
          ],
          [
           "drive_off_hab2",
           true
          ],
          [
           "drive_off_hab2",
           true
          ],
          [
           "drive_off_hab2",
           true
          ],
          [
           "drive_off_hab2",
           true
          ],
          [
           "drive_off_hab2",
           true
          ],
          [
           "drive_off_hab2",
           true
          ],
          [
           "drive_off_hab2",
           true
          ],
          [
           "drive_off_hab2",
           true
          ],
          [
           "drive_off_hab2",
           true
          ],
          [
           "drive_off_hab2",
           true
          ],
          [
           "drive_off_hab2",
           true
          ],
          [
           "drive_off_hab2",
           true
          ],
          [
           "drive_off_hab2",
           true
          ],
          [
           "drive_off_hab2",
           true
          ],
          [
           "drive_off_hab2",
           true
          ],
          [
           "drive_off_hab2",
           true
          ],
          [
           "drive_off_hab2",
           true
          ],
          [
           "drive_off_hab2",
           true
          ],
          [
           "drive_off_hab2",
           true
          ],
          [
           "drive_off_hab2",
           true
          ],
          [
           "drive_off_hab2",
           true
          ],
          [
           "drive_off_hab2",
           true
          ],
          [
           "drive_off_hab2",
           true
          ],
          [
           "drive_off_hab2",
           true
          ],
          [
           "drive_off_hab2",
           true
          ],
          [
           "drive_off_hab2",
           true
          ],
          [
           "drive_off_hab2",
           true
          ],
          [
           "drive_off_hab2",
           true
          ],
          [
           "drive_off_hab2",
           true
          ],
          [
           "drive_off_hab2",
           true
          ]
         ],
         "hoverlabel": {
          "namelength": 0
         },
         "hovertemplate": "robot=drive_off_hab2<br>clock=%{x}<br>total=%{y}<br>op=%{customdata[0]}<br>success=%{customdata[1]}",
         "legendgroup": "robot=drive_off_hab2",
         "marker": {
          "color": "#ab63fa",
          "symbol": "circle"
         },
         "mode": "markers",
         "name": "robot=drive_off_hab2",
         "showlegend": true,
         "type": "scatter",
         "x": [
          1.0999999999999999,
          1.3,
          2.0000000000000004,
          0.7,
          1.2,
          0.30000000000000004,
          2.500000000000001,
          1.7000000000000004,
          1.2,
          1.3,
          1.3,
          2.3000000000000007,
          1.8000000000000005,
          0.8999999999999999,
          1.4000000000000001,
          0.8999999999999999,
          0.7,
          1.3,
          0.4,
          1.5000000000000002,
          0.4,
          0.9999999999999999,
          0.9999999999999999,
          1.5000000000000002,
          0.8999999999999999,
          1.3,
          1.9000000000000006,
          0.9999999999999999,
          1.2,
          1.3,
          1.0999999999999999,
          0.5,
          1.9000000000000006,
          1.2,
          1.7000000000000004,
          1.9000000000000006,
          1.3,
          0.8999999999999999,
          0.8999999999999999,
          0.5,
          1.5000000000000002,
          0.9999999999999999,
          0.9999999999999999,
          0.9999999999999999,
          0.7,
          1.6000000000000003,
          2.1000000000000005,
          1.3,
          1.5000000000000002,
          1.2,
          1.5000000000000002,
          0.7,
          2.0000000000000004,
          0.8999999999999999,
          1.7000000000000004,
          0.4,
          1.4000000000000001,
          1.4000000000000001,
          1.0999999999999999,
          0.7,
          0.4,
          1.0999999999999999,
          1.3,
          0.6,
          0.7999999999999999,
          1.4000000000000001,
          1.8000000000000005,
          1.9000000000000006,
          1.2,
          1.6000000000000003,
          0.8999999999999999,
          0.7,
          1.5000000000000002,
          0.7999999999999999,
          0.9999999999999999,
          1.4000000000000001,
          0.8999999999999999,
          0.8999999999999999,
          1.5000000000000002,
          1.4000000000000001,
          1.0999999999999999,
          0.7999999999999999,
          1.0999999999999999,
          0.7,
          1.5000000000000002,
          1.4000000000000001,
          0.7999999999999999,
          1.8000000000000005,
          1.7000000000000004,
          1.4000000000000001,
          1.5000000000000002,
          1.5000000000000002,
          0.9999999999999999,
          0.7,
          1.6000000000000003,
          1.2,
          0.6,
          1.4000000000000001,
          1.3,
          0.7999999999999999
         ],
         "xaxis": "x",
         "y": [
          6,
          6,
          6,
          6,
          6,
          6,
          6,
          6,
          6,
          6,
          6,
          6,
          6,
          6,
          6,
          6,
          6,
          6,
          6,
          6,
          6,
          6,
          6,
          6,
          6,
          6,
          6,
          6,
          6,
          6,
          6,
          6,
          6,
          6,
          6,
          6,
          6,
          6,
          6,
          6,
          6,
          6,
          6,
          6,
          6,
          6,
          6,
          6,
          6,
          6,
          6,
          6,
          6,
          6,
          6,
          6,
          6,
          6,
          6,
          6,
          6,
          6,
          6,
          6,
          6,
          6,
          6,
          6,
          6,
          6,
          6,
          6,
          6,
          6,
          6,
          6,
          6,
          6,
          6,
          6,
          6,
          6,
          6,
          6,
          6,
          6,
          6,
          6,
          6,
          6,
          6,
          6,
          6,
          6,
          6,
          6,
          6,
          6,
          6,
          6
         ],
         "yaxis": "y"
        }
       ],
       "layout": {
        "legend": {
         "tracegroupgap": 0
        },
        "margin": {
         "t": 60
        },
        "template": {
         "data": {
          "bar": [
           {
            "error_x": {
             "color": "#2a3f5f"
            },
            "error_y": {
             "color": "#2a3f5f"
            },
            "marker": {
             "line": {
              "color": "#E5ECF6",
              "width": 0.5
             }
            },
            "type": "bar"
           }
          ],
          "barpolar": [
           {
            "marker": {
             "line": {
              "color": "#E5ECF6",
              "width": 0.5
             }
            },
            "type": "barpolar"
           }
          ],
          "carpet": [
           {
            "aaxis": {
             "endlinecolor": "#2a3f5f",
             "gridcolor": "white",
             "linecolor": "white",
             "minorgridcolor": "white",
             "startlinecolor": "#2a3f5f"
            },
            "baxis": {
             "endlinecolor": "#2a3f5f",
             "gridcolor": "white",
             "linecolor": "white",
             "minorgridcolor": "white",
             "startlinecolor": "#2a3f5f"
            },
            "type": "carpet"
           }
          ],
          "choropleth": [
           {
            "colorbar": {
             "outlinewidth": 0,
             "ticks": ""
            },
            "type": "choropleth"
           }
          ],
          "contour": [
           {
            "colorbar": {
             "outlinewidth": 0,
             "ticks": ""
            },
            "colorscale": [
             [
              0,
              "#0d0887"
             ],
             [
              0.1111111111111111,
              "#46039f"
             ],
             [
              0.2222222222222222,
              "#7201a8"
             ],
             [
              0.3333333333333333,
              "#9c179e"
             ],
             [
              0.4444444444444444,
              "#bd3786"
             ],
             [
              0.5555555555555556,
              "#d8576b"
             ],
             [
              0.6666666666666666,
              "#ed7953"
             ],
             [
              0.7777777777777778,
              "#fb9f3a"
             ],
             [
              0.8888888888888888,
              "#fdca26"
             ],
             [
              1,
              "#f0f921"
             ]
            ],
            "type": "contour"
           }
          ],
          "contourcarpet": [
           {
            "colorbar": {
             "outlinewidth": 0,
             "ticks": ""
            },
            "type": "contourcarpet"
           }
          ],
          "heatmap": [
           {
            "colorbar": {
             "outlinewidth": 0,
             "ticks": ""
            },
            "colorscale": [
             [
              0,
              "#0d0887"
             ],
             [
              0.1111111111111111,
              "#46039f"
             ],
             [
              0.2222222222222222,
              "#7201a8"
             ],
             [
              0.3333333333333333,
              "#9c179e"
             ],
             [
              0.4444444444444444,
              "#bd3786"
             ],
             [
              0.5555555555555556,
              "#d8576b"
             ],
             [
              0.6666666666666666,
              "#ed7953"
             ],
             [
              0.7777777777777778,
              "#fb9f3a"
             ],
             [
              0.8888888888888888,
              "#fdca26"
             ],
             [
              1,
              "#f0f921"
             ]
            ],
            "type": "heatmap"
           }
          ],
          "heatmapgl": [
           {
            "colorbar": {
             "outlinewidth": 0,
             "ticks": ""
            },
            "colorscale": [
             [
              0,
              "#0d0887"
             ],
             [
              0.1111111111111111,
              "#46039f"
             ],
             [
              0.2222222222222222,
              "#7201a8"
             ],
             [
              0.3333333333333333,
              "#9c179e"
             ],
             [
              0.4444444444444444,
              "#bd3786"
             ],
             [
              0.5555555555555556,
              "#d8576b"
             ],
             [
              0.6666666666666666,
              "#ed7953"
             ],
             [
              0.7777777777777778,
              "#fb9f3a"
             ],
             [
              0.8888888888888888,
              "#fdca26"
             ],
             [
              1,
              "#f0f921"
             ]
            ],
            "type": "heatmapgl"
           }
          ],
          "histogram": [
           {
            "marker": {
             "colorbar": {
              "outlinewidth": 0,
              "ticks": ""
             }
            },
            "type": "histogram"
           }
          ],
          "histogram2d": [
           {
            "colorbar": {
             "outlinewidth": 0,
             "ticks": ""
            },
            "colorscale": [
             [
              0,
              "#0d0887"
             ],
             [
              0.1111111111111111,
              "#46039f"
             ],
             [
              0.2222222222222222,
              "#7201a8"
             ],
             [
              0.3333333333333333,
              "#9c179e"
             ],
             [
              0.4444444444444444,
              "#bd3786"
             ],
             [
              0.5555555555555556,
              "#d8576b"
             ],
             [
              0.6666666666666666,
              "#ed7953"
             ],
             [
              0.7777777777777778,
              "#fb9f3a"
             ],
             [
              0.8888888888888888,
              "#fdca26"
             ],
             [
              1,
              "#f0f921"
             ]
            ],
            "type": "histogram2d"
           }
          ],
          "histogram2dcontour": [
           {
            "colorbar": {
             "outlinewidth": 0,
             "ticks": ""
            },
            "colorscale": [
             [
              0,
              "#0d0887"
             ],
             [
              0.1111111111111111,
              "#46039f"
             ],
             [
              0.2222222222222222,
              "#7201a8"
             ],
             [
              0.3333333333333333,
              "#9c179e"
             ],
             [
              0.4444444444444444,
              "#bd3786"
             ],
             [
              0.5555555555555556,
              "#d8576b"
             ],
             [
              0.6666666666666666,
              "#ed7953"
             ],
             [
              0.7777777777777778,
              "#fb9f3a"
             ],
             [
              0.8888888888888888,
              "#fdca26"
             ],
             [
              1,
              "#f0f921"
             ]
            ],
            "type": "histogram2dcontour"
           }
          ],
          "mesh3d": [
           {
            "colorbar": {
             "outlinewidth": 0,
             "ticks": ""
            },
            "type": "mesh3d"
           }
          ],
          "parcoords": [
           {
            "line": {
             "colorbar": {
              "outlinewidth": 0,
              "ticks": ""
             }
            },
            "type": "parcoords"
           }
          ],
          "pie": [
           {
            "automargin": true,
            "type": "pie"
           }
          ],
          "scatter": [
           {
            "marker": {
             "colorbar": {
              "outlinewidth": 0,
              "ticks": ""
             }
            },
            "type": "scatter"
           }
          ],
          "scatter3d": [
           {
            "line": {
             "colorbar": {
              "outlinewidth": 0,
              "ticks": ""
             }
            },
            "marker": {
             "colorbar": {
              "outlinewidth": 0,
              "ticks": ""
             }
            },
            "type": "scatter3d"
           }
          ],
          "scattercarpet": [
           {
            "marker": {
             "colorbar": {
              "outlinewidth": 0,
              "ticks": ""
             }
            },
            "type": "scattercarpet"
           }
          ],
          "scattergeo": [
           {
            "marker": {
             "colorbar": {
              "outlinewidth": 0,
              "ticks": ""
             }
            },
            "type": "scattergeo"
           }
          ],
          "scattergl": [
           {
            "marker": {
             "colorbar": {
              "outlinewidth": 0,
              "ticks": ""
             }
            },
            "type": "scattergl"
           }
          ],
          "scattermapbox": [
           {
            "marker": {
             "colorbar": {
              "outlinewidth": 0,
              "ticks": ""
             }
            },
            "type": "scattermapbox"
           }
          ],
          "scatterpolar": [
           {
            "marker": {
             "colorbar": {
              "outlinewidth": 0,
              "ticks": ""
             }
            },
            "type": "scatterpolar"
           }
          ],
          "scatterpolargl": [
           {
            "marker": {
             "colorbar": {
              "outlinewidth": 0,
              "ticks": ""
             }
            },
            "type": "scatterpolargl"
           }
          ],
          "scatterternary": [
           {
            "marker": {
             "colorbar": {
              "outlinewidth": 0,
              "ticks": ""
             }
            },
            "type": "scatterternary"
           }
          ],
          "surface": [
           {
            "colorbar": {
             "outlinewidth": 0,
             "ticks": ""
            },
            "colorscale": [
             [
              0,
              "#0d0887"
             ],
             [
              0.1111111111111111,
              "#46039f"
             ],
             [
              0.2222222222222222,
              "#7201a8"
             ],
             [
              0.3333333333333333,
              "#9c179e"
             ],
             [
              0.4444444444444444,
              "#bd3786"
             ],
             [
              0.5555555555555556,
              "#d8576b"
             ],
             [
              0.6666666666666666,
              "#ed7953"
             ],
             [
              0.7777777777777778,
              "#fb9f3a"
             ],
             [
              0.8888888888888888,
              "#fdca26"
             ],
             [
              1,
              "#f0f921"
             ]
            ],
            "type": "surface"
           }
          ],
          "table": [
           {
            "cells": {
             "fill": {
              "color": "#EBF0F8"
             },
             "line": {
              "color": "white"
             }
            },
            "header": {
             "fill": {
              "color": "#C8D4E3"
             },
             "line": {
              "color": "white"
             }
            },
            "type": "table"
           }
          ]
         },
         "layout": {
          "annotationdefaults": {
           "arrowcolor": "#2a3f5f",
           "arrowhead": 0,
           "arrowwidth": 1
          },
          "coloraxis": {
           "colorbar": {
            "outlinewidth": 0,
            "ticks": ""
           }
          },
          "colorscale": {
           "diverging": [
            [
             0,
             "#8e0152"
            ],
            [
             0.1,
             "#c51b7d"
            ],
            [
             0.2,
             "#de77ae"
            ],
            [
             0.3,
             "#f1b6da"
            ],
            [
             0.4,
             "#fde0ef"
            ],
            [
             0.5,
             "#f7f7f7"
            ],
            [
             0.6,
             "#e6f5d0"
            ],
            [
             0.7,
             "#b8e186"
            ],
            [
             0.8,
             "#7fbc41"
            ],
            [
             0.9,
             "#4d9221"
            ],
            [
             1,
             "#276419"
            ]
           ],
           "sequential": [
            [
             0,
             "#0d0887"
            ],
            [
             0.1111111111111111,
             "#46039f"
            ],
            [
             0.2222222222222222,
             "#7201a8"
            ],
            [
             0.3333333333333333,
             "#9c179e"
            ],
            [
             0.4444444444444444,
             "#bd3786"
            ],
            [
             0.5555555555555556,
             "#d8576b"
            ],
            [
             0.6666666666666666,
             "#ed7953"
            ],
            [
             0.7777777777777778,
             "#fb9f3a"
            ],
            [
             0.8888888888888888,
             "#fdca26"
            ],
            [
             1,
             "#f0f921"
            ]
           ],
           "sequentialminus": [
            [
             0,
             "#0d0887"
            ],
            [
             0.1111111111111111,
             "#46039f"
            ],
            [
             0.2222222222222222,
             "#7201a8"
            ],
            [
             0.3333333333333333,
             "#9c179e"
            ],
            [
             0.4444444444444444,
             "#bd3786"
            ],
            [
             0.5555555555555556,
             "#d8576b"
            ],
            [
             0.6666666666666666,
             "#ed7953"
            ],
            [
             0.7777777777777778,
             "#fb9f3a"
            ],
            [
             0.8888888888888888,
             "#fdca26"
            ],
            [
             1,
             "#f0f921"
            ]
           ]
          },
          "colorway": [
           "#636efa",
           "#EF553B",
           "#00cc96",
           "#ab63fa",
           "#FFA15A",
           "#19d3f3",
           "#FF6692",
           "#B6E880",
           "#FF97FF",
           "#FECB52"
          ],
          "font": {
           "color": "#2a3f5f"
          },
          "geo": {
           "bgcolor": "white",
           "lakecolor": "white",
           "landcolor": "#E5ECF6",
           "showlakes": true,
           "showland": true,
           "subunitcolor": "white"
          },
          "hoverlabel": {
           "align": "left"
          },
          "hovermode": "closest",
          "mapbox": {
           "style": "light"
          },
          "paper_bgcolor": "white",
          "plot_bgcolor": "#E5ECF6",
          "polar": {
           "angularaxis": {
            "gridcolor": "white",
            "linecolor": "white",
            "ticks": ""
           },
           "bgcolor": "#E5ECF6",
           "radialaxis": {
            "gridcolor": "white",
            "linecolor": "white",
            "ticks": ""
           }
          },
          "scene": {
           "xaxis": {
            "backgroundcolor": "#E5ECF6",
            "gridcolor": "white",
            "gridwidth": 2,
            "linecolor": "white",
            "showbackground": true,
            "ticks": "",
            "zerolinecolor": "white"
           },
           "yaxis": {
            "backgroundcolor": "#E5ECF6",
            "gridcolor": "white",
            "gridwidth": 2,
            "linecolor": "white",
            "showbackground": true,
            "ticks": "",
            "zerolinecolor": "white"
           },
           "zaxis": {
            "backgroundcolor": "#E5ECF6",
            "gridcolor": "white",
            "gridwidth": 2,
            "linecolor": "white",
            "showbackground": true,
            "ticks": "",
            "zerolinecolor": "white"
           }
          },
          "shapedefaults": {
           "line": {
            "color": "#2a3f5f"
           }
          },
          "ternary": {
           "aaxis": {
            "gridcolor": "white",
            "linecolor": "white",
            "ticks": ""
           },
           "baxis": {
            "gridcolor": "white",
            "linecolor": "white",
            "ticks": ""
           },
           "bgcolor": "#E5ECF6",
           "caxis": {
            "gridcolor": "white",
            "linecolor": "white",
            "ticks": ""
           }
          },
          "title": {
           "x": 0.05
          },
          "xaxis": {
           "automargin": true,
           "gridcolor": "white",
           "linecolor": "white",
           "ticks": "",
           "title": {
            "standoff": 15
           },
           "zerolinecolor": "white",
           "zerolinewidth": 2
          },
          "yaxis": {
           "automargin": true,
           "gridcolor": "white",
           "linecolor": "white",
           "ticks": "",
           "title": {
            "standoff": 15
           },
           "zerolinecolor": "white",
           "zerolinewidth": 2
          }
         }
        },
        "xaxis": {
         "anchor": "y",
         "domain": [
          0,
          1
         ],
         "title": {
          "text": "clock"
         }
        },
        "yaxis": {
         "anchor": "x",
         "domain": [
          0,
          1
         ],
         "title": {
          "text": "total"
         }
        }
       }
      },
      "text/html": [
       "<div>\n",
       "        \n",
       "        \n",
       "            <div id=\"44a27890-8099-4a87-b2d7-a7b5c5514422\" class=\"plotly-graph-div\" style=\"height:525px; width:100%;\"></div>\n",
       "            <script type=\"text/javascript\">\n",
       "                require([\"plotly\"], function(Plotly) {\n",
       "                    window.PLOTLYENV=window.PLOTLYENV || {};\n",
       "                    \n",
       "                if (document.getElementById(\"44a27890-8099-4a87-b2d7-a7b5c5514422\")) {\n",
       "                    Plotly.newPlot(\n",
       "                        '44a27890-8099-4a87-b2d7-a7b5c5514422',\n",
       "                        [{\"customdata\": [[\"teleop_Score FRL_place_low\", true], [\"teleop_Score FRL_place_low\", true], [\"teleop_Score FRL_place_low\", true], [\"teleop_Score FRL_place_low\", true], [\"teleop_Score FRL_place_low\", true], [\"teleop_Score FRL_place_low\", true], [\"teleop_Score FRL_place_low\", true], [\"teleop_Score FRL_place_low\", false], [\"teleop_Score FRL_place_low\", false], [\"teleop_Score FRL_place_low\", true], [\"teleop_Score FRL_place_low\", true], [\"teleop_Score FRL_place_low\", false], [\"teleop_Score FRL_place_low\", true], [\"teleop_Score FRL_place_low\", true], [\"teleop_Score FRL_place_low\", true], [\"teleop_Score FRL_place_low\", false], [\"teleop_Score FRL_place_low\", true], [\"teleop_Score FRL_place_low\", false], [\"teleop_Score FRL_place_low\", true], [\"teleop_Score FRL_place_low\", true], [\"teleop_Score FRL_place_low\", true], [\"teleop_Score FRL_place_low\", true], [\"teleop_Score FRL_place_low\", true], [\"teleop_Score FRL_place_low\", true], [\"teleop_Score FRL_place_low\", true], [\"teleop_Score FRL_place_low\", true], [\"teleop_Score FRL_place_low\", true], [\"teleop_Score FRL_place_low\", false], [\"teleop_Score FRL_place_low\", true], [\"teleop_Score FRL_place_low\", true], [\"teleop_Score FRL_place_low\", false], [\"teleop_Score FRL_place_low\", true], [\"teleop_Score FRL_place_low\", true], [\"teleop_Score FRL_place_low\", true], [\"teleop_Score FRL_place_low\", false], [\"teleop_Score FRL_place_low\", true], [\"teleop_Score FRL_place_low\", true], [\"teleop_Score FRL_place_low\", false], [\"teleop_Score FRL_place_low\", true], [\"teleop_Score FRL_place_low\", true], [\"teleop_Score FRL_place_low\", true], [\"teleop_Score FRL_place_low\", true], [\"teleop_Score FRL_place_low\", true], [\"teleop_Score FRL_place_low\", true], [\"teleop_Score FRL_place_low\", false], [\"teleop_Score FRL_place_low\", true], [\"teleop_Score FRL_place_low\", true], [\"teleop_Score FRL_place_low\", false], [\"teleop_Score FRL_place_low\", true], [\"teleop_Score FRL_place_low\", true], [\"teleop_Score FRL_place_low\", true], [\"teleop_Score FRL_place_low\", true], [\"teleop_Score FRL_place_low\", true], [\"teleop_Score FRL_place_low\", true], [\"teleop_Score FRL_place_low\", false], [\"teleop_Score FRL_place_low\", false], [\"teleop_Score FRL_place_low\", true], [\"teleop_Score FRL_place_low\", false], [\"teleop_Score FRL_place_low\", true], [\"teleop_Score FRL_place_low\", true], [\"teleop_Score FRL_place_low\", true], [\"teleop_Score FRL_place_low\", true], [\"teleop_Score FRL_place_low\", true], [\"teleop_Score FRL_place_low\", true], [\"teleop_Score FRL_place_low\", true], [\"teleop_Score FRL_place_low\", true], [\"teleop_Score FRL_place_low\", false], [\"teleop_Score FRL_place_low\", true], [\"teleop_Score FRL_place_low\", true], [\"teleop_Score FRL_place_low\", true], [\"teleop_Score FRL_place_low\", true], [\"teleop_Score FRL_place_low\", false], [\"teleop_Score FRL_place_low\", true], [\"teleop_Score FRL_place_low\", true], [\"teleop_Score FRL_place_low\", true], [\"teleop_Score FRL_place_low\", true], [\"teleop_Score FRL_place_low\", true], [\"teleop_Score FRL_drive_to_far\", false], [\"teleop_Score FRL_place_low\", true], [\"teleop_Score FRL_place_low\", true], [\"teleop_Score FRL_place_low\", true], [\"teleop_Score FRL_place_low\", true], [\"teleop_Score FRL_place_low\", false], [\"teleop_Score FRL_place_low\", true], [\"teleop_Score FRL_place_low\", true], [\"teleop_Score FRL_place_low\", true], [\"teleop_Score FRL_place_low\", true], [\"teleop_Score FRL_place_low\", true], [\"teleop_Score FRL_place_low\", true], [\"teleop_Score FRL_place_low\", true], [\"teleop_Score FRL_place_low\", true], [\"teleop_Score FRL_place_low\", true], [\"teleop_Score FRL_place_low\", true], [\"teleop_Score FRL_place_low\", true], [\"teleop_Score FRL_place_low\", true], [\"teleop_Score FRL_place_low\", false], [\"teleop_Score FRL_place_low\", true], [\"teleop_Score FRL_place_low\", true], [\"teleop_Score FRL_place_low\", true], [\"teleop_Score FRL_place_low\", true]], \"hoverlabel\": {\"namelength\": 0}, \"hovertemplate\": \"robot=Score FRL<br>clock=%{x}<br>total=%{y}<br>op=%{customdata[0]}<br>success=%{customdata[1]}\", \"legendgroup\": \"robot=Score FRL\", \"marker\": {\"color\": \"#636efa\", \"symbol\": \"circle\"}, \"mode\": \"markers\", \"name\": \"robot=Score FRL\", \"showlegend\": true, \"type\": \"scatter\", \"x\": [14.899999999999963, 9.699999999999982, 11.299999999999976, 29.100000000000144, 26.0000000000001, 17.69999999999998, 12.89999999999997, 9.699999999999982, 11.999999999999973, 17.099999999999973, 11.599999999999975, 17.299999999999976, 12.399999999999972, 24.500000000000078, 17.799999999999983, 6.099999999999994, 14.299999999999965, 13.299999999999969, 14.099999999999966, 12.89999999999997, 14.799999999999963, 16.09999999999996, 8.299999999999986, 11.499999999999975, 16.79999999999997, 21.300000000000033, 26.600000000000108, 28.300000000000132, 10.499999999999979, 7.099999999999991, 15.69999999999996, 12.599999999999971, 8.099999999999987, 12.99999999999997, 33.60000000000021, 13.09999999999997, 9.799999999999981, 15.399999999999961, 20.30000000000002, 39.100000000000286, 10.29999999999998, 12.99999999999997, 14.999999999999963, 15.59999999999996, 11.699999999999974, 9.89999999999998, 8.699999999999985, 12.399999999999972, 14.699999999999964, 21.00000000000003, 16.09999999999996, 12.099999999999973, 9.399999999999983, 27.700000000000124, 16.599999999999966, 18.699999999999996, 13.599999999999968, 8.699999999999985, 17.299999999999976, 8.599999999999985, 23.600000000000065, 7.699999999999989, 10.499999999999979, 34.100000000000215, 12.69999999999997, 14.299999999999965, 13.199999999999969, 14.599999999999964, 12.599999999999971, 22.60000000000005, 13.199999999999969, 7.29999999999999, 9.399999999999983, 7.699999999999989, 15.59999999999996, 22.50000000000005, 15.99999999999996, 6.999999999999991, 15.199999999999962, 12.79999999999997, 25.100000000000087, 13.699999999999967, 9.89999999999998, 35.10000000000023, 15.099999999999962, 29.400000000000148, 19.0, 12.599999999999971, 13.799999999999967, 10.29999999999998, 28.600000000000136, 12.69999999999997, 11.199999999999976, 15.099999999999962, 12.69999999999997, 8.599999999999985, 19.60000000000001, 24.500000000000078, 16.79999999999997, 8.799999999999985], \"xaxis\": \"x\", \"y\": [2, 2, 2, 2, 2, 2, 2, 0, 0, 2, 2, 0, 2, 2, 2, 0, 2, 0, 2, 2, 2, 2, 2, 2, 2, 2, 2, 0, 2, 2, 0, 2, 2, 2, 0, 2, 2, 0, 2, 2, 2, 2, 2, 2, 0, 2, 2, 0, 2, 2, 2, 2, 2, 2, 0, 0, 2, 0, 2, 2, 2, 2, 2, 2, 2, 2, 0, 2, 2, 2, 2, 0, 2, 2, 2, 2, 2, 0, 2, 2, 2, 2, 0, 2, 2, 2, 2, 2, 2, 2, 2, 2, 2, 2, 2, 0, 2, 2, 2, 2], \"yaxis\": \"y\"}, {\"customdata\": [[\"teleop_Score NRL_place_low\", false], [\"teleop_Score NRL_place_low\", false], [\"teleop_Score NRL_place_low\", true], [\"teleop_Score NRL_place_low\", true], [\"teleop_Score NRL_place_low\", true], [\"teleop_Score NRL_place_low\", false], [\"teleop_Score NRL_place_low\", false], [\"teleop_Score NRL_place_low\", true], [\"teleop_Score NRL_place_low\", true], [\"teleop_Score NRL_place_low\", true], [\"teleop_Score NRL_place_low\", false], [\"teleop_Score NRL_place_low\", true], [\"teleop_Score NRL_place_low\", false], [\"teleop_Score NRL_place_low\", true], [\"teleop_Score NRL_place_low\", false], [\"teleop_Score NRL_place_low\", true], [\"teleop_Score NRL_place_low\", true], [\"teleop_Score NRL_place_low\", false], [\"teleop_Score NRL_place_low\", true], [\"teleop_Score NRL_place_low\", true], [\"teleop_Score NRL_place_low\", true], [\"teleop_Score NRL_place_low\", true], [\"teleop_Score NRL_place_low\", true], [\"teleop_Score NRL_place_low\", true], [\"teleop_Score NRL_place_low\", false], [\"teleop_Score NRL_place_low\", true], [\"teleop_Score NRL_place_low\", true], [\"teleop_Score NRL_place_low\", true], [\"teleop_Score NRL_place_low\", true], [\"teleop_Score NRL_place_low\", true], [\"teleop_Score NRL_place_low\", true], [\"teleop_Score NRL_place_low\", true], [\"teleop_Score NRL_place_low\", true], [\"teleop_Score NRL_place_low\", true], [\"teleop_Score NRL_place_low\", true], [\"teleop_Score NRL_place_low\", true], [\"teleop_Score NRL_place_low\", false], [\"teleop_Score NRL_place_low\", true], [\"teleop_Score NRL_place_low\", true], [\"teleop_Score NRL_place_low\", true], [\"teleop_Score NRL_place_low\", true], [\"teleop_Score NRL_place_low\", false], [\"teleop_Score NRL_place_low\", true], [\"teleop_Score NRL_place_low\", true], [\"teleop_Score NRL_place_low\", true], [\"teleop_Score NRL_place_low\", true], [\"teleop_Score NRL_place_low\", true], [\"teleop_Score NRL_place_low\", true], [\"teleop_Score NRL_place_low\", true], [\"teleop_Score NRL_place_low\", true], [\"teleop_Score NRL_place_low\", true], [\"teleop_Score NRL_place_low\", true], [\"teleop_Score NRL_place_low\", false], [\"teleop_Score NRL_place_low\", true], [\"teleop_Score NRL_place_low\", true], [\"teleop_Score NRL_place_low\", false], [\"teleop_Score NRL_place_low\", true], [\"teleop_Score NRL_place_low\", true], [\"teleop_Score NRL_place_low\", true], [\"teleop_Score NRL_place_low\", true], [\"teleop_Score NRL_place_low\", false], [\"teleop_Score NRL_place_low\", true], [\"teleop_Score NRL_place_low\", true], [\"teleop_Score NRL_place_low\", true], [\"teleop_Score NRL_place_low\", true], [\"teleop_Score NRL_place_low\", true], [\"teleop_Score NRL_place_low\", true], [\"teleop_Score NRL_place_low\", true], [\"teleop_Score NRL_place_low\", true], [\"teleop_Score NRL_place_low\", true], [\"teleop_Score NRL_place_low\", true], [\"teleop_Score NRL_place_low\", true], [\"teleop_Score NRL_place_low\", true], [\"teleop_Score NRL_place_low\", true], [\"teleop_Score NRL_place_low\", true], [\"teleop_Score NRL_place_low\", true], [\"teleop_Score NRL_place_low\", true], [\"teleop_Score NRL_place_low\", false], [\"teleop_Score NRL_place_low\", true], [\"teleop_Score NRL_place_low\", true], [\"teleop_Score NRL_place_low\", true], [\"teleop_Score NRL_place_low\", true], [\"teleop_Score NRL_place_low\", true], [\"teleop_Score NRL_place_low\", true], [\"teleop_Score NRL_place_low\", false], [\"teleop_Score NRL_place_low\", true], [\"teleop_Score NRL_place_low\", false], [\"teleop_Score NRL_place_low\", true], [\"teleop_Score NRL_place_low\", true], [\"teleop_Score NRL_place_low\", true], [\"teleop_Score NRL_place_low\", true], [\"teleop_Score NRL_place_low\", true], [\"teleop_Score NRL_place_low\", true], [\"teleop_Score NRL_place_low\", false], [\"teleop_Score NRL_place_low\", false], [\"teleop_Score NRL_place_low\", true], [\"teleop_Score NRL_place_low\", false], [\"teleop_Score NRL_place_low\", false], [\"teleop_Score NRL_place_low\", false], [\"teleop_Score NRL_place_low\", true]], \"hoverlabel\": {\"namelength\": 0}, \"hovertemplate\": \"robot=Score NRL<br>clock=%{x}<br>total=%{y}<br>op=%{customdata[0]}<br>success=%{customdata[1]}\", \"legendgroup\": \"robot=Score NRL\", \"marker\": {\"color\": \"#EF553B\", \"symbol\": \"circle\"}, \"mode\": \"markers\", \"name\": \"robot=Score NRL\", \"showlegend\": true, \"type\": \"scatter\", \"x\": [10.699999999999978, 4.300000000000001, 7.19999999999999, 12.099999999999973, 5.599999999999996, 12.99999999999997, 11.999999999999973, 10.599999999999978, 11.299999999999976, 9.199999999999983, 8.299999999999986, 10.09999999999998, 14.899999999999963, 16.09999999999996, 12.79999999999997, 9.399999999999983, 10.19999999999998, 7.699999999999989, 8.999999999999984, 9.799999999999981, 9.799999999999981, 5.899999999999995, 14.699999999999964, 8.899999999999984, 7.999999999999988, 11.599999999999975, 12.499999999999972, 8.399999999999986, 9.799999999999981, 11.799999999999974, 8.199999999999987, 14.299999999999965, 14.899999999999963, 15.99999999999996, 7.799999999999988, 12.099999999999973, 10.599999999999978, 7.39999999999999, 7.099999999999991, 13.599999999999968, 5.399999999999997, 3.800000000000002, 6.5999999999999925, 6.799999999999992, 9.299999999999983, 8.899999999999984, 9.299999999999983, 9.699999999999982, 12.099999999999973, 5.999999999999995, 2.800000000000001, 14.599999999999964, 6.8999999999999915, 10.29999999999998, 13.799999999999967, 17.899999999999984, 28.20000000000013, 10.499999999999979, 4.999999999999998, 7.29999999999999, 9.399999999999983, 12.599999999999971, 12.299999999999972, 11.299999999999976, 19.300000000000004, 6.399999999999993, 6.8999999999999915, 15.399999999999961, 5.699999999999996, 6.5999999999999925, 14.599999999999964, 17.199999999999974, 5.599999999999996, 4.799999999999999, 10.699999999999978, 17.69999999999998, 6.699999999999992, 5.999999999999995, 16.09999999999996, 9.799999999999981, 10.999999999999977, 6.299999999999994, 11.299999999999976, 10.999999999999977, 5.999999999999995, 12.499999999999972, 2.1000000000000005, 6.5999999999999925, 6.5999999999999925, 8.999999999999984, 9.99999999999998, 7.599999999999989, 11.799999999999974, 11.799999999999974, 7.599999999999989, 13.499999999999968, 11.599999999999975, 10.399999999999979, 12.599999999999971, 8.899999999999984], \"xaxis\": \"x\", \"y\": [0, 0, 2, 2, 2, 0, 0, 2, 2, 2, 0, 2, 0, 2, 0, 2, 2, 0, 2, 2, 2, 2, 2, 2, 0, 2, 2, 2, 2, 2, 2, 2, 2, 2, 2, 2, 0, 2, 2, 2, 2, 0, 2, 2, 2, 2, 2, 2, 2, 2, 2, 2, 0, 2, 2, 0, 2, 2, 2, 2, 0, 2, 2, 2, 2, 2, 2, 2, 2, 2, 2, 2, 2, 2, 2, 2, 2, 0, 2, 2, 2, 2, 2, 2, 0, 2, 0, 2, 2, 2, 2, 2, 2, 0, 0, 2, 0, 0, 0, 2], \"yaxis\": \"y\"}, {\"customdata\": [[\"drive_off_hab1\", true], [\"drive_off_hab1\", true], [\"drive_off_hab1\", true], [\"drive_off_hab1\", true], [\"drive_off_hab1\", true], [\"drive_off_hab1\", true], [\"drive_off_hab1\", true], [\"drive_off_hab1\", true], [\"drive_off_hab1\", true], [\"drive_off_hab1\", true], [\"drive_off_hab1\", true], [\"drive_off_hab1\", true], [\"drive_off_hab1\", true], [\"drive_off_hab1\", true], [\"drive_off_hab1\", true], [\"drive_off_hab1\", true], [\"drive_off_hab1\", true], [\"drive_off_hab1\", true], [\"drive_off_hab1\", true], [\"drive_off_hab1\", true], [\"drive_off_hab1\", true], [\"drive_off_hab1\", true], [\"drive_off_hab1\", true], [\"drive_off_hab1\", true], [\"drive_off_hab1\", true], [\"drive_off_hab1\", true], [\"drive_off_hab1\", true], [\"drive_off_hab1\", true], [\"drive_off_hab1\", true], [\"drive_off_hab1\", true], [\"drive_off_hab1\", true], [\"drive_off_hab1\", true], [\"drive_off_hab1\", true], [\"drive_off_hab1\", true], [\"drive_off_hab1\", true], [\"drive_off_hab1\", true], [\"drive_off_hab1\", true], [\"drive_off_hab1\", true], [\"drive_off_hab1\", true], [\"drive_off_hab1\", true], [\"drive_off_hab1\", true], [\"drive_off_hab1\", true], [\"drive_off_hab1\", true], [\"drive_off_hab1\", true], [\"drive_off_hab1\", true], [\"drive_off_hab1\", true], [\"drive_off_hab1\", true], [\"drive_off_hab1\", true], [\"drive_off_hab1\", true], [\"drive_off_hab1\", true], [\"drive_off_hab1\", true], [\"drive_off_hab1\", true], [\"drive_off_hab1\", true], [\"drive_off_hab1\", true], [\"drive_off_hab1\", true], [\"drive_off_hab1\", true], [\"drive_off_hab1\", true], [\"drive_off_hab1\", true], [\"drive_off_hab1\", true], [\"drive_off_hab1\", true], [\"drive_off_hab1\", true], [\"drive_off_hab1\", true], [\"drive_off_hab1\", true], [\"drive_off_hab1\", true], [\"drive_off_hab1\", true], [\"drive_off_hab1\", true], [\"drive_off_hab1\", true], [\"drive_off_hab1\", true], [\"drive_off_hab1\", true], [\"drive_off_hab1\", true], [\"drive_off_hab1\", true], [\"drive_off_hab1\", true], [\"drive_off_hab1\", true], [\"drive_off_hab1\", true], [\"drive_off_hab1\", true], [\"drive_off_hab1\", true], [\"drive_off_hab1\", true], [\"drive_off_hab1\", true], [\"drive_off_hab1\", true], [\"drive_off_hab1\", true], [\"drive_off_hab1\", true], [\"drive_off_hab1\", true], [\"drive_off_hab1\", true], [\"drive_off_hab1\", true], [\"drive_off_hab1\", true], [\"drive_off_hab1\", true], [\"drive_off_hab1\", true], [\"drive_off_hab1\", true], [\"drive_off_hab1\", true], [\"drive_off_hab1\", true], [\"drive_off_hab1\", true], [\"drive_off_hab1\", true], [\"drive_off_hab1\", true], [\"drive_off_hab1\", true], [\"drive_off_hab1\", true], [\"drive_off_hab1\", true], [\"drive_off_hab1\", true], [\"drive_off_hab1\", true], [\"drive_off_hab1\", true], [\"drive_off_hab1\", true]], \"hoverlabel\": {\"namelength\": 0}, \"hovertemplate\": \"robot=drive_off_hab1<br>clock=%{x}<br>total=%{y}<br>op=%{customdata[0]}<br>success=%{customdata[1]}\", \"legendgroup\": \"robot=drive_off_hab1\", \"marker\": {\"color\": \"#00cc96\", \"symbol\": \"circle\"}, \"mode\": \"markers\", \"name\": \"robot=drive_off_hab1\", \"showlegend\": true, \"type\": \"scatter\", \"x\": [2.800000000000001, 1.7000000000000004, 0.4, 0.9999999999999999, 1.4000000000000001, 0.9999999999999999, 0.30000000000000004, 1.4000000000000001, 1.8000000000000005, 0.6, 0.9999999999999999, 1.4000000000000001, 1.5000000000000002, 1.2, 1.2, 0.7999999999999999, 1.4000000000000001, 1.8000000000000005, 0.9999999999999999, 1.3, 1.8000000000000005, 1.2, 0.7, 0.2, 1.0999999999999999, 1.3, 0.6, 0.9999999999999999, 0.1, 1.0999999999999999, 1.7000000000000004, 0.7999999999999999, 0.8999999999999999, 1.4000000000000001, 1.3, 1.0999999999999999, 0.7, 0.2, 1.0999999999999999, 1.5000000000000002, 0.7, 0.7999999999999999, 0.7999999999999999, 0.8999999999999999, 1.3, 0.9999999999999999, 0.1, 0.8999999999999999, 0.6, 1.2, 1.3, 0.4, 1.8000000000000005, 0.9999999999999999, 0.8999999999999999, 1.4000000000000001, 1.7000000000000004, 0.9999999999999999, 0.5, 1.0999999999999999, 0.4, 0.6, 1.3, 0.8999999999999999, 0.6, 0.5, 1.3, 0.7999999999999999, 2.700000000000001, 2.800000000000001, 1.9000000000000006, 1.4000000000000001, 0.8999999999999999, 1.2, 1.0999999999999999, 1.0999999999999999, 1.2, 1.0999999999999999, 0.5, 0.1, 0.30000000000000004, 3.2000000000000015, 1.5000000000000002, 0.4, 0.9999999999999999, 0.1, 1.7000000000000004, 1.4000000000000001, 1.0999999999999999, 0.7, 1.0999999999999999, 0.8999999999999999, 1.4000000000000001, 1.2, 0.9999999999999999, 1.6000000000000003, 1.0999999999999999, 1.7000000000000004, 1.4000000000000001, 0.2], \"xaxis\": \"x\", \"y\": [3, 3, 3, 3, 3, 3, 3, 3, 3, 3, 3, 3, 3, 3, 3, 3, 3, 3, 3, 3, 3, 3, 3, 3, 3, 3, 3, 3, 3, 3, 3, 3, 3, 3, 3, 3, 3, 3, 3, 3, 3, 3, 3, 3, 3, 3, 3, 3, 3, 3, 3, 3, 3, 3, 3, 3, 3, 3, 3, 3, 3, 3, 3, 3, 3, 3, 3, 3, 3, 3, 3, 3, 3, 3, 3, 3, 3, 3, 3, 3, 3, 3, 3, 3, 3, 3, 3, 3, 3, 3, 3, 3, 3, 3, 3, 3, 3, 3, 3, 3], \"yaxis\": \"y\"}, {\"customdata\": [[\"drive_off_hab2\", true], [\"drive_off_hab2\", true], [\"drive_off_hab2\", true], [\"drive_off_hab2\", true], [\"drive_off_hab2\", true], [\"drive_off_hab2\", true], [\"drive_off_hab2\", true], [\"drive_off_hab2\", true], [\"drive_off_hab2\", true], [\"drive_off_hab2\", true], [\"drive_off_hab2\", true], [\"drive_off_hab2\", true], [\"drive_off_hab2\", true], [\"drive_off_hab2\", true], [\"drive_off_hab2\", true], [\"drive_off_hab2\", true], [\"drive_off_hab2\", true], [\"drive_off_hab2\", true], [\"drive_off_hab2\", true], [\"drive_off_hab2\", true], [\"drive_off_hab2\", true], [\"drive_off_hab2\", true], [\"drive_off_hab2\", true], [\"drive_off_hab2\", true], [\"drive_off_hab2\", true], [\"drive_off_hab2\", true], [\"drive_off_hab2\", true], [\"drive_off_hab2\", true], [\"drive_off_hab2\", true], [\"drive_off_hab2\", true], [\"drive_off_hab2\", true], [\"drive_off_hab2\", true], [\"drive_off_hab2\", true], [\"drive_off_hab2\", true], [\"drive_off_hab2\", true], [\"drive_off_hab2\", true], [\"drive_off_hab2\", true], [\"drive_off_hab2\", true], [\"drive_off_hab2\", true], [\"drive_off_hab2\", true], [\"drive_off_hab2\", true], [\"drive_off_hab2\", true], [\"drive_off_hab2\", true], [\"drive_off_hab2\", true], [\"drive_off_hab2\", true], [\"drive_off_hab2\", true], [\"drive_off_hab2\", true], [\"drive_off_hab2\", true], [\"drive_off_hab2\", true], [\"drive_off_hab2\", true], [\"drive_off_hab2\", true], [\"drive_off_hab2\", true], [\"drive_off_hab2\", true], [\"drive_off_hab2\", true], [\"drive_off_hab2\", true], [\"drive_off_hab2\", true], [\"drive_off_hab2\", true], [\"drive_off_hab2\", true], [\"drive_off_hab2\", true], [\"drive_off_hab2\", true], [\"drive_off_hab2\", true], [\"drive_off_hab2\", true], [\"drive_off_hab2\", true], [\"drive_off_hab2\", true], [\"drive_off_hab2\", true], [\"drive_off_hab2\", true], [\"drive_off_hab2\", true], [\"drive_off_hab2\", true], [\"drive_off_hab2\", true], [\"drive_off_hab2\", true], [\"drive_off_hab2\", true], [\"drive_off_hab2\", true], [\"drive_off_hab2\", true], [\"drive_off_hab2\", true], [\"drive_off_hab2\", true], [\"drive_off_hab2\", true], [\"drive_off_hab2\", true], [\"drive_off_hab2\", true], [\"drive_off_hab2\", true], [\"drive_off_hab2\", true], [\"drive_off_hab2\", true], [\"drive_off_hab2\", true], [\"drive_off_hab2\", true], [\"drive_off_hab2\", true], [\"drive_off_hab2\", true], [\"drive_off_hab2\", true], [\"drive_off_hab2\", true], [\"drive_off_hab2\", true], [\"drive_off_hab2\", true], [\"drive_off_hab2\", true], [\"drive_off_hab2\", true], [\"drive_off_hab2\", true], [\"drive_off_hab2\", true], [\"drive_off_hab2\", true], [\"drive_off_hab2\", true], [\"drive_off_hab2\", true], [\"drive_off_hab2\", true], [\"drive_off_hab2\", true], [\"drive_off_hab2\", true], [\"drive_off_hab2\", true]], \"hoverlabel\": {\"namelength\": 0}, \"hovertemplate\": \"robot=drive_off_hab2<br>clock=%{x}<br>total=%{y}<br>op=%{customdata[0]}<br>success=%{customdata[1]}\", \"legendgroup\": \"robot=drive_off_hab2\", \"marker\": {\"color\": \"#ab63fa\", \"symbol\": \"circle\"}, \"mode\": \"markers\", \"name\": \"robot=drive_off_hab2\", \"showlegend\": true, \"type\": \"scatter\", \"x\": [1.0999999999999999, 1.3, 2.0000000000000004, 0.7, 1.2, 0.30000000000000004, 2.500000000000001, 1.7000000000000004, 1.2, 1.3, 1.3, 2.3000000000000007, 1.8000000000000005, 0.8999999999999999, 1.4000000000000001, 0.8999999999999999, 0.7, 1.3, 0.4, 1.5000000000000002, 0.4, 0.9999999999999999, 0.9999999999999999, 1.5000000000000002, 0.8999999999999999, 1.3, 1.9000000000000006, 0.9999999999999999, 1.2, 1.3, 1.0999999999999999, 0.5, 1.9000000000000006, 1.2, 1.7000000000000004, 1.9000000000000006, 1.3, 0.8999999999999999, 0.8999999999999999, 0.5, 1.5000000000000002, 0.9999999999999999, 0.9999999999999999, 0.9999999999999999, 0.7, 1.6000000000000003, 2.1000000000000005, 1.3, 1.5000000000000002, 1.2, 1.5000000000000002, 0.7, 2.0000000000000004, 0.8999999999999999, 1.7000000000000004, 0.4, 1.4000000000000001, 1.4000000000000001, 1.0999999999999999, 0.7, 0.4, 1.0999999999999999, 1.3, 0.6, 0.7999999999999999, 1.4000000000000001, 1.8000000000000005, 1.9000000000000006, 1.2, 1.6000000000000003, 0.8999999999999999, 0.7, 1.5000000000000002, 0.7999999999999999, 0.9999999999999999, 1.4000000000000001, 0.8999999999999999, 0.8999999999999999, 1.5000000000000002, 1.4000000000000001, 1.0999999999999999, 0.7999999999999999, 1.0999999999999999, 0.7, 1.5000000000000002, 1.4000000000000001, 0.7999999999999999, 1.8000000000000005, 1.7000000000000004, 1.4000000000000001, 1.5000000000000002, 1.5000000000000002, 0.9999999999999999, 0.7, 1.6000000000000003, 1.2, 0.6, 1.4000000000000001, 1.3, 0.7999999999999999], \"xaxis\": \"x\", \"y\": [6, 6, 6, 6, 6, 6, 6, 6, 6, 6, 6, 6, 6, 6, 6, 6, 6, 6, 6, 6, 6, 6, 6, 6, 6, 6, 6, 6, 6, 6, 6, 6, 6, 6, 6, 6, 6, 6, 6, 6, 6, 6, 6, 6, 6, 6, 6, 6, 6, 6, 6, 6, 6, 6, 6, 6, 6, 6, 6, 6, 6, 6, 6, 6, 6, 6, 6, 6, 6, 6, 6, 6, 6, 6, 6, 6, 6, 6, 6, 6, 6, 6, 6, 6, 6, 6, 6, 6, 6, 6, 6, 6, 6, 6, 6, 6, 6, 6, 6, 6], \"yaxis\": \"y\"}],\n",
       "                        {\"legend\": {\"tracegroupgap\": 0}, \"margin\": {\"t\": 60}, \"template\": {\"data\": {\"bar\": [{\"error_x\": {\"color\": \"#2a3f5f\"}, \"error_y\": {\"color\": \"#2a3f5f\"}, \"marker\": {\"line\": {\"color\": \"#E5ECF6\", \"width\": 0.5}}, \"type\": \"bar\"}], \"barpolar\": [{\"marker\": {\"line\": {\"color\": \"#E5ECF6\", \"width\": 0.5}}, \"type\": \"barpolar\"}], \"carpet\": [{\"aaxis\": {\"endlinecolor\": \"#2a3f5f\", \"gridcolor\": \"white\", \"linecolor\": \"white\", \"minorgridcolor\": \"white\", \"startlinecolor\": \"#2a3f5f\"}, \"baxis\": {\"endlinecolor\": \"#2a3f5f\", \"gridcolor\": \"white\", \"linecolor\": \"white\", \"minorgridcolor\": \"white\", \"startlinecolor\": \"#2a3f5f\"}, \"type\": \"carpet\"}], \"choropleth\": [{\"colorbar\": {\"outlinewidth\": 0, \"ticks\": \"\"}, \"type\": \"choropleth\"}], \"contour\": [{\"colorbar\": {\"outlinewidth\": 0, \"ticks\": \"\"}, \"colorscale\": [[0.0, \"#0d0887\"], [0.1111111111111111, \"#46039f\"], [0.2222222222222222, \"#7201a8\"], [0.3333333333333333, \"#9c179e\"], [0.4444444444444444, \"#bd3786\"], [0.5555555555555556, \"#d8576b\"], [0.6666666666666666, \"#ed7953\"], [0.7777777777777778, \"#fb9f3a\"], [0.8888888888888888, \"#fdca26\"], [1.0, \"#f0f921\"]], \"type\": \"contour\"}], \"contourcarpet\": [{\"colorbar\": {\"outlinewidth\": 0, \"ticks\": \"\"}, \"type\": \"contourcarpet\"}], \"heatmap\": [{\"colorbar\": {\"outlinewidth\": 0, \"ticks\": \"\"}, \"colorscale\": [[0.0, \"#0d0887\"], [0.1111111111111111, \"#46039f\"], [0.2222222222222222, \"#7201a8\"], [0.3333333333333333, \"#9c179e\"], [0.4444444444444444, \"#bd3786\"], [0.5555555555555556, \"#d8576b\"], [0.6666666666666666, \"#ed7953\"], [0.7777777777777778, \"#fb9f3a\"], [0.8888888888888888, \"#fdca26\"], [1.0, \"#f0f921\"]], \"type\": \"heatmap\"}], \"heatmapgl\": [{\"colorbar\": {\"outlinewidth\": 0, \"ticks\": \"\"}, \"colorscale\": [[0.0, \"#0d0887\"], [0.1111111111111111, \"#46039f\"], [0.2222222222222222, \"#7201a8\"], [0.3333333333333333, \"#9c179e\"], [0.4444444444444444, \"#bd3786\"], [0.5555555555555556, \"#d8576b\"], [0.6666666666666666, \"#ed7953\"], [0.7777777777777778, \"#fb9f3a\"], [0.8888888888888888, \"#fdca26\"], [1.0, \"#f0f921\"]], \"type\": \"heatmapgl\"}], \"histogram\": [{\"marker\": {\"colorbar\": {\"outlinewidth\": 0, \"ticks\": \"\"}}, \"type\": \"histogram\"}], \"histogram2d\": [{\"colorbar\": {\"outlinewidth\": 0, \"ticks\": \"\"}, \"colorscale\": [[0.0, \"#0d0887\"], [0.1111111111111111, \"#46039f\"], [0.2222222222222222, \"#7201a8\"], [0.3333333333333333, \"#9c179e\"], [0.4444444444444444, \"#bd3786\"], [0.5555555555555556, \"#d8576b\"], [0.6666666666666666, \"#ed7953\"], [0.7777777777777778, \"#fb9f3a\"], [0.8888888888888888, \"#fdca26\"], [1.0, \"#f0f921\"]], \"type\": \"histogram2d\"}], \"histogram2dcontour\": [{\"colorbar\": {\"outlinewidth\": 0, \"ticks\": \"\"}, \"colorscale\": [[0.0, \"#0d0887\"], [0.1111111111111111, \"#46039f\"], [0.2222222222222222, \"#7201a8\"], [0.3333333333333333, \"#9c179e\"], [0.4444444444444444, \"#bd3786\"], [0.5555555555555556, \"#d8576b\"], [0.6666666666666666, \"#ed7953\"], [0.7777777777777778, \"#fb9f3a\"], [0.8888888888888888, \"#fdca26\"], [1.0, \"#f0f921\"]], \"type\": \"histogram2dcontour\"}], \"mesh3d\": [{\"colorbar\": {\"outlinewidth\": 0, \"ticks\": \"\"}, \"type\": \"mesh3d\"}], \"parcoords\": [{\"line\": {\"colorbar\": {\"outlinewidth\": 0, \"ticks\": \"\"}}, \"type\": \"parcoords\"}], \"pie\": [{\"automargin\": true, \"type\": \"pie\"}], \"scatter\": [{\"marker\": {\"colorbar\": {\"outlinewidth\": 0, \"ticks\": \"\"}}, \"type\": \"scatter\"}], \"scatter3d\": [{\"line\": {\"colorbar\": {\"outlinewidth\": 0, \"ticks\": \"\"}}, \"marker\": {\"colorbar\": {\"outlinewidth\": 0, \"ticks\": \"\"}}, \"type\": \"scatter3d\"}], \"scattercarpet\": [{\"marker\": {\"colorbar\": {\"outlinewidth\": 0, \"ticks\": \"\"}}, \"type\": \"scattercarpet\"}], \"scattergeo\": [{\"marker\": {\"colorbar\": {\"outlinewidth\": 0, \"ticks\": \"\"}}, \"type\": \"scattergeo\"}], \"scattergl\": [{\"marker\": {\"colorbar\": {\"outlinewidth\": 0, \"ticks\": \"\"}}, \"type\": \"scattergl\"}], \"scattermapbox\": [{\"marker\": {\"colorbar\": {\"outlinewidth\": 0, \"ticks\": \"\"}}, \"type\": \"scattermapbox\"}], \"scatterpolar\": [{\"marker\": {\"colorbar\": {\"outlinewidth\": 0, \"ticks\": \"\"}}, \"type\": \"scatterpolar\"}], \"scatterpolargl\": [{\"marker\": {\"colorbar\": {\"outlinewidth\": 0, \"ticks\": \"\"}}, \"type\": \"scatterpolargl\"}], \"scatterternary\": [{\"marker\": {\"colorbar\": {\"outlinewidth\": 0, \"ticks\": \"\"}}, \"type\": \"scatterternary\"}], \"surface\": [{\"colorbar\": {\"outlinewidth\": 0, \"ticks\": \"\"}, \"colorscale\": [[0.0, \"#0d0887\"], [0.1111111111111111, \"#46039f\"], [0.2222222222222222, \"#7201a8\"], [0.3333333333333333, \"#9c179e\"], [0.4444444444444444, \"#bd3786\"], [0.5555555555555556, \"#d8576b\"], [0.6666666666666666, \"#ed7953\"], [0.7777777777777778, \"#fb9f3a\"], [0.8888888888888888, \"#fdca26\"], [1.0, \"#f0f921\"]], \"type\": \"surface\"}], \"table\": [{\"cells\": {\"fill\": {\"color\": \"#EBF0F8\"}, \"line\": {\"color\": \"white\"}}, \"header\": {\"fill\": {\"color\": \"#C8D4E3\"}, \"line\": {\"color\": \"white\"}}, \"type\": \"table\"}]}, \"layout\": {\"annotationdefaults\": {\"arrowcolor\": \"#2a3f5f\", \"arrowhead\": 0, \"arrowwidth\": 1}, \"coloraxis\": {\"colorbar\": {\"outlinewidth\": 0, \"ticks\": \"\"}}, \"colorscale\": {\"diverging\": [[0, \"#8e0152\"], [0.1, \"#c51b7d\"], [0.2, \"#de77ae\"], [0.3, \"#f1b6da\"], [0.4, \"#fde0ef\"], [0.5, \"#f7f7f7\"], [0.6, \"#e6f5d0\"], [0.7, \"#b8e186\"], [0.8, \"#7fbc41\"], [0.9, \"#4d9221\"], [1, \"#276419\"]], \"sequential\": [[0.0, \"#0d0887\"], [0.1111111111111111, \"#46039f\"], [0.2222222222222222, \"#7201a8\"], [0.3333333333333333, \"#9c179e\"], [0.4444444444444444, \"#bd3786\"], [0.5555555555555556, \"#d8576b\"], [0.6666666666666666, \"#ed7953\"], [0.7777777777777778, \"#fb9f3a\"], [0.8888888888888888, \"#fdca26\"], [1.0, \"#f0f921\"]], \"sequentialminus\": [[0.0, \"#0d0887\"], [0.1111111111111111, \"#46039f\"], [0.2222222222222222, \"#7201a8\"], [0.3333333333333333, \"#9c179e\"], [0.4444444444444444, \"#bd3786\"], [0.5555555555555556, \"#d8576b\"], [0.6666666666666666, \"#ed7953\"], [0.7777777777777778, \"#fb9f3a\"], [0.8888888888888888, \"#fdca26\"], [1.0, \"#f0f921\"]]}, \"colorway\": [\"#636efa\", \"#EF553B\", \"#00cc96\", \"#ab63fa\", \"#FFA15A\", \"#19d3f3\", \"#FF6692\", \"#B6E880\", \"#FF97FF\", \"#FECB52\"], \"font\": {\"color\": \"#2a3f5f\"}, \"geo\": {\"bgcolor\": \"white\", \"lakecolor\": \"white\", \"landcolor\": \"#E5ECF6\", \"showlakes\": true, \"showland\": true, \"subunitcolor\": \"white\"}, \"hoverlabel\": {\"align\": \"left\"}, \"hovermode\": \"closest\", \"mapbox\": {\"style\": \"light\"}, \"paper_bgcolor\": \"white\", \"plot_bgcolor\": \"#E5ECF6\", \"polar\": {\"angularaxis\": {\"gridcolor\": \"white\", \"linecolor\": \"white\", \"ticks\": \"\"}, \"bgcolor\": \"#E5ECF6\", \"radialaxis\": {\"gridcolor\": \"white\", \"linecolor\": \"white\", \"ticks\": \"\"}}, \"scene\": {\"xaxis\": {\"backgroundcolor\": \"#E5ECF6\", \"gridcolor\": \"white\", \"gridwidth\": 2, \"linecolor\": \"white\", \"showbackground\": true, \"ticks\": \"\", \"zerolinecolor\": \"white\"}, \"yaxis\": {\"backgroundcolor\": \"#E5ECF6\", \"gridcolor\": \"white\", \"gridwidth\": 2, \"linecolor\": \"white\", \"showbackground\": true, \"ticks\": \"\", \"zerolinecolor\": \"white\"}, \"zaxis\": {\"backgroundcolor\": \"#E5ECF6\", \"gridcolor\": \"white\", \"gridwidth\": 2, \"linecolor\": \"white\", \"showbackground\": true, \"ticks\": \"\", \"zerolinecolor\": \"white\"}}, \"shapedefaults\": {\"line\": {\"color\": \"#2a3f5f\"}}, \"ternary\": {\"aaxis\": {\"gridcolor\": \"white\", \"linecolor\": \"white\", \"ticks\": \"\"}, \"baxis\": {\"gridcolor\": \"white\", \"linecolor\": \"white\", \"ticks\": \"\"}, \"bgcolor\": \"#E5ECF6\", \"caxis\": {\"gridcolor\": \"white\", \"linecolor\": \"white\", \"ticks\": \"\"}}, \"title\": {\"x\": 0.05}, \"xaxis\": {\"automargin\": true, \"gridcolor\": \"white\", \"linecolor\": \"white\", \"ticks\": \"\", \"title\": {\"standoff\": 15}, \"zerolinecolor\": \"white\", \"zerolinewidth\": 2}, \"yaxis\": {\"automargin\": true, \"gridcolor\": \"white\", \"linecolor\": \"white\", \"ticks\": \"\", \"title\": {\"standoff\": 15}, \"zerolinecolor\": \"white\", \"zerolinewidth\": 2}}}, \"xaxis\": {\"anchor\": \"y\", \"domain\": [0.0, 1.0], \"title\": {\"text\": \"clock\"}}, \"yaxis\": {\"anchor\": \"x\", \"domain\": [0.0, 1.0], \"title\": {\"text\": \"total\"}}},\n",
       "                        {\"responsive\": true}\n",
       "                    ).then(function(){\n",
       "                            \n",
       "var gd = document.getElementById('44a27890-8099-4a87-b2d7-a7b5c5514422');\n",
       "var x = new MutationObserver(function (mutations, observer) {{\n",
       "        var display = window.getComputedStyle(gd).display;\n",
       "        if (!display || display === 'none') {{\n",
       "            console.log([gd, 'removed!']);\n",
       "            Plotly.purge(gd);\n",
       "            observer.disconnect();\n",
       "        }}\n",
       "}});\n",
       "\n",
       "// Listen for the removal of the full notebook cells\n",
       "var notebookContainer = gd.closest('#notebook-container');\n",
       "if (notebookContainer) {{\n",
       "    x.observe(notebookContainer, {childList: true});\n",
       "}}\n",
       "\n",
       "// Listen for the clearing of the current output cell\n",
       "var outputEl = gd.closest('.output');\n",
       "if (outputEl) {{\n",
       "    x.observe(outputEl, {childList: true});\n",
       "}}\n",
       "\n",
       "                        })\n",
       "                };\n",
       "                });\n",
       "            </script>\n",
       "        </div>"
      ]
     },
     "metadata": {},
     "output_type": "display_data"
    }
   ],
   "source": [
    "fig = px.scatter(pput, x='clock', y='total', color='robot', hover_data=['op','success'])\n",
    "fig.show()\n",
    "\n",
    "#fig.write_image(\"test.png\")\n",
    "#Image('test.png')"
   ]
  },
  {
   "cell_type": "code",
   "execution_count": 9,
   "metadata": {},
   "outputs": [
    {
     "data": {
      "application/vnd.plotly.v1+json": {
       "config": {
        "plotlyServerURL": "https://plot.ly"
       },
       "data": [
        {
         "customdata": [
          [
           14.899999999999963,
           0.13422818791946342
          ],
          [
           9.699999999999982,
           0.20618556701030968
          ],
          [
           11.299999999999976,
           0.17699115044247826
          ],
          [
           29.100000000000144,
           0.06872852233676942
          ],
          [
           26.0000000000001,
           0.07692307692307662
          ],
          [
           17.69999999999998,
           0.112994350282486
          ],
          [
           12.89999999999997,
           0.15503875968992284
          ],
          [
           9.699999999999982,
           0
          ],
          [
           11.999999999999973,
           0
          ],
          [
           17.099999999999973,
           0.11695906432748557
          ],
          [
           11.599999999999975,
           0.17241379310344865
          ],
          [
           17.299999999999976,
           0
          ],
          [
           12.399999999999972,
           0.16129032258064552
          ],
          [
           24.500000000000078,
           0.08163265306122423
          ],
          [
           17.799999999999983,
           0.11235955056179786
          ],
          [
           6.099999999999994,
           0
          ],
          [
           14.299999999999965,
           0.1398601398601402
          ],
          [
           13.299999999999969,
           0
          ],
          [
           14.099999999999966,
           0.14184397163120602
          ],
          [
           12.89999999999997,
           0.15503875968992284
          ],
          [
           14.799999999999963,
           0.13513513513513548
          ],
          [
           16.09999999999996,
           0.12422360248447237
          ],
          [
           8.299999999999986,
           0.24096385542168713
          ],
          [
           11.499999999999975,
           0.17391304347826125
          ],
          [
           16.79999999999997,
           0.11904761904761926
          ],
          [
           21.300000000000033,
           0.09389671361502333
          ],
          [
           26.600000000000108,
           0.07518796992481172
          ],
          [
           28.300000000000132,
           0
          ],
          [
           10.499999999999979,
           0.19047619047619085
          ],
          [
           7.099999999999991,
           0.28169014084507077
          ],
          [
           15.69999999999996,
           0
          ],
          [
           12.599999999999971,
           0.15873015873015908
          ],
          [
           8.099999999999987,
           0.24691358024691398
          ],
          [
           12.99999999999997,
           0.15384615384615422
          ],
          [
           33.60000000000021,
           0
          ],
          [
           13.09999999999997,
           0.1526717557251912
          ],
          [
           9.799999999999981,
           0.20408163265306162
          ],
          [
           15.399999999999961,
           0
          ],
          [
           20.30000000000002,
           0.09852216748768464
          ],
          [
           39.100000000000286,
           0.051150895140664586
          ],
          [
           10.29999999999998,
           0.19417475728155378
          ],
          [
           12.99999999999997,
           0.15384615384615422
          ],
          [
           14.999999999999963,
           0.13333333333333366
          ],
          [
           15.59999999999996,
           0.12820512820512853
          ],
          [
           11.699999999999974,
           0
          ],
          [
           9.89999999999998,
           0.2020202020202024
          ],
          [
           8.699999999999985,
           0.22988505747126475
          ],
          [
           12.399999999999972,
           0
          ],
          [
           14.699999999999964,
           0.13605442176870783
          ],
          [
           21.00000000000003,
           0.09523809523809511
          ],
          [
           16.09999999999996,
           0.12422360248447237
          ],
          [
           12.099999999999973,
           0.16528925619834747
          ],
          [
           9.399999999999983,
           0.2127659574468089
          ],
          [
           27.700000000000124,
           0.07220216606498163
          ],
          [
           16.599999999999966,
           0
          ],
          [
           18.699999999999996,
           0
          ],
          [
           13.599999999999968,
           0.1470588235294121
          ],
          [
           8.699999999999985,
           0
          ],
          [
           17.299999999999976,
           0.11560693641618514
          ],
          [
           8.599999999999985,
           0.2325581395348841
          ],
          [
           23.600000000000065,
           0.08474576271186417
          ],
          [
           7.699999999999989,
           0.2597402597402601
          ],
          [
           10.499999999999979,
           0.19047619047619085
          ],
          [
           34.100000000000215,
           0.058651026392961506
          ],
          [
           12.69999999999997,
           0.15748031496063028
          ],
          [
           14.299999999999965,
           0.1398601398601402
          ],
          [
           13.199999999999969,
           0
          ],
          [
           14.599999999999964,
           0.13698630136986334
          ],
          [
           12.599999999999971,
           0.15873015873015908
          ],
          [
           22.60000000000005,
           0.08849557522123874
          ],
          [
           13.199999999999969,
           0.15151515151515188
          ],
          [
           7.29999999999999,
           0
          ],
          [
           9.399999999999983,
           0.2127659574468089
          ],
          [
           7.699999999999989,
           0.2597402597402601
          ],
          [
           15.59999999999996,
           0.12820512820512853
          ],
          [
           22.50000000000005,
           0.0888888888888887
          ],
          [
           15.99999999999996,
           0.12500000000000033
          ],
          [
           6.999999999999991,
           0
          ],
          [
           15.199999999999962,
           0.13157894736842138
          ],
          [
           12.79999999999997,
           0.15625000000000036
          ],
          [
           25.100000000000087,
           0.07968127490039813
          ],
          [
           13.699999999999967,
           0.14598540145985436
          ],
          [
           9.89999999999998,
           0
          ],
          [
           35.10000000000023,
           0.056980056980056606
          ],
          [
           15.099999999999962,
           0.13245033112582816
          ],
          [
           29.400000000000148,
           0.0680272108843534
          ],
          [
           19,
           0.10526315789473684
          ],
          [
           12.599999999999971,
           0.15873015873015908
          ],
          [
           13.799999999999967,
           0.1449275362318844
          ],
          [
           10.29999999999998,
           0.19417475728155378
          ],
          [
           28.600000000000136,
           0.0699300699300696
          ],
          [
           12.69999999999997,
           0.15748031496063028
          ],
          [
           11.199999999999976,
           0.17857142857142896
          ],
          [
           15.099999999999962,
           0.13245033112582816
          ],
          [
           12.69999999999997,
           0.15748031496063028
          ],
          [
           8.599999999999985,
           0
          ],
          [
           19.60000000000001,
           0.10204081632653057
          ],
          [
           24.500000000000078,
           0.08163265306122423
          ],
          [
           16.79999999999997,
           0.11904761904761926
          ],
          [
           8.799999999999985,
           0.22727272727272765
          ]
         ],
         "hoverlabel": {
          "namelength": 0
         },
         "hovertemplate": "=Score FRL<br>Time=%{customdata[0]}<br>Points=%{y}<br>pput=%{customdata[1]}",
         "legendgroup": "=Score FRL",
         "marker": {
          "color": "#636efa",
          "symbol": "circle"
         },
         "mode": "markers",
         "name": "=Score FRL",
         "showlegend": true,
         "type": "scatter",
         "x": [
          14.899999999999963,
          9.699999999999982,
          11.299999999999976,
          29.100000000000144,
          26.0000000000001,
          17.69999999999998,
          12.89999999999997,
          9.699999999999982,
          11.999999999999973,
          17.099999999999973,
          11.599999999999975,
          17.299999999999976,
          12.399999999999972,
          24.500000000000078,
          17.799999999999983,
          6.099999999999994,
          14.299999999999965,
          13.299999999999969,
          14.099999999999966,
          12.89999999999997,
          14.799999999999963,
          16.09999999999996,
          8.299999999999986,
          11.499999999999975,
          16.79999999999997,
          21.300000000000033,
          26.600000000000108,
          28.300000000000132,
          10.499999999999979,
          7.099999999999991,
          15.69999999999996,
          12.599999999999971,
          8.099999999999987,
          12.99999999999997,
          33.60000000000021,
          13.09999999999997,
          9.799999999999981,
          15.399999999999961,
          20.30000000000002,
          39.100000000000286,
          10.29999999999998,
          12.99999999999997,
          14.999999999999963,
          15.59999999999996,
          11.699999999999974,
          9.89999999999998,
          8.699999999999985,
          12.399999999999972,
          14.699999999999964,
          21.00000000000003,
          16.09999999999996,
          12.099999999999973,
          9.399999999999983,
          27.700000000000124,
          16.599999999999966,
          18.699999999999996,
          13.599999999999968,
          8.699999999999985,
          17.299999999999976,
          8.599999999999985,
          23.600000000000065,
          7.699999999999989,
          10.499999999999979,
          34.100000000000215,
          12.69999999999997,
          14.299999999999965,
          13.199999999999969,
          14.599999999999964,
          12.599999999999971,
          22.60000000000005,
          13.199999999999969,
          7.29999999999999,
          9.399999999999983,
          7.699999999999989,
          15.59999999999996,
          22.50000000000005,
          15.99999999999996,
          6.999999999999991,
          15.199999999999962,
          12.79999999999997,
          25.100000000000087,
          13.699999999999967,
          9.89999999999998,
          35.10000000000023,
          15.099999999999962,
          29.400000000000148,
          19,
          12.599999999999971,
          13.799999999999967,
          10.29999999999998,
          28.600000000000136,
          12.69999999999997,
          11.199999999999976,
          15.099999999999962,
          12.69999999999997,
          8.599999999999985,
          19.60000000000001,
          24.500000000000078,
          16.79999999999997,
          8.799999999999985
         ],
         "xaxis": "x",
         "y": [
          2,
          2,
          2,
          2,
          2,
          2,
          2,
          0,
          0,
          2,
          2,
          0,
          2,
          2,
          2,
          0,
          2,
          0,
          2,
          2,
          2,
          2,
          2,
          2,
          2,
          2,
          2,
          0,
          2,
          2,
          0,
          2,
          2,
          2,
          0,
          2,
          2,
          0,
          2,
          2,
          2,
          2,
          2,
          2,
          0,
          2,
          2,
          0,
          2,
          2,
          2,
          2,
          2,
          2,
          0,
          0,
          2,
          0,
          2,
          2,
          2,
          2,
          2,
          2,
          2,
          2,
          0,
          2,
          2,
          2,
          2,
          0,
          2,
          2,
          2,
          2,
          2,
          0,
          2,
          2,
          2,
          2,
          0,
          2,
          2,
          2,
          2,
          2,
          2,
          2,
          2,
          2,
          2,
          2,
          2,
          0,
          2,
          2,
          2,
          2
         ],
         "yaxis": "y"
        },
        {
         "customdata": [
          [
           10.699999999999978,
           0
          ],
          [
           4.300000000000001,
           0
          ],
          [
           7.19999999999999,
           0.2777777777777781
          ],
          [
           12.099999999999973,
           0.16528925619834747
          ],
          [
           5.599999999999996,
           0.3571428571428574
          ],
          [
           12.99999999999997,
           0
          ],
          [
           11.999999999999973,
           0
          ],
          [
           10.599999999999978,
           0.18867924528301924
          ],
          [
           11.299999999999976,
           0.17699115044247826
          ],
          [
           9.199999999999983,
           0.21739130434782647
          ],
          [
           8.299999999999986,
           0
          ],
          [
           10.09999999999998,
           0.19801980198019842
          ],
          [
           14.899999999999963,
           0
          ],
          [
           16.09999999999996,
           0.12422360248447237
          ],
          [
           12.79999999999997,
           0
          ],
          [
           9.399999999999983,
           0.2127659574468089
          ],
          [
           10.19999999999998,
           0.1960784313725494
          ],
          [
           7.699999999999989,
           0
          ],
          [
           8.999999999999984,
           0.22222222222222263
          ],
          [
           9.799999999999981,
           0.20408163265306162
          ],
          [
           9.799999999999981,
           0.20408163265306162
          ],
          [
           5.899999999999995,
           0.3389830508474579
          ],
          [
           14.699999999999964,
           0.13605442176870783
          ],
          [
           8.899999999999984,
           0.2247191011235959
          ],
          [
           7.999999999999988,
           0
          ],
          [
           11.599999999999975,
           0.17241379310344865
          ],
          [
           12.499999999999972,
           0.16000000000000036
          ],
          [
           8.399999999999986,
           0.2380952380952385
          ],
          [
           9.799999999999981,
           0.20408163265306162
          ],
          [
           11.799999999999974,
           0.1694915254237292
          ],
          [
           8.199999999999987,
           0.24390243902439063
          ],
          [
           14.299999999999965,
           0.1398601398601402
          ],
          [
           14.899999999999963,
           0.13422818791946342
          ],
          [
           15.99999999999996,
           0.12500000000000033
          ],
          [
           7.799999999999988,
           0.2564102564102568
          ],
          [
           12.099999999999973,
           0.16528925619834747
          ],
          [
           10.599999999999978,
           0
          ],
          [
           7.39999999999999,
           0.2702702702702707
          ],
          [
           7.099999999999991,
           0.28169014084507077
          ],
          [
           13.599999999999968,
           0.1470588235294121
          ],
          [
           5.399999999999997,
           0.37037037037037057
          ],
          [
           3.800000000000002,
           0
          ],
          [
           6.5999999999999925,
           0.30303030303030337
          ],
          [
           6.799999999999992,
           0.2941176470588239
          ],
          [
           9.299999999999983,
           0.2150537634408606
          ],
          [
           8.899999999999984,
           0.2247191011235959
          ],
          [
           9.299999999999983,
           0.2150537634408606
          ],
          [
           9.699999999999982,
           0.20618556701030968
          ],
          [
           12.099999999999973,
           0.16528925619834747
          ],
          [
           5.999999999999995,
           0.33333333333333365
          ],
          [
           2.800000000000001,
           0.714285714285714
          ],
          [
           14.599999999999964,
           0.13698630136986334
          ],
          [
           6.8999999999999915,
           0
          ],
          [
           10.29999999999998,
           0.19417475728155378
          ],
          [
           13.799999999999967,
           0.1449275362318844
          ],
          [
           17.899999999999984,
           0
          ],
          [
           28.20000000000013,
           0.07092198581560251
          ],
          [
           10.499999999999979,
           0.19047619047619085
          ],
          [
           4.999999999999998,
           0.40000000000000013
          ],
          [
           7.29999999999999,
           0.2739726027397264
          ],
          [
           9.399999999999983,
           0
          ],
          [
           12.599999999999971,
           0.15873015873015908
          ],
          [
           12.299999999999972,
           0.16260162601626052
          ],
          [
           11.299999999999976,
           0.17699115044247826
          ],
          [
           19.300000000000004,
           0.10362694300518133
          ],
          [
           6.399999999999993,
           0.31250000000000033
          ],
          [
           6.8999999999999915,
           0.28985507246376846
          ],
          [
           15.399999999999961,
           0.1298701298701302
          ],
          [
           5.699999999999996,
           0.3508771929824564
          ],
          [
           6.5999999999999925,
           0.30303030303030337
          ],
          [
           14.599999999999964,
           0.13698630136986334
          ],
          [
           17.199999999999974,
           0.11627906976744204
          ],
          [
           5.599999999999996,
           0.3571428571428574
          ],
          [
           4.799999999999999,
           0.41666666666666674
          ],
          [
           10.699999999999978,
           0.18691588785046767
          ],
          [
           17.69999999999998,
           0.112994350282486
          ],
          [
           6.699999999999992,
           0.2985074626865675
          ],
          [
           5.999999999999995,
           0
          ],
          [
           16.09999999999996,
           0.12422360248447237
          ],
          [
           9.799999999999981,
           0.20408163265306162
          ],
          [
           10.999999999999977,
           0.1818181818181822
          ],
          [
           6.299999999999994,
           0.3174603174603178
          ],
          [
           11.299999999999976,
           0.17699115044247826
          ],
          [
           10.999999999999977,
           0.1818181818181822
          ],
          [
           5.999999999999995,
           0
          ],
          [
           12.499999999999972,
           0.16000000000000036
          ],
          [
           2.1000000000000005,
           0
          ],
          [
           6.5999999999999925,
           0.30303030303030337
          ],
          [
           6.5999999999999925,
           0.30303030303030337
          ],
          [
           8.999999999999984,
           0.22222222222222263
          ],
          [
           9.99999999999998,
           0.2000000000000004
          ],
          [
           7.599999999999989,
           0.2631578947368425
          ],
          [
           11.799999999999974,
           0.1694915254237292
          ],
          [
           11.799999999999974,
           0
          ],
          [
           7.599999999999989,
           0
          ],
          [
           13.499999999999968,
           0.1481481481481485
          ],
          [
           11.599999999999975,
           0
          ],
          [
           10.399999999999979,
           0
          ],
          [
           12.599999999999971,
           0
          ],
          [
           8.899999999999984,
           0.2247191011235959
          ]
         ],
         "hoverlabel": {
          "namelength": 0
         },
         "hovertemplate": "=Score NRL<br>Time=%{customdata[0]}<br>Points=%{y}<br>pput=%{customdata[1]}",
         "legendgroup": "=Score NRL",
         "marker": {
          "color": "#EF553B",
          "symbol": "circle"
         },
         "mode": "markers",
         "name": "=Score NRL",
         "showlegend": true,
         "type": "scatter",
         "x": [
          10.699999999999978,
          4.300000000000001,
          7.19999999999999,
          12.099999999999973,
          5.599999999999996,
          12.99999999999997,
          11.999999999999973,
          10.599999999999978,
          11.299999999999976,
          9.199999999999983,
          8.299999999999986,
          10.09999999999998,
          14.899999999999963,
          16.09999999999996,
          12.79999999999997,
          9.399999999999983,
          10.19999999999998,
          7.699999999999989,
          8.999999999999984,
          9.799999999999981,
          9.799999999999981,
          5.899999999999995,
          14.699999999999964,
          8.899999999999984,
          7.999999999999988,
          11.599999999999975,
          12.499999999999972,
          8.399999999999986,
          9.799999999999981,
          11.799999999999974,
          8.199999999999987,
          14.299999999999965,
          14.899999999999963,
          15.99999999999996,
          7.799999999999988,
          12.099999999999973,
          10.599999999999978,
          7.39999999999999,
          7.099999999999991,
          13.599999999999968,
          5.399999999999997,
          3.800000000000002,
          6.5999999999999925,
          6.799999999999992,
          9.299999999999983,
          8.899999999999984,
          9.299999999999983,
          9.699999999999982,
          12.099999999999973,
          5.999999999999995,
          2.800000000000001,
          14.599999999999964,
          6.8999999999999915,
          10.29999999999998,
          13.799999999999967,
          17.899999999999984,
          28.20000000000013,
          10.499999999999979,
          4.999999999999998,
          7.29999999999999,
          9.399999999999983,
          12.599999999999971,
          12.299999999999972,
          11.299999999999976,
          19.300000000000004,
          6.399999999999993,
          6.8999999999999915,
          15.399999999999961,
          5.699999999999996,
          6.5999999999999925,
          14.599999999999964,
          17.199999999999974,
          5.599999999999996,
          4.799999999999999,
          10.699999999999978,
          17.69999999999998,
          6.699999999999992,
          5.999999999999995,
          16.09999999999996,
          9.799999999999981,
          10.999999999999977,
          6.299999999999994,
          11.299999999999976,
          10.999999999999977,
          5.999999999999995,
          12.499999999999972,
          2.1000000000000005,
          6.5999999999999925,
          6.5999999999999925,
          8.999999999999984,
          9.99999999999998,
          7.599999999999989,
          11.799999999999974,
          11.799999999999974,
          7.599999999999989,
          13.499999999999968,
          11.599999999999975,
          10.399999999999979,
          12.599999999999971,
          8.899999999999984
         ],
         "xaxis": "x",
         "y": [
          0,
          0,
          2,
          2,
          2,
          0,
          0,
          2,
          2,
          2,
          0,
          2,
          0,
          2,
          0,
          2,
          2,
          0,
          2,
          2,
          2,
          2,
          2,
          2,
          0,
          2,
          2,
          2,
          2,
          2,
          2,
          2,
          2,
          2,
          2,
          2,
          0,
          2,
          2,
          2,
          2,
          0,
          2,
          2,
          2,
          2,
          2,
          2,
          2,
          2,
          2,
          2,
          0,
          2,
          2,
          0,
          2,
          2,
          2,
          2,
          0,
          2,
          2,
          2,
          2,
          2,
          2,
          2,
          2,
          2,
          2,
          2,
          2,
          2,
          2,
          2,
          2,
          0,
          2,
          2,
          2,
          2,
          2,
          2,
          0,
          2,
          0,
          2,
          2,
          2,
          2,
          2,
          2,
          0,
          0,
          2,
          0,
          0,
          0,
          2
         ],
         "yaxis": "y"
        },
        {
         "customdata": [
          [
           2.800000000000001,
           1.071428571428571
          ],
          [
           1.7000000000000004,
           1.7647058823529407
          ],
          [
           0.4,
           7.5
          ],
          [
           0.9999999999999999,
           3.0000000000000004
          ],
          [
           1.4000000000000001,
           2.142857142857143
          ],
          [
           0.9999999999999999,
           3.0000000000000004
          ],
          [
           0.30000000000000004,
           9.999999999999998
          ],
          [
           1.4000000000000001,
           2.142857142857143
          ],
          [
           1.8000000000000005,
           1.6666666666666663
          ],
          [
           0.6,
           5
          ],
          [
           0.9999999999999999,
           3.0000000000000004
          ],
          [
           1.4000000000000001,
           2.142857142857143
          ],
          [
           1.5000000000000002,
           1.9999999999999998
          ],
          [
           1.2,
           2.5
          ],
          [
           1.2,
           2.5
          ],
          [
           0.7999999999999999,
           3.7500000000000004
          ],
          [
           1.4000000000000001,
           2.142857142857143
          ],
          [
           1.8000000000000005,
           1.6666666666666663
          ],
          [
           0.9999999999999999,
           3.0000000000000004
          ],
          [
           1.3,
           2.3076923076923075
          ],
          [
           1.8000000000000005,
           1.6666666666666663
          ],
          [
           1.2,
           2.5
          ],
          [
           0.7,
           4.285714285714286
          ],
          [
           0.2,
           15
          ],
          [
           1.0999999999999999,
           2.7272727272727275
          ],
          [
           1.3,
           2.3076923076923075
          ],
          [
           0.6,
           5
          ],
          [
           0.9999999999999999,
           3.0000000000000004
          ],
          [
           0.1,
           30
          ],
          [
           1.0999999999999999,
           2.7272727272727275
          ],
          [
           1.7000000000000004,
           1.7647058823529407
          ],
          [
           0.7999999999999999,
           3.7500000000000004
          ],
          [
           0.8999999999999999,
           3.3333333333333335
          ],
          [
           1.4000000000000001,
           2.142857142857143
          ],
          [
           1.3,
           2.3076923076923075
          ],
          [
           1.0999999999999999,
           2.7272727272727275
          ],
          [
           0.7,
           4.285714285714286
          ],
          [
           0.2,
           15
          ],
          [
           1.0999999999999999,
           2.7272727272727275
          ],
          [
           1.5000000000000002,
           1.9999999999999998
          ],
          [
           0.7,
           4.285714285714286
          ],
          [
           0.7999999999999999,
           3.7500000000000004
          ],
          [
           0.7999999999999999,
           3.7500000000000004
          ],
          [
           0.8999999999999999,
           3.3333333333333335
          ],
          [
           1.3,
           2.3076923076923075
          ],
          [
           0.9999999999999999,
           3.0000000000000004
          ],
          [
           0.1,
           30
          ],
          [
           0.8999999999999999,
           3.3333333333333335
          ],
          [
           0.6,
           5
          ],
          [
           1.2,
           2.5
          ],
          [
           1.3,
           2.3076923076923075
          ],
          [
           0.4,
           7.5
          ],
          [
           1.8000000000000005,
           1.6666666666666663
          ],
          [
           0.9999999999999999,
           3.0000000000000004
          ],
          [
           0.8999999999999999,
           3.3333333333333335
          ],
          [
           1.4000000000000001,
           2.142857142857143
          ],
          [
           1.7000000000000004,
           1.7647058823529407
          ],
          [
           0.9999999999999999,
           3.0000000000000004
          ],
          [
           0.5,
           6
          ],
          [
           1.0999999999999999,
           2.7272727272727275
          ],
          [
           0.4,
           7.5
          ],
          [
           0.6,
           5
          ],
          [
           1.3,
           2.3076923076923075
          ],
          [
           0.8999999999999999,
           3.3333333333333335
          ],
          [
           0.6,
           5
          ],
          [
           0.5,
           6
          ],
          [
           1.3,
           2.3076923076923075
          ],
          [
           0.7999999999999999,
           3.7500000000000004
          ],
          [
           2.700000000000001,
           1.1111111111111107
          ],
          [
           2.800000000000001,
           1.071428571428571
          ],
          [
           1.9000000000000006,
           1.5789473684210522
          ],
          [
           1.4000000000000001,
           2.142857142857143
          ],
          [
           0.8999999999999999,
           3.3333333333333335
          ],
          [
           1.2,
           2.5
          ],
          [
           1.0999999999999999,
           2.7272727272727275
          ],
          [
           1.0999999999999999,
           2.7272727272727275
          ],
          [
           1.2,
           2.5
          ],
          [
           1.0999999999999999,
           2.7272727272727275
          ],
          [
           0.5,
           6
          ],
          [
           0.1,
           30
          ],
          [
           0.30000000000000004,
           9.999999999999998
          ],
          [
           3.2000000000000015,
           0.9374999999999996
          ],
          [
           1.5000000000000002,
           1.9999999999999998
          ],
          [
           0.4,
           7.5
          ],
          [
           0.9999999999999999,
           3.0000000000000004
          ],
          [
           0.1,
           30
          ],
          [
           1.7000000000000004,
           1.7647058823529407
          ],
          [
           1.4000000000000001,
           2.142857142857143
          ],
          [
           1.0999999999999999,
           2.7272727272727275
          ],
          [
           0.7,
           4.285714285714286
          ],
          [
           1.0999999999999999,
           2.7272727272727275
          ],
          [
           0.8999999999999999,
           3.3333333333333335
          ],
          [
           1.4000000000000001,
           2.142857142857143
          ],
          [
           1.2,
           2.5
          ],
          [
           0.9999999999999999,
           3.0000000000000004
          ],
          [
           1.6000000000000003,
           1.8749999999999996
          ],
          [
           1.0999999999999999,
           2.7272727272727275
          ],
          [
           1.7000000000000004,
           1.7647058823529407
          ],
          [
           1.4000000000000001,
           2.142857142857143
          ],
          [
           0.2,
           15
          ]
         ],
         "hoverlabel": {
          "namelength": 0
         },
         "hovertemplate": "=drive_off_hab1<br>Time=%{customdata[0]}<br>Points=%{y}<br>pput=%{customdata[1]}",
         "legendgroup": "=drive_off_hab1",
         "marker": {
          "color": "#00cc96",
          "symbol": "circle"
         },
         "mode": "markers",
         "name": "=drive_off_hab1",
         "showlegend": true,
         "type": "scatter",
         "x": [
          2.800000000000001,
          1.7000000000000004,
          0.4,
          0.9999999999999999,
          1.4000000000000001,
          0.9999999999999999,
          0.30000000000000004,
          1.4000000000000001,
          1.8000000000000005,
          0.6,
          0.9999999999999999,
          1.4000000000000001,
          1.5000000000000002,
          1.2,
          1.2,
          0.7999999999999999,
          1.4000000000000001,
          1.8000000000000005,
          0.9999999999999999,
          1.3,
          1.8000000000000005,
          1.2,
          0.7,
          0.2,
          1.0999999999999999,
          1.3,
          0.6,
          0.9999999999999999,
          0.1,
          1.0999999999999999,
          1.7000000000000004,
          0.7999999999999999,
          0.8999999999999999,
          1.4000000000000001,
          1.3,
          1.0999999999999999,
          0.7,
          0.2,
          1.0999999999999999,
          1.5000000000000002,
          0.7,
          0.7999999999999999,
          0.7999999999999999,
          0.8999999999999999,
          1.3,
          0.9999999999999999,
          0.1,
          0.8999999999999999,
          0.6,
          1.2,
          1.3,
          0.4,
          1.8000000000000005,
          0.9999999999999999,
          0.8999999999999999,
          1.4000000000000001,
          1.7000000000000004,
          0.9999999999999999,
          0.5,
          1.0999999999999999,
          0.4,
          0.6,
          1.3,
          0.8999999999999999,
          0.6,
          0.5,
          1.3,
          0.7999999999999999,
          2.700000000000001,
          2.800000000000001,
          1.9000000000000006,
          1.4000000000000001,
          0.8999999999999999,
          1.2,
          1.0999999999999999,
          1.0999999999999999,
          1.2,
          1.0999999999999999,
          0.5,
          0.1,
          0.30000000000000004,
          3.2000000000000015,
          1.5000000000000002,
          0.4,
          0.9999999999999999,
          0.1,
          1.7000000000000004,
          1.4000000000000001,
          1.0999999999999999,
          0.7,
          1.0999999999999999,
          0.8999999999999999,
          1.4000000000000001,
          1.2,
          0.9999999999999999,
          1.6000000000000003,
          1.0999999999999999,
          1.7000000000000004,
          1.4000000000000001,
          0.2
         ],
         "xaxis": "x",
         "y": [
          3,
          3,
          3,
          3,
          3,
          3,
          3,
          3,
          3,
          3,
          3,
          3,
          3,
          3,
          3,
          3,
          3,
          3,
          3,
          3,
          3,
          3,
          3,
          3,
          3,
          3,
          3,
          3,
          3,
          3,
          3,
          3,
          3,
          3,
          3,
          3,
          3,
          3,
          3,
          3,
          3,
          3,
          3,
          3,
          3,
          3,
          3,
          3,
          3,
          3,
          3,
          3,
          3,
          3,
          3,
          3,
          3,
          3,
          3,
          3,
          3,
          3,
          3,
          3,
          3,
          3,
          3,
          3,
          3,
          3,
          3,
          3,
          3,
          3,
          3,
          3,
          3,
          3,
          3,
          3,
          3,
          3,
          3,
          3,
          3,
          3,
          3,
          3,
          3,
          3,
          3,
          3,
          3,
          3,
          3,
          3,
          3,
          3,
          3,
          3
         ],
         "yaxis": "y"
        },
        {
         "customdata": [
          [
           1.0999999999999999,
           5.454545454545455
          ],
          [
           1.3,
           4.615384615384615
          ],
          [
           2.0000000000000004,
           2.9999999999999996
          ],
          [
           0.7,
           8.571428571428571
          ],
          [
           1.2,
           5
          ],
          [
           0.30000000000000004,
           19.999999999999996
          ],
          [
           2.500000000000001,
           2.399999999999999
          ],
          [
           1.7000000000000004,
           3.5294117647058814
          ],
          [
           1.2,
           5
          ],
          [
           1.3,
           4.615384615384615
          ],
          [
           1.3,
           4.615384615384615
          ],
          [
           2.3000000000000007,
           2.608695652173912
          ],
          [
           1.8000000000000005,
           3.3333333333333326
          ],
          [
           0.8999999999999999,
           6.666666666666667
          ],
          [
           1.4000000000000001,
           4.285714285714286
          ],
          [
           0.8999999999999999,
           6.666666666666667
          ],
          [
           0.7,
           8.571428571428571
          ],
          [
           1.3,
           4.615384615384615
          ],
          [
           0.4,
           15
          ],
          [
           1.5000000000000002,
           3.9999999999999996
          ],
          [
           0.4,
           15
          ],
          [
           0.9999999999999999,
           6.000000000000001
          ],
          [
           0.9999999999999999,
           6.000000000000001
          ],
          [
           1.5000000000000002,
           3.9999999999999996
          ],
          [
           0.8999999999999999,
           6.666666666666667
          ],
          [
           1.3,
           4.615384615384615
          ],
          [
           1.9000000000000006,
           3.1578947368421044
          ],
          [
           0.9999999999999999,
           6.000000000000001
          ],
          [
           1.2,
           5
          ],
          [
           1.3,
           4.615384615384615
          ],
          [
           1.0999999999999999,
           5.454545454545455
          ],
          [
           0.5,
           12
          ],
          [
           1.9000000000000006,
           3.1578947368421044
          ],
          [
           1.2,
           5
          ],
          [
           1.7000000000000004,
           3.5294117647058814
          ],
          [
           1.9000000000000006,
           3.1578947368421044
          ],
          [
           1.3,
           4.615384615384615
          ],
          [
           0.8999999999999999,
           6.666666666666667
          ],
          [
           0.8999999999999999,
           6.666666666666667
          ],
          [
           0.5,
           12
          ],
          [
           1.5000000000000002,
           3.9999999999999996
          ],
          [
           0.9999999999999999,
           6.000000000000001
          ],
          [
           0.9999999999999999,
           6.000000000000001
          ],
          [
           0.9999999999999999,
           6.000000000000001
          ],
          [
           0.7,
           8.571428571428571
          ],
          [
           1.6000000000000003,
           3.749999999999999
          ],
          [
           2.1000000000000005,
           2.8571428571428563
          ],
          [
           1.3,
           4.615384615384615
          ],
          [
           1.5000000000000002,
           3.9999999999999996
          ],
          [
           1.2,
           5
          ],
          [
           1.5000000000000002,
           3.9999999999999996
          ],
          [
           0.7,
           8.571428571428571
          ],
          [
           2.0000000000000004,
           2.9999999999999996
          ],
          [
           0.8999999999999999,
           6.666666666666667
          ],
          [
           1.7000000000000004,
           3.5294117647058814
          ],
          [
           0.4,
           15
          ],
          [
           1.4000000000000001,
           4.285714285714286
          ],
          [
           1.4000000000000001,
           4.285714285714286
          ],
          [
           1.0999999999999999,
           5.454545454545455
          ],
          [
           0.7,
           8.571428571428571
          ],
          [
           0.4,
           15
          ],
          [
           1.0999999999999999,
           5.454545454545455
          ],
          [
           1.3,
           4.615384615384615
          ],
          [
           0.6,
           10
          ],
          [
           0.7999999999999999,
           7.500000000000001
          ],
          [
           1.4000000000000001,
           4.285714285714286
          ],
          [
           1.8000000000000005,
           3.3333333333333326
          ],
          [
           1.9000000000000006,
           3.1578947368421044
          ],
          [
           1.2,
           5
          ],
          [
           1.6000000000000003,
           3.749999999999999
          ],
          [
           0.8999999999999999,
           6.666666666666667
          ],
          [
           0.7,
           8.571428571428571
          ],
          [
           1.5000000000000002,
           3.9999999999999996
          ],
          [
           0.7999999999999999,
           7.500000000000001
          ],
          [
           0.9999999999999999,
           6.000000000000001
          ],
          [
           1.4000000000000001,
           4.285714285714286
          ],
          [
           0.8999999999999999,
           6.666666666666667
          ],
          [
           0.8999999999999999,
           6.666666666666667
          ],
          [
           1.5000000000000002,
           3.9999999999999996
          ],
          [
           1.4000000000000001,
           4.285714285714286
          ],
          [
           1.0999999999999999,
           5.454545454545455
          ],
          [
           0.7999999999999999,
           7.500000000000001
          ],
          [
           1.0999999999999999,
           5.454545454545455
          ],
          [
           0.7,
           8.571428571428571
          ],
          [
           1.5000000000000002,
           3.9999999999999996
          ],
          [
           1.4000000000000001,
           4.285714285714286
          ],
          [
           0.7999999999999999,
           7.500000000000001
          ],
          [
           1.8000000000000005,
           3.3333333333333326
          ],
          [
           1.7000000000000004,
           3.5294117647058814
          ],
          [
           1.4000000000000001,
           4.285714285714286
          ],
          [
           1.5000000000000002,
           3.9999999999999996
          ],
          [
           1.5000000000000002,
           3.9999999999999996
          ],
          [
           0.9999999999999999,
           6.000000000000001
          ],
          [
           0.7,
           8.571428571428571
          ],
          [
           1.6000000000000003,
           3.749999999999999
          ],
          [
           1.2,
           5
          ],
          [
           0.6,
           10
          ],
          [
           1.4000000000000001,
           4.285714285714286
          ],
          [
           1.3,
           4.615384615384615
          ],
          [
           0.7999999999999999,
           7.500000000000001
          ]
         ],
         "hoverlabel": {
          "namelength": 0
         },
         "hovertemplate": "=drive_off_hab2<br>Time=%{customdata[0]}<br>Points=%{y}<br>pput=%{customdata[1]}",
         "legendgroup": "=drive_off_hab2",
         "marker": {
          "color": "#ab63fa",
          "symbol": "circle"
         },
         "mode": "markers",
         "name": "=drive_off_hab2",
         "showlegend": true,
         "type": "scatter",
         "x": [
          1.0999999999999999,
          1.3,
          2.0000000000000004,
          0.7,
          1.2,
          0.30000000000000004,
          2.500000000000001,
          1.7000000000000004,
          1.2,
          1.3,
          1.3,
          2.3000000000000007,
          1.8000000000000005,
          0.8999999999999999,
          1.4000000000000001,
          0.8999999999999999,
          0.7,
          1.3,
          0.4,
          1.5000000000000002,
          0.4,
          0.9999999999999999,
          0.9999999999999999,
          1.5000000000000002,
          0.8999999999999999,
          1.3,
          1.9000000000000006,
          0.9999999999999999,
          1.2,
          1.3,
          1.0999999999999999,
          0.5,
          1.9000000000000006,
          1.2,
          1.7000000000000004,
          1.9000000000000006,
          1.3,
          0.8999999999999999,
          0.8999999999999999,
          0.5,
          1.5000000000000002,
          0.9999999999999999,
          0.9999999999999999,
          0.9999999999999999,
          0.7,
          1.6000000000000003,
          2.1000000000000005,
          1.3,
          1.5000000000000002,
          1.2,
          1.5000000000000002,
          0.7,
          2.0000000000000004,
          0.8999999999999999,
          1.7000000000000004,
          0.4,
          1.4000000000000001,
          1.4000000000000001,
          1.0999999999999999,
          0.7,
          0.4,
          1.0999999999999999,
          1.3,
          0.6,
          0.7999999999999999,
          1.4000000000000001,
          1.8000000000000005,
          1.9000000000000006,
          1.2,
          1.6000000000000003,
          0.8999999999999999,
          0.7,
          1.5000000000000002,
          0.7999999999999999,
          0.9999999999999999,
          1.4000000000000001,
          0.8999999999999999,
          0.8999999999999999,
          1.5000000000000002,
          1.4000000000000001,
          1.0999999999999999,
          0.7999999999999999,
          1.0999999999999999,
          0.7,
          1.5000000000000002,
          1.4000000000000001,
          0.7999999999999999,
          1.8000000000000005,
          1.7000000000000004,
          1.4000000000000001,
          1.5000000000000002,
          1.5000000000000002,
          0.9999999999999999,
          0.7,
          1.6000000000000003,
          1.2,
          0.6,
          1.4000000000000001,
          1.3,
          0.7999999999999999
         ],
         "xaxis": "x",
         "y": [
          6,
          6,
          6,
          6,
          6,
          6,
          6,
          6,
          6,
          6,
          6,
          6,
          6,
          6,
          6,
          6,
          6,
          6,
          6,
          6,
          6,
          6,
          6,
          6,
          6,
          6,
          6,
          6,
          6,
          6,
          6,
          6,
          6,
          6,
          6,
          6,
          6,
          6,
          6,
          6,
          6,
          6,
          6,
          6,
          6,
          6,
          6,
          6,
          6,
          6,
          6,
          6,
          6,
          6,
          6,
          6,
          6,
          6,
          6,
          6,
          6,
          6,
          6,
          6,
          6,
          6,
          6,
          6,
          6,
          6,
          6,
          6,
          6,
          6,
          6,
          6,
          6,
          6,
          6,
          6,
          6,
          6,
          6,
          6,
          6,
          6,
          6,
          6,
          6,
          6,
          6,
          6,
          6,
          6,
          6,
          6,
          6,
          6,
          6,
          6
         ],
         "yaxis": "y"
        }
       ],
       "layout": {
        "legend": {
         "tracegroupgap": 0,
         "x": 0,
         "y": -0.3
        },
        "template": {
         "data": {
          "bar": [
           {
            "error_x": {
             "color": "#2a3f5f"
            },
            "error_y": {
             "color": "#2a3f5f"
            },
            "marker": {
             "line": {
              "color": "#E5ECF6",
              "width": 0.5
             }
            },
            "type": "bar"
           }
          ],
          "barpolar": [
           {
            "marker": {
             "line": {
              "color": "#E5ECF6",
              "width": 0.5
             }
            },
            "type": "barpolar"
           }
          ],
          "carpet": [
           {
            "aaxis": {
             "endlinecolor": "#2a3f5f",
             "gridcolor": "white",
             "linecolor": "white",
             "minorgridcolor": "white",
             "startlinecolor": "#2a3f5f"
            },
            "baxis": {
             "endlinecolor": "#2a3f5f",
             "gridcolor": "white",
             "linecolor": "white",
             "minorgridcolor": "white",
             "startlinecolor": "#2a3f5f"
            },
            "type": "carpet"
           }
          ],
          "choropleth": [
           {
            "colorbar": {
             "outlinewidth": 0,
             "ticks": ""
            },
            "type": "choropleth"
           }
          ],
          "contour": [
           {
            "colorbar": {
             "outlinewidth": 0,
             "ticks": ""
            },
            "colorscale": [
             [
              0,
              "#0d0887"
             ],
             [
              0.1111111111111111,
              "#46039f"
             ],
             [
              0.2222222222222222,
              "#7201a8"
             ],
             [
              0.3333333333333333,
              "#9c179e"
             ],
             [
              0.4444444444444444,
              "#bd3786"
             ],
             [
              0.5555555555555556,
              "#d8576b"
             ],
             [
              0.6666666666666666,
              "#ed7953"
             ],
             [
              0.7777777777777778,
              "#fb9f3a"
             ],
             [
              0.8888888888888888,
              "#fdca26"
             ],
             [
              1,
              "#f0f921"
             ]
            ],
            "type": "contour"
           }
          ],
          "contourcarpet": [
           {
            "colorbar": {
             "outlinewidth": 0,
             "ticks": ""
            },
            "type": "contourcarpet"
           }
          ],
          "heatmap": [
           {
            "colorbar": {
             "outlinewidth": 0,
             "ticks": ""
            },
            "colorscale": [
             [
              0,
              "#0d0887"
             ],
             [
              0.1111111111111111,
              "#46039f"
             ],
             [
              0.2222222222222222,
              "#7201a8"
             ],
             [
              0.3333333333333333,
              "#9c179e"
             ],
             [
              0.4444444444444444,
              "#bd3786"
             ],
             [
              0.5555555555555556,
              "#d8576b"
             ],
             [
              0.6666666666666666,
              "#ed7953"
             ],
             [
              0.7777777777777778,
              "#fb9f3a"
             ],
             [
              0.8888888888888888,
              "#fdca26"
             ],
             [
              1,
              "#f0f921"
             ]
            ],
            "type": "heatmap"
           }
          ],
          "heatmapgl": [
           {
            "colorbar": {
             "outlinewidth": 0,
             "ticks": ""
            },
            "colorscale": [
             [
              0,
              "#0d0887"
             ],
             [
              0.1111111111111111,
              "#46039f"
             ],
             [
              0.2222222222222222,
              "#7201a8"
             ],
             [
              0.3333333333333333,
              "#9c179e"
             ],
             [
              0.4444444444444444,
              "#bd3786"
             ],
             [
              0.5555555555555556,
              "#d8576b"
             ],
             [
              0.6666666666666666,
              "#ed7953"
             ],
             [
              0.7777777777777778,
              "#fb9f3a"
             ],
             [
              0.8888888888888888,
              "#fdca26"
             ],
             [
              1,
              "#f0f921"
             ]
            ],
            "type": "heatmapgl"
           }
          ],
          "histogram": [
           {
            "marker": {
             "colorbar": {
              "outlinewidth": 0,
              "ticks": ""
             }
            },
            "type": "histogram"
           }
          ],
          "histogram2d": [
           {
            "colorbar": {
             "outlinewidth": 0,
             "ticks": ""
            },
            "colorscale": [
             [
              0,
              "#0d0887"
             ],
             [
              0.1111111111111111,
              "#46039f"
             ],
             [
              0.2222222222222222,
              "#7201a8"
             ],
             [
              0.3333333333333333,
              "#9c179e"
             ],
             [
              0.4444444444444444,
              "#bd3786"
             ],
             [
              0.5555555555555556,
              "#d8576b"
             ],
             [
              0.6666666666666666,
              "#ed7953"
             ],
             [
              0.7777777777777778,
              "#fb9f3a"
             ],
             [
              0.8888888888888888,
              "#fdca26"
             ],
             [
              1,
              "#f0f921"
             ]
            ],
            "type": "histogram2d"
           }
          ],
          "histogram2dcontour": [
           {
            "colorbar": {
             "outlinewidth": 0,
             "ticks": ""
            },
            "colorscale": [
             [
              0,
              "#0d0887"
             ],
             [
              0.1111111111111111,
              "#46039f"
             ],
             [
              0.2222222222222222,
              "#7201a8"
             ],
             [
              0.3333333333333333,
              "#9c179e"
             ],
             [
              0.4444444444444444,
              "#bd3786"
             ],
             [
              0.5555555555555556,
              "#d8576b"
             ],
             [
              0.6666666666666666,
              "#ed7953"
             ],
             [
              0.7777777777777778,
              "#fb9f3a"
             ],
             [
              0.8888888888888888,
              "#fdca26"
             ],
             [
              1,
              "#f0f921"
             ]
            ],
            "type": "histogram2dcontour"
           }
          ],
          "mesh3d": [
           {
            "colorbar": {
             "outlinewidth": 0,
             "ticks": ""
            },
            "type": "mesh3d"
           }
          ],
          "parcoords": [
           {
            "line": {
             "colorbar": {
              "outlinewidth": 0,
              "ticks": ""
             }
            },
            "type": "parcoords"
           }
          ],
          "pie": [
           {
            "automargin": true,
            "type": "pie"
           }
          ],
          "scatter": [
           {
            "marker": {
             "colorbar": {
              "outlinewidth": 0,
              "ticks": ""
             }
            },
            "type": "scatter"
           }
          ],
          "scatter3d": [
           {
            "line": {
             "colorbar": {
              "outlinewidth": 0,
              "ticks": ""
             }
            },
            "marker": {
             "colorbar": {
              "outlinewidth": 0,
              "ticks": ""
             }
            },
            "type": "scatter3d"
           }
          ],
          "scattercarpet": [
           {
            "marker": {
             "colorbar": {
              "outlinewidth": 0,
              "ticks": ""
             }
            },
            "type": "scattercarpet"
           }
          ],
          "scattergeo": [
           {
            "marker": {
             "colorbar": {
              "outlinewidth": 0,
              "ticks": ""
             }
            },
            "type": "scattergeo"
           }
          ],
          "scattergl": [
           {
            "marker": {
             "colorbar": {
              "outlinewidth": 0,
              "ticks": ""
             }
            },
            "type": "scattergl"
           }
          ],
          "scattermapbox": [
           {
            "marker": {
             "colorbar": {
              "outlinewidth": 0,
              "ticks": ""
             }
            },
            "type": "scattermapbox"
           }
          ],
          "scatterpolar": [
           {
            "marker": {
             "colorbar": {
              "outlinewidth": 0,
              "ticks": ""
             }
            },
            "type": "scatterpolar"
           }
          ],
          "scatterpolargl": [
           {
            "marker": {
             "colorbar": {
              "outlinewidth": 0,
              "ticks": ""
             }
            },
            "type": "scatterpolargl"
           }
          ],
          "scatterternary": [
           {
            "marker": {
             "colorbar": {
              "outlinewidth": 0,
              "ticks": ""
             }
            },
            "type": "scatterternary"
           }
          ],
          "surface": [
           {
            "colorbar": {
             "outlinewidth": 0,
             "ticks": ""
            },
            "colorscale": [
             [
              0,
              "#0d0887"
             ],
             [
              0.1111111111111111,
              "#46039f"
             ],
             [
              0.2222222222222222,
              "#7201a8"
             ],
             [
              0.3333333333333333,
              "#9c179e"
             ],
             [
              0.4444444444444444,
              "#bd3786"
             ],
             [
              0.5555555555555556,
              "#d8576b"
             ],
             [
              0.6666666666666666,
              "#ed7953"
             ],
             [
              0.7777777777777778,
              "#fb9f3a"
             ],
             [
              0.8888888888888888,
              "#fdca26"
             ],
             [
              1,
              "#f0f921"
             ]
            ],
            "type": "surface"
           }
          ],
          "table": [
           {
            "cells": {
             "fill": {
              "color": "#EBF0F8"
             },
             "line": {
              "color": "white"
             }
            },
            "header": {
             "fill": {
              "color": "#C8D4E3"
             },
             "line": {
              "color": "white"
             }
            },
            "type": "table"
           }
          ]
         },
         "layout": {
          "annotationdefaults": {
           "arrowcolor": "#2a3f5f",
           "arrowhead": 0,
           "arrowwidth": 1
          },
          "coloraxis": {
           "colorbar": {
            "outlinewidth": 0,
            "ticks": ""
           }
          },
          "colorscale": {
           "diverging": [
            [
             0,
             "#8e0152"
            ],
            [
             0.1,
             "#c51b7d"
            ],
            [
             0.2,
             "#de77ae"
            ],
            [
             0.3,
             "#f1b6da"
            ],
            [
             0.4,
             "#fde0ef"
            ],
            [
             0.5,
             "#f7f7f7"
            ],
            [
             0.6,
             "#e6f5d0"
            ],
            [
             0.7,
             "#b8e186"
            ],
            [
             0.8,
             "#7fbc41"
            ],
            [
             0.9,
             "#4d9221"
            ],
            [
             1,
             "#276419"
            ]
           ],
           "sequential": [
            [
             0,
             "#0d0887"
            ],
            [
             0.1111111111111111,
             "#46039f"
            ],
            [
             0.2222222222222222,
             "#7201a8"
            ],
            [
             0.3333333333333333,
             "#9c179e"
            ],
            [
             0.4444444444444444,
             "#bd3786"
            ],
            [
             0.5555555555555556,
             "#d8576b"
            ],
            [
             0.6666666666666666,
             "#ed7953"
            ],
            [
             0.7777777777777778,
             "#fb9f3a"
            ],
            [
             0.8888888888888888,
             "#fdca26"
            ],
            [
             1,
             "#f0f921"
            ]
           ],
           "sequentialminus": [
            [
             0,
             "#0d0887"
            ],
            [
             0.1111111111111111,
             "#46039f"
            ],
            [
             0.2222222222222222,
             "#7201a8"
            ],
            [
             0.3333333333333333,
             "#9c179e"
            ],
            [
             0.4444444444444444,
             "#bd3786"
            ],
            [
             0.5555555555555556,
             "#d8576b"
            ],
            [
             0.6666666666666666,
             "#ed7953"
            ],
            [
             0.7777777777777778,
             "#fb9f3a"
            ],
            [
             0.8888888888888888,
             "#fdca26"
            ],
            [
             1,
             "#f0f921"
            ]
           ]
          },
          "colorway": [
           "#636efa",
           "#EF553B",
           "#00cc96",
           "#ab63fa",
           "#FFA15A",
           "#19d3f3",
           "#FF6692",
           "#B6E880",
           "#FF97FF",
           "#FECB52"
          ],
          "font": {
           "color": "#2a3f5f"
          },
          "geo": {
           "bgcolor": "white",
           "lakecolor": "white",
           "landcolor": "#E5ECF6",
           "showlakes": true,
           "showland": true,
           "subunitcolor": "white"
          },
          "hoverlabel": {
           "align": "left"
          },
          "hovermode": "closest",
          "mapbox": {
           "style": "light"
          },
          "paper_bgcolor": "white",
          "plot_bgcolor": "#E5ECF6",
          "polar": {
           "angularaxis": {
            "gridcolor": "white",
            "linecolor": "white",
            "ticks": ""
           },
           "bgcolor": "#E5ECF6",
           "radialaxis": {
            "gridcolor": "white",
            "linecolor": "white",
            "ticks": ""
           }
          },
          "scene": {
           "xaxis": {
            "backgroundcolor": "#E5ECF6",
            "gridcolor": "white",
            "gridwidth": 2,
            "linecolor": "white",
            "showbackground": true,
            "ticks": "",
            "zerolinecolor": "white"
           },
           "yaxis": {
            "backgroundcolor": "#E5ECF6",
            "gridcolor": "white",
            "gridwidth": 2,
            "linecolor": "white",
            "showbackground": true,
            "ticks": "",
            "zerolinecolor": "white"
           },
           "zaxis": {
            "backgroundcolor": "#E5ECF6",
            "gridcolor": "white",
            "gridwidth": 2,
            "linecolor": "white",
            "showbackground": true,
            "ticks": "",
            "zerolinecolor": "white"
           }
          },
          "shapedefaults": {
           "line": {
            "color": "#2a3f5f"
           }
          },
          "ternary": {
           "aaxis": {
            "gridcolor": "white",
            "linecolor": "white",
            "ticks": ""
           },
           "baxis": {
            "gridcolor": "white",
            "linecolor": "white",
            "ticks": ""
           },
           "bgcolor": "#E5ECF6",
           "caxis": {
            "gridcolor": "white",
            "linecolor": "white",
            "ticks": ""
           }
          },
          "title": {
           "x": 0.05
          },
          "xaxis": {
           "automargin": true,
           "gridcolor": "white",
           "linecolor": "white",
           "ticks": "",
           "title": {
            "standoff": 15
           },
           "zerolinecolor": "white",
           "zerolinewidth": 2
          },
          "yaxis": {
           "automargin": true,
           "gridcolor": "white",
           "linecolor": "white",
           "ticks": "",
           "title": {
            "standoff": 15
           },
           "zerolinecolor": "white",
           "zerolinewidth": 2
          }
         }
        },
        "title": {
         "text": "Points by Time"
        },
        "xaxis": {
         "anchor": "y",
         "domain": [
          0,
          1
         ],
         "title": {
          "text": "Time"
         }
        },
        "yaxis": {
         "anchor": "x",
         "domain": [
          0,
          1
         ],
         "title": {
          "text": "Points"
         }
        }
       }
      },
      "text/html": [
       "<div>\n",
       "        \n",
       "        \n",
       "            <div id=\"77d3c119-ca31-4138-9558-145e16d10b9d\" class=\"plotly-graph-div\" style=\"height:525px; width:100%;\"></div>\n",
       "            <script type=\"text/javascript\">\n",
       "                require([\"plotly\"], function(Plotly) {\n",
       "                    window.PLOTLYENV=window.PLOTLYENV || {};\n",
       "                    \n",
       "                if (document.getElementById(\"77d3c119-ca31-4138-9558-145e16d10b9d\")) {\n",
       "                    Plotly.newPlot(\n",
       "                        '77d3c119-ca31-4138-9558-145e16d10b9d',\n",
       "                        [{\"customdata\": [[14.899999999999963, 0.13422818791946342], [9.699999999999982, 0.20618556701030968], [11.299999999999976, 0.17699115044247826], [29.100000000000144, 0.06872852233676942], [26.0000000000001, 0.07692307692307662], [17.69999999999998, 0.112994350282486], [12.89999999999997, 0.15503875968992284], [9.699999999999982, 0.0], [11.999999999999973, 0.0], [17.099999999999973, 0.11695906432748557], [11.599999999999975, 0.17241379310344865], [17.299999999999976, 0.0], [12.399999999999972, 0.16129032258064552], [24.500000000000078, 0.08163265306122423], [17.799999999999983, 0.11235955056179786], [6.099999999999994, 0.0], [14.299999999999965, 0.1398601398601402], [13.299999999999969, 0.0], [14.099999999999966, 0.14184397163120602], [12.89999999999997, 0.15503875968992284], [14.799999999999963, 0.13513513513513548], [16.09999999999996, 0.12422360248447237], [8.299999999999986, 0.24096385542168713], [11.499999999999975, 0.17391304347826125], [16.79999999999997, 0.11904761904761926], [21.300000000000033, 0.09389671361502333], [26.600000000000108, 0.07518796992481172], [28.300000000000132, 0.0], [10.499999999999979, 0.19047619047619085], [7.099999999999991, 0.28169014084507077], [15.69999999999996, 0.0], [12.599999999999971, 0.15873015873015908], [8.099999999999987, 0.24691358024691398], [12.99999999999997, 0.15384615384615422], [33.60000000000021, 0.0], [13.09999999999997, 0.1526717557251912], [9.799999999999981, 0.20408163265306162], [15.399999999999961, 0.0], [20.30000000000002, 0.09852216748768464], [39.100000000000286, 0.051150895140664586], [10.29999999999998, 0.19417475728155378], [12.99999999999997, 0.15384615384615422], [14.999999999999963, 0.13333333333333366], [15.59999999999996, 0.12820512820512853], [11.699999999999974, 0.0], [9.89999999999998, 0.2020202020202024], [8.699999999999985, 0.22988505747126475], [12.399999999999972, 0.0], [14.699999999999964, 0.13605442176870783], [21.00000000000003, 0.09523809523809511], [16.09999999999996, 0.12422360248447237], [12.099999999999973, 0.16528925619834747], [9.399999999999983, 0.2127659574468089], [27.700000000000124, 0.07220216606498163], [16.599999999999966, 0.0], [18.699999999999996, 0.0], [13.599999999999968, 0.1470588235294121], [8.699999999999985, 0.0], [17.299999999999976, 0.11560693641618514], [8.599999999999985, 0.2325581395348841], [23.600000000000065, 0.08474576271186417], [7.699999999999989, 0.2597402597402601], [10.499999999999979, 0.19047619047619085], [34.100000000000215, 0.058651026392961506], [12.69999999999997, 0.15748031496063028], [14.299999999999965, 0.1398601398601402], [13.199999999999969, 0.0], [14.599999999999964, 0.13698630136986334], [12.599999999999971, 0.15873015873015908], [22.60000000000005, 0.08849557522123874], [13.199999999999969, 0.15151515151515188], [7.29999999999999, 0.0], [9.399999999999983, 0.2127659574468089], [7.699999999999989, 0.2597402597402601], [15.59999999999996, 0.12820512820512853], [22.50000000000005, 0.0888888888888887], [15.99999999999996, 0.12500000000000033], [6.999999999999991, 0.0], [15.199999999999962, 0.13157894736842138], [12.79999999999997, 0.15625000000000036], [25.100000000000087, 0.07968127490039813], [13.699999999999967, 0.14598540145985436], [9.89999999999998, 0.0], [35.10000000000023, 0.056980056980056606], [15.099999999999962, 0.13245033112582816], [29.400000000000148, 0.0680272108843534], [19.0, 0.10526315789473684], [12.599999999999971, 0.15873015873015908], [13.799999999999967, 0.1449275362318844], [10.29999999999998, 0.19417475728155378], [28.600000000000136, 0.0699300699300696], [12.69999999999997, 0.15748031496063028], [11.199999999999976, 0.17857142857142896], [15.099999999999962, 0.13245033112582816], [12.69999999999997, 0.15748031496063028], [8.599999999999985, 0.0], [19.60000000000001, 0.10204081632653057], [24.500000000000078, 0.08163265306122423], [16.79999999999997, 0.11904761904761926], [8.799999999999985, 0.22727272727272765]], \"hoverlabel\": {\"namelength\": 0}, \"hovertemplate\": \"=Score FRL<br>Time=%{customdata[0]}<br>Points=%{y}<br>pput=%{customdata[1]}\", \"legendgroup\": \"=Score FRL\", \"marker\": {\"color\": \"#636efa\", \"symbol\": \"circle\"}, \"mode\": \"markers\", \"name\": \"=Score FRL\", \"showlegend\": true, \"type\": \"scatter\", \"x\": [14.899999999999963, 9.699999999999982, 11.299999999999976, 29.100000000000144, 26.0000000000001, 17.69999999999998, 12.89999999999997, 9.699999999999982, 11.999999999999973, 17.099999999999973, 11.599999999999975, 17.299999999999976, 12.399999999999972, 24.500000000000078, 17.799999999999983, 6.099999999999994, 14.299999999999965, 13.299999999999969, 14.099999999999966, 12.89999999999997, 14.799999999999963, 16.09999999999996, 8.299999999999986, 11.499999999999975, 16.79999999999997, 21.300000000000033, 26.600000000000108, 28.300000000000132, 10.499999999999979, 7.099999999999991, 15.69999999999996, 12.599999999999971, 8.099999999999987, 12.99999999999997, 33.60000000000021, 13.09999999999997, 9.799999999999981, 15.399999999999961, 20.30000000000002, 39.100000000000286, 10.29999999999998, 12.99999999999997, 14.999999999999963, 15.59999999999996, 11.699999999999974, 9.89999999999998, 8.699999999999985, 12.399999999999972, 14.699999999999964, 21.00000000000003, 16.09999999999996, 12.099999999999973, 9.399999999999983, 27.700000000000124, 16.599999999999966, 18.699999999999996, 13.599999999999968, 8.699999999999985, 17.299999999999976, 8.599999999999985, 23.600000000000065, 7.699999999999989, 10.499999999999979, 34.100000000000215, 12.69999999999997, 14.299999999999965, 13.199999999999969, 14.599999999999964, 12.599999999999971, 22.60000000000005, 13.199999999999969, 7.29999999999999, 9.399999999999983, 7.699999999999989, 15.59999999999996, 22.50000000000005, 15.99999999999996, 6.999999999999991, 15.199999999999962, 12.79999999999997, 25.100000000000087, 13.699999999999967, 9.89999999999998, 35.10000000000023, 15.099999999999962, 29.400000000000148, 19.0, 12.599999999999971, 13.799999999999967, 10.29999999999998, 28.600000000000136, 12.69999999999997, 11.199999999999976, 15.099999999999962, 12.69999999999997, 8.599999999999985, 19.60000000000001, 24.500000000000078, 16.79999999999997, 8.799999999999985], \"xaxis\": \"x\", \"y\": [2, 2, 2, 2, 2, 2, 2, 0, 0, 2, 2, 0, 2, 2, 2, 0, 2, 0, 2, 2, 2, 2, 2, 2, 2, 2, 2, 0, 2, 2, 0, 2, 2, 2, 0, 2, 2, 0, 2, 2, 2, 2, 2, 2, 0, 2, 2, 0, 2, 2, 2, 2, 2, 2, 0, 0, 2, 0, 2, 2, 2, 2, 2, 2, 2, 2, 0, 2, 2, 2, 2, 0, 2, 2, 2, 2, 2, 0, 2, 2, 2, 2, 0, 2, 2, 2, 2, 2, 2, 2, 2, 2, 2, 2, 2, 0, 2, 2, 2, 2], \"yaxis\": \"y\"}, {\"customdata\": [[10.699999999999978, 0.0], [4.300000000000001, 0.0], [7.19999999999999, 0.2777777777777781], [12.099999999999973, 0.16528925619834747], [5.599999999999996, 0.3571428571428574], [12.99999999999997, 0.0], [11.999999999999973, 0.0], [10.599999999999978, 0.18867924528301924], [11.299999999999976, 0.17699115044247826], [9.199999999999983, 0.21739130434782647], [8.299999999999986, 0.0], [10.09999999999998, 0.19801980198019842], [14.899999999999963, 0.0], [16.09999999999996, 0.12422360248447237], [12.79999999999997, 0.0], [9.399999999999983, 0.2127659574468089], [10.19999999999998, 0.1960784313725494], [7.699999999999989, 0.0], [8.999999999999984, 0.22222222222222263], [9.799999999999981, 0.20408163265306162], [9.799999999999981, 0.20408163265306162], [5.899999999999995, 0.3389830508474579], [14.699999999999964, 0.13605442176870783], [8.899999999999984, 0.2247191011235959], [7.999999999999988, 0.0], [11.599999999999975, 0.17241379310344865], [12.499999999999972, 0.16000000000000036], [8.399999999999986, 0.2380952380952385], [9.799999999999981, 0.20408163265306162], [11.799999999999974, 0.1694915254237292], [8.199999999999987, 0.24390243902439063], [14.299999999999965, 0.1398601398601402], [14.899999999999963, 0.13422818791946342], [15.99999999999996, 0.12500000000000033], [7.799999999999988, 0.2564102564102568], [12.099999999999973, 0.16528925619834747], [10.599999999999978, 0.0], [7.39999999999999, 0.2702702702702707], [7.099999999999991, 0.28169014084507077], [13.599999999999968, 0.1470588235294121], [5.399999999999997, 0.37037037037037057], [3.800000000000002, 0.0], [6.5999999999999925, 0.30303030303030337], [6.799999999999992, 0.2941176470588239], [9.299999999999983, 0.2150537634408606], [8.899999999999984, 0.2247191011235959], [9.299999999999983, 0.2150537634408606], [9.699999999999982, 0.20618556701030968], [12.099999999999973, 0.16528925619834747], [5.999999999999995, 0.33333333333333365], [2.800000000000001, 0.714285714285714], [14.599999999999964, 0.13698630136986334], [6.8999999999999915, 0.0], [10.29999999999998, 0.19417475728155378], [13.799999999999967, 0.1449275362318844], [17.899999999999984, 0.0], [28.20000000000013, 0.07092198581560251], [10.499999999999979, 0.19047619047619085], [4.999999999999998, 0.40000000000000013], [7.29999999999999, 0.2739726027397264], [9.399999999999983, 0.0], [12.599999999999971, 0.15873015873015908], [12.299999999999972, 0.16260162601626052], [11.299999999999976, 0.17699115044247826], [19.300000000000004, 0.10362694300518133], [6.399999999999993, 0.31250000000000033], [6.8999999999999915, 0.28985507246376846], [15.399999999999961, 0.1298701298701302], [5.699999999999996, 0.3508771929824564], [6.5999999999999925, 0.30303030303030337], [14.599999999999964, 0.13698630136986334], [17.199999999999974, 0.11627906976744204], [5.599999999999996, 0.3571428571428574], [4.799999999999999, 0.41666666666666674], [10.699999999999978, 0.18691588785046767], [17.69999999999998, 0.112994350282486], [6.699999999999992, 0.2985074626865675], [5.999999999999995, 0.0], [16.09999999999996, 0.12422360248447237], [9.799999999999981, 0.20408163265306162], [10.999999999999977, 0.1818181818181822], [6.299999999999994, 0.3174603174603178], [11.299999999999976, 0.17699115044247826], [10.999999999999977, 0.1818181818181822], [5.999999999999995, 0.0], [12.499999999999972, 0.16000000000000036], [2.1000000000000005, 0.0], [6.5999999999999925, 0.30303030303030337], [6.5999999999999925, 0.30303030303030337], [8.999999999999984, 0.22222222222222263], [9.99999999999998, 0.2000000000000004], [7.599999999999989, 0.2631578947368425], [11.799999999999974, 0.1694915254237292], [11.799999999999974, 0.0], [7.599999999999989, 0.0], [13.499999999999968, 0.1481481481481485], [11.599999999999975, 0.0], [10.399999999999979, 0.0], [12.599999999999971, 0.0], [8.899999999999984, 0.2247191011235959]], \"hoverlabel\": {\"namelength\": 0}, \"hovertemplate\": \"=Score NRL<br>Time=%{customdata[0]}<br>Points=%{y}<br>pput=%{customdata[1]}\", \"legendgroup\": \"=Score NRL\", \"marker\": {\"color\": \"#EF553B\", \"symbol\": \"circle\"}, \"mode\": \"markers\", \"name\": \"=Score NRL\", \"showlegend\": true, \"type\": \"scatter\", \"x\": [10.699999999999978, 4.300000000000001, 7.19999999999999, 12.099999999999973, 5.599999999999996, 12.99999999999997, 11.999999999999973, 10.599999999999978, 11.299999999999976, 9.199999999999983, 8.299999999999986, 10.09999999999998, 14.899999999999963, 16.09999999999996, 12.79999999999997, 9.399999999999983, 10.19999999999998, 7.699999999999989, 8.999999999999984, 9.799999999999981, 9.799999999999981, 5.899999999999995, 14.699999999999964, 8.899999999999984, 7.999999999999988, 11.599999999999975, 12.499999999999972, 8.399999999999986, 9.799999999999981, 11.799999999999974, 8.199999999999987, 14.299999999999965, 14.899999999999963, 15.99999999999996, 7.799999999999988, 12.099999999999973, 10.599999999999978, 7.39999999999999, 7.099999999999991, 13.599999999999968, 5.399999999999997, 3.800000000000002, 6.5999999999999925, 6.799999999999992, 9.299999999999983, 8.899999999999984, 9.299999999999983, 9.699999999999982, 12.099999999999973, 5.999999999999995, 2.800000000000001, 14.599999999999964, 6.8999999999999915, 10.29999999999998, 13.799999999999967, 17.899999999999984, 28.20000000000013, 10.499999999999979, 4.999999999999998, 7.29999999999999, 9.399999999999983, 12.599999999999971, 12.299999999999972, 11.299999999999976, 19.300000000000004, 6.399999999999993, 6.8999999999999915, 15.399999999999961, 5.699999999999996, 6.5999999999999925, 14.599999999999964, 17.199999999999974, 5.599999999999996, 4.799999999999999, 10.699999999999978, 17.69999999999998, 6.699999999999992, 5.999999999999995, 16.09999999999996, 9.799999999999981, 10.999999999999977, 6.299999999999994, 11.299999999999976, 10.999999999999977, 5.999999999999995, 12.499999999999972, 2.1000000000000005, 6.5999999999999925, 6.5999999999999925, 8.999999999999984, 9.99999999999998, 7.599999999999989, 11.799999999999974, 11.799999999999974, 7.599999999999989, 13.499999999999968, 11.599999999999975, 10.399999999999979, 12.599999999999971, 8.899999999999984], \"xaxis\": \"x\", \"y\": [0, 0, 2, 2, 2, 0, 0, 2, 2, 2, 0, 2, 0, 2, 0, 2, 2, 0, 2, 2, 2, 2, 2, 2, 0, 2, 2, 2, 2, 2, 2, 2, 2, 2, 2, 2, 0, 2, 2, 2, 2, 0, 2, 2, 2, 2, 2, 2, 2, 2, 2, 2, 0, 2, 2, 0, 2, 2, 2, 2, 0, 2, 2, 2, 2, 2, 2, 2, 2, 2, 2, 2, 2, 2, 2, 2, 2, 0, 2, 2, 2, 2, 2, 2, 0, 2, 0, 2, 2, 2, 2, 2, 2, 0, 0, 2, 0, 0, 0, 2], \"yaxis\": \"y\"}, {\"customdata\": [[2.800000000000001, 1.071428571428571], [1.7000000000000004, 1.7647058823529407], [0.4, 7.5], [0.9999999999999999, 3.0000000000000004], [1.4000000000000001, 2.142857142857143], [0.9999999999999999, 3.0000000000000004], [0.30000000000000004, 9.999999999999998], [1.4000000000000001, 2.142857142857143], [1.8000000000000005, 1.6666666666666663], [0.6, 5.0], [0.9999999999999999, 3.0000000000000004], [1.4000000000000001, 2.142857142857143], [1.5000000000000002, 1.9999999999999998], [1.2, 2.5], [1.2, 2.5], [0.7999999999999999, 3.7500000000000004], [1.4000000000000001, 2.142857142857143], [1.8000000000000005, 1.6666666666666663], [0.9999999999999999, 3.0000000000000004], [1.3, 2.3076923076923075], [1.8000000000000005, 1.6666666666666663], [1.2, 2.5], [0.7, 4.285714285714286], [0.2, 15.0], [1.0999999999999999, 2.7272727272727275], [1.3, 2.3076923076923075], [0.6, 5.0], [0.9999999999999999, 3.0000000000000004], [0.1, 30.0], [1.0999999999999999, 2.7272727272727275], [1.7000000000000004, 1.7647058823529407], [0.7999999999999999, 3.7500000000000004], [0.8999999999999999, 3.3333333333333335], [1.4000000000000001, 2.142857142857143], [1.3, 2.3076923076923075], [1.0999999999999999, 2.7272727272727275], [0.7, 4.285714285714286], [0.2, 15.0], [1.0999999999999999, 2.7272727272727275], [1.5000000000000002, 1.9999999999999998], [0.7, 4.285714285714286], [0.7999999999999999, 3.7500000000000004], [0.7999999999999999, 3.7500000000000004], [0.8999999999999999, 3.3333333333333335], [1.3, 2.3076923076923075], [0.9999999999999999, 3.0000000000000004], [0.1, 30.0], [0.8999999999999999, 3.3333333333333335], [0.6, 5.0], [1.2, 2.5], [1.3, 2.3076923076923075], [0.4, 7.5], [1.8000000000000005, 1.6666666666666663], [0.9999999999999999, 3.0000000000000004], [0.8999999999999999, 3.3333333333333335], [1.4000000000000001, 2.142857142857143], [1.7000000000000004, 1.7647058823529407], [0.9999999999999999, 3.0000000000000004], [0.5, 6.0], [1.0999999999999999, 2.7272727272727275], [0.4, 7.5], [0.6, 5.0], [1.3, 2.3076923076923075], [0.8999999999999999, 3.3333333333333335], [0.6, 5.0], [0.5, 6.0], [1.3, 2.3076923076923075], [0.7999999999999999, 3.7500000000000004], [2.700000000000001, 1.1111111111111107], [2.800000000000001, 1.071428571428571], [1.9000000000000006, 1.5789473684210522], [1.4000000000000001, 2.142857142857143], [0.8999999999999999, 3.3333333333333335], [1.2, 2.5], [1.0999999999999999, 2.7272727272727275], [1.0999999999999999, 2.7272727272727275], [1.2, 2.5], [1.0999999999999999, 2.7272727272727275], [0.5, 6.0], [0.1, 30.0], [0.30000000000000004, 9.999999999999998], [3.2000000000000015, 0.9374999999999996], [1.5000000000000002, 1.9999999999999998], [0.4, 7.5], [0.9999999999999999, 3.0000000000000004], [0.1, 30.0], [1.7000000000000004, 1.7647058823529407], [1.4000000000000001, 2.142857142857143], [1.0999999999999999, 2.7272727272727275], [0.7, 4.285714285714286], [1.0999999999999999, 2.7272727272727275], [0.8999999999999999, 3.3333333333333335], [1.4000000000000001, 2.142857142857143], [1.2, 2.5], [0.9999999999999999, 3.0000000000000004], [1.6000000000000003, 1.8749999999999996], [1.0999999999999999, 2.7272727272727275], [1.7000000000000004, 1.7647058823529407], [1.4000000000000001, 2.142857142857143], [0.2, 15.0]], \"hoverlabel\": {\"namelength\": 0}, \"hovertemplate\": \"=drive_off_hab1<br>Time=%{customdata[0]}<br>Points=%{y}<br>pput=%{customdata[1]}\", \"legendgroup\": \"=drive_off_hab1\", \"marker\": {\"color\": \"#00cc96\", \"symbol\": \"circle\"}, \"mode\": \"markers\", \"name\": \"=drive_off_hab1\", \"showlegend\": true, \"type\": \"scatter\", \"x\": [2.800000000000001, 1.7000000000000004, 0.4, 0.9999999999999999, 1.4000000000000001, 0.9999999999999999, 0.30000000000000004, 1.4000000000000001, 1.8000000000000005, 0.6, 0.9999999999999999, 1.4000000000000001, 1.5000000000000002, 1.2, 1.2, 0.7999999999999999, 1.4000000000000001, 1.8000000000000005, 0.9999999999999999, 1.3, 1.8000000000000005, 1.2, 0.7, 0.2, 1.0999999999999999, 1.3, 0.6, 0.9999999999999999, 0.1, 1.0999999999999999, 1.7000000000000004, 0.7999999999999999, 0.8999999999999999, 1.4000000000000001, 1.3, 1.0999999999999999, 0.7, 0.2, 1.0999999999999999, 1.5000000000000002, 0.7, 0.7999999999999999, 0.7999999999999999, 0.8999999999999999, 1.3, 0.9999999999999999, 0.1, 0.8999999999999999, 0.6, 1.2, 1.3, 0.4, 1.8000000000000005, 0.9999999999999999, 0.8999999999999999, 1.4000000000000001, 1.7000000000000004, 0.9999999999999999, 0.5, 1.0999999999999999, 0.4, 0.6, 1.3, 0.8999999999999999, 0.6, 0.5, 1.3, 0.7999999999999999, 2.700000000000001, 2.800000000000001, 1.9000000000000006, 1.4000000000000001, 0.8999999999999999, 1.2, 1.0999999999999999, 1.0999999999999999, 1.2, 1.0999999999999999, 0.5, 0.1, 0.30000000000000004, 3.2000000000000015, 1.5000000000000002, 0.4, 0.9999999999999999, 0.1, 1.7000000000000004, 1.4000000000000001, 1.0999999999999999, 0.7, 1.0999999999999999, 0.8999999999999999, 1.4000000000000001, 1.2, 0.9999999999999999, 1.6000000000000003, 1.0999999999999999, 1.7000000000000004, 1.4000000000000001, 0.2], \"xaxis\": \"x\", \"y\": [3, 3, 3, 3, 3, 3, 3, 3, 3, 3, 3, 3, 3, 3, 3, 3, 3, 3, 3, 3, 3, 3, 3, 3, 3, 3, 3, 3, 3, 3, 3, 3, 3, 3, 3, 3, 3, 3, 3, 3, 3, 3, 3, 3, 3, 3, 3, 3, 3, 3, 3, 3, 3, 3, 3, 3, 3, 3, 3, 3, 3, 3, 3, 3, 3, 3, 3, 3, 3, 3, 3, 3, 3, 3, 3, 3, 3, 3, 3, 3, 3, 3, 3, 3, 3, 3, 3, 3, 3, 3, 3, 3, 3, 3, 3, 3, 3, 3, 3, 3], \"yaxis\": \"y\"}, {\"customdata\": [[1.0999999999999999, 5.454545454545455], [1.3, 4.615384615384615], [2.0000000000000004, 2.9999999999999996], [0.7, 8.571428571428571], [1.2, 5.0], [0.30000000000000004, 19.999999999999996], [2.500000000000001, 2.399999999999999], [1.7000000000000004, 3.5294117647058814], [1.2, 5.0], [1.3, 4.615384615384615], [1.3, 4.615384615384615], [2.3000000000000007, 2.608695652173912], [1.8000000000000005, 3.3333333333333326], [0.8999999999999999, 6.666666666666667], [1.4000000000000001, 4.285714285714286], [0.8999999999999999, 6.666666666666667], [0.7, 8.571428571428571], [1.3, 4.615384615384615], [0.4, 15.0], [1.5000000000000002, 3.9999999999999996], [0.4, 15.0], [0.9999999999999999, 6.000000000000001], [0.9999999999999999, 6.000000000000001], [1.5000000000000002, 3.9999999999999996], [0.8999999999999999, 6.666666666666667], [1.3, 4.615384615384615], [1.9000000000000006, 3.1578947368421044], [0.9999999999999999, 6.000000000000001], [1.2, 5.0], [1.3, 4.615384615384615], [1.0999999999999999, 5.454545454545455], [0.5, 12.0], [1.9000000000000006, 3.1578947368421044], [1.2, 5.0], [1.7000000000000004, 3.5294117647058814], [1.9000000000000006, 3.1578947368421044], [1.3, 4.615384615384615], [0.8999999999999999, 6.666666666666667], [0.8999999999999999, 6.666666666666667], [0.5, 12.0], [1.5000000000000002, 3.9999999999999996], [0.9999999999999999, 6.000000000000001], [0.9999999999999999, 6.000000000000001], [0.9999999999999999, 6.000000000000001], [0.7, 8.571428571428571], [1.6000000000000003, 3.749999999999999], [2.1000000000000005, 2.8571428571428563], [1.3, 4.615384615384615], [1.5000000000000002, 3.9999999999999996], [1.2, 5.0], [1.5000000000000002, 3.9999999999999996], [0.7, 8.571428571428571], [2.0000000000000004, 2.9999999999999996], [0.8999999999999999, 6.666666666666667], [1.7000000000000004, 3.5294117647058814], [0.4, 15.0], [1.4000000000000001, 4.285714285714286], [1.4000000000000001, 4.285714285714286], [1.0999999999999999, 5.454545454545455], [0.7, 8.571428571428571], [0.4, 15.0], [1.0999999999999999, 5.454545454545455], [1.3, 4.615384615384615], [0.6, 10.0], [0.7999999999999999, 7.500000000000001], [1.4000000000000001, 4.285714285714286], [1.8000000000000005, 3.3333333333333326], [1.9000000000000006, 3.1578947368421044], [1.2, 5.0], [1.6000000000000003, 3.749999999999999], [0.8999999999999999, 6.666666666666667], [0.7, 8.571428571428571], [1.5000000000000002, 3.9999999999999996], [0.7999999999999999, 7.500000000000001], [0.9999999999999999, 6.000000000000001], [1.4000000000000001, 4.285714285714286], [0.8999999999999999, 6.666666666666667], [0.8999999999999999, 6.666666666666667], [1.5000000000000002, 3.9999999999999996], [1.4000000000000001, 4.285714285714286], [1.0999999999999999, 5.454545454545455], [0.7999999999999999, 7.500000000000001], [1.0999999999999999, 5.454545454545455], [0.7, 8.571428571428571], [1.5000000000000002, 3.9999999999999996], [1.4000000000000001, 4.285714285714286], [0.7999999999999999, 7.500000000000001], [1.8000000000000005, 3.3333333333333326], [1.7000000000000004, 3.5294117647058814], [1.4000000000000001, 4.285714285714286], [1.5000000000000002, 3.9999999999999996], [1.5000000000000002, 3.9999999999999996], [0.9999999999999999, 6.000000000000001], [0.7, 8.571428571428571], [1.6000000000000003, 3.749999999999999], [1.2, 5.0], [0.6, 10.0], [1.4000000000000001, 4.285714285714286], [1.3, 4.615384615384615], [0.7999999999999999, 7.500000000000001]], \"hoverlabel\": {\"namelength\": 0}, \"hovertemplate\": \"=drive_off_hab2<br>Time=%{customdata[0]}<br>Points=%{y}<br>pput=%{customdata[1]}\", \"legendgroup\": \"=drive_off_hab2\", \"marker\": {\"color\": \"#ab63fa\", \"symbol\": \"circle\"}, \"mode\": \"markers\", \"name\": \"=drive_off_hab2\", \"showlegend\": true, \"type\": \"scatter\", \"x\": [1.0999999999999999, 1.3, 2.0000000000000004, 0.7, 1.2, 0.30000000000000004, 2.500000000000001, 1.7000000000000004, 1.2, 1.3, 1.3, 2.3000000000000007, 1.8000000000000005, 0.8999999999999999, 1.4000000000000001, 0.8999999999999999, 0.7, 1.3, 0.4, 1.5000000000000002, 0.4, 0.9999999999999999, 0.9999999999999999, 1.5000000000000002, 0.8999999999999999, 1.3, 1.9000000000000006, 0.9999999999999999, 1.2, 1.3, 1.0999999999999999, 0.5, 1.9000000000000006, 1.2, 1.7000000000000004, 1.9000000000000006, 1.3, 0.8999999999999999, 0.8999999999999999, 0.5, 1.5000000000000002, 0.9999999999999999, 0.9999999999999999, 0.9999999999999999, 0.7, 1.6000000000000003, 2.1000000000000005, 1.3, 1.5000000000000002, 1.2, 1.5000000000000002, 0.7, 2.0000000000000004, 0.8999999999999999, 1.7000000000000004, 0.4, 1.4000000000000001, 1.4000000000000001, 1.0999999999999999, 0.7, 0.4, 1.0999999999999999, 1.3, 0.6, 0.7999999999999999, 1.4000000000000001, 1.8000000000000005, 1.9000000000000006, 1.2, 1.6000000000000003, 0.8999999999999999, 0.7, 1.5000000000000002, 0.7999999999999999, 0.9999999999999999, 1.4000000000000001, 0.8999999999999999, 0.8999999999999999, 1.5000000000000002, 1.4000000000000001, 1.0999999999999999, 0.7999999999999999, 1.0999999999999999, 0.7, 1.5000000000000002, 1.4000000000000001, 0.7999999999999999, 1.8000000000000005, 1.7000000000000004, 1.4000000000000001, 1.5000000000000002, 1.5000000000000002, 0.9999999999999999, 0.7, 1.6000000000000003, 1.2, 0.6, 1.4000000000000001, 1.3, 0.7999999999999999], \"xaxis\": \"x\", \"y\": [6, 6, 6, 6, 6, 6, 6, 6, 6, 6, 6, 6, 6, 6, 6, 6, 6, 6, 6, 6, 6, 6, 6, 6, 6, 6, 6, 6, 6, 6, 6, 6, 6, 6, 6, 6, 6, 6, 6, 6, 6, 6, 6, 6, 6, 6, 6, 6, 6, 6, 6, 6, 6, 6, 6, 6, 6, 6, 6, 6, 6, 6, 6, 6, 6, 6, 6, 6, 6, 6, 6, 6, 6, 6, 6, 6, 6, 6, 6, 6, 6, 6, 6, 6, 6, 6, 6, 6, 6, 6, 6, 6, 6, 6, 6, 6, 6, 6, 6, 6], \"yaxis\": \"y\"}],\n",
       "                        {\"legend\": {\"tracegroupgap\": 0, \"x\": 0, \"y\": -0.3}, \"template\": {\"data\": {\"bar\": [{\"error_x\": {\"color\": \"#2a3f5f\"}, \"error_y\": {\"color\": \"#2a3f5f\"}, \"marker\": {\"line\": {\"color\": \"#E5ECF6\", \"width\": 0.5}}, \"type\": \"bar\"}], \"barpolar\": [{\"marker\": {\"line\": {\"color\": \"#E5ECF6\", \"width\": 0.5}}, \"type\": \"barpolar\"}], \"carpet\": [{\"aaxis\": {\"endlinecolor\": \"#2a3f5f\", \"gridcolor\": \"white\", \"linecolor\": \"white\", \"minorgridcolor\": \"white\", \"startlinecolor\": \"#2a3f5f\"}, \"baxis\": {\"endlinecolor\": \"#2a3f5f\", \"gridcolor\": \"white\", \"linecolor\": \"white\", \"minorgridcolor\": \"white\", \"startlinecolor\": \"#2a3f5f\"}, \"type\": \"carpet\"}], \"choropleth\": [{\"colorbar\": {\"outlinewidth\": 0, \"ticks\": \"\"}, \"type\": \"choropleth\"}], \"contour\": [{\"colorbar\": {\"outlinewidth\": 0, \"ticks\": \"\"}, \"colorscale\": [[0.0, \"#0d0887\"], [0.1111111111111111, \"#46039f\"], [0.2222222222222222, \"#7201a8\"], [0.3333333333333333, \"#9c179e\"], [0.4444444444444444, \"#bd3786\"], [0.5555555555555556, \"#d8576b\"], [0.6666666666666666, \"#ed7953\"], [0.7777777777777778, \"#fb9f3a\"], [0.8888888888888888, \"#fdca26\"], [1.0, \"#f0f921\"]], \"type\": \"contour\"}], \"contourcarpet\": [{\"colorbar\": {\"outlinewidth\": 0, \"ticks\": \"\"}, \"type\": \"contourcarpet\"}], \"heatmap\": [{\"colorbar\": {\"outlinewidth\": 0, \"ticks\": \"\"}, \"colorscale\": [[0.0, \"#0d0887\"], [0.1111111111111111, \"#46039f\"], [0.2222222222222222, \"#7201a8\"], [0.3333333333333333, \"#9c179e\"], [0.4444444444444444, \"#bd3786\"], [0.5555555555555556, \"#d8576b\"], [0.6666666666666666, \"#ed7953\"], [0.7777777777777778, \"#fb9f3a\"], [0.8888888888888888, \"#fdca26\"], [1.0, \"#f0f921\"]], \"type\": \"heatmap\"}], \"heatmapgl\": [{\"colorbar\": {\"outlinewidth\": 0, \"ticks\": \"\"}, \"colorscale\": [[0.0, \"#0d0887\"], [0.1111111111111111, \"#46039f\"], [0.2222222222222222, \"#7201a8\"], [0.3333333333333333, \"#9c179e\"], [0.4444444444444444, \"#bd3786\"], [0.5555555555555556, \"#d8576b\"], [0.6666666666666666, \"#ed7953\"], [0.7777777777777778, \"#fb9f3a\"], [0.8888888888888888, \"#fdca26\"], [1.0, \"#f0f921\"]], \"type\": \"heatmapgl\"}], \"histogram\": [{\"marker\": {\"colorbar\": {\"outlinewidth\": 0, \"ticks\": \"\"}}, \"type\": \"histogram\"}], \"histogram2d\": [{\"colorbar\": {\"outlinewidth\": 0, \"ticks\": \"\"}, \"colorscale\": [[0.0, \"#0d0887\"], [0.1111111111111111, \"#46039f\"], [0.2222222222222222, \"#7201a8\"], [0.3333333333333333, \"#9c179e\"], [0.4444444444444444, \"#bd3786\"], [0.5555555555555556, \"#d8576b\"], [0.6666666666666666, \"#ed7953\"], [0.7777777777777778, \"#fb9f3a\"], [0.8888888888888888, \"#fdca26\"], [1.0, \"#f0f921\"]], \"type\": \"histogram2d\"}], \"histogram2dcontour\": [{\"colorbar\": {\"outlinewidth\": 0, \"ticks\": \"\"}, \"colorscale\": [[0.0, \"#0d0887\"], [0.1111111111111111, \"#46039f\"], [0.2222222222222222, \"#7201a8\"], [0.3333333333333333, \"#9c179e\"], [0.4444444444444444, \"#bd3786\"], [0.5555555555555556, \"#d8576b\"], [0.6666666666666666, \"#ed7953\"], [0.7777777777777778, \"#fb9f3a\"], [0.8888888888888888, \"#fdca26\"], [1.0, \"#f0f921\"]], \"type\": \"histogram2dcontour\"}], \"mesh3d\": [{\"colorbar\": {\"outlinewidth\": 0, \"ticks\": \"\"}, \"type\": \"mesh3d\"}], \"parcoords\": [{\"line\": {\"colorbar\": {\"outlinewidth\": 0, \"ticks\": \"\"}}, \"type\": \"parcoords\"}], \"pie\": [{\"automargin\": true, \"type\": \"pie\"}], \"scatter\": [{\"marker\": {\"colorbar\": {\"outlinewidth\": 0, \"ticks\": \"\"}}, \"type\": \"scatter\"}], \"scatter3d\": [{\"line\": {\"colorbar\": {\"outlinewidth\": 0, \"ticks\": \"\"}}, \"marker\": {\"colorbar\": {\"outlinewidth\": 0, \"ticks\": \"\"}}, \"type\": \"scatter3d\"}], \"scattercarpet\": [{\"marker\": {\"colorbar\": {\"outlinewidth\": 0, \"ticks\": \"\"}}, \"type\": \"scattercarpet\"}], \"scattergeo\": [{\"marker\": {\"colorbar\": {\"outlinewidth\": 0, \"ticks\": \"\"}}, \"type\": \"scattergeo\"}], \"scattergl\": [{\"marker\": {\"colorbar\": {\"outlinewidth\": 0, \"ticks\": \"\"}}, \"type\": \"scattergl\"}], \"scattermapbox\": [{\"marker\": {\"colorbar\": {\"outlinewidth\": 0, \"ticks\": \"\"}}, \"type\": \"scattermapbox\"}], \"scatterpolar\": [{\"marker\": {\"colorbar\": {\"outlinewidth\": 0, \"ticks\": \"\"}}, \"type\": \"scatterpolar\"}], \"scatterpolargl\": [{\"marker\": {\"colorbar\": {\"outlinewidth\": 0, \"ticks\": \"\"}}, \"type\": \"scatterpolargl\"}], \"scatterternary\": [{\"marker\": {\"colorbar\": {\"outlinewidth\": 0, \"ticks\": \"\"}}, \"type\": \"scatterternary\"}], \"surface\": [{\"colorbar\": {\"outlinewidth\": 0, \"ticks\": \"\"}, \"colorscale\": [[0.0, \"#0d0887\"], [0.1111111111111111, \"#46039f\"], [0.2222222222222222, \"#7201a8\"], [0.3333333333333333, \"#9c179e\"], [0.4444444444444444, \"#bd3786\"], [0.5555555555555556, \"#d8576b\"], [0.6666666666666666, \"#ed7953\"], [0.7777777777777778, \"#fb9f3a\"], [0.8888888888888888, \"#fdca26\"], [1.0, \"#f0f921\"]], \"type\": \"surface\"}], \"table\": [{\"cells\": {\"fill\": {\"color\": \"#EBF0F8\"}, \"line\": {\"color\": \"white\"}}, \"header\": {\"fill\": {\"color\": \"#C8D4E3\"}, \"line\": {\"color\": \"white\"}}, \"type\": \"table\"}]}, \"layout\": {\"annotationdefaults\": {\"arrowcolor\": \"#2a3f5f\", \"arrowhead\": 0, \"arrowwidth\": 1}, \"coloraxis\": {\"colorbar\": {\"outlinewidth\": 0, \"ticks\": \"\"}}, \"colorscale\": {\"diverging\": [[0, \"#8e0152\"], [0.1, \"#c51b7d\"], [0.2, \"#de77ae\"], [0.3, \"#f1b6da\"], [0.4, \"#fde0ef\"], [0.5, \"#f7f7f7\"], [0.6, \"#e6f5d0\"], [0.7, \"#b8e186\"], [0.8, \"#7fbc41\"], [0.9, \"#4d9221\"], [1, \"#276419\"]], \"sequential\": [[0.0, \"#0d0887\"], [0.1111111111111111, \"#46039f\"], [0.2222222222222222, \"#7201a8\"], [0.3333333333333333, \"#9c179e\"], [0.4444444444444444, \"#bd3786\"], [0.5555555555555556, \"#d8576b\"], [0.6666666666666666, \"#ed7953\"], [0.7777777777777778, \"#fb9f3a\"], [0.8888888888888888, \"#fdca26\"], [1.0, \"#f0f921\"]], \"sequentialminus\": [[0.0, \"#0d0887\"], [0.1111111111111111, \"#46039f\"], [0.2222222222222222, \"#7201a8\"], [0.3333333333333333, \"#9c179e\"], [0.4444444444444444, \"#bd3786\"], [0.5555555555555556, \"#d8576b\"], [0.6666666666666666, \"#ed7953\"], [0.7777777777777778, \"#fb9f3a\"], [0.8888888888888888, \"#fdca26\"], [1.0, \"#f0f921\"]]}, \"colorway\": [\"#636efa\", \"#EF553B\", \"#00cc96\", \"#ab63fa\", \"#FFA15A\", \"#19d3f3\", \"#FF6692\", \"#B6E880\", \"#FF97FF\", \"#FECB52\"], \"font\": {\"color\": \"#2a3f5f\"}, \"geo\": {\"bgcolor\": \"white\", \"lakecolor\": \"white\", \"landcolor\": \"#E5ECF6\", \"showlakes\": true, \"showland\": true, \"subunitcolor\": \"white\"}, \"hoverlabel\": {\"align\": \"left\"}, \"hovermode\": \"closest\", \"mapbox\": {\"style\": \"light\"}, \"paper_bgcolor\": \"white\", \"plot_bgcolor\": \"#E5ECF6\", \"polar\": {\"angularaxis\": {\"gridcolor\": \"white\", \"linecolor\": \"white\", \"ticks\": \"\"}, \"bgcolor\": \"#E5ECF6\", \"radialaxis\": {\"gridcolor\": \"white\", \"linecolor\": \"white\", \"ticks\": \"\"}}, \"scene\": {\"xaxis\": {\"backgroundcolor\": \"#E5ECF6\", \"gridcolor\": \"white\", \"gridwidth\": 2, \"linecolor\": \"white\", \"showbackground\": true, \"ticks\": \"\", \"zerolinecolor\": \"white\"}, \"yaxis\": {\"backgroundcolor\": \"#E5ECF6\", \"gridcolor\": \"white\", \"gridwidth\": 2, \"linecolor\": \"white\", \"showbackground\": true, \"ticks\": \"\", \"zerolinecolor\": \"white\"}, \"zaxis\": {\"backgroundcolor\": \"#E5ECF6\", \"gridcolor\": \"white\", \"gridwidth\": 2, \"linecolor\": \"white\", \"showbackground\": true, \"ticks\": \"\", \"zerolinecolor\": \"white\"}}, \"shapedefaults\": {\"line\": {\"color\": \"#2a3f5f\"}}, \"ternary\": {\"aaxis\": {\"gridcolor\": \"white\", \"linecolor\": \"white\", \"ticks\": \"\"}, \"baxis\": {\"gridcolor\": \"white\", \"linecolor\": \"white\", \"ticks\": \"\"}, \"bgcolor\": \"#E5ECF6\", \"caxis\": {\"gridcolor\": \"white\", \"linecolor\": \"white\", \"ticks\": \"\"}}, \"title\": {\"x\": 0.05}, \"xaxis\": {\"automargin\": true, \"gridcolor\": \"white\", \"linecolor\": \"white\", \"ticks\": \"\", \"title\": {\"standoff\": 15}, \"zerolinecolor\": \"white\", \"zerolinewidth\": 2}, \"yaxis\": {\"automargin\": true, \"gridcolor\": \"white\", \"linecolor\": \"white\", \"ticks\": \"\", \"title\": {\"standoff\": 15}, \"zerolinecolor\": \"white\", \"zerolinewidth\": 2}}}, \"title\": {\"text\": \"Points by Time\"}, \"xaxis\": {\"anchor\": \"y\", \"domain\": [0.0, 1.0], \"title\": {\"text\": \"Time\"}}, \"yaxis\": {\"anchor\": \"x\", \"domain\": [0.0, 1.0], \"title\": {\"text\": \"Points\"}}},\n",
       "                        {\"responsive\": true}\n",
       "                    ).then(function(){\n",
       "                            \n",
       "var gd = document.getElementById('77d3c119-ca31-4138-9558-145e16d10b9d');\n",
       "var x = new MutationObserver(function (mutations, observer) {{\n",
       "        var display = window.getComputedStyle(gd).display;\n",
       "        if (!display || display === 'none') {{\n",
       "            console.log([gd, 'removed!']);\n",
       "            Plotly.purge(gd);\n",
       "            observer.disconnect();\n",
       "        }}\n",
       "}});\n",
       "\n",
       "// Listen for the removal of the full notebook cells\n",
       "var notebookContainer = gd.closest('#notebook-container');\n",
       "if (notebookContainer) {{\n",
       "    x.observe(notebookContainer, {childList: true});\n",
       "}}\n",
       "\n",
       "// Listen for the clearing of the current output cell\n",
       "var outputEl = gd.closest('.output');\n",
       "if (outputEl) {{\n",
       "    x.observe(outputEl, {childList: true});\n",
       "}}\n",
       "\n",
       "                        })\n",
       "                };\n",
       "                });\n",
       "            </script>\n",
       "        </div>"
      ]
     },
     "metadata": {},
     "output_type": "display_data"
    }
   ],
   "source": [
    "fig = px.scatter(pput, x=\"clock\", y=\"total\", title='Points by Time', labels={'clock': 'Time', 'total': 'Points', 'robot': \"\"},\n",
    "             hover_data=['clock','pput'], color='robot')\n",
    "fig.update_layout(legend=dict(x=-0, y=-0.3))\n",
    "fig.show()"
   ]
  },
  {
   "cell_type": "code",
   "execution_count": null,
   "metadata": {},
   "outputs": [],
   "source": []
  }
 ],
 "metadata": {
  "kernelspec": {
   "display_name": "Python 3",
   "language": "python",
   "name": "python3"
  },
  "language_info": {
   "codemirror_mode": {
    "name": "ipython",
    "version": 3
   },
   "file_extension": ".py",
   "mimetype": "text/x-python",
   "name": "python",
   "nbconvert_exporter": "python",
   "pygments_lexer": "ipython3",
   "version": "3.7.6"
  }
 },
 "nbformat": 4,
 "nbformat_minor": 2
}
