{
 "cells": [
  {
   "cell_type": "code",
   "execution_count": 1,
   "metadata": {},
   "outputs": [
    {
     "data": {
      "text/html": [
       "        <script type=\"text/javascript\">\n",
       "        window.PlotlyConfig = {MathJaxConfig: 'local'};\n",
       "        if (window.MathJax) {MathJax.Hub.Config({SVG: {font: \"STIX-Web\"}});}\n",
       "        if (typeof require !== 'undefined') {\n",
       "        require.undef(\"plotly\");\n",
       "        requirejs.config({\n",
       "            paths: {\n",
       "                'plotly': ['https://cdn.plot.ly/plotly-latest.min']\n",
       "            }\n",
       "        });\n",
       "        require(['plotly'], function(Plotly) {\n",
       "            window._Plotly = Plotly;\n",
       "        });\n",
       "        }\n",
       "        </script>\n",
       "        "
      ]
     },
     "metadata": {},
     "output_type": "display_data"
    }
   ],
   "source": [
    "import json\n",
    "import random\n",
    "import plotly.offline as py\n",
    "py.init_notebook_mode(connected=True)\n",
    "import plotly.graph_objects as go\n",
    "import plotly.express as px\n",
    "import pandas as pd\n",
    "import copy\n",
    "#from IPython.display import Image"
   ]
  },
  {
   "cell_type": "code",
   "execution_count": 2,
   "metadata": {
    "code_folding": []
   },
   "outputs": [],
   "source": [
    "game_file = 'deep_space_pput.json'"
   ]
  },
  {
   "cell_type": "code",
   "execution_count": 3,
   "metadata": {
    "code_folding": [
     0
    ]
   },
   "outputs": [],
   "source": [
    "# Load json files into simulation\n",
    "with open(game_file) as json_file:\n",
    "    game = json.load(json_file)\n",
    "\n",
    "robots = []\n",
    "\n",
    "for rbot in game['robots']:\n",
    "    with open(rbot) as json_file:\n",
    "        robots.append(json.load(json_file))\n",
    "\n",
    "for robot in robots:\n",
    "    with open(robot['operations']) as json_file:\n",
    "        ops = json.load(json_file)\n",
    "        opdict = {}\n",
    "        for op in ops:\n",
    "            opdict[op['name']] = op\n",
    "        robot['operations'] = opdict\n",
    "        \n",
    "robot_cache = robots"
   ]
  },
  {
   "cell_type": "code",
   "execution_count": 4,
   "metadata": {
    "code_folding": [
     0
    ]
   },
   "outputs": [],
   "source": [
    "# note log handles recording points and updating counts\n",
    "def log(clock, clock_mode, mode_name, robot, success, op):\n",
    "    points = 0\n",
    "    name = op['name']\n",
    "    if success:\n",
    "        mop = op['game_modes'][mode_name]\n",
    "        points = mop.get('points', 0)\n",
    "        counts[op['name']] = counts.get(name, 0) + 1\n",
    "        limit = op.get('limit', 0)\n",
    "        if limit != 0 and counts[name] >= limit:\n",
    "            del robot['operations'][name]\n",
    "    journal.append([runs, clock, clock_mode, robot['name'], success, name, points])\n",
    "            "
   ]
  },
  {
   "cell_type": "code",
   "execution_count": 5,
   "metadata": {
    "code_folding": [
     0
    ]
   },
   "outputs": [],
   "source": [
    "# Simulator\n",
    "def simulate():\n",
    "    # Reset sim data\n",
    "    robots = copy.deepcopy(robot_cache)\n",
    "    global runs \n",
    "    runs += 1\n",
    "\n",
    "    # Start Game Clock\n",
    "    clock = 0\n",
    "\n",
    "    # Determine Mode\n",
    "    mode = game['modes'][0]\n",
    "    duration = mode['mode_time']\n",
    "\n",
    "    # While game not over\n",
    "    mode_name = mode['mode']\n",
    "    while mode != '':\n",
    "        while duration > 0:\n",
    "            # For each robot\n",
    "            for robot in robots:\n",
    "                # if idle, assign operation\n",
    "                if 'operation' not in robot:\n",
    "                    # pick next op\n",
    "                    # collect all available ops\n",
    "                    mname = mode_name\n",
    "                    if mname not in robot['modes']:\n",
    "                        mname = 'teleop'\n",
    "                    ops = robot['modes'].get(mname, None)\n",
    "                    if ops != None:\n",
    "                        # find hightest priority\n",
    "                        max_priority = 0\n",
    "                        for op in ops: \n",
    "                            max_priority = max(max_priority, op.get('priority', 0))\n",
    "                        ops = list(filter(lambda op: op.get('priority', 0) >= max_priority, ops))\n",
    "                        op = random.choice(ops)['name']\n",
    "                        op = robot['operations'].get(op, None)\n",
    "                        if op != None:\n",
    "                            mname = mode_name\n",
    "                            if mname not in op['game_modes']:\n",
    "                                mname = 'teleop'\n",
    "                            mop = op['game_modes'][mname]\n",
    "\n",
    "                            # determine finish time\n",
    "                            optime = random.normalvariate(mop['time'], mop['std'])\n",
    "                            optime = max(mop.get('min', 0), optime)\n",
    "                            op['finish'] = clock + optime\n",
    "                            robot['operation'] = op\n",
    "\n",
    "                # if op complete\n",
    "                if 'operation' in robot:\n",
    "                    op = robot['operation']\n",
    "                    if op['finish'] < clock:\n",
    "                        mname = mode_name\n",
    "                        if mname not in op['game_modes'] and 'teleop' in op['game_modes']:\n",
    "                            mname = 'teleop'\n",
    "\n",
    "                        if mname in op['game_modes']:\n",
    "                            mop = op['game_modes'][mname]\n",
    "\n",
    "                            # check for failure\n",
    "                            success = random.random() >= mop.get('failure_odds', 0)\n",
    "                            log(clock, mode_name, mname, robot, success, op)\n",
    "\n",
    "                            if success:\n",
    "                                # pick next op\n",
    "                                ops = list(filter(lambda op: op in robot['operations'], mop.get(\"next_op\", [])))\n",
    "                                if len(ops) > 0:\n",
    "                                    op = robot['operations'][random.choice(ops)]\n",
    "                                    mname = mode_name\n",
    "                                    if mname not in op['game_modes']:\n",
    "                                        mname = 'teleop'\n",
    "                                    mop = op['game_modes'][mname]\n",
    "\n",
    "                                    # determine finish time\n",
    "                                    optime = random.normalvariate(mop['time'], mop['std'])\n",
    "                                    optime = max(mop.get('min', 0), optime)\n",
    "                                    op['finish'] = clock + optime\n",
    "                                    robot['operation'] = op\n",
    "                                else:\n",
    "                                    del robot['operation']\n",
    "\n",
    "                            elif not success and random.random() < mop.get('retry_odds', 0):\n",
    "                                # reset finish time, but stay \"here\"\n",
    "                                optime = random.normalvariate(mop['time'], mop['std'])\n",
    "                                optime = max(mop.get('min', 0), optime)\n",
    "                                op['finish'] = clock + optime\n",
    "                            else:\n",
    "                                del robot['operation']\n",
    "\n",
    "                        else:\n",
    "                            print(\"Ugg\")\n",
    "                            del robot['operation']\n",
    "\n",
    "            clock += 0.1           \n",
    "            duration -= 0.1\n",
    "\n",
    "        # If Mode change\n",
    "        next_mode = mode['next_mode']\n",
    "        if next_mode != -1:\n",
    "            mode = game['modes'][next_mode]\n",
    "            mode_name = mode['mode']\n",
    "            duration = mode['mode_time']\n",
    "            #    for each robot\n",
    "            #       cancel operations if necessary\n",
    "        else:\n",
    "            mode = ''"
   ]
  },
  {
   "cell_type": "code",
   "execution_count": 6,
   "metadata": {},
   "outputs": [],
   "source": [
    "# reset simulation data\n",
    "journal = []\n",
    "counts = {}\n",
    "runs = 0    "
   ]
  },
  {
   "cell_type": "code",
   "execution_count": 7,
   "metadata": {},
   "outputs": [],
   "source": [
    "for _ in range(100): simulate()"
   ]
  },
  {
   "cell_type": "code",
   "execution_count": 8,
   "metadata": {},
   "outputs": [],
   "source": [
    "# Convert Journal to pandas for reporting\n",
    "df = pd.DataFrame(journal, columns=['run', 'clock','game_mode', 'robot', 'success', 'op', 'score'])\n",
    "df['total'] = df.score.cumsum()\n",
    "df['total'] = df.groupby('run')['score'].transform(pd.Series.cumsum)\n",
    "# Useful to convert run # to string to isolate in legend\n",
    "# df['run'] = df['run'].astype(str)"
   ]
  },
  {
   "cell_type": "code",
   "execution_count": 9,
   "metadata": {
    "scrolled": false
   },
   "outputs": [
    {
     "data": {
      "application/vnd.plotly.v1+json": {
       "config": {
        "plotlyServerURL": "https://plot.ly"
       },
       "data": [
        {
         "customdata": [
          [
           "drive_off_hab1",
           false
          ],
          [
           "drive_off_hab1",
           true
          ],
          [
           "drive_off_hab1",
           true
          ],
          [
           "drive_off_hab1",
           true
          ],
          [
           "drive_off_hab1",
           true
          ],
          [
           "drive_off_hab1",
           true
          ],
          [
           "drive_off_hab1",
           true
          ],
          [
           "drive_off_hab1",
           true
          ],
          [
           "drive_off_hab1",
           true
          ],
          [
           "drive_off_hab1",
           true
          ],
          [
           "drive_off_hab1",
           true
          ],
          [
           "drive_off_hab1",
           true
          ],
          [
           "drive_off_hab1",
           true
          ],
          [
           "drive_off_hab1",
           true
          ],
          [
           "drive_off_hab1",
           true
          ],
          [
           "drive_off_hab1",
           true
          ],
          [
           "drive_off_hab1",
           true
          ],
          [
           "drive_off_hab1",
           false
          ],
          [
           "drive_off_hab1",
           true
          ],
          [
           "drive_off_hab1",
           true
          ],
          [
           "drive_off_hab1",
           true
          ],
          [
           "drive_off_hab1",
           true
          ],
          [
           "drive_off_hab1",
           true
          ],
          [
           "drive_off_hab1",
           true
          ],
          [
           "drive_off_hab1",
           true
          ],
          [
           "drive_off_hab1",
           true
          ],
          [
           "drive_off_hab1",
           true
          ],
          [
           "drive_off_hab1",
           true
          ],
          [
           "drive_off_hab1",
           false
          ],
          [
           "drive_off_hab1",
           true
          ],
          [
           "drive_off_hab1",
           true
          ],
          [
           "drive_off_hab1",
           false
          ],
          [
           "drive_off_hab1",
           true
          ],
          [
           "drive_off_hab1",
           true
          ],
          [
           "drive_off_hab1",
           true
          ],
          [
           "drive_off_hab1",
           true
          ],
          [
           "drive_off_hab1",
           true
          ],
          [
           "drive_off_hab1",
           true
          ],
          [
           "drive_off_hab1",
           true
          ],
          [
           "drive_off_hab1",
           true
          ],
          [
           "drive_off_hab1",
           true
          ],
          [
           "drive_off_hab1",
           true
          ],
          [
           "drive_off_hab1",
           true
          ],
          [
           "drive_off_hab1",
           true
          ],
          [
           "drive_off_hab1",
           true
          ],
          [
           "drive_off_hab1",
           true
          ],
          [
           "drive_off_hab1",
           true
          ],
          [
           "drive_off_hab1",
           true
          ],
          [
           "drive_off_hab1",
           true
          ],
          [
           "drive_off_hab1",
           true
          ],
          [
           "drive_off_hab1",
           true
          ],
          [
           "drive_off_hab1",
           true
          ],
          [
           "drive_off_hab1",
           true
          ],
          [
           "drive_off_hab1",
           true
          ],
          [
           "drive_off_hab1",
           false
          ],
          [
           "drive_off_hab1",
           true
          ],
          [
           "drive_off_hab1",
           true
          ],
          [
           "drive_off_hab1",
           true
          ],
          [
           "drive_off_hab1",
           false
          ],
          [
           "drive_off_hab1",
           true
          ],
          [
           "drive_off_hab1",
           true
          ],
          [
           "drive_off_hab1",
           false
          ],
          [
           "drive_off_hab1",
           true
          ],
          [
           "drive_off_hab1",
           false
          ],
          [
           "drive_off_hab1",
           true
          ],
          [
           "drive_off_hab1",
           true
          ],
          [
           "drive_off_hab1",
           true
          ],
          [
           "drive_off_hab1",
           true
          ],
          [
           "drive_off_hab1",
           true
          ],
          [
           "drive_off_hab1",
           true
          ],
          [
           "drive_off_hab1",
           true
          ],
          [
           "drive_off_hab1",
           true
          ],
          [
           "drive_off_hab1",
           true
          ],
          [
           "drive_off_hab1",
           false
          ],
          [
           "drive_off_hab1",
           true
          ],
          [
           "drive_off_hab1",
           true
          ],
          [
           "drive_off_hab1",
           true
          ],
          [
           "drive_off_hab1",
           true
          ],
          [
           "drive_off_hab1",
           true
          ],
          [
           "drive_off_hab1",
           true
          ],
          [
           "drive_off_hab1",
           true
          ],
          [
           "drive_off_hab1",
           true
          ],
          [
           "drive_off_hab1",
           false
          ],
          [
           "drive_off_hab1",
           true
          ],
          [
           "drive_off_hab1",
           true
          ],
          [
           "drive_off_hab1",
           true
          ],
          [
           "drive_off_hab1",
           true
          ],
          [
           "drive_off_hab1",
           true
          ],
          [
           "drive_off_hab1",
           true
          ],
          [
           "drive_off_hab1",
           true
          ],
          [
           "drive_off_hab1",
           true
          ],
          [
           "drive_off_hab1",
           true
          ],
          [
           "drive_off_hab1",
           false
          ],
          [
           "drive_off_hab1",
           false
          ],
          [
           "drive_off_hab1",
           true
          ],
          [
           "drive_off_hab1",
           true
          ],
          [
           "drive_off_hab1",
           true
          ],
          [
           "drive_off_hab1",
           true
          ],
          [
           "drive_off_hab1",
           true
          ],
          [
           "drive_off_hab1",
           true
          ],
          [
           "drive_off_hab1",
           true
          ],
          [
           "drive_off_hab1",
           true
          ],
          [
           "drive_off_hab1",
           true
          ],
          [
           "drive_off_hab1",
           true
          ],
          [
           "drive_off_hab1",
           true
          ],
          [
           "drive_off_hab1",
           true
          ],
          [
           "drive_off_hab1",
           false
          ],
          [
           "drive_off_hab1",
           true
          ],
          [
           "drive_off_hab1",
           true
          ],
          [
           "drive_off_hab1",
           true
          ],
          [
           "drive_off_hab1",
           true
          ],
          [
           "drive_off_hab1",
           true
          ],
          [
           "drive_off_hab1",
           true
          ]
         ],
         "hoverlabel": {
          "namelength": 0
         },
         "hovertemplate": "clock=%{x}<br>total=%{y}<br>op=%{customdata[0]}<br>success=%{customdata[1]}<br>run=%{marker.color}",
         "legendgroup": "",
         "marker": {
          "color": [
           1,
           1,
           2,
           3,
           4,
           5,
           6,
           7,
           8,
           9,
           10,
           11,
           12,
           13,
           14,
           15,
           16,
           17,
           17,
           18,
           19,
           20,
           21,
           22,
           23,
           24,
           25,
           26,
           27,
           27,
           28,
           29,
           29,
           30,
           31,
           32,
           33,
           34,
           35,
           36,
           37,
           38,
           39,
           40,
           41,
           42,
           43,
           44,
           45,
           46,
           47,
           48,
           49,
           50,
           51,
           51,
           52,
           53,
           54,
           54,
           55,
           56,
           56,
           57,
           57,
           58,
           59,
           60,
           61,
           62,
           63,
           64,
           65,
           66,
           66,
           67,
           68,
           69,
           70,
           71,
           72,
           73,
           74,
           74,
           75,
           76,
           77,
           78,
           79,
           80,
           81,
           82,
           83,
           83,
           83,
           84,
           85,
           86,
           87,
           88,
           89,
           90,
           91,
           92,
           93,
           94,
           95,
           95,
           96,
           97,
           98,
           99,
           100
          ],
          "coloraxis": "coloraxis",
          "symbol": "circle"
         },
         "mode": "markers",
         "name": "",
         "showlegend": false,
         "type": "scatter",
         "x": [
          1.5000000000000002,
          3.0000000000000013,
          1.4000000000000001,
          0.5,
          1.0999999999999999,
          1.5000000000000002,
          0.6,
          1.3,
          1.4000000000000001,
          1.3,
          1.0999999999999999,
          2.2000000000000006,
          0.9999999999999999,
          1.2,
          0.9999999999999999,
          1.0999999999999999,
          0.30000000000000004,
          0.9999999999999999,
          1.7000000000000004,
          0.7,
          1.2,
          1.2,
          1.4000000000000001,
          0.7999999999999999,
          0.4,
          0.4,
          0.8999999999999999,
          1.3,
          1.0999999999999999,
          1.5000000000000002,
          1.8000000000000005,
          0.5,
          2.800000000000001,
          1.0999999999999999,
          0.8999999999999999,
          1.5000000000000002,
          0.4,
          0.9999999999999999,
          1.0999999999999999,
          1.3,
          2.3000000000000007,
          1.4000000000000001,
          1.9000000000000006,
          1.8000000000000005,
          0.1,
          1.0999999999999999,
          0.9999999999999999,
          0.6,
          0.9999999999999999,
          1.5000000000000002,
          0.4,
          1.2,
          1.8000000000000005,
          1.6000000000000003,
          0.1,
          0.6,
          2.500000000000001,
          0.1,
          1.9000000000000006,
          4.000000000000002,
          0.9999999999999999,
          0.4,
          2.3000000000000007,
          2.1000000000000005,
          2.9000000000000012,
          0.9999999999999999,
          0.7,
          1.5000000000000002,
          1.9000000000000006,
          2.2000000000000006,
          2.3000000000000007,
          0.9999999999999999,
          0.7,
          1.5000000000000002,
          2.700000000000001,
          1.4000000000000001,
          0.4,
          0.8999999999999999,
          0.4,
          1.0999999999999999,
          0.1,
          0.9999999999999999,
          2.600000000000001,
          3.700000000000002,
          0.5,
          0.8999999999999999,
          0.6,
          0.9999999999999999,
          0.4,
          1.9000000000000006,
          0.5,
          0.7999999999999999,
          0.7,
          1.7000000000000004,
          3.3000000000000016,
          1.0999999999999999,
          1.2,
          0.4,
          0.7999999999999999,
          1.3,
          1.5000000000000002,
          0.8999999999999999,
          1.6000000000000003,
          0.30000000000000004,
          1.2,
          2.0000000000000004,
          1.0999999999999999,
          2.1000000000000005,
          1.7000000000000004,
          0.5,
          1.0999999999999999,
          1.2,
          0.8999999999999999
         ],
         "xaxis": "x",
         "y": [
          0,
          3,
          3,
          3,
          3,
          3,
          3,
          3,
          3,
          3,
          3,
          3,
          3,
          3,
          3,
          3,
          3,
          0,
          3,
          3,
          3,
          3,
          3,
          3,
          3,
          3,
          3,
          3,
          0,
          3,
          3,
          0,
          3,
          3,
          3,
          3,
          3,
          3,
          3,
          3,
          3,
          3,
          3,
          3,
          3,
          3,
          3,
          3,
          3,
          3,
          3,
          3,
          3,
          3,
          0,
          3,
          3,
          3,
          0,
          3,
          3,
          0,
          3,
          0,
          3,
          3,
          3,
          3,
          3,
          3,
          3,
          3,
          3,
          0,
          3,
          3,
          3,
          3,
          3,
          3,
          3,
          3,
          0,
          3,
          3,
          3,
          3,
          3,
          3,
          3,
          3,
          3,
          0,
          0,
          3,
          3,
          3,
          3,
          3,
          3,
          3,
          3,
          3,
          3,
          3,
          3,
          0,
          3,
          3,
          3,
          3,
          3,
          3
         ],
         "yaxis": "y"
        }
       ],
       "layout": {
        "coloraxis": {
         "colorbar": {
          "title": {
           "text": "run"
          }
         },
         "colorscale": [
          [
           0,
           "#0d0887"
          ],
          [
           0.1111111111111111,
           "#46039f"
          ],
          [
           0.2222222222222222,
           "#7201a8"
          ],
          [
           0.3333333333333333,
           "#9c179e"
          ],
          [
           0.4444444444444444,
           "#bd3786"
          ],
          [
           0.5555555555555556,
           "#d8576b"
          ],
          [
           0.6666666666666666,
           "#ed7953"
          ],
          [
           0.7777777777777778,
           "#fb9f3a"
          ],
          [
           0.8888888888888888,
           "#fdca26"
          ],
          [
           1,
           "#f0f921"
          ]
         ]
        },
        "legend": {
         "tracegroupgap": 0
        },
        "margin": {
         "t": 60
        },
        "template": {
         "data": {
          "bar": [
           {
            "error_x": {
             "color": "#2a3f5f"
            },
            "error_y": {
             "color": "#2a3f5f"
            },
            "marker": {
             "line": {
              "color": "#E5ECF6",
              "width": 0.5
             }
            },
            "type": "bar"
           }
          ],
          "barpolar": [
           {
            "marker": {
             "line": {
              "color": "#E5ECF6",
              "width": 0.5
             }
            },
            "type": "barpolar"
           }
          ],
          "carpet": [
           {
            "aaxis": {
             "endlinecolor": "#2a3f5f",
             "gridcolor": "white",
             "linecolor": "white",
             "minorgridcolor": "white",
             "startlinecolor": "#2a3f5f"
            },
            "baxis": {
             "endlinecolor": "#2a3f5f",
             "gridcolor": "white",
             "linecolor": "white",
             "minorgridcolor": "white",
             "startlinecolor": "#2a3f5f"
            },
            "type": "carpet"
           }
          ],
          "choropleth": [
           {
            "colorbar": {
             "outlinewidth": 0,
             "ticks": ""
            },
            "type": "choropleth"
           }
          ],
          "contour": [
           {
            "colorbar": {
             "outlinewidth": 0,
             "ticks": ""
            },
            "colorscale": [
             [
              0,
              "#0d0887"
             ],
             [
              0.1111111111111111,
              "#46039f"
             ],
             [
              0.2222222222222222,
              "#7201a8"
             ],
             [
              0.3333333333333333,
              "#9c179e"
             ],
             [
              0.4444444444444444,
              "#bd3786"
             ],
             [
              0.5555555555555556,
              "#d8576b"
             ],
             [
              0.6666666666666666,
              "#ed7953"
             ],
             [
              0.7777777777777778,
              "#fb9f3a"
             ],
             [
              0.8888888888888888,
              "#fdca26"
             ],
             [
              1,
              "#f0f921"
             ]
            ],
            "type": "contour"
           }
          ],
          "contourcarpet": [
           {
            "colorbar": {
             "outlinewidth": 0,
             "ticks": ""
            },
            "type": "contourcarpet"
           }
          ],
          "heatmap": [
           {
            "colorbar": {
             "outlinewidth": 0,
             "ticks": ""
            },
            "colorscale": [
             [
              0,
              "#0d0887"
             ],
             [
              0.1111111111111111,
              "#46039f"
             ],
             [
              0.2222222222222222,
              "#7201a8"
             ],
             [
              0.3333333333333333,
              "#9c179e"
             ],
             [
              0.4444444444444444,
              "#bd3786"
             ],
             [
              0.5555555555555556,
              "#d8576b"
             ],
             [
              0.6666666666666666,
              "#ed7953"
             ],
             [
              0.7777777777777778,
              "#fb9f3a"
             ],
             [
              0.8888888888888888,
              "#fdca26"
             ],
             [
              1,
              "#f0f921"
             ]
            ],
            "type": "heatmap"
           }
          ],
          "heatmapgl": [
           {
            "colorbar": {
             "outlinewidth": 0,
             "ticks": ""
            },
            "colorscale": [
             [
              0,
              "#0d0887"
             ],
             [
              0.1111111111111111,
              "#46039f"
             ],
             [
              0.2222222222222222,
              "#7201a8"
             ],
             [
              0.3333333333333333,
              "#9c179e"
             ],
             [
              0.4444444444444444,
              "#bd3786"
             ],
             [
              0.5555555555555556,
              "#d8576b"
             ],
             [
              0.6666666666666666,
              "#ed7953"
             ],
             [
              0.7777777777777778,
              "#fb9f3a"
             ],
             [
              0.8888888888888888,
              "#fdca26"
             ],
             [
              1,
              "#f0f921"
             ]
            ],
            "type": "heatmapgl"
           }
          ],
          "histogram": [
           {
            "marker": {
             "colorbar": {
              "outlinewidth": 0,
              "ticks": ""
             }
            },
            "type": "histogram"
           }
          ],
          "histogram2d": [
           {
            "colorbar": {
             "outlinewidth": 0,
             "ticks": ""
            },
            "colorscale": [
             [
              0,
              "#0d0887"
             ],
             [
              0.1111111111111111,
              "#46039f"
             ],
             [
              0.2222222222222222,
              "#7201a8"
             ],
             [
              0.3333333333333333,
              "#9c179e"
             ],
             [
              0.4444444444444444,
              "#bd3786"
             ],
             [
              0.5555555555555556,
              "#d8576b"
             ],
             [
              0.6666666666666666,
              "#ed7953"
             ],
             [
              0.7777777777777778,
              "#fb9f3a"
             ],
             [
              0.8888888888888888,
              "#fdca26"
             ],
             [
              1,
              "#f0f921"
             ]
            ],
            "type": "histogram2d"
           }
          ],
          "histogram2dcontour": [
           {
            "colorbar": {
             "outlinewidth": 0,
             "ticks": ""
            },
            "colorscale": [
             [
              0,
              "#0d0887"
             ],
             [
              0.1111111111111111,
              "#46039f"
             ],
             [
              0.2222222222222222,
              "#7201a8"
             ],
             [
              0.3333333333333333,
              "#9c179e"
             ],
             [
              0.4444444444444444,
              "#bd3786"
             ],
             [
              0.5555555555555556,
              "#d8576b"
             ],
             [
              0.6666666666666666,
              "#ed7953"
             ],
             [
              0.7777777777777778,
              "#fb9f3a"
             ],
             [
              0.8888888888888888,
              "#fdca26"
             ],
             [
              1,
              "#f0f921"
             ]
            ],
            "type": "histogram2dcontour"
           }
          ],
          "mesh3d": [
           {
            "colorbar": {
             "outlinewidth": 0,
             "ticks": ""
            },
            "type": "mesh3d"
           }
          ],
          "parcoords": [
           {
            "line": {
             "colorbar": {
              "outlinewidth": 0,
              "ticks": ""
             }
            },
            "type": "parcoords"
           }
          ],
          "pie": [
           {
            "automargin": true,
            "type": "pie"
           }
          ],
          "scatter": [
           {
            "marker": {
             "colorbar": {
              "outlinewidth": 0,
              "ticks": ""
             }
            },
            "type": "scatter"
           }
          ],
          "scatter3d": [
           {
            "line": {
             "colorbar": {
              "outlinewidth": 0,
              "ticks": ""
             }
            },
            "marker": {
             "colorbar": {
              "outlinewidth": 0,
              "ticks": ""
             }
            },
            "type": "scatter3d"
           }
          ],
          "scattercarpet": [
           {
            "marker": {
             "colorbar": {
              "outlinewidth": 0,
              "ticks": ""
             }
            },
            "type": "scattercarpet"
           }
          ],
          "scattergeo": [
           {
            "marker": {
             "colorbar": {
              "outlinewidth": 0,
              "ticks": ""
             }
            },
            "type": "scattergeo"
           }
          ],
          "scattergl": [
           {
            "marker": {
             "colorbar": {
              "outlinewidth": 0,
              "ticks": ""
             }
            },
            "type": "scattergl"
           }
          ],
          "scattermapbox": [
           {
            "marker": {
             "colorbar": {
              "outlinewidth": 0,
              "ticks": ""
             }
            },
            "type": "scattermapbox"
           }
          ],
          "scatterpolar": [
           {
            "marker": {
             "colorbar": {
              "outlinewidth": 0,
              "ticks": ""
             }
            },
            "type": "scatterpolar"
           }
          ],
          "scatterpolargl": [
           {
            "marker": {
             "colorbar": {
              "outlinewidth": 0,
              "ticks": ""
             }
            },
            "type": "scatterpolargl"
           }
          ],
          "scatterternary": [
           {
            "marker": {
             "colorbar": {
              "outlinewidth": 0,
              "ticks": ""
             }
            },
            "type": "scatterternary"
           }
          ],
          "surface": [
           {
            "colorbar": {
             "outlinewidth": 0,
             "ticks": ""
            },
            "colorscale": [
             [
              0,
              "#0d0887"
             ],
             [
              0.1111111111111111,
              "#46039f"
             ],
             [
              0.2222222222222222,
              "#7201a8"
             ],
             [
              0.3333333333333333,
              "#9c179e"
             ],
             [
              0.4444444444444444,
              "#bd3786"
             ],
             [
              0.5555555555555556,
              "#d8576b"
             ],
             [
              0.6666666666666666,
              "#ed7953"
             ],
             [
              0.7777777777777778,
              "#fb9f3a"
             ],
             [
              0.8888888888888888,
              "#fdca26"
             ],
             [
              1,
              "#f0f921"
             ]
            ],
            "type": "surface"
           }
          ],
          "table": [
           {
            "cells": {
             "fill": {
              "color": "#EBF0F8"
             },
             "line": {
              "color": "white"
             }
            },
            "header": {
             "fill": {
              "color": "#C8D4E3"
             },
             "line": {
              "color": "white"
             }
            },
            "type": "table"
           }
          ]
         },
         "layout": {
          "annotationdefaults": {
           "arrowcolor": "#2a3f5f",
           "arrowhead": 0,
           "arrowwidth": 1
          },
          "coloraxis": {
           "colorbar": {
            "outlinewidth": 0,
            "ticks": ""
           }
          },
          "colorscale": {
           "diverging": [
            [
             0,
             "#8e0152"
            ],
            [
             0.1,
             "#c51b7d"
            ],
            [
             0.2,
             "#de77ae"
            ],
            [
             0.3,
             "#f1b6da"
            ],
            [
             0.4,
             "#fde0ef"
            ],
            [
             0.5,
             "#f7f7f7"
            ],
            [
             0.6,
             "#e6f5d0"
            ],
            [
             0.7,
             "#b8e186"
            ],
            [
             0.8,
             "#7fbc41"
            ],
            [
             0.9,
             "#4d9221"
            ],
            [
             1,
             "#276419"
            ]
           ],
           "sequential": [
            [
             0,
             "#0d0887"
            ],
            [
             0.1111111111111111,
             "#46039f"
            ],
            [
             0.2222222222222222,
             "#7201a8"
            ],
            [
             0.3333333333333333,
             "#9c179e"
            ],
            [
             0.4444444444444444,
             "#bd3786"
            ],
            [
             0.5555555555555556,
             "#d8576b"
            ],
            [
             0.6666666666666666,
             "#ed7953"
            ],
            [
             0.7777777777777778,
             "#fb9f3a"
            ],
            [
             0.8888888888888888,
             "#fdca26"
            ],
            [
             1,
             "#f0f921"
            ]
           ],
           "sequentialminus": [
            [
             0,
             "#0d0887"
            ],
            [
             0.1111111111111111,
             "#46039f"
            ],
            [
             0.2222222222222222,
             "#7201a8"
            ],
            [
             0.3333333333333333,
             "#9c179e"
            ],
            [
             0.4444444444444444,
             "#bd3786"
            ],
            [
             0.5555555555555556,
             "#d8576b"
            ],
            [
             0.6666666666666666,
             "#ed7953"
            ],
            [
             0.7777777777777778,
             "#fb9f3a"
            ],
            [
             0.8888888888888888,
             "#fdca26"
            ],
            [
             1,
             "#f0f921"
            ]
           ]
          },
          "colorway": [
           "#636efa",
           "#EF553B",
           "#00cc96",
           "#ab63fa",
           "#FFA15A",
           "#19d3f3",
           "#FF6692",
           "#B6E880",
           "#FF97FF",
           "#FECB52"
          ],
          "font": {
           "color": "#2a3f5f"
          },
          "geo": {
           "bgcolor": "white",
           "lakecolor": "white",
           "landcolor": "#E5ECF6",
           "showlakes": true,
           "showland": true,
           "subunitcolor": "white"
          },
          "hoverlabel": {
           "align": "left"
          },
          "hovermode": "closest",
          "mapbox": {
           "style": "light"
          },
          "paper_bgcolor": "white",
          "plot_bgcolor": "#E5ECF6",
          "polar": {
           "angularaxis": {
            "gridcolor": "white",
            "linecolor": "white",
            "ticks": ""
           },
           "bgcolor": "#E5ECF6",
           "radialaxis": {
            "gridcolor": "white",
            "linecolor": "white",
            "ticks": ""
           }
          },
          "scene": {
           "xaxis": {
            "backgroundcolor": "#E5ECF6",
            "gridcolor": "white",
            "gridwidth": 2,
            "linecolor": "white",
            "showbackground": true,
            "ticks": "",
            "zerolinecolor": "white"
           },
           "yaxis": {
            "backgroundcolor": "#E5ECF6",
            "gridcolor": "white",
            "gridwidth": 2,
            "linecolor": "white",
            "showbackground": true,
            "ticks": "",
            "zerolinecolor": "white"
           },
           "zaxis": {
            "backgroundcolor": "#E5ECF6",
            "gridcolor": "white",
            "gridwidth": 2,
            "linecolor": "white",
            "showbackground": true,
            "ticks": "",
            "zerolinecolor": "white"
           }
          },
          "shapedefaults": {
           "line": {
            "color": "#2a3f5f"
           }
          },
          "ternary": {
           "aaxis": {
            "gridcolor": "white",
            "linecolor": "white",
            "ticks": ""
           },
           "baxis": {
            "gridcolor": "white",
            "linecolor": "white",
            "ticks": ""
           },
           "bgcolor": "#E5ECF6",
           "caxis": {
            "gridcolor": "white",
            "linecolor": "white",
            "ticks": ""
           }
          },
          "title": {
           "x": 0.05
          },
          "xaxis": {
           "automargin": true,
           "gridcolor": "white",
           "linecolor": "white",
           "ticks": "",
           "title": {
            "standoff": 15
           },
           "zerolinecolor": "white",
           "zerolinewidth": 2
          },
          "yaxis": {
           "automargin": true,
           "gridcolor": "white",
           "linecolor": "white",
           "ticks": "",
           "title": {
            "standoff": 15
           },
           "zerolinecolor": "white",
           "zerolinewidth": 2
          }
         }
        },
        "xaxis": {
         "anchor": "y",
         "domain": [
          0,
          1
         ],
         "title": {
          "text": "clock"
         }
        },
        "yaxis": {
         "anchor": "x",
         "domain": [
          0,
          1
         ],
         "title": {
          "text": "total"
         }
        }
       }
      },
      "text/html": [
       "<div>\n",
       "        \n",
       "        \n",
       "            <div id=\"297f24e4-0520-4faa-8c06-c4d3c502f0be\" class=\"plotly-graph-div\" style=\"height:525px; width:100%;\"></div>\n",
       "            <script type=\"text/javascript\">\n",
       "                require([\"plotly\"], function(Plotly) {\n",
       "                    window.PLOTLYENV=window.PLOTLYENV || {};\n",
       "                    \n",
       "                if (document.getElementById(\"297f24e4-0520-4faa-8c06-c4d3c502f0be\")) {\n",
       "                    Plotly.newPlot(\n",
       "                        '297f24e4-0520-4faa-8c06-c4d3c502f0be',\n",
       "                        [{\"customdata\": [[\"drive_off_hab1\", false], [\"drive_off_hab1\", true], [\"drive_off_hab1\", true], [\"drive_off_hab1\", true], [\"drive_off_hab1\", true], [\"drive_off_hab1\", true], [\"drive_off_hab1\", true], [\"drive_off_hab1\", true], [\"drive_off_hab1\", true], [\"drive_off_hab1\", true], [\"drive_off_hab1\", true], [\"drive_off_hab1\", true], [\"drive_off_hab1\", true], [\"drive_off_hab1\", true], [\"drive_off_hab1\", true], [\"drive_off_hab1\", true], [\"drive_off_hab1\", true], [\"drive_off_hab1\", false], [\"drive_off_hab1\", true], [\"drive_off_hab1\", true], [\"drive_off_hab1\", true], [\"drive_off_hab1\", true], [\"drive_off_hab1\", true], [\"drive_off_hab1\", true], [\"drive_off_hab1\", true], [\"drive_off_hab1\", true], [\"drive_off_hab1\", true], [\"drive_off_hab1\", true], [\"drive_off_hab1\", false], [\"drive_off_hab1\", true], [\"drive_off_hab1\", true], [\"drive_off_hab1\", false], [\"drive_off_hab1\", true], [\"drive_off_hab1\", true], [\"drive_off_hab1\", true], [\"drive_off_hab1\", true], [\"drive_off_hab1\", true], [\"drive_off_hab1\", true], [\"drive_off_hab1\", true], [\"drive_off_hab1\", true], [\"drive_off_hab1\", true], [\"drive_off_hab1\", true], [\"drive_off_hab1\", true], [\"drive_off_hab1\", true], [\"drive_off_hab1\", true], [\"drive_off_hab1\", true], [\"drive_off_hab1\", true], [\"drive_off_hab1\", true], [\"drive_off_hab1\", true], [\"drive_off_hab1\", true], [\"drive_off_hab1\", true], [\"drive_off_hab1\", true], [\"drive_off_hab1\", true], [\"drive_off_hab1\", true], [\"drive_off_hab1\", false], [\"drive_off_hab1\", true], [\"drive_off_hab1\", true], [\"drive_off_hab1\", true], [\"drive_off_hab1\", false], [\"drive_off_hab1\", true], [\"drive_off_hab1\", true], [\"drive_off_hab1\", false], [\"drive_off_hab1\", true], [\"drive_off_hab1\", false], [\"drive_off_hab1\", true], [\"drive_off_hab1\", true], [\"drive_off_hab1\", true], [\"drive_off_hab1\", true], [\"drive_off_hab1\", true], [\"drive_off_hab1\", true], [\"drive_off_hab1\", true], [\"drive_off_hab1\", true], [\"drive_off_hab1\", true], [\"drive_off_hab1\", false], [\"drive_off_hab1\", true], [\"drive_off_hab1\", true], [\"drive_off_hab1\", true], [\"drive_off_hab1\", true], [\"drive_off_hab1\", true], [\"drive_off_hab1\", true], [\"drive_off_hab1\", true], [\"drive_off_hab1\", true], [\"drive_off_hab1\", false], [\"drive_off_hab1\", true], [\"drive_off_hab1\", true], [\"drive_off_hab1\", true], [\"drive_off_hab1\", true], [\"drive_off_hab1\", true], [\"drive_off_hab1\", true], [\"drive_off_hab1\", true], [\"drive_off_hab1\", true], [\"drive_off_hab1\", true], [\"drive_off_hab1\", false], [\"drive_off_hab1\", false], [\"drive_off_hab1\", true], [\"drive_off_hab1\", true], [\"drive_off_hab1\", true], [\"drive_off_hab1\", true], [\"drive_off_hab1\", true], [\"drive_off_hab1\", true], [\"drive_off_hab1\", true], [\"drive_off_hab1\", true], [\"drive_off_hab1\", true], [\"drive_off_hab1\", true], [\"drive_off_hab1\", true], [\"drive_off_hab1\", true], [\"drive_off_hab1\", false], [\"drive_off_hab1\", true], [\"drive_off_hab1\", true], [\"drive_off_hab1\", true], [\"drive_off_hab1\", true], [\"drive_off_hab1\", true], [\"drive_off_hab1\", true]], \"hoverlabel\": {\"namelength\": 0}, \"hovertemplate\": \"clock=%{x}<br>total=%{y}<br>op=%{customdata[0]}<br>success=%{customdata[1]}<br>run=%{marker.color}\", \"legendgroup\": \"\", \"marker\": {\"color\": [1, 1, 2, 3, 4, 5, 6, 7, 8, 9, 10, 11, 12, 13, 14, 15, 16, 17, 17, 18, 19, 20, 21, 22, 23, 24, 25, 26, 27, 27, 28, 29, 29, 30, 31, 32, 33, 34, 35, 36, 37, 38, 39, 40, 41, 42, 43, 44, 45, 46, 47, 48, 49, 50, 51, 51, 52, 53, 54, 54, 55, 56, 56, 57, 57, 58, 59, 60, 61, 62, 63, 64, 65, 66, 66, 67, 68, 69, 70, 71, 72, 73, 74, 74, 75, 76, 77, 78, 79, 80, 81, 82, 83, 83, 83, 84, 85, 86, 87, 88, 89, 90, 91, 92, 93, 94, 95, 95, 96, 97, 98, 99, 100], \"coloraxis\": \"coloraxis\", \"symbol\": \"circle\"}, \"mode\": \"markers\", \"name\": \"\", \"showlegend\": false, \"type\": \"scatter\", \"x\": [1.5000000000000002, 3.0000000000000013, 1.4000000000000001, 0.5, 1.0999999999999999, 1.5000000000000002, 0.6, 1.3, 1.4000000000000001, 1.3, 1.0999999999999999, 2.2000000000000006, 0.9999999999999999, 1.2, 0.9999999999999999, 1.0999999999999999, 0.30000000000000004, 0.9999999999999999, 1.7000000000000004, 0.7, 1.2, 1.2, 1.4000000000000001, 0.7999999999999999, 0.4, 0.4, 0.8999999999999999, 1.3, 1.0999999999999999, 1.5000000000000002, 1.8000000000000005, 0.5, 2.800000000000001, 1.0999999999999999, 0.8999999999999999, 1.5000000000000002, 0.4, 0.9999999999999999, 1.0999999999999999, 1.3, 2.3000000000000007, 1.4000000000000001, 1.9000000000000006, 1.8000000000000005, 0.1, 1.0999999999999999, 0.9999999999999999, 0.6, 0.9999999999999999, 1.5000000000000002, 0.4, 1.2, 1.8000000000000005, 1.6000000000000003, 0.1, 0.6, 2.500000000000001, 0.1, 1.9000000000000006, 4.000000000000002, 0.9999999999999999, 0.4, 2.3000000000000007, 2.1000000000000005, 2.9000000000000012, 0.9999999999999999, 0.7, 1.5000000000000002, 1.9000000000000006, 2.2000000000000006, 2.3000000000000007, 0.9999999999999999, 0.7, 1.5000000000000002, 2.700000000000001, 1.4000000000000001, 0.4, 0.8999999999999999, 0.4, 1.0999999999999999, 0.1, 0.9999999999999999, 2.600000000000001, 3.700000000000002, 0.5, 0.8999999999999999, 0.6, 0.9999999999999999, 0.4, 1.9000000000000006, 0.5, 0.7999999999999999, 0.7, 1.7000000000000004, 3.3000000000000016, 1.0999999999999999, 1.2, 0.4, 0.7999999999999999, 1.3, 1.5000000000000002, 0.8999999999999999, 1.6000000000000003, 0.30000000000000004, 1.2, 2.0000000000000004, 1.0999999999999999, 2.1000000000000005, 1.7000000000000004, 0.5, 1.0999999999999999, 1.2, 0.8999999999999999], \"xaxis\": \"x\", \"y\": [0, 3, 3, 3, 3, 3, 3, 3, 3, 3, 3, 3, 3, 3, 3, 3, 3, 0, 3, 3, 3, 3, 3, 3, 3, 3, 3, 3, 0, 3, 3, 0, 3, 3, 3, 3, 3, 3, 3, 3, 3, 3, 3, 3, 3, 3, 3, 3, 3, 3, 3, 3, 3, 3, 0, 3, 3, 3, 0, 3, 3, 0, 3, 0, 3, 3, 3, 3, 3, 3, 3, 3, 3, 0, 3, 3, 3, 3, 3, 3, 3, 3, 0, 3, 3, 3, 3, 3, 3, 3, 3, 3, 0, 0, 3, 3, 3, 3, 3, 3, 3, 3, 3, 3, 3, 3, 0, 3, 3, 3, 3, 3, 3], \"yaxis\": \"y\"}],\n",
       "                        {\"coloraxis\": {\"colorbar\": {\"title\": {\"text\": \"run\"}}, \"colorscale\": [[0.0, \"#0d0887\"], [0.1111111111111111, \"#46039f\"], [0.2222222222222222, \"#7201a8\"], [0.3333333333333333, \"#9c179e\"], [0.4444444444444444, \"#bd3786\"], [0.5555555555555556, \"#d8576b\"], [0.6666666666666666, \"#ed7953\"], [0.7777777777777778, \"#fb9f3a\"], [0.8888888888888888, \"#fdca26\"], [1.0, \"#f0f921\"]]}, \"legend\": {\"tracegroupgap\": 0}, \"margin\": {\"t\": 60}, \"template\": {\"data\": {\"bar\": [{\"error_x\": {\"color\": \"#2a3f5f\"}, \"error_y\": {\"color\": \"#2a3f5f\"}, \"marker\": {\"line\": {\"color\": \"#E5ECF6\", \"width\": 0.5}}, \"type\": \"bar\"}], \"barpolar\": [{\"marker\": {\"line\": {\"color\": \"#E5ECF6\", \"width\": 0.5}}, \"type\": \"barpolar\"}], \"carpet\": [{\"aaxis\": {\"endlinecolor\": \"#2a3f5f\", \"gridcolor\": \"white\", \"linecolor\": \"white\", \"minorgridcolor\": \"white\", \"startlinecolor\": \"#2a3f5f\"}, \"baxis\": {\"endlinecolor\": \"#2a3f5f\", \"gridcolor\": \"white\", \"linecolor\": \"white\", \"minorgridcolor\": \"white\", \"startlinecolor\": \"#2a3f5f\"}, \"type\": \"carpet\"}], \"choropleth\": [{\"colorbar\": {\"outlinewidth\": 0, \"ticks\": \"\"}, \"type\": \"choropleth\"}], \"contour\": [{\"colorbar\": {\"outlinewidth\": 0, \"ticks\": \"\"}, \"colorscale\": [[0.0, \"#0d0887\"], [0.1111111111111111, \"#46039f\"], [0.2222222222222222, \"#7201a8\"], [0.3333333333333333, \"#9c179e\"], [0.4444444444444444, \"#bd3786\"], [0.5555555555555556, \"#d8576b\"], [0.6666666666666666, \"#ed7953\"], [0.7777777777777778, \"#fb9f3a\"], [0.8888888888888888, \"#fdca26\"], [1.0, \"#f0f921\"]], \"type\": \"contour\"}], \"contourcarpet\": [{\"colorbar\": {\"outlinewidth\": 0, \"ticks\": \"\"}, \"type\": \"contourcarpet\"}], \"heatmap\": [{\"colorbar\": {\"outlinewidth\": 0, \"ticks\": \"\"}, \"colorscale\": [[0.0, \"#0d0887\"], [0.1111111111111111, \"#46039f\"], [0.2222222222222222, \"#7201a8\"], [0.3333333333333333, \"#9c179e\"], [0.4444444444444444, \"#bd3786\"], [0.5555555555555556, \"#d8576b\"], [0.6666666666666666, \"#ed7953\"], [0.7777777777777778, \"#fb9f3a\"], [0.8888888888888888, \"#fdca26\"], [1.0, \"#f0f921\"]], \"type\": \"heatmap\"}], \"heatmapgl\": [{\"colorbar\": {\"outlinewidth\": 0, \"ticks\": \"\"}, \"colorscale\": [[0.0, \"#0d0887\"], [0.1111111111111111, \"#46039f\"], [0.2222222222222222, \"#7201a8\"], [0.3333333333333333, \"#9c179e\"], [0.4444444444444444, \"#bd3786\"], [0.5555555555555556, \"#d8576b\"], [0.6666666666666666, \"#ed7953\"], [0.7777777777777778, \"#fb9f3a\"], [0.8888888888888888, \"#fdca26\"], [1.0, \"#f0f921\"]], \"type\": \"heatmapgl\"}], \"histogram\": [{\"marker\": {\"colorbar\": {\"outlinewidth\": 0, \"ticks\": \"\"}}, \"type\": \"histogram\"}], \"histogram2d\": [{\"colorbar\": {\"outlinewidth\": 0, \"ticks\": \"\"}, \"colorscale\": [[0.0, \"#0d0887\"], [0.1111111111111111, \"#46039f\"], [0.2222222222222222, \"#7201a8\"], [0.3333333333333333, \"#9c179e\"], [0.4444444444444444, \"#bd3786\"], [0.5555555555555556, \"#d8576b\"], [0.6666666666666666, \"#ed7953\"], [0.7777777777777778, \"#fb9f3a\"], [0.8888888888888888, \"#fdca26\"], [1.0, \"#f0f921\"]], \"type\": \"histogram2d\"}], \"histogram2dcontour\": [{\"colorbar\": {\"outlinewidth\": 0, \"ticks\": \"\"}, \"colorscale\": [[0.0, \"#0d0887\"], [0.1111111111111111, \"#46039f\"], [0.2222222222222222, \"#7201a8\"], [0.3333333333333333, \"#9c179e\"], [0.4444444444444444, \"#bd3786\"], [0.5555555555555556, \"#d8576b\"], [0.6666666666666666, \"#ed7953\"], [0.7777777777777778, \"#fb9f3a\"], [0.8888888888888888, \"#fdca26\"], [1.0, \"#f0f921\"]], \"type\": \"histogram2dcontour\"}], \"mesh3d\": [{\"colorbar\": {\"outlinewidth\": 0, \"ticks\": \"\"}, \"type\": \"mesh3d\"}], \"parcoords\": [{\"line\": {\"colorbar\": {\"outlinewidth\": 0, \"ticks\": \"\"}}, \"type\": \"parcoords\"}], \"pie\": [{\"automargin\": true, \"type\": \"pie\"}], \"scatter\": [{\"marker\": {\"colorbar\": {\"outlinewidth\": 0, \"ticks\": \"\"}}, \"type\": \"scatter\"}], \"scatter3d\": [{\"line\": {\"colorbar\": {\"outlinewidth\": 0, \"ticks\": \"\"}}, \"marker\": {\"colorbar\": {\"outlinewidth\": 0, \"ticks\": \"\"}}, \"type\": \"scatter3d\"}], \"scattercarpet\": [{\"marker\": {\"colorbar\": {\"outlinewidth\": 0, \"ticks\": \"\"}}, \"type\": \"scattercarpet\"}], \"scattergeo\": [{\"marker\": {\"colorbar\": {\"outlinewidth\": 0, \"ticks\": \"\"}}, \"type\": \"scattergeo\"}], \"scattergl\": [{\"marker\": {\"colorbar\": {\"outlinewidth\": 0, \"ticks\": \"\"}}, \"type\": \"scattergl\"}], \"scattermapbox\": [{\"marker\": {\"colorbar\": {\"outlinewidth\": 0, \"ticks\": \"\"}}, \"type\": \"scattermapbox\"}], \"scatterpolar\": [{\"marker\": {\"colorbar\": {\"outlinewidth\": 0, \"ticks\": \"\"}}, \"type\": \"scatterpolar\"}], \"scatterpolargl\": [{\"marker\": {\"colorbar\": {\"outlinewidth\": 0, \"ticks\": \"\"}}, \"type\": \"scatterpolargl\"}], \"scatterternary\": [{\"marker\": {\"colorbar\": {\"outlinewidth\": 0, \"ticks\": \"\"}}, \"type\": \"scatterternary\"}], \"surface\": [{\"colorbar\": {\"outlinewidth\": 0, \"ticks\": \"\"}, \"colorscale\": [[0.0, \"#0d0887\"], [0.1111111111111111, \"#46039f\"], [0.2222222222222222, \"#7201a8\"], [0.3333333333333333, \"#9c179e\"], [0.4444444444444444, \"#bd3786\"], [0.5555555555555556, \"#d8576b\"], [0.6666666666666666, \"#ed7953\"], [0.7777777777777778, \"#fb9f3a\"], [0.8888888888888888, \"#fdca26\"], [1.0, \"#f0f921\"]], \"type\": \"surface\"}], \"table\": [{\"cells\": {\"fill\": {\"color\": \"#EBF0F8\"}, \"line\": {\"color\": \"white\"}}, \"header\": {\"fill\": {\"color\": \"#C8D4E3\"}, \"line\": {\"color\": \"white\"}}, \"type\": \"table\"}]}, \"layout\": {\"annotationdefaults\": {\"arrowcolor\": \"#2a3f5f\", \"arrowhead\": 0, \"arrowwidth\": 1}, \"coloraxis\": {\"colorbar\": {\"outlinewidth\": 0, \"ticks\": \"\"}}, \"colorscale\": {\"diverging\": [[0, \"#8e0152\"], [0.1, \"#c51b7d\"], [0.2, \"#de77ae\"], [0.3, \"#f1b6da\"], [0.4, \"#fde0ef\"], [0.5, \"#f7f7f7\"], [0.6, \"#e6f5d0\"], [0.7, \"#b8e186\"], [0.8, \"#7fbc41\"], [0.9, \"#4d9221\"], [1, \"#276419\"]], \"sequential\": [[0.0, \"#0d0887\"], [0.1111111111111111, \"#46039f\"], [0.2222222222222222, \"#7201a8\"], [0.3333333333333333, \"#9c179e\"], [0.4444444444444444, \"#bd3786\"], [0.5555555555555556, \"#d8576b\"], [0.6666666666666666, \"#ed7953\"], [0.7777777777777778, \"#fb9f3a\"], [0.8888888888888888, \"#fdca26\"], [1.0, \"#f0f921\"]], \"sequentialminus\": [[0.0, \"#0d0887\"], [0.1111111111111111, \"#46039f\"], [0.2222222222222222, \"#7201a8\"], [0.3333333333333333, \"#9c179e\"], [0.4444444444444444, \"#bd3786\"], [0.5555555555555556, \"#d8576b\"], [0.6666666666666666, \"#ed7953\"], [0.7777777777777778, \"#fb9f3a\"], [0.8888888888888888, \"#fdca26\"], [1.0, \"#f0f921\"]]}, \"colorway\": [\"#636efa\", \"#EF553B\", \"#00cc96\", \"#ab63fa\", \"#FFA15A\", \"#19d3f3\", \"#FF6692\", \"#B6E880\", \"#FF97FF\", \"#FECB52\"], \"font\": {\"color\": \"#2a3f5f\"}, \"geo\": {\"bgcolor\": \"white\", \"lakecolor\": \"white\", \"landcolor\": \"#E5ECF6\", \"showlakes\": true, \"showland\": true, \"subunitcolor\": \"white\"}, \"hoverlabel\": {\"align\": \"left\"}, \"hovermode\": \"closest\", \"mapbox\": {\"style\": \"light\"}, \"paper_bgcolor\": \"white\", \"plot_bgcolor\": \"#E5ECF6\", \"polar\": {\"angularaxis\": {\"gridcolor\": \"white\", \"linecolor\": \"white\", \"ticks\": \"\"}, \"bgcolor\": \"#E5ECF6\", \"radialaxis\": {\"gridcolor\": \"white\", \"linecolor\": \"white\", \"ticks\": \"\"}}, \"scene\": {\"xaxis\": {\"backgroundcolor\": \"#E5ECF6\", \"gridcolor\": \"white\", \"gridwidth\": 2, \"linecolor\": \"white\", \"showbackground\": true, \"ticks\": \"\", \"zerolinecolor\": \"white\"}, \"yaxis\": {\"backgroundcolor\": \"#E5ECF6\", \"gridcolor\": \"white\", \"gridwidth\": 2, \"linecolor\": \"white\", \"showbackground\": true, \"ticks\": \"\", \"zerolinecolor\": \"white\"}, \"zaxis\": {\"backgroundcolor\": \"#E5ECF6\", \"gridcolor\": \"white\", \"gridwidth\": 2, \"linecolor\": \"white\", \"showbackground\": true, \"ticks\": \"\", \"zerolinecolor\": \"white\"}}, \"shapedefaults\": {\"line\": {\"color\": \"#2a3f5f\"}}, \"ternary\": {\"aaxis\": {\"gridcolor\": \"white\", \"linecolor\": \"white\", \"ticks\": \"\"}, \"baxis\": {\"gridcolor\": \"white\", \"linecolor\": \"white\", \"ticks\": \"\"}, \"bgcolor\": \"#E5ECF6\", \"caxis\": {\"gridcolor\": \"white\", \"linecolor\": \"white\", \"ticks\": \"\"}}, \"title\": {\"x\": 0.05}, \"xaxis\": {\"automargin\": true, \"gridcolor\": \"white\", \"linecolor\": \"white\", \"ticks\": \"\", \"title\": {\"standoff\": 15}, \"zerolinecolor\": \"white\", \"zerolinewidth\": 2}, \"yaxis\": {\"automargin\": true, \"gridcolor\": \"white\", \"linecolor\": \"white\", \"ticks\": \"\", \"title\": {\"standoff\": 15}, \"zerolinecolor\": \"white\", \"zerolinewidth\": 2}}}, \"xaxis\": {\"anchor\": \"y\", \"domain\": [0.0, 1.0], \"title\": {\"text\": \"clock\"}}, \"yaxis\": {\"anchor\": \"x\", \"domain\": [0.0, 1.0], \"title\": {\"text\": \"total\"}}},\n",
       "                        {\"responsive\": true}\n",
       "                    ).then(function(){\n",
       "                            \n",
       "var gd = document.getElementById('297f24e4-0520-4faa-8c06-c4d3c502f0be');\n",
       "var x = new MutationObserver(function (mutations, observer) {{\n",
       "        var display = window.getComputedStyle(gd).display;\n",
       "        if (!display || display === 'none') {{\n",
       "            console.log([gd, 'removed!']);\n",
       "            Plotly.purge(gd);\n",
       "            observer.disconnect();\n",
       "        }}\n",
       "}});\n",
       "\n",
       "// Listen for the removal of the full notebook cells\n",
       "var notebookContainer = gd.closest('#notebook-container');\n",
       "if (notebookContainer) {{\n",
       "    x.observe(notebookContainer, {childList: true});\n",
       "}}\n",
       "\n",
       "// Listen for the clearing of the current output cell\n",
       "var outputEl = gd.closest('.output');\n",
       "if (outputEl) {{\n",
       "    x.observe(outputEl, {childList: true});\n",
       "}}\n",
       "\n",
       "                        })\n",
       "                };\n",
       "                });\n",
       "            </script>\n",
       "        </div>"
      ]
     },
     "metadata": {},
     "output_type": "display_data"
    }
   ],
   "source": [
    "fig = px.scatter(df, x='clock', y='total', color='run', hover_data=['op','success'])\n",
    "fig.show()\n",
    "\n",
    "#fig.write_image(\"test.png\")\n",
    "#Image('test.png')"
   ]
  },
  {
   "cell_type": "code",
   "execution_count": 10,
   "metadata": {},
   "outputs": [
    {
     "data": {
      "text/plain": [
       "0.7646323471202529"
      ]
     },
     "execution_count": 10,
     "metadata": {},
     "output_type": "execute_result"
    }
   ],
   "source": [
    "df[df[\"score\"] > 0][\"clock\"].std()"
   ]
  },
  {
   "cell_type": "code",
   "execution_count": null,
   "metadata": {},
   "outputs": [],
   "source": []
  }
 ],
 "metadata": {
  "kernelspec": {
   "display_name": "Python 3",
   "language": "python",
   "name": "python3"
  },
  "language_info": {
   "codemirror_mode": {
    "name": "ipython",
    "version": 3
   },
   "file_extension": ".py",
   "mimetype": "text/x-python",
   "name": "python",
   "nbconvert_exporter": "python",
   "pygments_lexer": "ipython3",
   "version": "3.7.6"
  }
 },
 "nbformat": 4,
 "nbformat_minor": 2
}
