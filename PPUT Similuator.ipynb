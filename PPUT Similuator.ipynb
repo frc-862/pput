{
 "cells": [
  {
   "cell_type": "code",
   "execution_count": 1,
   "metadata": {},
   "outputs": [
    {
     "data": {
      "text/html": [
       "        <script type=\"text/javascript\">\n",
       "        window.PlotlyConfig = {MathJaxConfig: 'local'};\n",
       "        if (window.MathJax) {MathJax.Hub.Config({SVG: {font: \"STIX-Web\"}});}\n",
       "        if (typeof require !== 'undefined') {\n",
       "        require.undef(\"plotly\");\n",
       "        requirejs.config({\n",
       "            paths: {\n",
       "                'plotly': ['https://cdn.plot.ly/plotly-latest.min']\n",
       "            }\n",
       "        });\n",
       "        require(['plotly'], function(Plotly) {\n",
       "            window._Plotly = Plotly;\n",
       "        });\n",
       "        }\n",
       "        </script>\n",
       "        "
      ]
     },
     "metadata": {},
     "output_type": "display_data"
    }
   ],
   "source": [
    "import json\n",
    "import random\n",
    "import plotly.offline as py\n",
    "py.init_notebook_mode(connected=True)\n",
    "import plotly.graph_objects as go\n",
    "import plotly.express as px\n",
    "import pandas as pd\n",
    "import copy\n",
    "#from IPython.display import Image"
   ]
  },
  {
   "cell_type": "code",
   "execution_count": 2,
   "metadata": {
    "code_folding": []
   },
   "outputs": [],
   "source": [
    "game_file = 'deep_space_pput.json'"
   ]
  },
  {
   "cell_type": "code",
   "execution_count": 3,
   "metadata": {
    "code_folding": [
     0
    ]
   },
   "outputs": [],
   "source": [
    "# Load json files into simulation\n",
    "with open(game_file) as json_file:\n",
    "    game = json.load(json_file)\n",
    "\n",
    "robots = []\n",
    "\n",
    "for rbot in game['robots']:\n",
    "    with open(rbot) as json_file:\n",
    "        robots.append(json.load(json_file))\n",
    "\n",
    "for robot in robots:\n",
    "    with open(robot['operations']) as json_file:\n",
    "        ops = json.load(json_file)\n",
    "        opdict = {}\n",
    "        for op in ops:\n",
    "            opdict[op['name']] = op\n",
    "        robot['operations'] = opdict\n",
    "        \n",
    "robot_cache = robots"
   ]
  },
  {
   "cell_type": "code",
   "execution_count": 4,
   "metadata": {
    "code_folding": [
     0
    ]
   },
   "outputs": [],
   "source": [
    "# note log handles recording points and updating counts\n",
    "def log(clock, clock_mode, mode_name, robot, success, op):\n",
    "    points = 0\n",
    "    name = op['name']\n",
    "    if success:\n",
    "        mop = op['game_modes'][mode_name]\n",
    "        points = mop.get('points', 0)\n",
    "        counts[op['name']] = counts.get(name, 0) + 1\n",
    "        limit = op.get('limit', 0)\n",
    "        if limit != 0 and counts[name] >= limit:\n",
    "            del robot['operations'][name]\n",
    "    journal.append([runs, clock, clock_mode, robot['name'], success, name, points])\n",
    "            "
   ]
  },
  {
   "cell_type": "code",
   "execution_count": 5,
   "metadata": {
    "code_folding": [
     0
    ]
   },
   "outputs": [],
   "source": [
    "# Simulator\n",
    "def simulate():\n",
    "    # Reset sim data\n",
    "    robots = copy.deepcopy(robot_cache)\n",
    "    global runs \n",
    "    runs += 1\n",
    "\n",
    "    # Start Game Clock\n",
    "    clock = 0\n",
    "\n",
    "    # Determine Mode\n",
    "    mode = game['modes'][0]\n",
    "    duration = mode['mode_time']\n",
    "\n",
    "    # While game not over\n",
    "    mode_name = mode['mode']\n",
    "    while mode != '':\n",
    "        while duration > 0:\n",
    "            # For each robot\n",
    "            for robot in robots:\n",
    "                # if idle, assign operation\n",
    "                if 'operation' not in robot:\n",
    "                    # pick next op\n",
    "                    # collect all available ops\n",
    "                    mname = mode_name\n",
    "                    if mname not in robot['modes']:\n",
    "                        mname = 'teleop'\n",
    "                    ops = robot['modes'].get(mname, None)\n",
    "                    if ops != None:\n",
    "                        # find hightest priority\n",
    "                        max_priority = 0\n",
    "                        for op in ops: \n",
    "                            max_priority = max(max_priority, op.get('priority', 0))\n",
    "                        ops = list(filter(lambda op: op.get('priority', 0) >= max_priority, ops))\n",
    "                        op = random.choice(ops)['name']\n",
    "                        op = robot['operations'].get(op, None)\n",
    "                        if op != None:\n",
    "                            mname = mode_name\n",
    "                            if mname not in op['game_modes']:\n",
    "                                mname = 'teleop'\n",
    "                            mop = op['game_modes'][mname]\n",
    "\n",
    "                            # determine finish time\n",
    "                            optime = random.normalvariate(mop['time'], mop['std'])\n",
    "                            optime = max(mop.get('min', 0), optime)\n",
    "                            op['finish'] = clock + optime\n",
    "                            robot['operation'] = op\n",
    "\n",
    "                # if op complete\n",
    "                if 'operation' in robot:\n",
    "                    op = robot['operation']\n",
    "                    if op['finish'] < clock:\n",
    "                        mname = mode_name\n",
    "                        if mname not in op['game_modes'] and 'teleop' in op['game_modes']:\n",
    "                            mname = 'teleop'\n",
    "\n",
    "                        if mname in op['game_modes']:\n",
    "                            mop = op['game_modes'][mname]\n",
    "\n",
    "                            # check for failure\n",
    "                            success = random.random() >= mop.get('failure_odds', 0)\n",
    "                            log(clock, mode_name, mname, robot, success, op)\n",
    "\n",
    "                            if success:\n",
    "                                # pick next op\n",
    "                                ops = list(filter(lambda op: op in robot['operations'], mop.get(\"next_op\", [])))\n",
    "                                if len(ops) > 0:\n",
    "                                    op = robot['operations'][random.choice(ops)]\n",
    "                                    mname = mode_name\n",
    "                                    if mname not in op['game_modes']:\n",
    "                                        mname = 'teleop'\n",
    "                                    mop = op['game_modes'][mname]\n",
    "\n",
    "                                    # determine finish time\n",
    "                                    optime = random.normalvariate(mop['time'], mop['std'])\n",
    "                                    optime = max(mop.get('min', 0), optime)\n",
    "                                    op['finish'] = clock + optime\n",
    "                                    robot['operation'] = op\n",
    "                                else:\n",
    "                                    del robot['operation']\n",
    "\n",
    "                            elif not success and random.random() < mop.get('retry_odds', 0):\n",
    "                                # reset finish time, but stay \"here\"\n",
    "                                optime = random.normalvariate(mop['time'], mop['std'])\n",
    "                                optime = max(mop.get('min', 0), optime)\n",
    "                                op['finish'] = clock + optime\n",
    "                            else:\n",
    "                                del robot['operation']\n",
    "\n",
    "                        else:\n",
    "                            print(\"Ugg\")\n",
    "                            del robot['operation']\n",
    "\n",
    "            clock += 0.1           \n",
    "            duration -= 0.1\n",
    "\n",
    "        # If Mode change\n",
    "        next_mode = mode['next_mode']\n",
    "        if next_mode != -1:\n",
    "            mode = game['modes'][next_mode]\n",
    "            mode_name = mode['mode']\n",
    "            duration = mode['mode_time']\n",
    "            #    for each robot\n",
    "            #       cancel operations if necessary\n",
    "        else:\n",
    "            mode = ''"
   ]
  },
  {
   "cell_type": "code",
   "execution_count": 6,
   "metadata": {},
   "outputs": [],
   "source": [
    "# reset simulation data\n",
    "journal = []\n",
    "counts = {}\n",
    "runs = 0    "
   ]
  },
  {
   "cell_type": "code",
   "execution_count": 7,
   "metadata": {},
   "outputs": [],
   "source": [
    "for _ in range(100): simulate()"
   ]
  },
  {
   "cell_type": "code",
   "execution_count": 8,
   "metadata": {},
   "outputs": [],
   "source": [
    "# Convert Journal to pandas for reporting\n",
    "df = pd.DataFrame(journal, columns=['run', 'clock','game_mode', 'robot', 'success', 'op', 'score'])\n",
    "df['total'] = df.score.cumsum()\n",
    "df['total'] = df.groupby('run')['score'].transform(pd.Series.cumsum)\n",
    "# Useful to convert run # to string to isolate in legend\n",
    "# df['run'] = df['run'].astype(str)"
   ]
  },
  {
   "cell_type": "code",
   "execution_count": 11,
   "metadata": {
    "scrolled": false
   },
   "outputs": [
    {
     "data": {
      "image/png": "[encoded data removed]",
      "text/plain": [
       "<IPython.core.display.Image object>"
      ]
     },
     "execution_count": 11,
     "metadata": {},
     "output_type": "execute_result"
    }
   ],
   "source": [
    "fig = px.scatter(df, x='clock', y='total', color='run', hover_data=['op','success'])\n",
    "fig.show()\n",
    "\n",
    "#fig.write_image(\"test.png\")\n",
    "#Image('test.png')"
   ]
  },
  {
   "cell_type": "code",
   "execution_count": 17,
   "metadata": {},
   "outputs": [
    {
     "data": {
      "text/html": [
       "<div>\n",
       "<style scoped>\n",
       "    .dataframe tbody tr th:only-of-type {\n",
       "        vertical-align: middle;\n",
       "    }\n",
       "\n",
       "    .dataframe tbody tr th {\n",
       "        vertical-align: top;\n",
       "    }\n",
       "\n",
       "    .dataframe thead th {\n",
       "        text-align: right;\n",
       "    }\n",
       "</style>\n",
       "<table border=\"1\" class=\"dataframe\">\n",
       "  <thead>\n",
       "    <tr style=\"text-align: right;\">\n",
       "      <th></th>\n",
       "      <th>run</th>\n",
       "      <th>clock</th>\n",
       "      <th>score</th>\n",
       "      <th>total</th>\n",
       "    </tr>\n",
       "  </thead>\n",
       "  <tbody>\n",
       "    <tr>\n",
       "      <th>count</th>\n",
       "      <td>100.000000</td>\n",
       "      <td>100.000000</td>\n",
       "      <td>100.0</td>\n",
       "      <td>100.0</td>\n",
       "    </tr>\n",
       "    <tr>\n",
       "      <th>mean</th>\n",
       "      <td>50.500000</td>\n",
       "      <td>1.123000</td>\n",
       "      <td>3.0</td>\n",
       "      <td>3.0</td>\n",
       "    </tr>\n",
       "    <tr>\n",
       "      <th>std</th>\n",
       "      <td>29.011492</td>\n",
       "      <td>0.546218</td>\n",
       "      <td>0.0</td>\n",
       "      <td>0.0</td>\n",
       "    </tr>\n",
       "    <tr>\n",
       "      <th>min</th>\n",
       "      <td>1.000000</td>\n",
       "      <td>0.100000</td>\n",
       "      <td>3.0</td>\n",
       "      <td>3.0</td>\n",
       "    </tr>\n",
       "    <tr>\n",
       "      <th>25%</th>\n",
       "      <td>25.750000</td>\n",
       "      <td>0.700000</td>\n",
       "      <td>3.0</td>\n",
       "      <td>3.0</td>\n",
       "    </tr>\n",
       "    <tr>\n",
       "      <th>50%</th>\n",
       "      <td>50.500000</td>\n",
       "      <td>1.100000</td>\n",
       "      <td>3.0</td>\n",
       "      <td>3.0</td>\n",
       "    </tr>\n",
       "    <tr>\n",
       "      <th>75%</th>\n",
       "      <td>75.250000</td>\n",
       "      <td>1.425000</td>\n",
       "      <td>3.0</td>\n",
       "      <td>3.0</td>\n",
       "    </tr>\n",
       "    <tr>\n",
       "      <th>max</th>\n",
       "      <td>100.000000</td>\n",
       "      <td>2.600000</td>\n",
       "      <td>3.0</td>\n",
       "      <td>3.0</td>\n",
       "    </tr>\n",
       "  </tbody>\n",
       "</table>\n",
       "</div>"
      ],
      "text/plain": [
       "              run       clock  score  total\n",
       "count  100.000000  100.000000  100.0  100.0\n",
       "mean    50.500000    1.123000    3.0    3.0\n",
       "std     29.011492    0.546218    0.0    0.0\n",
       "min      1.000000    0.100000    3.0    3.0\n",
       "25%     25.750000    0.700000    3.0    3.0\n",
       "50%     50.500000    1.100000    3.0    3.0\n",
       "75%     75.250000    1.425000    3.0    3.0\n",
       "max    100.000000    2.600000    3.0    3.0"
      ]
     },
     "execution_count": 17,
     "metadata": {},
     "output_type": "execute_result"
    }
   ],
   "source": [
    "df[df[\"score\"] > 0].describe()"
   ]
  },
  {
   "cell_type": "code",
   "execution_count": null,
   "metadata": {},
   "outputs": [],
   "source": []
  }
 ],
 "metadata": {
  "kernelspec": {
   "display_name": "Python 3",
   "language": "python",
   "name": "python3"
  },
  "language_info": {
   "codemirror_mode": {
    "name": "ipython",
    "version": 3
   },
   "file_extension": ".py",
   "mimetype": "text/x-python",
   "name": "python",
   "nbconvert_exporter": "python",
   "pygments_lexer": "ipython3",
   "version": "3.7.6"
  }
 },
 "nbformat": 4,
 "nbformat_minor": 2
}
