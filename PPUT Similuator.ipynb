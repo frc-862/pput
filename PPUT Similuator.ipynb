{
 "cells": [
  {
   "cell_type": "code",
   "execution_count": 218,
   "metadata": {},
   "outputs": [],
   "source": [
    "import json\n",
    "import random\n",
    "import plotly.graph_objects as go\n",
    "import plotly.express as px\n",
    "import pandas as pd\n",
    "import copy"
   ]
  },
  {
   "cell_type": "code",
   "execution_count": 219,
   "metadata": {},
   "outputs": [],
   "source": [
    "with open('deep_space.json') as json_file:\n",
    "    game = json.load(json_file)\n",
    "\n",
    "robots = []\n",
    "\n",
    "for rbot in game['robots']:\n",
    "    with open(rbot) as json_file:\n",
    "        robots.append(json.load(json_file))\n",
    "\n",
    "for robot in robots:\n",
    "    with open(robot['operations']) as json_file:\n",
    "        ops = json.load(json_file)\n",
    "        opdict = {}\n",
    "        for op in ops:\n",
    "            opdict[op['name']] = op\n",
    "        robot['operations'] = opdict\n",
    "        \n",
    "robot_cache = robots"
   ]
  },
  {
   "cell_type": "code",
   "execution_count": 233,
   "metadata": {},
   "outputs": [],
   "source": [
    "# note log handles recording points and updating counts\n",
    "journal = []\n",
    "counts = {}\n",
    "runs = 0\n",
    "\n",
    "def log(clock, clock_mode, mode_name, robot, success, op):\n",
    "    points = 0\n",
    "    name = op['name']\n",
    "    if success:\n",
    "        mop = op['game_modes'][mode_name]\n",
    "        points = mop.get('points', 0)\n",
    "        counts[op['name']] = counts.get(name, 0) + 1\n",
    "        limit = op.get('limit', 0)\n",
    "        if limit != 0 and counts[name] >= limit:\n",
    "            del robot['operations'][name]\n",
    "    journal.append([runs, clock, clock_mode, robot['name'], success, name, points])\n",
    "            "
   ]
  },
  {
   "cell_type": "code",
   "execution_count": 249,
   "metadata": {},
   "outputs": [
    {
     "name": "stdout",
     "output_type": "stream",
     "text": [
      "auton\n",
      "teleop\n",
      "endgame\n"
     ]
    }
   ],
   "source": [
    "# Simulator\n",
    "\n",
    "# Reset sim data\n",
    "robots = copy.deepcopy(robot_cache)\n",
    "runs = runs + 1\n",
    "\n",
    "# Start Game Clock\n",
    "clock = 0\n",
    "\n",
    "# Determine Mode\n",
    "mode = game['modes'][0]\n",
    "duration = mode['mode_time']\n",
    "\n",
    "# While game not over\n",
    "mode_name = mode['mode']\n",
    "print(mode_name)\n",
    "while mode != '':\n",
    "    while duration > 0:\n",
    "        # For each robot\n",
    "        for robot in robots:\n",
    "            # if idle, assign operation\n",
    "            if 'operation' not in robot:\n",
    "                # pick next op\n",
    "                # collect all available ops\n",
    "                mname = mode_name\n",
    "                if mname not in robot['modes']:\n",
    "                    mname = 'teleop'\n",
    "                ops = robot['modes'][mname]\n",
    "                # find hightest priority\n",
    "                max_priority = 0\n",
    "                for op in ops: \n",
    "                    max_priority = max(max_priority, op.get('priority', 0))\n",
    "                ops = list(filter(lambda op: op.get('priority', 0) >= max_priority, ops))\n",
    "                op = random.choice(ops)['name']\n",
    "                op = robot['operations'][op]\n",
    "                mname = mode_name\n",
    "                if mname not in op['game_modes']:\n",
    "                    mname = 'teleop'\n",
    "                mop = op['game_modes'][mname]\n",
    "                           \n",
    "                # determine finish time\n",
    "                optime = random.normalvariate(mop['time'], mop['std'])\n",
    "                optime = max(mop.get('min', 0), optime)\n",
    "                op['finish'] = clock + optime\n",
    "                robot['operation'] = op\n",
    "            \n",
    "            # if op complete\n",
    "            if 'operation' in robot:\n",
    "                op = robot['operation']\n",
    "                if op['finish'] < clock:\n",
    "                    mname = mode_name\n",
    "                    if mname not in op['game_modes'] and 'teleop' in op['game_modes']:\n",
    "                        mname = 'teleop'\n",
    "                        \n",
    "                    if mname in op['game_modes']:\n",
    "                        mop = op['game_modes'][mname]\n",
    "                        \n",
    "                        # check for failure\n",
    "                        success = random.random() >= mop.get('failure_odds', 0)\n",
    "                        log(clock, mode_name, mname, robot, success, op)\n",
    "                        \n",
    "                        if success:\n",
    "                            # pick next op\n",
    "                            ops = list(filter(lambda op: op in robot['operations'], mop.get(\"next_op\", [])))\n",
    "                            if len(ops) > 0:\n",
    "                                op = robot['operations'][random.choice(ops)]\n",
    "                                mname = mode_name\n",
    "                                if mname not in op['game_modes']:\n",
    "                                    mname = 'teleop'\n",
    "                                mop = op['game_modes'][mname]\n",
    "\n",
    "                                # determine finish time\n",
    "                                optime = random.normalvariate(mop['time'], mop['std'])\n",
    "                                optime = max(mop.get('min', 0), optime)\n",
    "                                op['finish'] = clock + optime\n",
    "                                robot['operation'] = op\n",
    "                            else:\n",
    "                                del robot['operation']\n",
    "\n",
    "                        elif not success and random.random() < mop.get('retry_odds', 0):\n",
    "                            # reset finish time, but stay \"here\"\n",
    "                            optime = random.normalvariate(mop['time'], mop['std'])\n",
    "                            optime = max(mop.get('min', 0), optime)\n",
    "                            op['finish'] = clock + optime\n",
    "                        else:\n",
    "                            del robot['operation']\n",
    "                            \n",
    "                    else:\n",
    "                        print(\"Ugg\")\n",
    "                        del robot['operation']\n",
    "            \n",
    "        clock += 0.1           \n",
    "        duration -= 0.1\n",
    "        \n",
    "    # If Mode change\n",
    "    next_mode = mode['next_mode']\n",
    "    if next_mode != -1:\n",
    "        mode = game['modes'][next_mode]\n",
    "        mode_name = mode['mode']\n",
    "        duration = mode['mode_time']\n",
    "        #    for each robot\n",
    "        #       cancel operations if necessary\n",
    "        print(f\"{mode['mode']}\")\n",
    "    else:\n",
    "        mode = ''\n",
    "    \n",
    "    \n"
   ]
  },
  {
   "cell_type": "code",
   "execution_count": 185,
   "metadata": {},
   "outputs": [
    {
     "data": {
      "text/plain": [
       "[4.999999999999998,\n",
       " 'auton',\n",
       " 'Nebula',\n",
       " True,\n",
       " 'Collect Hatch Pannel near loading station',\n",
       " 0]"
      ]
     },
     "execution_count": 185,
     "metadata": {},
     "output_type": "execute_result"
    }
   ],
   "source": [
    "# visualize\n"
   ]
  },
  {
   "cell_type": "code",
   "execution_count": 250,
   "metadata": {},
   "outputs": [
    {
     "data": {
      "text/html": [
       "<div>\n",
       "<style scoped>\n",
       "    .dataframe tbody tr th:only-of-type {\n",
       "        vertical-align: middle;\n",
       "    }\n",
       "\n",
       "    .dataframe tbody tr th {\n",
       "        vertical-align: top;\n",
       "    }\n",
       "\n",
       "    .dataframe thead th {\n",
       "        text-align: right;\n",
       "    }\n",
       "</style>\n",
       "<table border=\"1\" class=\"dataframe\">\n",
       "  <thead>\n",
       "    <tr style=\"text-align: right;\">\n",
       "      <th></th>\n",
       "      <th>run</th>\n",
       "      <th>clock</th>\n",
       "      <th>game_mode</th>\n",
       "      <th>robot</th>\n",
       "      <th>success</th>\n",
       "      <th>op</th>\n",
       "      <th>score</th>\n",
       "      <th>total</th>\n",
       "    </tr>\n",
       "  </thead>\n",
       "  <tbody>\n",
       "    <tr>\n",
       "      <th>0</th>\n",
       "      <td>1</td>\n",
       "      <td>8.2</td>\n",
       "      <td>auton</td>\n",
       "      <td>Nebula</td>\n",
       "      <td>False</td>\n",
       "      <td>Collect Hatch Pannel near loading station</td>\n",
       "      <td>0</td>\n",
       "      <td>0</td>\n",
       "    </tr>\n",
       "    <tr>\n",
       "      <th>1</th>\n",
       "      <td>1</td>\n",
       "      <td>14.0</td>\n",
       "      <td>auton</td>\n",
       "      <td>Nebula</td>\n",
       "      <td>False</td>\n",
       "      <td>Collect Hatch Pannel near loading station</td>\n",
       "      <td>0</td>\n",
       "      <td>0</td>\n",
       "    </tr>\n",
       "    <tr>\n",
       "      <th>2</th>\n",
       "      <td>1</td>\n",
       "      <td>17.6</td>\n",
       "      <td>teleop</td>\n",
       "      <td>Nebula</td>\n",
       "      <td>True</td>\n",
       "      <td>Collect Hatch Pannel near loading station</td>\n",
       "      <td>0</td>\n",
       "      <td>0</td>\n",
       "    </tr>\n",
       "    <tr>\n",
       "      <th>3</th>\n",
       "      <td>1</td>\n",
       "      <td>19.7</td>\n",
       "      <td>teleop</td>\n",
       "      <td>Nebula</td>\n",
       "      <td>True</td>\n",
       "      <td>Hatch Pannel low near rocket</td>\n",
       "      <td>2</td>\n",
       "      <td>2</td>\n",
       "    </tr>\n",
       "    <tr>\n",
       "      <th>4</th>\n",
       "      <td>1</td>\n",
       "      <td>20.9</td>\n",
       "      <td>teleop</td>\n",
       "      <td>Nebula</td>\n",
       "      <td>True</td>\n",
       "      <td>Collect Hatch Pannel near loading station</td>\n",
       "      <td>0</td>\n",
       "      <td>2</td>\n",
       "    </tr>\n",
       "  </tbody>\n",
       "</table>\n",
       "</div>"
      ],
      "text/plain": [
       "  run  clock game_mode   robot  success  \\\n",
       "0   1    8.2     auton  Nebula    False   \n",
       "1   1   14.0     auton  Nebula    False   \n",
       "2   1   17.6    teleop  Nebula     True   \n",
       "3   1   19.7    teleop  Nebula     True   \n",
       "4   1   20.9    teleop  Nebula     True   \n",
       "\n",
       "                                          op  score  total  \n",
       "0  Collect Hatch Pannel near loading station      0      0  \n",
       "1  Collect Hatch Pannel near loading station      0      0  \n",
       "2  Collect Hatch Pannel near loading station      0      0  \n",
       "3               Hatch Pannel low near rocket      2      2  \n",
       "4  Collect Hatch Pannel near loading station      0      2  "
      ]
     },
     "execution_count": 250,
     "metadata": {},
     "output_type": "execute_result"
    }
   ],
   "source": [
    "df = pd.DataFrame(journal, columns=['run', 'clock','game_mode', 'robot', 'success', 'op', 'score'])\n",
    "df['total'] = df.score.cumsum()\n",
    "df['total'] = df.groupby('run')['score'].transform(pd.Series.cumsum)\n",
    "df['run'] = df['run'].astype(str)\n",
    "df.head()"
   ]
  },
  {
   "cell_type": "code",
   "execution_count": 251,
   "metadata": {},
   "outputs": [
    {
     "data": {
      "application/vnd.plotly.v1+json": {
       "config": {
        "plotlyServerURL": "https://plot.ly"
       },
       "data": [
        {
         "customdata": [
          [
           "Collect Hatch Pannel near loading station",
           false
          ],
          [
           "Collect Hatch Pannel near loading station",
           false
          ],
          [
           "Collect Hatch Pannel near loading station",
           true
          ],
          [
           "Hatch Pannel low near rocket",
           true
          ],
          [
           "Collect Hatch Pannel near loading station",
           true
          ],
          [
           "Hatch Pannel high near opposite side rocket",
           true
          ],
          [
           "Collect Hatch Pannel near loading station",
           true
          ],
          [
           "Hatch Pannel middle far opposite side rocket",
           true
          ],
          [
           "Collect Hatch Pannel near loading station",
           true
          ],
          [
           "Hatch Pannel middle near rocket",
           true
          ],
          [
           "Collect Hatch Pannel near loading station",
           true
          ],
          [
           "Hatch Pannel high near rocket",
           true
          ],
          [
           "Collect Hatch Pannel near loading station",
           false
          ],
          [
           "Collect Hatch Pannel near loading station",
           true
          ],
          [
           "Hatch Pannel low far opposite side rocket",
           true
          ],
          [
           "Collect Hatch Pannel near loading station",
           true
          ],
          [
           "Hatch Pannel low near opposite side rocket",
           true
          ],
          [
           "Collect Hatch Pannel near loading station",
           true
          ],
          [
           "Hatch Pannel middle near opposite side rocket",
           true
          ],
          [
           "Collect Hatch Pannel near loading station",
           true
          ],
          [
           "Hatch Pannel high far rocket",
           true
          ],
          [
           "Collect Hatch Pannel near loading station",
           true
          ],
          [
           "Hatch Pannel high far opposite side rocket",
           true
          ],
          [
           "Collect Hatch Pannel near loading station",
           true
          ],
          [
           "Collect Hatch Pannel near loading station",
           true
          ],
          [
           "Collect Hatch Pannel near loading station",
           true
          ],
          [
           "Collect Hatch Pannel near loading station",
           true
          ],
          [
           "Collect Hatch Pannel near loading station",
           true
          ],
          [
           "Collect Hatch Pannel near loading station",
           false
          ],
          [
           "Collect Hatch Pannel near loading station",
           true
          ],
          [
           "Collect Hatch Pannel near loading station",
           false
          ],
          [
           "Collect Hatch Pannel near loading station",
           false
          ],
          [
           "Collect Hatch Pannel near loading station",
           true
          ],
          [
           "Collect Hatch Pannel near loading station",
           false
          ]
         ],
         "hoverlabel": {
          "namelength": 0
         },
         "hovertemplate": "run=1<br>clock=%{x}<br>total=%{y}<br>op=%{customdata[0]}<br>success=%{customdata[1]}",
         "legendgroup": "run=1",
         "marker": {
          "color": "#636efa",
          "symbol": "circle"
         },
         "mode": "markers",
         "name": "run=1",
         "showlegend": true,
         "type": "scatter",
         "x": [
          8.199999999999987,
          13.999999999999966,
          17.59999999999998,
          19.70000000000001,
          20.900000000000027,
          22.50000000000005,
          27.000000000000114,
          34.30000000000022,
          37.20000000000026,
          44.40000000000036,
          48.60000000000042,
          51.700000000000465,
          56.50000000000053,
          60.60000000000059,
          66.5000000000005,
          66.70000000000049,
          72.40000000000016,
          76.8999999999999,
          81.19999999999966,
          83.9999999999995,
          89.89999999999917,
          95.89999999999883,
          103.89999999999837,
          105.59999999999827,
          108.7999999999981,
          108.99999999999808,
          117.19999999999762,
          120.39999999999743,
          121.89999999999735,
          125.19999999999716,
          131.29999999999683,
          134.89999999999662,
          141.19999999999627,
          143.69999999999612
         ],
         "xaxis": "x",
         "y": [
          0,
          0,
          0,
          2,
          2,
          4,
          4,
          6,
          6,
          8,
          8,
          10,
          10,
          10,
          12,
          12,
          14,
          14,
          16,
          16,
          18,
          18,
          20,
          20,
          20,
          20,
          20,
          20,
          20,
          20,
          20,
          20,
          20,
          20
         ],
         "yaxis": "y"
        },
        {
         "customdata": [
          [
           "Collect Hatch Pannel near loading station",
           true
          ],
          [
           "Hatch Pannel high near opposite side rocket",
           true
          ],
          [
           "Collect Hatch Pannel near loading station",
           false
          ],
          [
           "Collect Hatch Pannel near loading station",
           false
          ],
          [
           "Collect Hatch Pannel near loading station",
           true
          ],
          [
           "Hatch Pannel high far opposite side rocket",
           false
          ],
          [
           "Hatch Pannel high far opposite side rocket",
           true
          ],
          [
           "Collect Hatch Pannel near loading station",
           false
          ],
          [
           "Collect Hatch Pannel near loading station",
           true
          ],
          [
           "Hatch Pannel low far opposite side rocket",
           true
          ],
          [
           "Collect Hatch Pannel near loading station",
           true
          ],
          [
           "Hatch Pannel high far rocket",
           true
          ],
          [
           "Collect Hatch Pannel near loading station",
           false
          ],
          [
           "Collect Hatch Pannel near loading station",
           true
          ],
          [
           "Hatch Pannel low near rocket",
           true
          ],
          [
           "Collect Hatch Pannel near loading station",
           true
          ],
          [
           "Hatch Pannel middle near opposite side rocket",
           true
          ],
          [
           "Collect Hatch Pannel near loading station",
           true
          ],
          [
           "Hatch Pannel high near rocket",
           true
          ],
          [
           "Collect Hatch Pannel near loading station",
           false
          ],
          [
           "Collect Hatch Pannel near loading station",
           false
          ],
          [
           "Collect Hatch Pannel near loading station",
           true
          ],
          [
           "Hatch Pannel middle near rocket",
           true
          ],
          [
           "Collect Hatch Pannel near loading station",
           true
          ],
          [
           "Hatch Pannel low near opposite side rocket",
           true
          ],
          [
           "Collect Hatch Pannel near loading station",
           true
          ],
          [
           "Hatch Pannel middle far opposite side rocket",
           false
          ],
          [
           "Collect Hatch Pannel near loading station",
           true
          ]
         ],
         "hoverlabel": {
          "namelength": 0
         },
         "hovertemplate": "run=2<br>clock=%{x}<br>total=%{y}<br>op=%{customdata[0]}<br>success=%{customdata[1]}",
         "legendgroup": "run=2",
         "marker": {
          "color": "#EF553B",
          "symbol": "circle"
         },
         "mode": "markers",
         "name": "run=2",
         "showlegend": true,
         "type": "scatter",
         "x": [
          6.099999999999994,
          14.499999999999964,
          23.700000000000067,
          32.40000000000019,
          33.70000000000021,
          39.700000000000294,
          48.70000000000042,
          55.300000000000516,
          61.0000000000006,
          67.10000000000046,
          68.90000000000036,
          72.10000000000018,
          74.60000000000004,
          79.29999999999977,
          84.29999999999949,
          88.49999999999925,
          94.4999999999989,
          97.79999999999872,
          101.6999999999985,
          103.99999999999837,
          108.39999999999812,
          112.39999999999789,
          116.39999999999766,
          120.59999999999742,
          127.49999999999703,
          134.79999999999663,
          141.69999999999624,
          148.09999999999587
         ],
         "xaxis": "x",
         "y": [
          0,
          4,
          4,
          4,
          4,
          4,
          6,
          6,
          6,
          8,
          8,
          10,
          10,
          10,
          12,
          12,
          14,
          14,
          16,
          16,
          16,
          16,
          18,
          18,
          20,
          20,
          20,
          20
         ],
         "yaxis": "y"
        },
        {
         "customdata": [
          [
           "Collect Hatch Pannel near loading station",
           true
          ],
          [
           "Hatch Pannel middle near opposite side rocket",
           true
          ],
          [
           "Collect Hatch Pannel near loading station",
           true
          ],
          [
           "Hatch Pannel high far rocket",
           false
          ],
          [
           "Collect Hatch Pannel near loading station",
           true
          ],
          [
           "Hatch Pannel high far rocket",
           true
          ],
          [
           "Collect Hatch Pannel near loading station",
           true
          ],
          [
           "Hatch Pannel middle far opposite side rocket",
           false
          ],
          [
           "Collect Hatch Pannel near loading station",
           true
          ],
          [
           "Hatch Pannel middle far opposite side rocket",
           true
          ],
          [
           "Collect Hatch Pannel near loading station",
           true
          ],
          [
           "Hatch Pannel low far opposite side rocket",
           true
          ],
          [
           "Collect Hatch Pannel near loading station",
           false
          ],
          [
           "Collect Hatch Pannel near loading station",
           true
          ],
          [
           "Hatch Pannel high far opposite side rocket",
           false
          ],
          [
           "Collect Hatch Pannel near loading station",
           true
          ],
          [
           "Hatch Pannel high near opposite side rocket",
           true
          ],
          [
           "Collect Hatch Pannel near loading station",
           true
          ],
          [
           "Hatch Pannel low near rocket",
           true
          ],
          [
           "Collect Hatch Pannel near loading station",
           true
          ],
          [
           "Hatch Pannel middle near rocket",
           true
          ],
          [
           "Collect Hatch Pannel near loading station",
           true
          ],
          [
           "Hatch Pannel low near opposite side rocket",
           true
          ],
          [
           "Collect Hatch Pannel near loading station",
           true
          ],
          [
           "Hatch Pannel high near rocket",
           true
          ],
          [
           "Collect Hatch Pannel near loading station",
           false
          ],
          [
           "Collect Hatch Pannel near loading station",
           true
          ],
          [
           "Hatch Pannel high far opposite side rocket",
           true
          ],
          [
           "Collect Hatch Pannel near loading station",
           true
          ]
         ],
         "hoverlabel": {
          "namelength": 0
         },
         "hovertemplate": "run=3<br>clock=%{x}<br>total=%{y}<br>op=%{customdata[0]}<br>success=%{customdata[1]}",
         "legendgroup": "run=3",
         "marker": {
          "color": "#00cc96",
          "symbol": "circle"
         },
         "mode": "markers",
         "name": "run=3",
         "showlegend": true,
         "type": "scatter",
         "x": [
          5.399999999999997,
          8.499999999999986,
          14.899999999999963,
          30.400000000000162,
          32.50000000000019,
          43.40000000000035,
          47.0000000000004,
          57.80000000000055,
          60.40000000000059,
          68.1000000000004,
          71.7000000000002,
          77.49999999999987,
          80.5999999999997,
          86.49999999999936,
          95.19999999999887,
          98.49999999999868,
          101.99999999999848,
          104.09999999999836,
          106.29999999999824,
          114.09999999999779,
          118.09999999999756,
          123.39999999999726,
          128.099999999997,
          130.1999999999969,
          132.89999999999674,
          134.49999999999665,
          138.49999999999642,
          148.69999999999584,
          149.69999999999578
         ],
         "xaxis": "x",
         "y": [
          0,
          4,
          4,
          4,
          4,
          6,
          6,
          6,
          6,
          8,
          8,
          10,
          10,
          10,
          10,
          10,
          12,
          12,
          14,
          14,
          16,
          16,
          18,
          18,
          20,
          20,
          20,
          22,
          22
         ],
         "yaxis": "y"
        },
        {
         "customdata": [
          [
           "Collect Hatch Pannel near loading station",
           true
          ],
          [
           "Hatch Pannel high far rocket",
           false
          ],
          [
           "Collect Hatch Pannel near loading station",
           true
          ],
          [
           "Hatch Pannel high far opposite side rocket",
           true
          ],
          [
           "Collect Hatch Pannel near loading station",
           true
          ],
          [
           "Hatch Pannel high near rocket",
           true
          ],
          [
           "Collect Hatch Pannel near loading station",
           true
          ],
          [
           "Hatch Pannel middle near opposite side rocket",
           true
          ],
          [
           "Collect Hatch Pannel near loading station",
           false
          ],
          [
           "Collect Hatch Pannel near loading station",
           true
          ],
          [
           "Hatch Pannel middle near rocket",
           true
          ],
          [
           "Collect Hatch Pannel near loading station",
           true
          ],
          [
           "Hatch Pannel low near rocket",
           false
          ],
          [
           "Collect Hatch Pannel near loading station",
           false
          ],
          [
           "Collect Hatch Pannel near loading station",
           true
          ],
          [
           "Hatch Pannel low near rocket",
           true
          ],
          [
           "Collect Hatch Pannel near loading station",
           false
          ],
          [
           "Collect Hatch Pannel near loading station",
           true
          ],
          [
           "Hatch Pannel high near opposite side rocket",
           true
          ],
          [
           "Collect Hatch Pannel near loading station",
           true
          ],
          [
           "Hatch Pannel low near opposite side rocket",
           true
          ],
          [
           "Collect Hatch Pannel near loading station",
           false
          ],
          [
           "Collect Hatch Pannel near loading station",
           true
          ],
          [
           "Hatch Pannel middle far opposite side rocket",
           true
          ],
          [
           "Collect Hatch Pannel near loading station",
           false
          ],
          [
           "Collect Hatch Pannel near loading station",
           true
          ],
          [
           "Hatch Pannel high far rocket",
           false
          ],
          [
           "Collect Hatch Pannel near loading station",
           true
          ],
          [
           "Hatch Pannel high far rocket",
           true
          ],
          [
           "Collect Hatch Pannel near loading station",
           false
          ],
          [
           "Collect Hatch Pannel near loading station",
           false
          ],
          [
           "Collect Hatch Pannel near loading station",
           true
          ],
          [
           "Hatch Pannel low far opposite side rocket",
           true
          ]
         ],
         "hoverlabel": {
          "namelength": 0
         },
         "hovertemplate": "run=4<br>clock=%{x}<br>total=%{y}<br>op=%{customdata[0]}<br>success=%{customdata[1]}",
         "legendgroup": "run=4",
         "marker": {
          "color": "#ab63fa",
          "symbol": "circle"
         },
         "mode": "markers",
         "name": "run=4",
         "showlegend": true,
         "type": "scatter",
         "x": [
          5.1999999999999975,
          15.89999999999996,
          20.800000000000026,
          27.300000000000118,
          28.90000000000014,
          33.80000000000021,
          37.700000000000266,
          41.50000000000032,
          44.30000000000036,
          46.50000000000039,
          49.90000000000044,
          52.10000000000047,
          58.40000000000056,
          61.70000000000061,
          66.80000000000048,
          70.30000000000028,
          75.59999999999998,
          82.59999999999958,
          84.89999999999945,
          86.89999999999934,
          88.69999999999924,
          93.89999999999894,
          94.29999999999892,
          98.29999999999869,
          102.79999999999843,
          107.69999999999816,
          115.99999999999768,
          121.29999999999738,
          128.199999999997,
          136.49999999999653,
          141.39999999999625,
          143.29999999999615,
          149.3999999999958
         ],
         "xaxis": "x",
         "y": [
          0,
          0,
          0,
          2,
          2,
          4,
          4,
          6,
          6,
          6,
          8,
          8,
          8,
          8,
          8,
          10,
          10,
          10,
          12,
          12,
          14,
          14,
          14,
          16,
          16,
          16,
          16,
          16,
          18,
          18,
          18,
          18,
          20
         ],
         "yaxis": "y"
        }
       ],
       "layout": {
        "legend": {
         "tracegroupgap": 0
        },
        "margin": {
         "t": 60
        },
        "template": {
         "data": {
          "bar": [
           {
            "error_x": {
             "color": "#2a3f5f"
            },
            "error_y": {
             "color": "#2a3f5f"
            },
            "marker": {
             "line": {
              "color": "#E5ECF6",
              "width": 0.5
             }
            },
            "type": "bar"
           }
          ],
          "barpolar": [
           {
            "marker": {
             "line": {
              "color": "#E5ECF6",
              "width": 0.5
             }
            },
            "type": "barpolar"
           }
          ],
          "carpet": [
           {
            "aaxis": {
             "endlinecolor": "#2a3f5f",
             "gridcolor": "white",
             "linecolor": "white",
             "minorgridcolor": "white",
             "startlinecolor": "#2a3f5f"
            },
            "baxis": {
             "endlinecolor": "#2a3f5f",
             "gridcolor": "white",
             "linecolor": "white",
             "minorgridcolor": "white",
             "startlinecolor": "#2a3f5f"
            },
            "type": "carpet"
           }
          ],
          "choropleth": [
           {
            "colorbar": {
             "outlinewidth": 0,
             "ticks": ""
            },
            "type": "choropleth"
           }
          ],
          "contour": [
           {
            "colorbar": {
             "outlinewidth": 0,
             "ticks": ""
            },
            "colorscale": [
             [
              0,
              "#0d0887"
             ],
             [
              0.1111111111111111,
              "#46039f"
             ],
             [
              0.2222222222222222,
              "#7201a8"
             ],
             [
              0.3333333333333333,
              "#9c179e"
             ],
             [
              0.4444444444444444,
              "#bd3786"
             ],
             [
              0.5555555555555556,
              "#d8576b"
             ],
             [
              0.6666666666666666,
              "#ed7953"
             ],
             [
              0.7777777777777778,
              "#fb9f3a"
             ],
             [
              0.8888888888888888,
              "#fdca26"
             ],
             [
              1,
              "#f0f921"
             ]
            ],
            "type": "contour"
           }
          ],
          "contourcarpet": [
           {
            "colorbar": {
             "outlinewidth": 0,
             "ticks": ""
            },
            "type": "contourcarpet"
           }
          ],
          "heatmap": [
           {
            "colorbar": {
             "outlinewidth": 0,
             "ticks": ""
            },
            "colorscale": [
             [
              0,
              "#0d0887"
             ],
             [
              0.1111111111111111,
              "#46039f"
             ],
             [
              0.2222222222222222,
              "#7201a8"
             ],
             [
              0.3333333333333333,
              "#9c179e"
             ],
             [
              0.4444444444444444,
              "#bd3786"
             ],
             [
              0.5555555555555556,
              "#d8576b"
             ],
             [
              0.6666666666666666,
              "#ed7953"
             ],
             [
              0.7777777777777778,
              "#fb9f3a"
             ],
             [
              0.8888888888888888,
              "#fdca26"
             ],
             [
              1,
              "#f0f921"
             ]
            ],
            "type": "heatmap"
           }
          ],
          "heatmapgl": [
           {
            "colorbar": {
             "outlinewidth": 0,
             "ticks": ""
            },
            "colorscale": [
             [
              0,
              "#0d0887"
             ],
             [
              0.1111111111111111,
              "#46039f"
             ],
             [
              0.2222222222222222,
              "#7201a8"
             ],
             [
              0.3333333333333333,
              "#9c179e"
             ],
             [
              0.4444444444444444,
              "#bd3786"
             ],
             [
              0.5555555555555556,
              "#d8576b"
             ],
             [
              0.6666666666666666,
              "#ed7953"
             ],
             [
              0.7777777777777778,
              "#fb9f3a"
             ],
             [
              0.8888888888888888,
              "#fdca26"
             ],
             [
              1,
              "#f0f921"
             ]
            ],
            "type": "heatmapgl"
           }
          ],
          "histogram": [
           {
            "marker": {
             "colorbar": {
              "outlinewidth": 0,
              "ticks": ""
             }
            },
            "type": "histogram"
           }
          ],
          "histogram2d": [
           {
            "colorbar": {
             "outlinewidth": 0,
             "ticks": ""
            },
            "colorscale": [
             [
              0,
              "#0d0887"
             ],
             [
              0.1111111111111111,
              "#46039f"
             ],
             [
              0.2222222222222222,
              "#7201a8"
             ],
             [
              0.3333333333333333,
              "#9c179e"
             ],
             [
              0.4444444444444444,
              "#bd3786"
             ],
             [
              0.5555555555555556,
              "#d8576b"
             ],
             [
              0.6666666666666666,
              "#ed7953"
             ],
             [
              0.7777777777777778,
              "#fb9f3a"
             ],
             [
              0.8888888888888888,
              "#fdca26"
             ],
             [
              1,
              "#f0f921"
             ]
            ],
            "type": "histogram2d"
           }
          ],
          "histogram2dcontour": [
           {
            "colorbar": {
             "outlinewidth": 0,
             "ticks": ""
            },
            "colorscale": [
             [
              0,
              "#0d0887"
             ],
             [
              0.1111111111111111,
              "#46039f"
             ],
             [
              0.2222222222222222,
              "#7201a8"
             ],
             [
              0.3333333333333333,
              "#9c179e"
             ],
             [
              0.4444444444444444,
              "#bd3786"
             ],
             [
              0.5555555555555556,
              "#d8576b"
             ],
             [
              0.6666666666666666,
              "#ed7953"
             ],
             [
              0.7777777777777778,
              "#fb9f3a"
             ],
             [
              0.8888888888888888,
              "#fdca26"
             ],
             [
              1,
              "#f0f921"
             ]
            ],
            "type": "histogram2dcontour"
           }
          ],
          "mesh3d": [
           {
            "colorbar": {
             "outlinewidth": 0,
             "ticks": ""
            },
            "type": "mesh3d"
           }
          ],
          "parcoords": [
           {
            "line": {
             "colorbar": {
              "outlinewidth": 0,
              "ticks": ""
             }
            },
            "type": "parcoords"
           }
          ],
          "pie": [
           {
            "automargin": true,
            "type": "pie"
           }
          ],
          "scatter": [
           {
            "marker": {
             "colorbar": {
              "outlinewidth": 0,
              "ticks": ""
             }
            },
            "type": "scatter"
           }
          ],
          "scatter3d": [
           {
            "line": {
             "colorbar": {
              "outlinewidth": 0,
              "ticks": ""
             }
            },
            "marker": {
             "colorbar": {
              "outlinewidth": 0,
              "ticks": ""
             }
            },
            "type": "scatter3d"
           }
          ],
          "scattercarpet": [
           {
            "marker": {
             "colorbar": {
              "outlinewidth": 0,
              "ticks": ""
             }
            },
            "type": "scattercarpet"
           }
          ],
          "scattergeo": [
           {
            "marker": {
             "colorbar": {
              "outlinewidth": 0,
              "ticks": ""
             }
            },
            "type": "scattergeo"
           }
          ],
          "scattergl": [
           {
            "marker": {
             "colorbar": {
              "outlinewidth": 0,
              "ticks": ""
             }
            },
            "type": "scattergl"
           }
          ],
          "scattermapbox": [
           {
            "marker": {
             "colorbar": {
              "outlinewidth": 0,
              "ticks": ""
             }
            },
            "type": "scattermapbox"
           }
          ],
          "scatterpolar": [
           {
            "marker": {
             "colorbar": {
              "outlinewidth": 0,
              "ticks": ""
             }
            },
            "type": "scatterpolar"
           }
          ],
          "scatterpolargl": [
           {
            "marker": {
             "colorbar": {
              "outlinewidth": 0,
              "ticks": ""
             }
            },
            "type": "scatterpolargl"
           }
          ],
          "scatterternary": [
           {
            "marker": {
             "colorbar": {
              "outlinewidth": 0,
              "ticks": ""
             }
            },
            "type": "scatterternary"
           }
          ],
          "surface": [
           {
            "colorbar": {
             "outlinewidth": 0,
             "ticks": ""
            },
            "colorscale": [
             [
              0,
              "#0d0887"
             ],
             [
              0.1111111111111111,
              "#46039f"
             ],
             [
              0.2222222222222222,
              "#7201a8"
             ],
             [
              0.3333333333333333,
              "#9c179e"
             ],
             [
              0.4444444444444444,
              "#bd3786"
             ],
             [
              0.5555555555555556,
              "#d8576b"
             ],
             [
              0.6666666666666666,
              "#ed7953"
             ],
             [
              0.7777777777777778,
              "#fb9f3a"
             ],
             [
              0.8888888888888888,
              "#fdca26"
             ],
             [
              1,
              "#f0f921"
             ]
            ],
            "type": "surface"
           }
          ],
          "table": [
           {
            "cells": {
             "fill": {
              "color": "#EBF0F8"
             },
             "line": {
              "color": "white"
             }
            },
            "header": {
             "fill": {
              "color": "#C8D4E3"
             },
             "line": {
              "color": "white"
             }
            },
            "type": "table"
           }
          ]
         },
         "layout": {
          "annotationdefaults": {
           "arrowcolor": "#2a3f5f",
           "arrowhead": 0,
           "arrowwidth": 1
          },
          "coloraxis": {
           "colorbar": {
            "outlinewidth": 0,
            "ticks": ""
           }
          },
          "colorscale": {
           "diverging": [
            [
             0,
             "#8e0152"
            ],
            [
             0.1,
             "#c51b7d"
            ],
            [
             0.2,
             "#de77ae"
            ],
            [
             0.3,
             "#f1b6da"
            ],
            [
             0.4,
             "#fde0ef"
            ],
            [
             0.5,
             "#f7f7f7"
            ],
            [
             0.6,
             "#e6f5d0"
            ],
            [
             0.7,
             "#b8e186"
            ],
            [
             0.8,
             "#7fbc41"
            ],
            [
             0.9,
             "#4d9221"
            ],
            [
             1,
             "#276419"
            ]
           ],
           "sequential": [
            [
             0,
             "#0d0887"
            ],
            [
             0.1111111111111111,
             "#46039f"
            ],
            [
             0.2222222222222222,
             "#7201a8"
            ],
            [
             0.3333333333333333,
             "#9c179e"
            ],
            [
             0.4444444444444444,
             "#bd3786"
            ],
            [
             0.5555555555555556,
             "#d8576b"
            ],
            [
             0.6666666666666666,
             "#ed7953"
            ],
            [
             0.7777777777777778,
             "#fb9f3a"
            ],
            [
             0.8888888888888888,
             "#fdca26"
            ],
            [
             1,
             "#f0f921"
            ]
           ],
           "sequentialminus": [
            [
             0,
             "#0d0887"
            ],
            [
             0.1111111111111111,
             "#46039f"
            ],
            [
             0.2222222222222222,
             "#7201a8"
            ],
            [
             0.3333333333333333,
             "#9c179e"
            ],
            [
             0.4444444444444444,
             "#bd3786"
            ],
            [
             0.5555555555555556,
             "#d8576b"
            ],
            [
             0.6666666666666666,
             "#ed7953"
            ],
            [
             0.7777777777777778,
             "#fb9f3a"
            ],
            [
             0.8888888888888888,
             "#fdca26"
            ],
            [
             1,
             "#f0f921"
            ]
           ]
          },
          "colorway": [
           "#636efa",
           "#EF553B",
           "#00cc96",
           "#ab63fa",
           "#FFA15A",
           "#19d3f3",
           "#FF6692",
           "#B6E880",
           "#FF97FF",
           "#FECB52"
          ],
          "font": {
           "color": "#2a3f5f"
          },
          "geo": {
           "bgcolor": "white",
           "lakecolor": "white",
           "landcolor": "#E5ECF6",
           "showlakes": true,
           "showland": true,
           "subunitcolor": "white"
          },
          "hoverlabel": {
           "align": "left"
          },
          "hovermode": "closest",
          "mapbox": {
           "style": "light"
          },
          "paper_bgcolor": "white",
          "plot_bgcolor": "#E5ECF6",
          "polar": {
           "angularaxis": {
            "gridcolor": "white",
            "linecolor": "white",
            "ticks": ""
           },
           "bgcolor": "#E5ECF6",
           "radialaxis": {
            "gridcolor": "white",
            "linecolor": "white",
            "ticks": ""
           }
          },
          "scene": {
           "xaxis": {
            "backgroundcolor": "#E5ECF6",
            "gridcolor": "white",
            "gridwidth": 2,
            "linecolor": "white",
            "showbackground": true,
            "ticks": "",
            "zerolinecolor": "white"
           },
           "yaxis": {
            "backgroundcolor": "#E5ECF6",
            "gridcolor": "white",
            "gridwidth": 2,
            "linecolor": "white",
            "showbackground": true,
            "ticks": "",
            "zerolinecolor": "white"
           },
           "zaxis": {
            "backgroundcolor": "#E5ECF6",
            "gridcolor": "white",
            "gridwidth": 2,
            "linecolor": "white",
            "showbackground": true,
            "ticks": "",
            "zerolinecolor": "white"
           }
          },
          "shapedefaults": {
           "line": {
            "color": "#2a3f5f"
           }
          },
          "ternary": {
           "aaxis": {
            "gridcolor": "white",
            "linecolor": "white",
            "ticks": ""
           },
           "baxis": {
            "gridcolor": "white",
            "linecolor": "white",
            "ticks": ""
           },
           "bgcolor": "#E5ECF6",
           "caxis": {
            "gridcolor": "white",
            "linecolor": "white",
            "ticks": ""
           }
          },
          "title": {
           "x": 0.05
          },
          "xaxis": {
           "automargin": true,
           "gridcolor": "white",
           "linecolor": "white",
           "ticks": "",
           "title": {
            "standoff": 15
           },
           "zerolinecolor": "white",
           "zerolinewidth": 2
          },
          "yaxis": {
           "automargin": true,
           "gridcolor": "white",
           "linecolor": "white",
           "ticks": "",
           "title": {
            "standoff": 15
           },
           "zerolinecolor": "white",
           "zerolinewidth": 2
          }
         }
        },
        "xaxis": {
         "anchor": "y",
         "domain": [
          0,
          1
         ],
         "title": {
          "text": "clock"
         }
        },
        "yaxis": {
         "anchor": "x",
         "domain": [
          0,
          1
         ],
         "title": {
          "text": "total"
         }
        }
       }
      },
      "text/html": [
       "<div>\n",
       "        \n",
       "        \n",
       "            <div id=\"20bfd2a2-1f4d-468a-adde-9d15e61d5f54\" class=\"plotly-graph-div\" style=\"height:525px; width:100%;\"></div>\n",
       "            <script type=\"text/javascript\">\n",
       "                require([\"plotly\"], function(Plotly) {\n",
       "                    window.PLOTLYENV=window.PLOTLYENV || {};\n",
       "                    \n",
       "                if (document.getElementById(\"20bfd2a2-1f4d-468a-adde-9d15e61d5f54\")) {\n",
       "                    Plotly.newPlot(\n",
       "                        '20bfd2a2-1f4d-468a-adde-9d15e61d5f54',\n",
       "                        [{\"customdata\": [[\"Collect Hatch Pannel near loading station\", false], [\"Collect Hatch Pannel near loading station\", false], [\"Collect Hatch Pannel near loading station\", true], [\"Hatch Pannel low near rocket\", true], [\"Collect Hatch Pannel near loading station\", true], [\"Hatch Pannel high near opposite side rocket\", true], [\"Collect Hatch Pannel near loading station\", true], [\"Hatch Pannel middle far opposite side rocket\", true], [\"Collect Hatch Pannel near loading station\", true], [\"Hatch Pannel middle near rocket\", true], [\"Collect Hatch Pannel near loading station\", true], [\"Hatch Pannel high near rocket\", true], [\"Collect Hatch Pannel near loading station\", false], [\"Collect Hatch Pannel near loading station\", true], [\"Hatch Pannel low far opposite side rocket\", true], [\"Collect Hatch Pannel near loading station\", true], [\"Hatch Pannel low near opposite side rocket\", true], [\"Collect Hatch Pannel near loading station\", true], [\"Hatch Pannel middle near opposite side rocket\", true], [\"Collect Hatch Pannel near loading station\", true], [\"Hatch Pannel high far rocket\", true], [\"Collect Hatch Pannel near loading station\", true], [\"Hatch Pannel high far opposite side rocket\", true], [\"Collect Hatch Pannel near loading station\", true], [\"Collect Hatch Pannel near loading station\", true], [\"Collect Hatch Pannel near loading station\", true], [\"Collect Hatch Pannel near loading station\", true], [\"Collect Hatch Pannel near loading station\", true], [\"Collect Hatch Pannel near loading station\", false], [\"Collect Hatch Pannel near loading station\", true], [\"Collect Hatch Pannel near loading station\", false], [\"Collect Hatch Pannel near loading station\", false], [\"Collect Hatch Pannel near loading station\", true], [\"Collect Hatch Pannel near loading station\", false]], \"hoverlabel\": {\"namelength\": 0}, \"hovertemplate\": \"run=1<br>clock=%{x}<br>total=%{y}<br>op=%{customdata[0]}<br>success=%{customdata[1]}\", \"legendgroup\": \"run=1\", \"marker\": {\"color\": \"#636efa\", \"symbol\": \"circle\"}, \"mode\": \"markers\", \"name\": \"run=1\", \"showlegend\": true, \"type\": \"scatter\", \"x\": [8.199999999999987, 13.999999999999966, 17.59999999999998, 19.70000000000001, 20.900000000000027, 22.50000000000005, 27.000000000000114, 34.30000000000022, 37.20000000000026, 44.40000000000036, 48.60000000000042, 51.700000000000465, 56.50000000000053, 60.60000000000059, 66.5000000000005, 66.70000000000049, 72.40000000000016, 76.8999999999999, 81.19999999999966, 83.9999999999995, 89.89999999999917, 95.89999999999883, 103.89999999999837, 105.59999999999827, 108.7999999999981, 108.99999999999808, 117.19999999999762, 120.39999999999743, 121.89999999999735, 125.19999999999716, 131.29999999999683, 134.89999999999662, 141.19999999999627, 143.69999999999612], \"xaxis\": \"x\", \"y\": [0, 0, 0, 2, 2, 4, 4, 6, 6, 8, 8, 10, 10, 10, 12, 12, 14, 14, 16, 16, 18, 18, 20, 20, 20, 20, 20, 20, 20, 20, 20, 20, 20, 20], \"yaxis\": \"y\"}, {\"customdata\": [[\"Collect Hatch Pannel near loading station\", true], [\"Hatch Pannel high near opposite side rocket\", true], [\"Collect Hatch Pannel near loading station\", false], [\"Collect Hatch Pannel near loading station\", false], [\"Collect Hatch Pannel near loading station\", true], [\"Hatch Pannel high far opposite side rocket\", false], [\"Hatch Pannel high far opposite side rocket\", true], [\"Collect Hatch Pannel near loading station\", false], [\"Collect Hatch Pannel near loading station\", true], [\"Hatch Pannel low far opposite side rocket\", true], [\"Collect Hatch Pannel near loading station\", true], [\"Hatch Pannel high far rocket\", true], [\"Collect Hatch Pannel near loading station\", false], [\"Collect Hatch Pannel near loading station\", true], [\"Hatch Pannel low near rocket\", true], [\"Collect Hatch Pannel near loading station\", true], [\"Hatch Pannel middle near opposite side rocket\", true], [\"Collect Hatch Pannel near loading station\", true], [\"Hatch Pannel high near rocket\", true], [\"Collect Hatch Pannel near loading station\", false], [\"Collect Hatch Pannel near loading station\", false], [\"Collect Hatch Pannel near loading station\", true], [\"Hatch Pannel middle near rocket\", true], [\"Collect Hatch Pannel near loading station\", true], [\"Hatch Pannel low near opposite side rocket\", true], [\"Collect Hatch Pannel near loading station\", true], [\"Hatch Pannel middle far opposite side rocket\", false], [\"Collect Hatch Pannel near loading station\", true]], \"hoverlabel\": {\"namelength\": 0}, \"hovertemplate\": \"run=2<br>clock=%{x}<br>total=%{y}<br>op=%{customdata[0]}<br>success=%{customdata[1]}\", \"legendgroup\": \"run=2\", \"marker\": {\"color\": \"#EF553B\", \"symbol\": \"circle\"}, \"mode\": \"markers\", \"name\": \"run=2\", \"showlegend\": true, \"type\": \"scatter\", \"x\": [6.099999999999994, 14.499999999999964, 23.700000000000067, 32.40000000000019, 33.70000000000021, 39.700000000000294, 48.70000000000042, 55.300000000000516, 61.0000000000006, 67.10000000000046, 68.90000000000036, 72.10000000000018, 74.60000000000004, 79.29999999999977, 84.29999999999949, 88.49999999999925, 94.4999999999989, 97.79999999999872, 101.6999999999985, 103.99999999999837, 108.39999999999812, 112.39999999999789, 116.39999999999766, 120.59999999999742, 127.49999999999703, 134.79999999999663, 141.69999999999624, 148.09999999999587], \"xaxis\": \"x\", \"y\": [0, 4, 4, 4, 4, 4, 6, 6, 6, 8, 8, 10, 10, 10, 12, 12, 14, 14, 16, 16, 16, 16, 18, 18, 20, 20, 20, 20], \"yaxis\": \"y\"}, {\"customdata\": [[\"Collect Hatch Pannel near loading station\", true], [\"Hatch Pannel middle near opposite side rocket\", true], [\"Collect Hatch Pannel near loading station\", true], [\"Hatch Pannel high far rocket\", false], [\"Collect Hatch Pannel near loading station\", true], [\"Hatch Pannel high far rocket\", true], [\"Collect Hatch Pannel near loading station\", true], [\"Hatch Pannel middle far opposite side rocket\", false], [\"Collect Hatch Pannel near loading station\", true], [\"Hatch Pannel middle far opposite side rocket\", true], [\"Collect Hatch Pannel near loading station\", true], [\"Hatch Pannel low far opposite side rocket\", true], [\"Collect Hatch Pannel near loading station\", false], [\"Collect Hatch Pannel near loading station\", true], [\"Hatch Pannel high far opposite side rocket\", false], [\"Collect Hatch Pannel near loading station\", true], [\"Hatch Pannel high near opposite side rocket\", true], [\"Collect Hatch Pannel near loading station\", true], [\"Hatch Pannel low near rocket\", true], [\"Collect Hatch Pannel near loading station\", true], [\"Hatch Pannel middle near rocket\", true], [\"Collect Hatch Pannel near loading station\", true], [\"Hatch Pannel low near opposite side rocket\", true], [\"Collect Hatch Pannel near loading station\", true], [\"Hatch Pannel high near rocket\", true], [\"Collect Hatch Pannel near loading station\", false], [\"Collect Hatch Pannel near loading station\", true], [\"Hatch Pannel high far opposite side rocket\", true], [\"Collect Hatch Pannel near loading station\", true]], \"hoverlabel\": {\"namelength\": 0}, \"hovertemplate\": \"run=3<br>clock=%{x}<br>total=%{y}<br>op=%{customdata[0]}<br>success=%{customdata[1]}\", \"legendgroup\": \"run=3\", \"marker\": {\"color\": \"#00cc96\", \"symbol\": \"circle\"}, \"mode\": \"markers\", \"name\": \"run=3\", \"showlegend\": true, \"type\": \"scatter\", \"x\": [5.399999999999997, 8.499999999999986, 14.899999999999963, 30.400000000000162, 32.50000000000019, 43.40000000000035, 47.0000000000004, 57.80000000000055, 60.40000000000059, 68.1000000000004, 71.7000000000002, 77.49999999999987, 80.5999999999997, 86.49999999999936, 95.19999999999887, 98.49999999999868, 101.99999999999848, 104.09999999999836, 106.29999999999824, 114.09999999999779, 118.09999999999756, 123.39999999999726, 128.099999999997, 130.1999999999969, 132.89999999999674, 134.49999999999665, 138.49999999999642, 148.69999999999584, 149.69999999999578], \"xaxis\": \"x\", \"y\": [0, 4, 4, 4, 4, 6, 6, 6, 6, 8, 8, 10, 10, 10, 10, 10, 12, 12, 14, 14, 16, 16, 18, 18, 20, 20, 20, 22, 22], \"yaxis\": \"y\"}, {\"customdata\": [[\"Collect Hatch Pannel near loading station\", true], [\"Hatch Pannel high far rocket\", false], [\"Collect Hatch Pannel near loading station\", true], [\"Hatch Pannel high far opposite side rocket\", true], [\"Collect Hatch Pannel near loading station\", true], [\"Hatch Pannel high near rocket\", true], [\"Collect Hatch Pannel near loading station\", true], [\"Hatch Pannel middle near opposite side rocket\", true], [\"Collect Hatch Pannel near loading station\", false], [\"Collect Hatch Pannel near loading station\", true], [\"Hatch Pannel middle near rocket\", true], [\"Collect Hatch Pannel near loading station\", true], [\"Hatch Pannel low near rocket\", false], [\"Collect Hatch Pannel near loading station\", false], [\"Collect Hatch Pannel near loading station\", true], [\"Hatch Pannel low near rocket\", true], [\"Collect Hatch Pannel near loading station\", false], [\"Collect Hatch Pannel near loading station\", true], [\"Hatch Pannel high near opposite side rocket\", true], [\"Collect Hatch Pannel near loading station\", true], [\"Hatch Pannel low near opposite side rocket\", true], [\"Collect Hatch Pannel near loading station\", false], [\"Collect Hatch Pannel near loading station\", true], [\"Hatch Pannel middle far opposite side rocket\", true], [\"Collect Hatch Pannel near loading station\", false], [\"Collect Hatch Pannel near loading station\", true], [\"Hatch Pannel high far rocket\", false], [\"Collect Hatch Pannel near loading station\", true], [\"Hatch Pannel high far rocket\", true], [\"Collect Hatch Pannel near loading station\", false], [\"Collect Hatch Pannel near loading station\", false], [\"Collect Hatch Pannel near loading station\", true], [\"Hatch Pannel low far opposite side rocket\", true]], \"hoverlabel\": {\"namelength\": 0}, \"hovertemplate\": \"run=4<br>clock=%{x}<br>total=%{y}<br>op=%{customdata[0]}<br>success=%{customdata[1]}\", \"legendgroup\": \"run=4\", \"marker\": {\"color\": \"#ab63fa\", \"symbol\": \"circle\"}, \"mode\": \"markers\", \"name\": \"run=4\", \"showlegend\": true, \"type\": \"scatter\", \"x\": [5.1999999999999975, 15.89999999999996, 20.800000000000026, 27.300000000000118, 28.90000000000014, 33.80000000000021, 37.700000000000266, 41.50000000000032, 44.30000000000036, 46.50000000000039, 49.90000000000044, 52.10000000000047, 58.40000000000056, 61.70000000000061, 66.80000000000048, 70.30000000000028, 75.59999999999998, 82.59999999999958, 84.89999999999945, 86.89999999999934, 88.69999999999924, 93.89999999999894, 94.29999999999892, 98.29999999999869, 102.79999999999843, 107.69999999999816, 115.99999999999768, 121.29999999999738, 128.199999999997, 136.49999999999653, 141.39999999999625, 143.29999999999615, 149.3999999999958], \"xaxis\": \"x\", \"y\": [0, 0, 0, 2, 2, 4, 4, 6, 6, 6, 8, 8, 8, 8, 8, 10, 10, 10, 12, 12, 14, 14, 14, 16, 16, 16, 16, 16, 18, 18, 18, 18, 20], \"yaxis\": \"y\"}],\n",
       "                        {\"legend\": {\"tracegroupgap\": 0}, \"margin\": {\"t\": 60}, \"template\": {\"data\": {\"bar\": [{\"error_x\": {\"color\": \"#2a3f5f\"}, \"error_y\": {\"color\": \"#2a3f5f\"}, \"marker\": {\"line\": {\"color\": \"#E5ECF6\", \"width\": 0.5}}, \"type\": \"bar\"}], \"barpolar\": [{\"marker\": {\"line\": {\"color\": \"#E5ECF6\", \"width\": 0.5}}, \"type\": \"barpolar\"}], \"carpet\": [{\"aaxis\": {\"endlinecolor\": \"#2a3f5f\", \"gridcolor\": \"white\", \"linecolor\": \"white\", \"minorgridcolor\": \"white\", \"startlinecolor\": \"#2a3f5f\"}, \"baxis\": {\"endlinecolor\": \"#2a3f5f\", \"gridcolor\": \"white\", \"linecolor\": \"white\", \"minorgridcolor\": \"white\", \"startlinecolor\": \"#2a3f5f\"}, \"type\": \"carpet\"}], \"choropleth\": [{\"colorbar\": {\"outlinewidth\": 0, \"ticks\": \"\"}, \"type\": \"choropleth\"}], \"contour\": [{\"colorbar\": {\"outlinewidth\": 0, \"ticks\": \"\"}, \"colorscale\": [[0.0, \"#0d0887\"], [0.1111111111111111, \"#46039f\"], [0.2222222222222222, \"#7201a8\"], [0.3333333333333333, \"#9c179e\"], [0.4444444444444444, \"#bd3786\"], [0.5555555555555556, \"#d8576b\"], [0.6666666666666666, \"#ed7953\"], [0.7777777777777778, \"#fb9f3a\"], [0.8888888888888888, \"#fdca26\"], [1.0, \"#f0f921\"]], \"type\": \"contour\"}], \"contourcarpet\": [{\"colorbar\": {\"outlinewidth\": 0, \"ticks\": \"\"}, \"type\": \"contourcarpet\"}], \"heatmap\": [{\"colorbar\": {\"outlinewidth\": 0, \"ticks\": \"\"}, \"colorscale\": [[0.0, \"#0d0887\"], [0.1111111111111111, \"#46039f\"], [0.2222222222222222, \"#7201a8\"], [0.3333333333333333, \"#9c179e\"], [0.4444444444444444, \"#bd3786\"], [0.5555555555555556, \"#d8576b\"], [0.6666666666666666, \"#ed7953\"], [0.7777777777777778, \"#fb9f3a\"], [0.8888888888888888, \"#fdca26\"], [1.0, \"#f0f921\"]], \"type\": \"heatmap\"}], \"heatmapgl\": [{\"colorbar\": {\"outlinewidth\": 0, \"ticks\": \"\"}, \"colorscale\": [[0.0, \"#0d0887\"], [0.1111111111111111, \"#46039f\"], [0.2222222222222222, \"#7201a8\"], [0.3333333333333333, \"#9c179e\"], [0.4444444444444444, \"#bd3786\"], [0.5555555555555556, \"#d8576b\"], [0.6666666666666666, \"#ed7953\"], [0.7777777777777778, \"#fb9f3a\"], [0.8888888888888888, \"#fdca26\"], [1.0, \"#f0f921\"]], \"type\": \"heatmapgl\"}], \"histogram\": [{\"marker\": {\"colorbar\": {\"outlinewidth\": 0, \"ticks\": \"\"}}, \"type\": \"histogram\"}], \"histogram2d\": [{\"colorbar\": {\"outlinewidth\": 0, \"ticks\": \"\"}, \"colorscale\": [[0.0, \"#0d0887\"], [0.1111111111111111, \"#46039f\"], [0.2222222222222222, \"#7201a8\"], [0.3333333333333333, \"#9c179e\"], [0.4444444444444444, \"#bd3786\"], [0.5555555555555556, \"#d8576b\"], [0.6666666666666666, \"#ed7953\"], [0.7777777777777778, \"#fb9f3a\"], [0.8888888888888888, \"#fdca26\"], [1.0, \"#f0f921\"]], \"type\": \"histogram2d\"}], \"histogram2dcontour\": [{\"colorbar\": {\"outlinewidth\": 0, \"ticks\": \"\"}, \"colorscale\": [[0.0, \"#0d0887\"], [0.1111111111111111, \"#46039f\"], [0.2222222222222222, \"#7201a8\"], [0.3333333333333333, \"#9c179e\"], [0.4444444444444444, \"#bd3786\"], [0.5555555555555556, \"#d8576b\"], [0.6666666666666666, \"#ed7953\"], [0.7777777777777778, \"#fb9f3a\"], [0.8888888888888888, \"#fdca26\"], [1.0, \"#f0f921\"]], \"type\": \"histogram2dcontour\"}], \"mesh3d\": [{\"colorbar\": {\"outlinewidth\": 0, \"ticks\": \"\"}, \"type\": \"mesh3d\"}], \"parcoords\": [{\"line\": {\"colorbar\": {\"outlinewidth\": 0, \"ticks\": \"\"}}, \"type\": \"parcoords\"}], \"pie\": [{\"automargin\": true, \"type\": \"pie\"}], \"scatter\": [{\"marker\": {\"colorbar\": {\"outlinewidth\": 0, \"ticks\": \"\"}}, \"type\": \"scatter\"}], \"scatter3d\": [{\"line\": {\"colorbar\": {\"outlinewidth\": 0, \"ticks\": \"\"}}, \"marker\": {\"colorbar\": {\"outlinewidth\": 0, \"ticks\": \"\"}}, \"type\": \"scatter3d\"}], \"scattercarpet\": [{\"marker\": {\"colorbar\": {\"outlinewidth\": 0, \"ticks\": \"\"}}, \"type\": \"scattercarpet\"}], \"scattergeo\": [{\"marker\": {\"colorbar\": {\"outlinewidth\": 0, \"ticks\": \"\"}}, \"type\": \"scattergeo\"}], \"scattergl\": [{\"marker\": {\"colorbar\": {\"outlinewidth\": 0, \"ticks\": \"\"}}, \"type\": \"scattergl\"}], \"scattermapbox\": [{\"marker\": {\"colorbar\": {\"outlinewidth\": 0, \"ticks\": \"\"}}, \"type\": \"scattermapbox\"}], \"scatterpolar\": [{\"marker\": {\"colorbar\": {\"outlinewidth\": 0, \"ticks\": \"\"}}, \"type\": \"scatterpolar\"}], \"scatterpolargl\": [{\"marker\": {\"colorbar\": {\"outlinewidth\": 0, \"ticks\": \"\"}}, \"type\": \"scatterpolargl\"}], \"scatterternary\": [{\"marker\": {\"colorbar\": {\"outlinewidth\": 0, \"ticks\": \"\"}}, \"type\": \"scatterternary\"}], \"surface\": [{\"colorbar\": {\"outlinewidth\": 0, \"ticks\": \"\"}, \"colorscale\": [[0.0, \"#0d0887\"], [0.1111111111111111, \"#46039f\"], [0.2222222222222222, \"#7201a8\"], [0.3333333333333333, \"#9c179e\"], [0.4444444444444444, \"#bd3786\"], [0.5555555555555556, \"#d8576b\"], [0.6666666666666666, \"#ed7953\"], [0.7777777777777778, \"#fb9f3a\"], [0.8888888888888888, \"#fdca26\"], [1.0, \"#f0f921\"]], \"type\": \"surface\"}], \"table\": [{\"cells\": {\"fill\": {\"color\": \"#EBF0F8\"}, \"line\": {\"color\": \"white\"}}, \"header\": {\"fill\": {\"color\": \"#C8D4E3\"}, \"line\": {\"color\": \"white\"}}, \"type\": \"table\"}]}, \"layout\": {\"annotationdefaults\": {\"arrowcolor\": \"#2a3f5f\", \"arrowhead\": 0, \"arrowwidth\": 1}, \"coloraxis\": {\"colorbar\": {\"outlinewidth\": 0, \"ticks\": \"\"}}, \"colorscale\": {\"diverging\": [[0, \"#8e0152\"], [0.1, \"#c51b7d\"], [0.2, \"#de77ae\"], [0.3, \"#f1b6da\"], [0.4, \"#fde0ef\"], [0.5, \"#f7f7f7\"], [0.6, \"#e6f5d0\"], [0.7, \"#b8e186\"], [0.8, \"#7fbc41\"], [0.9, \"#4d9221\"], [1, \"#276419\"]], \"sequential\": [[0.0, \"#0d0887\"], [0.1111111111111111, \"#46039f\"], [0.2222222222222222, \"#7201a8\"], [0.3333333333333333, \"#9c179e\"], [0.4444444444444444, \"#bd3786\"], [0.5555555555555556, \"#d8576b\"], [0.6666666666666666, \"#ed7953\"], [0.7777777777777778, \"#fb9f3a\"], [0.8888888888888888, \"#fdca26\"], [1.0, \"#f0f921\"]], \"sequentialminus\": [[0.0, \"#0d0887\"], [0.1111111111111111, \"#46039f\"], [0.2222222222222222, \"#7201a8\"], [0.3333333333333333, \"#9c179e\"], [0.4444444444444444, \"#bd3786\"], [0.5555555555555556, \"#d8576b\"], [0.6666666666666666, \"#ed7953\"], [0.7777777777777778, \"#fb9f3a\"], [0.8888888888888888, \"#fdca26\"], [1.0, \"#f0f921\"]]}, \"colorway\": [\"#636efa\", \"#EF553B\", \"#00cc96\", \"#ab63fa\", \"#FFA15A\", \"#19d3f3\", \"#FF6692\", \"#B6E880\", \"#FF97FF\", \"#FECB52\"], \"font\": {\"color\": \"#2a3f5f\"}, \"geo\": {\"bgcolor\": \"white\", \"lakecolor\": \"white\", \"landcolor\": \"#E5ECF6\", \"showlakes\": true, \"showland\": true, \"subunitcolor\": \"white\"}, \"hoverlabel\": {\"align\": \"left\"}, \"hovermode\": \"closest\", \"mapbox\": {\"style\": \"light\"}, \"paper_bgcolor\": \"white\", \"plot_bgcolor\": \"#E5ECF6\", \"polar\": {\"angularaxis\": {\"gridcolor\": \"white\", \"linecolor\": \"white\", \"ticks\": \"\"}, \"bgcolor\": \"#E5ECF6\", \"radialaxis\": {\"gridcolor\": \"white\", \"linecolor\": \"white\", \"ticks\": \"\"}}, \"scene\": {\"xaxis\": {\"backgroundcolor\": \"#E5ECF6\", \"gridcolor\": \"white\", \"gridwidth\": 2, \"linecolor\": \"white\", \"showbackground\": true, \"ticks\": \"\", \"zerolinecolor\": \"white\"}, \"yaxis\": {\"backgroundcolor\": \"#E5ECF6\", \"gridcolor\": \"white\", \"gridwidth\": 2, \"linecolor\": \"white\", \"showbackground\": true, \"ticks\": \"\", \"zerolinecolor\": \"white\"}, \"zaxis\": {\"backgroundcolor\": \"#E5ECF6\", \"gridcolor\": \"white\", \"gridwidth\": 2, \"linecolor\": \"white\", \"showbackground\": true, \"ticks\": \"\", \"zerolinecolor\": \"white\"}}, \"shapedefaults\": {\"line\": {\"color\": \"#2a3f5f\"}}, \"ternary\": {\"aaxis\": {\"gridcolor\": \"white\", \"linecolor\": \"white\", \"ticks\": \"\"}, \"baxis\": {\"gridcolor\": \"white\", \"linecolor\": \"white\", \"ticks\": \"\"}, \"bgcolor\": \"#E5ECF6\", \"caxis\": {\"gridcolor\": \"white\", \"linecolor\": \"white\", \"ticks\": \"\"}}, \"title\": {\"x\": 0.05}, \"xaxis\": {\"automargin\": true, \"gridcolor\": \"white\", \"linecolor\": \"white\", \"ticks\": \"\", \"title\": {\"standoff\": 15}, \"zerolinecolor\": \"white\", \"zerolinewidth\": 2}, \"yaxis\": {\"automargin\": true, \"gridcolor\": \"white\", \"linecolor\": \"white\", \"ticks\": \"\", \"title\": {\"standoff\": 15}, \"zerolinecolor\": \"white\", \"zerolinewidth\": 2}}}, \"xaxis\": {\"anchor\": \"y\", \"domain\": [0.0, 1.0], \"title\": {\"text\": \"clock\"}}, \"yaxis\": {\"anchor\": \"x\", \"domain\": [0.0, 1.0], \"title\": {\"text\": \"total\"}}},\n",
       "                        {\"responsive\": true}\n",
       "                    ).then(function(){\n",
       "                            \n",
       "var gd = document.getElementById('20bfd2a2-1f4d-468a-adde-9d15e61d5f54');\n",
       "var x = new MutationObserver(function (mutations, observer) {{\n",
       "        var display = window.getComputedStyle(gd).display;\n",
       "        if (!display || display === 'none') {{\n",
       "            console.log([gd, 'removed!']);\n",
       "            Plotly.purge(gd);\n",
       "            observer.disconnect();\n",
       "        }}\n",
       "}});\n",
       "\n",
       "// Listen for the removal of the full notebook cells\n",
       "var notebookContainer = gd.closest('#notebook-container');\n",
       "if (notebookContainer) {{\n",
       "    x.observe(notebookContainer, {childList: true});\n",
       "}}\n",
       "\n",
       "// Listen for the clearing of the current output cell\n",
       "var outputEl = gd.closest('.output');\n",
       "if (outputEl) {{\n",
       "    x.observe(outputEl, {childList: true});\n",
       "}}\n",
       "\n",
       "                        })\n",
       "                };\n",
       "                });\n",
       "            </script>\n",
       "        </div>"
      ]
     },
     "metadata": {},
     "output_type": "display_data"
    }
   ],
   "source": [
    "# new_list = [expression(i) for i in old_list if filter(i)]\n",
    "# [clock, clock_mode, robot['name'], success, name, points])\n",
    "\n",
    "fig = px.scatter(df, x='clock', y='total', color='run', hover_data=['op','success'])\n",
    "fig.show()"
   ]
  },
  {
   "cell_type": "code",
   "execution_count": null,
   "metadata": {},
   "outputs": [],
   "source": []
  }
 ],
 "metadata": {
  "kernelspec": {
   "display_name": "Python 3",
   "language": "python",
   "name": "python3"
  },
  "language_info": {
   "codemirror_mode": {
    "name": "ipython",
    "version": 3
   },
   "file_extension": ".py",
   "mimetype": "text/x-python",
   "name": "python",
   "nbconvert_exporter": "python",
   "pygments_lexer": "ipython3",
   "version": "3.7.6"
  }
 },
 "nbformat": 4,
 "nbformat_minor": 2
}
